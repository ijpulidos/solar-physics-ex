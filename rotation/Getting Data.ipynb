{
 "cells": [
  {
   "cell_type": "code",
   "execution_count": 1,
   "metadata": {},
   "outputs": [
    {
     "name": "stderr",
     "output_type": "stream",
     "text": [
      "WARNING: AstropyDeprecationWarning: astropy.utils.compat.odict.OrderedDict is now deprecated - import OrderedDict from the collections module instead [astropy.utils.compat.odict]\n"
     ]
    }
   ],
   "source": [
    "# Modulos básicos\n",
    "import numpy as np\n",
    "import time\n",
    "#from pylab import imshow\n",
    "import matplotlib.pyplot as plt\n",
    "from tqdm import tqdm, tnrange, tqdm_notebook\n",
    "# Modulo para manejo de fecha\n",
    "from datetime import datetime, timedelta\n",
    "# Modulos para astrofisica/solar\n",
    "import astropy\n",
    "from sunpy.net import vso\n",
    "import astropy.units as u\n",
    "from sunpy.map import Map\n",
    "from astropy.io import fits # to fix headers\n",
    "# Custom-made methods and classes for fixing headers\n",
    "from lib.CompatMaps import sinehpc_wcs_frame_mapping"
   ]
  },
  {
   "cell_type": "markdown",
   "metadata": {},
   "source": [
    "# Obtener los datos\n",
    "Se usa el cliente VSO de SunPy para obtener los datos automáticamente, solo se tienen que cambiar las fechas correspondientes. Fechas de interés para el proyecto son:\n",
    "* 2011/02/12 a 2011/02/17\n",
    "* 2012/01/23 a 2012/01/28\n",
    "* 2013/03/04 a 2013/03/09\n",
    "* 2014/09/23 a 2013/09/28\n",
    "* 2015/09/03 a 2015/09/08\n",
    "* 2016/03/11 a 2016/03/16"
   ]
  },
  {
   "cell_type": "code",
   "execution_count": null,
   "metadata": {
    "collapsed": true
   },
   "outputs": [],
   "source": [
    "# defining datetime range and number of samples \n",
    "dates = []  # where the dates pairs are going to be stored\n",
    "date_start = datetime(2012,1,29,0,0,0)\n",
    "date_end = datetime(2012,1,30,15,0,0)\n",
    "date_samples = 157  # Number of samples to take between dates\n",
    "date_delta = (date_end - date_start)/date_samples  # How frequent to take a sample\n",
    "date_window = timedelta(minutes=1)\n",
    "temp_date = date_start\n",
    "while temp_date < date_end:\n",
    "    dates.append((str(temp_date),str(temp_date+date_window)))\n",
    "    temp_date += date_delta    "
   ]
  },
  {
   "cell_type": "code",
   "execution_count": null,
   "metadata": {
    "collapsed": true,
    "scrolled": true
   },
   "outputs": [],
   "source": [
    "# definir instrumento\n",
    "instrument = 'hmi'\n",
    "# definir rango de longitud de onda (min,max)\n",
    "#wavelength = 400*u.nm , 700*u.nm\n",
    "\n",
    "# Query data - Buscar datos en esas fechas\n",
    "t = 0\n",
    "for i in dates:\n",
    "    tstart, tend = i[0], i[1]\n",
    "    data_client = vso.VSOClient()\n",
    "    data_query = data_client.query(vso.attrs.Time(tstart, tend), \\\n",
    "                                   vso.attrs.Instrument(instrument), vso.attrs.Physobs(\"intensity\"))\n",
    "    print(\"Found \",len(data_query),\" records from \", tstart, \" to \", tend)\n",
    "    print(\"Time range: \", data_query.time_range())\n",
    "    print(\"Size in KB: \", data_query.total_size())\n",
    "    data_dir = '/home/ivan/projects/Physics/solar/solar-physics-ex/rotation/data/{file}.fits'\n",
    "    results = data_client.get(data_query, path=data_dir)\n",
    "    if t%2 == 0:\n",
    "        time.sleep(30)\n",
    "    t+=1"
   ]
  },
  {
   "cell_type": "code",
   "execution_count": null,
   "metadata": {
    "collapsed": true,
    "scrolled": true
   },
   "outputs": [],
   "source": [
    "# Fallo en el índice 39 => '2012-01-29 09:41:16.433124' esto es para seguir descargando desde ahí\n",
    "# definir instrumento\n",
    "instrument = 'hmi'\n",
    "# definir rango de longitud de onda (min,max)\n",
    "#wavelength = 400*u.nm , 700*u.nm\n",
    "\n",
    "# Query data - Buscar datos en esas fechas\n",
    "t = 0\n",
    "for i in dates[149:]:\n",
    "    tstart, tend = i[0], i[1]\n",
    "    data_client = vso.VSOClient()\n",
    "    data_query = data_client.query(vso.attrs.Time(tstart, tend), \\\n",
    "                                   vso.attrs.Instrument(instrument), vso.attrs.Physobs(\"intensity\"))\n",
    "    print(\"Found \",len(data_query),\" records from \", tstart, \" to \", tend)\n",
    "    print(\"Time range: \", data_query.time_range())\n",
    "    print(\"Size in KB: \", data_query.total_size())\n",
    "    data_dir = '/home/ivan/projects/Physics/solar/solar-physics-ex/rotation/data/{file}.fits'\n",
    "    results = data_client.get(data_query, path=data_dir)\n",
    "    print(results)\n",
    "    if t%2 == 0:\n",
    "        time.sleep(60)\n",
    "    t+=1"
   ]
  },
  {
   "cell_type": "code",
   "execution_count": null,
   "metadata": {
    "collapsed": true
   },
   "outputs": [],
   "source": [
    "dates[149]"
   ]
  },
  {
   "cell_type": "code",
   "execution_count": null,
   "metadata": {
    "collapsed": true
   },
   "outputs": [],
   "source": [
    "# Guardar resultados (Solo hace falta hacerlo una vez)\n",
    "data_dir = '/home/ivan/projects/Physics/solar/solar-physics-ex/rotation/data/{file}.fits'\n",
    "results = data_client.get(data_query, path=data_dir).wait()"
   ]
  },
  {
   "cell_type": "markdown",
   "metadata": {},
   "source": [
    "# Arreglando headers de archivos FITS descargados\n",
    "Desafortunadamente para ver los resultados hay muchas imágenes que no tienen los headers correctos, entonces es necesario hacer algo como lo que se muestra en este enlace para corregir estos problemas: http://docs.sunpy.org/en/latest/generated/gallery/gallery/hmi_synoptic_maps.html and specially the updated example in: https://gist.github.com/Cadair/cbc73dc7888b9bae5d06708270aedd68"
   ]
  },
  {
   "cell_type": "code",
   "execution_count": 2,
   "metadata": {},
   "outputs": [
    {
     "data": {
      "text/plain": [
       "(145,)"
      ]
     },
     "execution_count": 2,
     "metadata": {},
     "output_type": "execute_result"
    }
   ],
   "source": [
    "basepath = !pwd\n",
    "fits_files = !ls data/*.fits  # Quedan con el path data/*.fits \n",
    "np.shape(fits_files)"
   ]
  },
  {
   "cell_type": "code",
   "execution_count": 28,
   "metadata": {
    "scrolled": true
   },
   "outputs": [
    {
     "name": "stderr",
     "output_type": "stream",
     "text": [
      "WARNING: VerifyWarning: Verification reported errors: [astropy.io.fits.verify]\n",
      "WARNING: VerifyWarning: HDU 1: [astropy.io.fits.verify]\n",
      "WARNING: VerifyWarning:     Card 41: [astropy.io.fits.verify]\n",
      "WARNING: VerifyWarning:         Card 'SOURCE' is not FITS standard (invalid value string: \"'hmi.lev1[:#32940845,#32940842,#32940813,#32940885,#32940909,#32940933\").  Fixed 'SOURCE' card to meet the FITS standard. [astropy.io.fits.verify]\n",
      "WARNING: VerifyWarning:     Card 71: [astropy.io.fits.verify]\n",
      "WARNING: VerifyWarning:         Card 'CRDER1' is not FITS standard (invalid value string: 'nan').  Fixed 'CRDER1' card to meet the FITS standard. [astropy.io.fits.verify]\n",
      "WARNING: VerifyWarning:     Card 72: [astropy.io.fits.verify]\n",
      "WARNING: VerifyWarning:         Card 'CRDER2' is not FITS standard (invalid value string: 'nan').  Fixed 'CRDER2' card to meet the FITS standard. [astropy.io.fits.verify]\n",
      "WARNING: VerifyWarning:     Card 73: [astropy.io.fits.verify]\n",
      "WARNING: VerifyWarning:         Card 'CSYSER1' is not FITS standard (invalid value string: 'nan').  Fixed 'CSYSER1' card to meet the FITS standard. [astropy.io.fits.verify]\n",
      "WARNING: VerifyWarning:     Card 74: [astropy.io.fits.verify]\n",
      "WARNING: VerifyWarning:         Card 'CSYSER2' is not FITS standard (invalid value string: 'nan').  Fixed 'CSYSER2' card to meet the FITS standard. [astropy.io.fits.verify]\n",
      "WARNING: VerifyWarning: Note: astropy.io.fits uses zero-based indexing.\n",
      " [astropy.io.fits.verify]\n",
      "WARNING: VerifyWarning:         Card 'SOURCE' is not FITS standard (invalid value string: \"'hmi.lev1[:#32941341,#32941317,#32941293,#32941365,#32941389,#32941413\").  Fixed 'SOURCE' card to meet the FITS standard. [astropy.io.fits.verify]\n",
      "WARNING: VerifyWarning:         Card 'SOURCE' is not FITS standard (invalid value string: \"'hmi.lev1[:#32941821,#32941797,#32941773,#32941845,#32941869,#32941893\").  Fixed 'SOURCE' card to meet the FITS standard. [astropy.io.fits.verify]\n",
      "WARNING: VerifyWarning:         Card 'SOURCE' is not FITS standard (invalid value string: \"'hmi.lev1[:#32942301,#32942277,#32942253,#32942325,#32942349,#32942373\").  Fixed 'SOURCE' card to meet the FITS standard. [astropy.io.fits.verify]\n",
      "WARNING: VerifyWarning:         Card 'SOURCE' is not FITS standard (invalid value string: \"'hmi.lev1[:#32942757,#32942733,#32942709,#32942781,#32942805,#32942829\").  Fixed 'SOURCE' card to meet the FITS standard. [astropy.io.fits.verify]\n",
      "WARNING: VerifyWarning:         Card 'SOURCE' is not FITS standard (invalid value string: \"'hmi.lev1[:#32942781,#32942757,#32942733,#32942805,#32942829,#32942853\").  Fixed 'SOURCE' card to meet the FITS standard. [astropy.io.fits.verify]\n",
      "WARNING: VerifyWarning:         Card 'SOURCE' is not FITS standard (invalid value string: \"'hmi.lev1[:#32943237,#32943213,#32943189,#32943261,#32943285,#32943309\").  Fixed 'SOURCE' card to meet the FITS standard. [astropy.io.fits.verify]\n",
      "WARNING: VerifyWarning:         Card 'SOURCE' is not FITS standard (invalid value string: \"'hmi.lev1[:#32943261,#32943237,#32943213,#32943285,#32943309,#32943333\").  Fixed 'SOURCE' card to meet the FITS standard. [astropy.io.fits.verify]\n",
      "WARNING: VerifyWarning:         Card 'SOURCE' is not FITS standard (invalid value string: \"'hmi.lev1[:#32943717,#32943693,#32943681,#32943741,#32943777,#32943789\").  Fixed 'SOURCE' card to meet the FITS standard. [astropy.io.fits.verify]\n",
      "WARNING: VerifyWarning:         Card 'SOURCE' is not FITS standard (invalid value string: \"'hmi.lev1[:#32943741,#32943717,#32943693,#32943777,#32943789,#32943813\").  Fixed 'SOURCE' card to meet the FITS standard. [astropy.io.fits.verify]\n",
      "WARNING: VerifyWarning:         Card 'SOURCE' is not FITS standard (invalid value string: \"'hmi.lev1[:#32944209,#32944173,#32944161,#32944221,#32944257,#32944269\").  Fixed 'SOURCE' card to meet the FITS standard. [astropy.io.fits.verify]\n",
      "WARNING: VerifyWarning:         Card 'SOURCE' is not FITS standard (invalid value string: \"'hmi.lev1[:#32944677,#32944653,#32944629,#32944701,#32944737,#32944749\").  Fixed 'SOURCE' card to meet the FITS standard. [astropy.io.fits.verify]\n",
      "WARNING: VerifyWarning:         Card 'SOURCE' is not FITS standard (invalid value string: \"'hmi.lev1[:#32945157,#32945133,#32945109,#32945181,#32945217,#32945229\").  Fixed 'SOURCE' card to meet the FITS standard. [astropy.io.fits.verify]\n",
      "WARNING: VerifyWarning:         Card 'SOURCE' is not FITS standard (invalid value string: \"'hmi.lev1[:#32945637,#32945613,#32945589,#32945661,#32945685,#32945709\").  Fixed 'SOURCE' card to meet the FITS standard. [astropy.io.fits.verify]\n",
      "WARNING: VerifyWarning:         Card 'SOURCE' is not FITS standard (invalid value string: \"'hmi.lev1[:#32946093,#32946069,#32946045,#32946117,#32946141,#32946165\").  Fixed 'SOURCE' card to meet the FITS standard. [astropy.io.fits.verify]\n",
      "WARNING: VerifyWarning:         Card 'SOURCE' is not FITS standard (invalid value string: \"'hmi.lev1[:#32946117,#32946093,#32946069,#32946141,#32946165,#32946189\").  Fixed 'SOURCE' card to meet the FITS standard. [astropy.io.fits.verify]\n",
      "WARNING: VerifyWarning:         Card 'SOURCE' is not FITS standard (invalid value string: \"'hmi.lev1[:#32946573,#32946549,#32946525,#32946597,#32946633,#32946645\").  Fixed 'SOURCE' card to meet the FITS standard. [astropy.io.fits.verify]\n",
      "WARNING: VerifyWarning:         Card 'SOURCE' is not FITS standard (invalid value string: \"'hmi.lev1[:#32946597,#32946573,#32946549,#32946633,#32946645,#32946669\").  Fixed 'SOURCE' card to meet the FITS standard. [astropy.io.fits.verify]\n",
      "WARNING: VerifyWarning:         Card 'SOURCE' is not FITS standard (invalid value string: \"'hmi.lev1[:#32947053,#32947029,#32947005,#32947077,#32947101,#32947125\").  Fixed 'SOURCE' card to meet the FITS standard. [astropy.io.fits.verify]\n",
      "WARNING: VerifyWarning:         Card 'SOURCE' is not FITS standard (invalid value string: \"'hmi.lev1[:#32947077,#32947053,#32947029,#32947101,#32947125,#32947149\").  Fixed 'SOURCE' card to meet the FITS standard. [astropy.io.fits.verify]\n",
      "WARNING: VerifyWarning:         Card 'SOURCE' is not FITS standard (invalid value string: \"'hmi.lev1[:#32947533,#32947509,#32947485,#32947557,#32947581,#32947605\").  Fixed 'SOURCE' card to meet the FITS standard. [astropy.io.fits.verify]\n",
      "WARNING: VerifyWarning:         Card 'SOURCE' is not FITS standard (invalid value string: \"'hmi.lev1[:#32948013,#32947977,#32947965,#32948037,#32948061,#32948085\").  Fixed 'SOURCE' card to meet the FITS standard. [astropy.io.fits.verify]\n",
      "WARNING: VerifyWarning:         Card 'SOURCE' is not FITS standard (invalid value string: \"'hmi.lev1[:#32948481,#32948469,#32948445,#32948517,#32948541,#32948565\").  Fixed 'SOURCE' card to meet the FITS standard. [astropy.io.fits.verify]\n",
      "WARNING: VerifyWarning:         Card 'SOURCE' is not FITS standard (invalid value string: \"'hmi.lev1[:#32948961,#32948949,#32948925,#32948997,#32949021,#32949045\").  Fixed 'SOURCE' card to meet the FITS standard. [astropy.io.fits.verify]\n",
      "WARNING: VerifyWarning:         Card 'SOURCE' is not FITS standard (invalid value string: \"'hmi.lev1[:#32949453,#32949429,#32949405,#32949477,#32949501,#32949525\").  Fixed 'SOURCE' card to meet the FITS standard. [astropy.io.fits.verify]\n",
      "WARNING: VerifyWarning:         Card 'SOURCE' is not FITS standard (invalid value string: \"'hmi.lev1[:#32949909,#32949885,#32949861,#32949933,#32949957,#32949981\").  Fixed 'SOURCE' card to meet the FITS standard. [astropy.io.fits.verify]\n",
      "WARNING: VerifyWarning:         Card 'SOURCE' is not FITS standard (invalid value string: \"'hmi.lev1[:#32949933,#32949909,#32949885,#32949957,#32949981,#32950005\").  Fixed 'SOURCE' card to meet the FITS standard. [astropy.io.fits.verify]\n",
      "WARNING: VerifyWarning:         Card 'SOURCE' is not FITS standard (invalid value string: \"'hmi.lev1[:#32950389,#32950365,#32950341,#32950413,#32950437,#32950461\").  Fixed 'SOURCE' card to meet the FITS standard. [astropy.io.fits.verify]\n",
      "WARNING: VerifyWarning:         Card 'SOURCE' is not FITS standard (invalid value string: \"'hmi.lev1[:#32950413,#32950389,#32950365,#32950437,#32950461,#32950485\").  Fixed 'SOURCE' card to meet the FITS standard. [astropy.io.fits.verify]\n",
      "WARNING: VerifyWarning:         Card 'SOURCE' is not FITS standard (invalid value string: \"'hmi.lev1[:#32950881,#32950845,#32950833,#32950893,#32950917,#32950941\").  Fixed 'SOURCE' card to meet the FITS standard. [astropy.io.fits.verify]\n",
      "WARNING: VerifyWarning:         Card 'SOURCE' is not FITS standard (invalid value string: \"'hmi.lev1[:#32950893,#32950881,#32950845,#32950917,#32950941,#32950965\").  Fixed 'SOURCE' card to meet the FITS standard. [astropy.io.fits.verify]\n",
      "WARNING: VerifyWarning:         Card 'SOURCE' is not FITS standard (invalid value string: \"'hmi.lev1[:#32951349,#32951337,#32951301,#32951373,#32951397,#32951421\").  Fixed 'SOURCE' card to meet the FITS standard. [astropy.io.fits.verify]\n",
      "WARNING: VerifyWarning:         Card 'SOURCE' is not FITS standard (invalid value string: \"'hmi.lev1[:#32951829,#32951805,#32951781,#32951853,#32951877,#32951901\").  Fixed 'SOURCE' card to meet the FITS standard. [astropy.io.fits.verify]\n",
      "WARNING: VerifyWarning:         Card 'SOURCE' is not FITS standard (invalid value string: \"'hmi.lev1[:#32952309,#32952285,#32952249,#32952345,#32952357,#32952381\").  Fixed 'SOURCE' card to meet the FITS standard. [astropy.io.fits.verify]\n",
      "WARNING: VerifyWarning:         Card 'SOURCE' is not FITS standard (invalid value string: \"'hmi.lev1[:#32952789,#32952765,#32952741,#32952813,#32952837,#32952861\").  Fixed 'SOURCE' card to meet the FITS standard. [astropy.io.fits.verify]\n"
     ]
    },
    {
     "name": "stderr",
     "output_type": "stream",
     "text": [
      "WARNING: VerifyWarning:         Card 'SOURCE' is not FITS standard (invalid value string: \"'hmi.lev1[:#32953257,#32953245,#32953221,#32953293,#32953317,#32953341\").  Fixed 'SOURCE' card to meet the FITS standard. [astropy.io.fits.verify]\n",
      "WARNING: VerifyWarning:         Card 'SOURCE' is not FITS standard (invalid value string: \"'hmi.lev1[:#32953725,#32953701,#32953677,#32953737,#32953773,#32953797\").  Fixed 'SOURCE' card to meet the FITS standard. [astropy.io.fits.verify]\n",
      "WARNING: VerifyWarning:         Card 'SOURCE' is not FITS standard (invalid value string: \"'hmi.lev1[:#32953737,#32953725,#32953701,#32953773,#32953797,#32953821\").  Fixed 'SOURCE' card to meet the FITS standard. [astropy.io.fits.verify]\n",
      "WARNING: VerifyWarning:         Card 'SOURCE' is not FITS standard (invalid value string: \"'hmi.lev1[:#32954205,#32954181,#32954157,#32954229,#32954253,#32954277\").  Fixed 'SOURCE' card to meet the FITS standard. [astropy.io.fits.verify]\n",
      "WARNING: VerifyWarning:         Card 'SOURCE' is not FITS standard (invalid value string: \"'hmi.lev1[:#32954229,#32954205,#32954181,#32954253,#32954277,#32954301\").  Fixed 'SOURCE' card to meet the FITS standard. [astropy.io.fits.verify]\n",
      "WARNING: VerifyWarning:         Card 'SOURCE' is not FITS standard (invalid value string: \"'hmi.lev1[:#32954685,#32954649,#32954637,#32954709,#32954733,#32954757\").  Fixed 'SOURCE' card to meet the FITS standard. [astropy.io.fits.verify]\n",
      "WARNING: VerifyWarning:         Card 'SOURCE' is not FITS standard (invalid value string: \"'hmi.lev1[:#32954709,#32954685,#32954649,#32954733,#32954757,#32954781\").  Fixed 'SOURCE' card to meet the FITS standard. [astropy.io.fits.verify]\n",
      "WARNING: VerifyWarning:         Card 'SOURCE' is not FITS standard (invalid value string: \"'hmi.lev1[:#32955165,#32955129,#32955141,#32955189,#32955213,#32955237\").  Fixed 'SOURCE' card to meet the FITS standard. [astropy.io.fits.verify]\n",
      "WARNING: VerifyWarning:         Card 'SOURCE' is not FITS standard (invalid value string: \"'hmi.lev1[:#32955645,#32955621,#32955609,#32955669,#32955693,#32955717\").  Fixed 'SOURCE' card to meet the FITS standard. [astropy.io.fits.verify]\n",
      "WARNING: VerifyWarning:         Card 'SOURCE' is not FITS standard (invalid value string: \"'hmi.lev1[:#32956125,#32956101,#32956065,#32956149,#32956173,#32956197\").  Fixed 'SOURCE' card to meet the FITS standard. [astropy.io.fits.verify]\n",
      "WARNING: VerifyWarning:         Card 'SOURCE' is not FITS standard (invalid value string: \"'hmi.lev1[:#32956617,#32956581,#32956557,#32956629,#32956665,#32956677\").  Fixed 'SOURCE' card to meet the FITS standard. [astropy.io.fits.verify]\n",
      "WARNING: VerifyWarning:         Card 'SOURCE' is not FITS standard (invalid value string: \"'hmi.lev1[:#32957085,#32957061,#32957037,#32957109,#32957121,#32957157\").  Fixed 'SOURCE' card to meet the FITS standard. [astropy.io.fits.verify]\n",
      "WARNING: VerifyWarning:         Card 'SOURCE' is not FITS standard (invalid value string: \"'hmi.lev1[:#32957541,#32957517,#32957493,#32957565,#32957577,#32957613\").  Fixed 'SOURCE' card to meet the FITS standard. [astropy.io.fits.verify]\n",
      "WARNING: VerifyWarning:         Card 'SOURCE' is not FITS standard (invalid value string: \"'hmi.lev1[:#32957565,#32957541,#32957517,#32957577,#32957613,#32957637\").  Fixed 'SOURCE' card to meet the FITS standard. [astropy.io.fits.verify]\n",
      "WARNING: VerifyWarning:         Card 'SOURCE' is not FITS standard (invalid value string: \"'hmi.lev1[:#32958021,#32957997,#32957973,#32958045,#32958069,#32958093\").  Fixed 'SOURCE' card to meet the FITS standard. [astropy.io.fits.verify]\n",
      "WARNING: VerifyWarning:         Card 'SOURCE' is not FITS standard (invalid value string: \"'hmi.lev1[:#32958045,#32958021,#32957997,#32958069,#32958093,#32958117\").  Fixed 'SOURCE' card to meet the FITS standard. [astropy.io.fits.verify]\n",
      "WARNING: VerifyWarning:         Card 'SOURCE' is not FITS standard (invalid value string: \"'hmi.lev1[:#32958501,#32958477,#32958453,#32958525,#32958549,#32958573\").  Fixed 'SOURCE' card to meet the FITS standard. [astropy.io.fits.verify]\n",
      "WARNING: VerifyWarning:         Card 'SOURCE' is not FITS standard (invalid value string: \"'hmi.lev1[:#32958525,#32958501,#32958477,#32958549,#32958573,#32958597\").  Fixed 'SOURCE' card to meet the FITS standard. [astropy.io.fits.verify]\n",
      "WARNING: VerifyWarning:         Card 'SOURCE' is not FITS standard (invalid value string: \"'hmi.lev1[:#32958981,#32958957,#32958933,#32959005,#32959029,#32959053\").  Fixed 'SOURCE' card to meet the FITS standard. [astropy.io.fits.verify]\n",
      "WARNING: VerifyWarning:         Card 'SOURCE' is not FITS standard (invalid value string: \"'hmi.lev1[:#32959461,#32959437,#32959413,#32959485,#32959509,#32959533\").  Fixed 'SOURCE' card to meet the FITS standard. [astropy.io.fits.verify]\n",
      "WARNING: VerifyWarning:         Card 'SOURCE' is not FITS standard (invalid value string: \"'hmi.lev1[:#32959941,#32959917,#32959893,#32959965,#32959989,#32960013\").  Fixed 'SOURCE' card to meet the FITS standard. [astropy.io.fits.verify]\n",
      "WARNING: VerifyWarning:         Card 'SOURCE' is not FITS standard (invalid value string: \"'hmi.lev1[:#32960421,#32960397,#32960373,#32960445,#32960469,#32960493\").  Fixed 'SOURCE' card to meet the FITS standard. [astropy.io.fits.verify]\n",
      "WARNING: VerifyWarning:         Card 'SOURCE' is not FITS standard (invalid value string: \"'hmi.lev1[:#32960901,#32960877,#32960853,#32960925,#32960949,#32960962\").  Fixed 'SOURCE' card to meet the FITS standard. [astropy.io.fits.verify]\n",
      "WARNING: VerifyWarning:         Card 'SOURCE' is not FITS standard (invalid value string: \"'hmi.lev1[:#32961369,#32961333,#32961309,#32961381,#32961405,#32961429\").  Fixed 'SOURCE' card to meet the FITS standard. [astropy.io.fits.verify]\n",
      "WARNING: VerifyWarning:         Card 'SOURCE' is not FITS standard (invalid value string: \"'hmi.lev1[:#32961381,#32961369,#32961333,#32961405,#32961429,#32961453\").  Fixed 'SOURCE' card to meet the FITS standard. [astropy.io.fits.verify]\n",
      "WARNING: VerifyWarning:         Card 'SOURCE' is not FITS standard (invalid value string: \"'hmi.lev1[:#32961837,#32961813,#32961789,#32961861,#32961885,#32961909\").  Fixed 'SOURCE' card to meet the FITS standard. [astropy.io.fits.verify]\n",
      "WARNING: VerifyWarning:         Card 'SOURCE' is not FITS standard (invalid value string: \"'hmi.lev1[:#32961861,#32961837,#32961813,#32961885,#32961909,#32961933\").  Fixed 'SOURCE' card to meet the FITS standard. [astropy.io.fits.verify]\n",
      "WARNING: VerifyWarning:         Card 'SOURCE' is not FITS standard (invalid value string: \"'hmi.lev1[:#32962317,#32962293,#32962269,#32962341,#32962365,#32962389\").  Fixed 'SOURCE' card to meet the FITS standard. [astropy.io.fits.verify]\n",
      "WARNING: VerifyWarning:         Card 'SOURCE' is not FITS standard (invalid value string: \"'hmi.lev1[:#32962341,#32962317,#32962293,#32962365,#32962389,#32962413\").  Fixed 'SOURCE' card to meet the FITS standard. [astropy.io.fits.verify]\n",
      "WARNING: VerifyWarning:         Card 'SOURCE' is not FITS standard (invalid value string: \"'hmi.lev1[:#32962797,#32962773,#32962749,#32962821,#32962845,#32962869\").  Fixed 'SOURCE' card to meet the FITS standard. [astropy.io.fits.verify]\n",
      "WARNING: VerifyWarning:         Card 'SOURCE' is not FITS standard (invalid value string: \"'hmi.lev1[:#32963277,#32963253,#32963229,#32963301,#32963325,#32963349\").  Fixed 'SOURCE' card to meet the FITS standard. [astropy.io.fits.verify]\n",
      "WARNING: VerifyWarning:         Card 'SOURCE' is not FITS standard (invalid value string: \"'hmi.lev1[:#32963757,#32963733,#32963709,#32963781,#32963805,#32963829\").  Fixed 'SOURCE' card to meet the FITS standard. [astropy.io.fits.verify]\n",
      "WARNING: VerifyWarning:         Card 'SOURCE' is not FITS standard (invalid value string: \"'hmi.lev1[:#32964237,#32964213,#32964189,#32964261,#32964285,#32964309\").  Fixed 'SOURCE' card to meet the FITS standard. [astropy.io.fits.verify]\n",
      "WARNING: VerifyWarning:         Card 'SOURCE' is not FITS standard (invalid value string: \"'hmi.lev1[:#32964717,#32964705,#32964669,#32964753,#32964765,#32964789\").  Fixed 'SOURCE' card to meet the FITS standard. [astropy.io.fits.verify]\n",
      "WARNING: VerifyWarning:         Card 'SOURCE' is not FITS standard (invalid value string: \"'hmi.lev1[:#32965173,#32965149,#32965125,#32965197,#32965221,#32965245\").  Fixed 'SOURCE' card to meet the FITS standard. [astropy.io.fits.verify]\n",
      "WARNING: VerifyWarning:         Card 'SOURCE' is not FITS standard (invalid value string: \"'hmi.lev1[:#32965197,#32965173,#32965149,#32965221,#32965245,#32965269\").  Fixed 'SOURCE' card to meet the FITS standard. [astropy.io.fits.verify]\n",
      "WARNING: VerifyWarning:         Card 'SOURCE' is not FITS standard (invalid value string: \"'hmi.lev1[:#32965653,#32965629,#32965605,#32965677,#32965701,#32965725\").  Fixed 'SOURCE' card to meet the FITS standard. [astropy.io.fits.verify]\n",
      "WARNING: VerifyWarning:         Card 'SOURCE' is not FITS standard (invalid value string: \"'hmi.lev1[:#32965677,#32965653,#32965629,#32965701,#32965725,#32965749\").  Fixed 'SOURCE' card to meet the FITS standard. [astropy.io.fits.verify]\n"
     ]
    },
    {
     "name": "stderr",
     "output_type": "stream",
     "text": [
      "WARNING: VerifyWarning:         Card 'SOURCE' is not FITS standard (invalid value string: \"'hmi.lev1[:#32966145,#32966109,#32966085,#32966157,#32966181,#32966205\").  Fixed 'SOURCE' card to meet the FITS standard. [astropy.io.fits.verify]\n",
      "WARNING: VerifyWarning:         Card 'SOURCE' is not FITS standard (invalid value string: \"'hmi.lev1[:#32966157,#32966145,#32966109,#32966181,#32966205,#32966229\").  Fixed 'SOURCE' card to meet the FITS standard. [astropy.io.fits.verify]\n",
      "WARNING: VerifyWarning:         Card 'SOURCE' is not FITS standard (invalid value string: \"'hmi.lev1[:#32966613,#32966589,#32966565,#32966625,#32966661,#32966673\").  Fixed 'SOURCE' card to meet the FITS standard. [astropy.io.fits.verify]\n",
      "WARNING: VerifyWarning:         Card 'SOURCE' is not FITS standard (invalid value string: \"'hmi.lev1[:#32967093,#32967069,#32967045,#32967117,#32967141,#32967165\").  Fixed 'SOURCE' card to meet the FITS standard. [astropy.io.fits.verify]\n",
      "WARNING: VerifyWarning:         Card 'SOURCE' is not FITS standard (invalid value string: \"'hmi.lev1[:#32967573,#32967549,#32967525,#32967585,#32967621,#32967645\").  Fixed 'SOURCE' card to meet the FITS standard. [astropy.io.fits.verify]\n",
      "WARNING: VerifyWarning:         Card 'SOURCE' is not FITS standard (invalid value string: \"'hmi.lev1[:#32968053,#32968029,#32968005,#32968077,#32968101,#32968113\").  Fixed 'SOURCE' card to meet the FITS standard. [astropy.io.fits.verify]\n",
      "WARNING: VerifyWarning:         Card 'SOURCE' is not FITS standard (invalid value string: \"'hmi.lev1[:#32968533,#32968509,#32968485,#32968557,#32968581,#32968605\").  Fixed 'SOURCE' card to meet the FITS standard. [astropy.io.fits.verify]\n",
      "WARNING: VerifyWarning:         Card 'SOURCE' is not FITS standard (invalid value string: \"'hmi.lev1[:#32968989,#32968965,#32968941,#32969013,#32969037,#32969061\").  Fixed 'SOURCE' card to meet the FITS standard. [astropy.io.fits.verify]\n",
      "WARNING: VerifyWarning:         Card 'SOURCE' is not FITS standard (invalid value string: \"'hmi.lev1[:#32969013,#32968989,#32968965,#32969037,#32969061,#32969073\").  Fixed 'SOURCE' card to meet the FITS standard. [astropy.io.fits.verify]\n",
      "WARNING: VerifyWarning:         Card 'SOURCE' is not FITS standard (invalid value string: \"'hmi.lev1[:#32969469,#32969445,#32969421,#32969493,#32969517,#32969541\").  Fixed 'SOURCE' card to meet the FITS standard. [astropy.io.fits.verify]\n",
      "WARNING: VerifyWarning:         Card 'SOURCE' is not FITS standard (invalid value string: \"'hmi.lev1[:#32969493,#32969469,#32969445,#32969517,#32969541,#32969565\").  Fixed 'SOURCE' card to meet the FITS standard. [astropy.io.fits.verify]\n",
      "WARNING: VerifyWarning:         Card 'SOURCE' is not FITS standard (invalid value string: \"'hmi.lev1[:#32969937,#32969925,#32969901,#32969973,#32969997,#32970033\").  Fixed 'SOURCE' card to meet the FITS standard. [astropy.io.fits.verify]\n",
      "WARNING: VerifyWarning:         Card 'SOURCE' is not FITS standard (invalid value string: \"'hmi.lev1[:#32969973,#32969937,#32969925,#32969997,#32970033,#32970045\").  Fixed 'SOURCE' card to meet the FITS standard. [astropy.io.fits.verify]\n",
      "WARNING: VerifyWarning:         Card 'SOURCE' is not FITS standard (invalid value string: \"'hmi.lev1[:#32970429,#32970405,#32970381,#32970465,#32970477,#32970489\").  Fixed 'SOURCE' card to meet the FITS standard. [astropy.io.fits.verify]\n",
      "WARNING: VerifyWarning:         Card 'SOURCE' is not FITS standard (invalid value string: \"'hmi.lev1[:#32970897,#32970885,#32970861,#32970933,#32970957,#32970984\").  Fixed 'SOURCE' card to meet the FITS standard. [astropy.io.fits.verify]\n",
      "WARNING: VerifyWarning:         Card 'SOURCE' is not FITS standard (invalid value string: \"'hmi.lev1[:#32971389,#32971365,#32971341,#32971413,#32971437,#32971449\").  Fixed 'SOURCE' card to meet the FITS standard. [astropy.io.fits.verify]\n",
      "WARNING: VerifyWarning:         Card 'SOURCE' is not FITS standard (invalid value string: \"'hmi.lev1[:#32971869,#32971845,#32971821,#32971893,#32971917,#32971941\").  Fixed 'SOURCE' card to meet the FITS standard. [astropy.io.fits.verify]\n",
      "WARNING: VerifyWarning:         Card 'SOURCE' is not FITS standard (invalid value string: \"'hmi.lev1[:#32972349,#32972325,#32972301,#32972373,#32972397,#32972421\").  Fixed 'SOURCE' card to meet the FITS standard. [astropy.io.fits.verify]\n",
      "WARNING: VerifyWarning:         Card 'SOURCE' is not FITS standard (invalid value string: \"'hmi.lev1[:#32972805,#32972781,#32972757,#32972829,#32972853,#32972877\").  Fixed 'SOURCE' card to meet the FITS standard. [astropy.io.fits.verify]\n",
      "WARNING: VerifyWarning:         Card 'SOURCE' is not FITS standard (invalid value string: \"'hmi.lev1[:#32972829,#32972805,#32972781,#32972853,#32972877,#32972901\").  Fixed 'SOURCE' card to meet the FITS standard. [astropy.io.fits.verify]\n",
      "WARNING: VerifyWarning:         Card 'SOURCE' is not FITS standard (invalid value string: \"'hmi.lev1[:#32973285,#32973261,#32973237,#32973309,#32973333,#32973357\").  Fixed 'SOURCE' card to meet the FITS standard. [astropy.io.fits.verify]\n",
      "WARNING: VerifyWarning:         Card 'SOURCE' is not FITS standard (invalid value string: \"'hmi.lev1[:#32973309,#32973285,#32973261,#32973333,#32973357,#32973381\").  Fixed 'SOURCE' card to meet the FITS standard. [astropy.io.fits.verify]\n",
      "WARNING: VerifyWarning:         Card 'SOURCE' is not FITS standard (invalid value string: \"'hmi.lev1[:#32973765,#32973741,#32973717,#32973789,#32973813,#32973837\").  Fixed 'SOURCE' card to meet the FITS standard. [astropy.io.fits.verify]\n",
      "WARNING: VerifyWarning:         Card 'SOURCE' is not FITS standard (invalid value string: \"'hmi.lev1[:#32974245,#32974221,#32974197,#32974269,#32974293,#32974317\").  Fixed 'SOURCE' card to meet the FITS standard. [astropy.io.fits.verify]\n",
      "WARNING: VerifyWarning:         Card 'SOURCE' is not FITS standard (invalid value string: \"'hmi.lev1[:#32974713,#32974701,#32974677,#32974749,#32974773,#32974797\").  Fixed 'SOURCE' card to meet the FITS standard. [astropy.io.fits.verify]\n",
      "WARNING: VerifyWarning:         Card 'SOURCE' is not FITS standard (invalid value string: \"'hmi.lev1[:#32975205,#32975169,#32975157,#32975217,#32975253,#32975277\").  Fixed 'SOURCE' card to meet the FITS standard. [astropy.io.fits.verify]\n",
      "WARNING: VerifyWarning:         Card 'SOURCE' is not FITS standard (invalid value string: \"'hmi.lev1[:#32975685,#32975661,#32975637,#32975709,#32975733,#32975757\").  Fixed 'SOURCE' card to meet the FITS standard. [astropy.io.fits.verify]\n",
      "WARNING: VerifyWarning:         Card 'SOURCE' is not FITS standard (invalid value string: \"'hmi.lev1[:#32976141,#32976117,#32976093,#32976165,#32976189,#32976213\").  Fixed 'SOURCE' card to meet the FITS standard. [astropy.io.fits.verify]\n",
      "WARNING: VerifyWarning:         Card 'SOURCE' is not FITS standard (invalid value string: \"'hmi.lev1[:#32976165,#32976141,#32976117,#32976189,#32976213,#32976237\").  Fixed 'SOURCE' card to meet the FITS standard. [astropy.io.fits.verify]\n",
      "WARNING: VerifyWarning:         Card 'SOURCE' is not FITS standard (invalid value string: \"'hmi.lev1[:#32976621,#32976597,#32976573,#32976645,#32976669,#32976693\").  Fixed 'SOURCE' card to meet the FITS standard. [astropy.io.fits.verify]\n",
      "WARNING: VerifyWarning:         Card 'SOURCE' is not FITS standard (invalid value string: \"'hmi.lev1[:#32976645,#32976621,#32976597,#32976669,#32976693,#32976717\").  Fixed 'SOURCE' card to meet the FITS standard. [astropy.io.fits.verify]\n",
      "WARNING: VerifyWarning:         Card 'SOURCE' is not FITS standard (invalid value string: \"'hmi.lev1[:#32977101,#32977077,#32977053,#32977125,#32977149,#32977173\").  Fixed 'SOURCE' card to meet the FITS standard. [astropy.io.fits.verify]\n",
      "WARNING: VerifyWarning:         Card 'SOURCE' is not FITS standard (invalid value string: \"'hmi.lev1[:#32977125,#32977101,#32977077,#32977149,#32977173,#32977197\").  Fixed 'SOURCE' card to meet the FITS standard. [astropy.io.fits.verify]\n",
      "WARNING: VerifyWarning:         Card 'SOURCE' is not FITS standard (invalid value string: \"'hmi.lev1[:#32977581,#32977557,#32977533,#32977605,#32977629,#32977653\").  Fixed 'SOURCE' card to meet the FITS standard. [astropy.io.fits.verify]\n",
      "WARNING: VerifyWarning:         Card 'SOURCE' is not FITS standard (invalid value string: \"'hmi.lev1[:#32978061,#32978037,#32978013,#32978085,#32978109,#32978133\").  Fixed 'SOURCE' card to meet the FITS standard. [astropy.io.fits.verify]\n",
      "WARNING: VerifyWarning:         Card 'SOURCE' is not FITS standard (invalid value string: \"'hmi.lev1[:#32978541,#32978517,#32978493,#32978565,#32978589,#32978613\").  Fixed 'SOURCE' card to meet the FITS standard. [astropy.io.fits.verify]\n",
      "WARNING: VerifyWarning:         Card 'SOURCE' is not FITS standard (invalid value string: \"'hmi.lev1[:#32979021,#32978997,#32978973,#32979045,#32979069,#32979093\").  Fixed 'SOURCE' card to meet the FITS standard. [astropy.io.fits.verify]\n",
      "WARNING: VerifyWarning:         Card 'SOURCE' is not FITS standard (invalid value string: \"'hmi.lev1[:#32979501,#32979477,#32979453,#32979525,#32979549,#32979573\").  Fixed 'SOURCE' card to meet the FITS standard. [astropy.io.fits.verify]\n"
     ]
    },
    {
     "name": "stderr",
     "output_type": "stream",
     "text": [
      "WARNING: VerifyWarning:         Card 'SOURCE' is not FITS standard (invalid value string: \"'hmi.lev1[:#32979957,#32979933,#32979909,#32979969,#32980005,#32980041\").  Fixed 'SOURCE' card to meet the FITS standard. [astropy.io.fits.verify]\n",
      "WARNING: VerifyWarning:         Card 'SOURCE' is not FITS standard (invalid value string: \"'hmi.lev1[:#32979969,#32979957,#32979933,#32980005,#32980041,#32980053\").  Fixed 'SOURCE' card to meet the FITS standard. [astropy.io.fits.verify]\n",
      "WARNING: VerifyWarning:         Card 'SOURCE' is not FITS standard (invalid value string: \"'hmi.lev1[:#32980437,#32980413,#32980389,#32980461,#32980485,#32980509\").  Fixed 'SOURCE' card to meet the FITS standard. [astropy.io.fits.verify]\n",
      "WARNING: VerifyWarning:         Card 'SOURCE' is not FITS standard (invalid value string: \"'hmi.lev1[:#32980461,#32980437,#32980413,#32980485,#32980509,#32980533\").  Fixed 'SOURCE' card to meet the FITS standard. [astropy.io.fits.verify]\n",
      "WARNING: VerifyWarning:         Card 'SOURCE' is not FITS standard (invalid value string: \"'hmi.lev1[:#32987133,#32987109,#32987097,#32987157,#32987181,#32987205\").  Fixed 'SOURCE' card to meet the FITS standard. [astropy.io.fits.verify]\n",
      "WARNING: VerifyWarning:         Card 'SOURCE' is not FITS standard (invalid value string: \"'hmi.lev1[:#32987601,#32987565,#32987541,#32987613,#32987637,#32987673\").  Fixed 'SOURCE' card to meet the FITS standard. [astropy.io.fits.verify]\n",
      "WARNING: VerifyWarning:         Card 'SOURCE' is not FITS standard (invalid value string: \"'hmi.lev1[:#32987613,#32987601,#32987565,#32987637,#32987673,#32987685\").  Fixed 'SOURCE' card to meet the FITS standard. [astropy.io.fits.verify]\n",
      "WARNING: VerifyWarning:         Card 'SOURCE' is not FITS standard (invalid value string: \"'hmi.lev1[:#32988069,#32988045,#32988021,#32988093,#32988117,#32988141\").  Fixed 'SOURCE' card to meet the FITS standard. [astropy.io.fits.verify]\n",
      "WARNING: VerifyWarning:         Card 'SOURCE' is not FITS standard (invalid value string: \"'hmi.lev1[:#32988093,#32988069,#32988045,#32988117,#32988141,#32988165\").  Fixed 'SOURCE' card to meet the FITS standard. [astropy.io.fits.verify]\n",
      "WARNING: VerifyWarning:         Card 'SOURCE' is not FITS standard (invalid value string: \"'hmi.lev1[:#32988549,#32988525,#32988501,#32988573,#32988597,#32988621\").  Fixed 'SOURCE' card to meet the FITS standard. [astropy.io.fits.verify]\n",
      "WARNING: VerifyWarning:         Card 'SOURCE' is not FITS standard (invalid value string: \"'hmi.lev1[:#32992377,#32992341,#32992317,#32992389,#32992413,#32992437\").  Fixed 'SOURCE' card to meet the FITS standard. [astropy.io.fits.verify]\n",
      "WARNING: VerifyWarning:         Card 'SOURCE' is not FITS standard (invalid value string: \"'hmi.lev1[:#32999997,#32999973,#32999949,#33000021,#33000045,#33000069\").  Fixed 'SOURCE' card to meet the FITS standard. [astropy.io.fits.verify]\n",
      "WARNING: VerifyWarning:         Card 'SOURCE' is not FITS standard (invalid value string: \"'hmi.lev1[:#33010005,#33009981,#33009957,#33010029,#33010053,#33010077\").  Fixed 'SOURCE' card to meet the FITS standard. [astropy.io.fits.verify]\n",
      "WARNING: VerifyWarning:         Card 'SOURCE' is not FITS standard (invalid value string: \"'hmi.lev1[:#33010029,#33010005,#33009981,#33010053,#33010077,#33010101\").  Fixed 'SOURCE' card to meet the FITS standard. [astropy.io.fits.verify]\n",
      "WARNING: VerifyWarning:         Card 'SOURCE' is not FITS standard (invalid value string: \"'hmi.lev1[:#33010485,#33010461,#33010437,#33010509,#33010533,#33010557\").  Fixed 'SOURCE' card to meet the FITS standard. [astropy.io.fits.verify]\n",
      "WARNING: VerifyWarning:         Card 'SOURCE' is not FITS standard (invalid value string: \"'hmi.lev1[:#33011445,#33011421,#33011397,#33011469,#33011505,#33011517\").  Fixed 'SOURCE' card to meet the FITS standard. [astropy.io.fits.verify]\n",
      "WARNING: VerifyWarning:         Card 'SOURCE' is not FITS standard (invalid value string: \"'hmi.lev1[:#33011925,#33011901,#33011877,#33011949,#33011973,#33011997\").  Fixed 'SOURCE' card to meet the FITS standard. [astropy.io.fits.verify]\n",
      "WARNING: VerifyWarning:         Card 'SOURCE' is not FITS standard (invalid value string: \"'hmi.lev1[:#33012405,#33012381,#33012357,#33012429,#33012453,#33012477\").  Fixed 'SOURCE' card to meet the FITS standard. [astropy.io.fits.verify]\n",
      "WARNING: VerifyWarning:         Card 'SOURCE' is not FITS standard (invalid value string: \"'hmi.lev1[:#33012885,#33012861,#33012837,#33012909,#33012933,#33012957\").  Fixed 'SOURCE' card to meet the FITS standard. [astropy.io.fits.verify]\n",
      "WARNING: VerifyWarning:         Card 'SOURCE' is not FITS standard (invalid value string: \"'hmi.lev1[:#33013365,#33013341,#33013317,#33013389,#33013413,#33013437\").  Fixed 'SOURCE' card to meet the FITS standard. [astropy.io.fits.verify]\n",
      "WARNING: VerifyWarning:         Card 'SOURCE' is not FITS standard (invalid value string: \"'hmi.lev1[:#33013821,#33013797,#33013773,#33013845,#33013869,#33013893\").  Fixed 'SOURCE' card to meet the FITS standard. [astropy.io.fits.verify]\n",
      "WARNING: VerifyWarning:         Card 'SOURCE' is not FITS standard (invalid value string: \"'hmi.lev1[:#33013845,#33013821,#33013797,#33013869,#33013893,#33013917\").  Fixed 'SOURCE' card to meet the FITS standard. [astropy.io.fits.verify]\n",
      "WARNING: VerifyWarning:         Card 'SOURCE' is not FITS standard (invalid value string: \"'hmi.lev1[:#33014301,#33014277,#33014253,#33014325,#33014349,#33014373\").  Fixed 'SOURCE' card to meet the FITS standard. [astropy.io.fits.verify]\n",
      "WARNING: VerifyWarning:         Card 'SOURCE' is not FITS standard (invalid value string: \"'hmi.lev1[:#33014325,#33014301,#33014277,#33014349,#33014373,#33014397\").  Fixed 'SOURCE' card to meet the FITS standard. [astropy.io.fits.verify]\n",
      "WARNING: VerifyWarning:         Card 'SOURCE' is not FITS standard (invalid value string: \"'hmi.lev1[:#33014781,#33014757,#33014733,#33014805,#33014829,#33014853\").  Fixed 'SOURCE' card to meet the FITS standard. [astropy.io.fits.verify]\n",
      "WARNING: VerifyWarning:         Card 'SOURCE' is not FITS standard (invalid value string: \"'hmi.lev1[:#33014805,#33014781,#33014757,#33014829,#33014853,#33014877\").  Fixed 'SOURCE' card to meet the FITS standard. [astropy.io.fits.verify]\n",
      "WARNING: VerifyWarning:         Card 'SOURCE' is not FITS standard (invalid value string: \"'hmi.lev1[:#33015261,#33015237,#33015213,#33015285,#33015309,#33015333\").  Fixed 'SOURCE' card to meet the FITS standard. [astropy.io.fits.verify]\n"
     ]
    }
   ],
   "source": [
    "#from IPython.display import clear_output\n",
    "# Read header and data from all fits files programatically\n",
    "#i = 0  # index for files\n",
    "for file in fits_files:\n",
    "    fitsfile = fits.open(basepath[0]+'/'+file)\n",
    "    fitsfile.verify('fix')\n",
    "    header = fitsfile[1].header\n",
    "    del fitsfile\n",
    "    #time.sleep(1)\n",
    "    #header.values"
   ]
  },
  {
   "cell_type": "code",
   "execution_count": null,
   "metadata": {
    "collapsed": true,
    "scrolled": true
   },
   "outputs": [],
   "source": [
    "# Fixing headers programatically\n",
    "for file in tqdm_notebook(fits_files):\n",
    "    print(file)\n",
    "    fitsfile = fits.open(basepath[0]+'/data/'+file)\n",
    "    fitsfile.verify('fix')\n",
    "    header = (fitsfile[0].header)\n",
    "    if header['CUNIT2'] == 'sin(latitude)' and header['CTYPE1'] == 'CRLN-CEA' and header['CTYPE2'] == 'CRLT-CEA':\n",
    "        tqdm.write(\"Wrong header information found in %s. Changing...\" % file)\n",
    "        #print(\"Wrong header information found in %s. Changing...\" % file)\n",
    "        header['CUNIT2'] = 'deg'\n",
    "        header['CTYPE1'] == 'CSLN-CEA'\n",
    "        header['CTYPE2'] == 'CSLT-CEA'\n",
    "    try:\n",
    "        if header['HGLN_OBS'] == 'nan':\n",
    "            del header['HGLN_OBS']\n",
    "    except KeyError:\n",
    "        #tdqm.write(\"Warning: Key not found, letting it pass.\")\n",
    "        print(\"Warning: Key not found, letting it pass.\")\n",
    "        pass\n",
    "    if header.get('CD1_2') == None:\n",
    "        header['CD1_2'] = 0\n",
    "    if header.get('CD2_1') == None:\n",
    "        header['CD2_1'] = 0"
   ]
  },
  {
   "cell_type": "code",
   "execution_count": null,
   "metadata": {
    "collapsed": true,
    "scrolled": true
   },
   "outputs": [],
   "source": [
    "astropy.wcs.utils.WCS_FRAME_MAPPINGS.append([sinehpc_wcs_frame_mapping]) # Adding the map to the WCS astropy utils module"
   ]
  },
  {
   "cell_type": "markdown",
   "metadata": {},
   "source": [
    "# Graficar visualizar resultados de la búsqueda"
   ]
  },
  {
   "cell_type": "code",
   "execution_count": 14,
   "metadata": {
    "scrolled": false
   },
   "outputs": [
    {
     "name": "stderr",
     "output_type": "stream",
     "text": [
      "WARNING: VerifyWarning: Verification reported errors: [astropy.io.fits.verify]\n",
      "WARNING: VerifyWarning: HDU 1: [astropy.io.fits.verify]\n",
      "WARNING: VerifyWarning:     Card 41: [astropy.io.fits.verify]\n",
      "WARNING: VerifyWarning:         Card 'SOURCE' is not FITS standard (invalid value string: \"'hmi.lev1[:#32940845,#32940842,#32940813,#32940885,#32940909,#32940933\").  Fixed 'SOURCE' card to meet the FITS standard. [astropy.io.fits.verify]\n",
      "WARNING: VerifyWarning:     Card 71: [astropy.io.fits.verify]\n",
      "WARNING: VerifyWarning:         Card 'CRDER1' is not FITS standard (invalid value string: 'nan').  Fixed 'CRDER1' card to meet the FITS standard. [astropy.io.fits.verify]\n",
      "WARNING: VerifyWarning:     Card 72: [astropy.io.fits.verify]\n",
      "WARNING: VerifyWarning:         Card 'CRDER2' is not FITS standard (invalid value string: 'nan').  Fixed 'CRDER2' card to meet the FITS standard. [astropy.io.fits.verify]\n",
      "WARNING: VerifyWarning:     Card 73: [astropy.io.fits.verify]\n",
      "WARNING: VerifyWarning:         Card 'CSYSER1' is not FITS standard (invalid value string: 'nan').  Fixed 'CSYSER1' card to meet the FITS standard. [astropy.io.fits.verify]\n",
      "WARNING: VerifyWarning:     Card 74: [astropy.io.fits.verify]\n",
      "WARNING: VerifyWarning:         Card 'CSYSER2' is not FITS standard (invalid value string: 'nan').  Fixed 'CSYSER2' card to meet the FITS standard. [astropy.io.fits.verify]\n",
      "WARNING: VerifyWarning: Note: astropy.io.fits uses zero-based indexing.\n",
      " [astropy.io.fits.verify]\n"
     ]
    }
   ],
   "source": [
    "# Esto es para ver alguna imagen en específico, con coordenadas y todo\n",
    "%matplotlib qt5\n",
    "# Making the map \n",
    "fitsfile = fits.open(basepath[0]+'/'+fits_files[0])\n",
    "fitsfile.verify('fix')\n",
    "data = fitsfile[1].data\n",
    "header = fitsfile[1].header\n",
    "m = Map((data, header))\n",
    "m.peek()\n",
    "# Set the colorbar properties.\n",
    "#m.plot_settings['cmap'] = 'hmimag'\n",
    "#m.plot_settings['norm'] = plt.Normalize(-1500, 1500)"
   ]
  },
  {
   "cell_type": "code",
   "execution_count": null,
   "metadata": {
    "collapsed": true
   },
   "outputs": [],
   "source": [
    "# Para dibujar perfiles\n",
    "plt.plot(data[2048,:])\n",
    "plt.xlabel('Pixeles')\n",
    "plt.ylabel('Intensidad')\n",
    "plt.grid(True)\n",
    "plt.show()"
   ]
  },
  {
   "cell_type": "markdown",
   "metadata": {},
   "source": [
    "# Widget to see time evolution\n",
    "\n",
    "Since we are really dealing with a \"big\" sequence of images in FITS format it is helpful to have a widget to actually see the sequence and check wether the time range chosen is correct and see what to expect beforehand."
   ]
  },
  {
   "cell_type": "code",
   "execution_count": 13,
   "metadata": {},
   "outputs": [
    {
     "data": {
      "application/vnd.jupyter.widget-view+json": {
       "model_id": "15bc235c578c41cf9c783305fe8b3a3f"
      }
     },
     "metadata": {},
     "output_type": "display_data"
    },
    {
     "data": {
      "text/plain": [
       "<function __main__.image_sequence>"
      ]
     },
     "execution_count": 13,
     "metadata": {},
     "output_type": "execute_result"
    }
   ],
   "source": [
    "%matplotlib inline\n",
    "from IPython.html.widgets import *\n",
    "number_of_images = len(fits_files)\n",
    "\n",
    "def image_sequence(image):\n",
    "    #fitsfile = fits.open(basepath[0]+'/data/'+fits_files[0])\n",
    "    #print(fitsfile)\n",
    "    fitsfile = fits.open(basepath[0]+'/'+fits_files[image])\n",
    "    fitsfile.verify('fix')\n",
    "    plt.imshow(fitsfile[1].data)\n",
    "    plt.show()\n",
    "    \n",
    "interact(image_sequence, image=(0,number_of_images-1,1), continuous_update=False)"
   ]
  },
  {
   "cell_type": "markdown",
   "metadata": {
    "collapsed": true
   },
   "source": [
    "# Procesamiento de datos\n",
    "\n",
    "Aplicaré algo de lo que dicen acá http://www.pyimagesearch.com/2016/10/31/detecting-multiple-bright-spots-in-an-image-with-python-and-opencv/ para detectar manchas simultáneamente y hacer una estadística automática y \"grande\".\n",
    "\n",
    "Tengo que aplicar lo de esa página pero con oscuros, no con claros. Por ahora se aplica a una imágen en específico, luego hay que aplicarla a todas las imágenes y que lance los datos de velocidad/trayectoria.\n",
    "\n",
    "## Algoritmo:\n",
    "\n",
    "### 1) Remover background/borde oscuro, de medidas en casos anteriores sabemos que\n",
    "\n",
    "3851 px = Diametro horizontal sol\n",
    "\n",
    "3967 - 117 = 3850 px = Diametro vert. sol\n",
    "\n",
    "Recordar que X -> vertical y Y -> horizontal, para tratamiento de imágenes.\n",
    "\n",
    "La imagen es de 4096 x 4096 y si asumimos que la imagen está bien centrada en 2048, entonces podemos hacer un círculo de radio $r\\le 3850$ pixeles, tal que lo que esté por fuera de ete círculo se vuelva \"nan\" y lo de adentro se quede igual.\n",
    "\n",
    "### 2) Suavizar la imagen aplicando un filtro Gaussiano"
   ]
  },
  {
   "cell_type": "code",
   "execution_count": 17,
   "metadata": {
    "collapsed": true
   },
   "outputs": [],
   "source": [
    "# Módulos básicos para detectar contornos/manchas\n",
    "from imutils import contours\n",
    "from skimage import measure\n",
    "import skimage\n",
    "#import numpy as np\n",
    "import imutils\n",
    "import cv2"
   ]
  },
  {
   "cell_type": "code",
   "execution_count": 83,
   "metadata": {
    "collapsed": true
   },
   "outputs": [],
   "source": [
    "# Borrar background/contorno negro\n",
    "np.ogrid?"
   ]
  },
  {
   "cell_type": "code",
   "execution_count": 49,
   "metadata": {},
   "outputs": [
    {
     "data": {
      "text/plain": [
       "73868.0"
      ]
     },
     "execution_count": 49,
     "metadata": {},
     "output_type": "execute_result"
    }
   ],
   "source": [
    "data_test = np.nan_to_num(data)\n",
    "#data_test = data_test/np.max(data_test)*255\n",
    "#data_test = data_test.astype(int)\n",
    "np.max(data_test)"
   ]
  },
  {
   "cell_type": "code",
   "execution_count": 53,
   "metadata": {},
   "outputs": [],
   "source": [
    "# Just blur the image with a gaussian filter\n",
    "blurred = cv2.GaussianBlur(data, (11, 11), 0)"
   ]
  },
  {
   "cell_type": "code",
   "execution_count": 77,
   "metadata": {},
   "outputs": [
    {
     "name": "stdout",
     "output_type": "stream",
     "text": [
      "Warning: Cannot change to a different GUI toolkit: qt4. Using qt5 instead.\n"
     ]
    }
   ],
   "source": [
    "%matplotlib qt4\n",
    "plt.imshow(blurred)\n",
    "plt.colorbar()\n",
    "plt.show()"
   ]
  },
  {
   "cell_type": "code",
   "execution_count": null,
   "metadata": {
    "collapsed": true
   },
   "outputs": [],
   "source": [
    "A = skimage.util.invert(data)"
   ]
  },
  {
   "cell_type": "code",
   "execution_count": null,
   "metadata": {
    "collapsed": true
   },
   "outputs": [],
   "source": [
    "m.data = blurred"
   ]
  },
  {
   "cell_type": "code",
   "execution_count": null,
   "metadata": {
    "collapsed": true
   },
   "outputs": [],
   "source": []
  }
 ],
 "metadata": {
  "kernelspec": {
   "display_name": "Python 3",
   "language": "python",
   "name": "python3"
  },
  "language_info": {
   "codemirror_mode": {
    "name": "ipython",
    "version": 3
   },
   "file_extension": ".py",
   "mimetype": "text/x-python",
   "name": "python",
   "nbconvert_exporter": "python",
   "pygments_lexer": "ipython3",
   "version": "3.6.0"
  }
 },
 "nbformat": 4,
 "nbformat_minor": 2
}
