{
 "cells": [
  {
   "cell_type": "code",
   "execution_count": 1,
   "metadata": {
    "collapsed": false
   },
   "outputs": [
    {
     "name": "stderr",
     "output_type": "stream",
     "text": [
      "WARNING: AstropyDeprecationWarning: astropy.utils.compat.odict.OrderedDict is now deprecated - import OrderedDict from the collections module instead [astropy.utils.compat.odict]\n"
     ]
    }
   ],
   "source": [
    "# Modulos básicos\n",
    "import numpy as np\n",
    "#from pylab import imshow\n",
    "import matplotlib.pyplot as plt\n",
    "from tqdm import tqdm, tnrange, tqdm_notebook\n",
    "# Modulos para astrofisica/solar\n",
    "import astropy\n",
    "from sunpy.net import vso\n",
    "import astropy.units as u\n",
    "from sunpy.map import Map\n",
    "from astropy.io import fits # to fix headers\n",
    "# Custom-made methods and classes for fixing headers\n",
    "from lib.CompatMaps import sinehpc_wcs_frame_mapping"
   ]
  },
  {
   "cell_type": "markdown",
   "metadata": {},
   "source": [
    "# Obtener los datos\n",
    "Se usa el cliente VSO de SunPy para obtener los datos automáticamente, solo se tienen que cambiar las fechas correspondientes. Fechas de interés para el proyecto son:\n",
    "* 2011/02/12 a 2011/02/17\n",
    "* 2012/01/23 a 2012/01/28\n",
    "* 2013/03/04 a 2013/03/09\n",
    "* 2014/09/23 a 2013/09/28\n",
    "* 2015/09/03 a 2015/09/08"
   ]
  },
  {
   "cell_type": "code",
   "execution_count": 2,
   "metadata": {
    "collapsed": false
   },
   "outputs": [
    {
     "name": "stdout",
     "output_type": "stream",
     "text": [
      "Found  2343  records.\n"
     ]
    }
   ],
   "source": [
    "# definir instrumento\n",
    "instrument = 'hmi'\n",
    "# definir rango de longitud de onda (min,max)\n",
    "wavelength = 400*u.nm , 700*u.nm\n",
    "# Definir lapso de tiempo - formato yyyy/mm/dd, yyyy/mm/dd\n",
    "tstart, tend = '2011/02/12 00:00', '2011/02/17 23:59'\n",
    "# Query data - Buscar datos en esas fechas\n",
    "data_client = vso.VSOClient()\n",
    "data_query = data_client.query(vso.attrs.Time(tstart,tend), \\\n",
    "                               vso.attrs.Instrument(instrument), vso.attrs.Wave(wavelength[0], wavelength[1]))\n",
    "print(\"Found \",len(data_query),\" records.\")"
   ]
  },
  {
   "cell_type": "code",
   "execution_count": 5,
   "metadata": {
    "collapsed": false
   },
   "outputs": [
    {
     "name": "stdout",
     "output_type": "stream",
     "text": [
      "Time range:  (datetime.datetime(2011, 2, 12, 0, 0), datetime.datetime(2011, 2, 17, 23, 58, 58))\n",
      "Size in KB:  63727.0\n"
     ]
    }
   ],
   "source": [
    "print(\"Time range: \", data_query.time_range())\n",
    "print(\"Size in KB: \", data_query.total_size())"
   ]
  },
  {
   "cell_type": "code",
   "execution_count": 9,
   "metadata": {
    "collapsed": true
   },
   "outputs": [
    {
     "ename": "KeyboardInterrupt",
     "evalue": "",
     "output_type": "error",
     "traceback": [
      "\u001b[0;31m---------------------------------------------------------------------------\u001b[0m",
      "\u001b[0;31mKeyboardInterrupt\u001b[0m                         Traceback (most recent call last)",
      "\u001b[0;32m<ipython-input-9-1f63b0913c5e>\u001b[0m in \u001b[0;36m<module>\u001b[0;34m()\u001b[0m\n\u001b[1;32m      1\u001b[0m \u001b[0;31m# Guardar resultados\u001b[0m\u001b[0;34m\u001b[0m\u001b[0;34m\u001b[0m\u001b[0m\n\u001b[1;32m      2\u001b[0m \u001b[0mdata_dir\u001b[0m \u001b[0;34m=\u001b[0m \u001b[0;34m'/home/ivan/projects/Physics/solar/solar-physics-ex/rotation/data/{file}.fits'\u001b[0m\u001b[0;34m\u001b[0m\u001b[0m\n\u001b[0;32m----> 3\u001b[0;31m \u001b[0mresults\u001b[0m \u001b[0;34m=\u001b[0m \u001b[0mdata_client\u001b[0m\u001b[0;34m.\u001b[0m\u001b[0mget\u001b[0m\u001b[0;34m(\u001b[0m\u001b[0mdata_query\u001b[0m\u001b[0;34m,\u001b[0m \u001b[0mpath\u001b[0m\u001b[0;34m=\u001b[0m\u001b[0mdata_dir\u001b[0m\u001b[0;34m)\u001b[0m\u001b[0;34m.\u001b[0m\u001b[0mwait\u001b[0m\u001b[0;34m(\u001b[0m\u001b[0;34m)\u001b[0m\u001b[0;34m\u001b[0m\u001b[0m\n\u001b[0m",
      "\u001b[0;32m/usr/lib/python3.6/site-packages/sunpy/net/vso/vso.py\u001b[0m in \u001b[0;36mwait\u001b[0;34m(self, timeout, progress)\u001b[0m\n\u001b[1;32m    128\u001b[0m                 \u001b[0mself\u001b[0m\u001b[0;34m.\u001b[0m\u001b[0mprogress\u001b[0m\u001b[0;34m.\u001b[0m\u001b[0mdraw\u001b[0m\u001b[0;34m(\u001b[0m\u001b[0;34m)\u001b[0m\u001b[0;34m\u001b[0m\u001b[0m\n\u001b[1;32m    129\u001b[0m \u001b[0;34m\u001b[0m\u001b[0m\n\u001b[0;32m--> 130\u001b[0;31m         \u001b[0;32mwhile\u001b[0m \u001b[0;32mnot\u001b[0m \u001b[0mself\u001b[0m\u001b[0;34m.\u001b[0m\u001b[0mevt\u001b[0m\u001b[0;34m.\u001b[0m\u001b[0mwait\u001b[0m\u001b[0;34m(\u001b[0m\u001b[0mtimeout\u001b[0m\u001b[0;34m)\u001b[0m\u001b[0;34m:\u001b[0m\u001b[0;34m\u001b[0m\u001b[0m\n\u001b[0m\u001b[1;32m    131\u001b[0m             \u001b[0;32mpass\u001b[0m\u001b[0;34m\u001b[0m\u001b[0m\n\u001b[1;32m    132\u001b[0m         \u001b[0;32mif\u001b[0m \u001b[0mprogress\u001b[0m\u001b[0;34m:\u001b[0m\u001b[0;34m\u001b[0m\u001b[0m\n",
      "\u001b[0;32m/usr/lib/python3.6/threading.py\u001b[0m in \u001b[0;36mwait\u001b[0;34m(self, timeout)\u001b[0m\n\u001b[1;32m    549\u001b[0m             \u001b[0msignaled\u001b[0m \u001b[0;34m=\u001b[0m \u001b[0mself\u001b[0m\u001b[0;34m.\u001b[0m\u001b[0m_flag\u001b[0m\u001b[0;34m\u001b[0m\u001b[0m\n\u001b[1;32m    550\u001b[0m             \u001b[0;32mif\u001b[0m \u001b[0;32mnot\u001b[0m \u001b[0msignaled\u001b[0m\u001b[0;34m:\u001b[0m\u001b[0;34m\u001b[0m\u001b[0m\n\u001b[0;32m--> 551\u001b[0;31m                 \u001b[0msignaled\u001b[0m \u001b[0;34m=\u001b[0m \u001b[0mself\u001b[0m\u001b[0;34m.\u001b[0m\u001b[0m_cond\u001b[0m\u001b[0;34m.\u001b[0m\u001b[0mwait\u001b[0m\u001b[0;34m(\u001b[0m\u001b[0mtimeout\u001b[0m\u001b[0;34m)\u001b[0m\u001b[0;34m\u001b[0m\u001b[0m\n\u001b[0m\u001b[1;32m    552\u001b[0m             \u001b[0;32mreturn\u001b[0m \u001b[0msignaled\u001b[0m\u001b[0;34m\u001b[0m\u001b[0m\n\u001b[1;32m    553\u001b[0m \u001b[0;34m\u001b[0m\u001b[0m\n",
      "\u001b[0;32m/usr/lib/python3.6/threading.py\u001b[0m in \u001b[0;36mwait\u001b[0;34m(self, timeout)\u001b[0m\n\u001b[1;32m    297\u001b[0m             \u001b[0;32melse\u001b[0m\u001b[0;34m:\u001b[0m\u001b[0;34m\u001b[0m\u001b[0m\n\u001b[1;32m    298\u001b[0m                 \u001b[0;32mif\u001b[0m \u001b[0mtimeout\u001b[0m \u001b[0;34m>\u001b[0m \u001b[0;36m0\u001b[0m\u001b[0;34m:\u001b[0m\u001b[0;34m\u001b[0m\u001b[0m\n\u001b[0;32m--> 299\u001b[0;31m                     \u001b[0mgotit\u001b[0m \u001b[0;34m=\u001b[0m \u001b[0mwaiter\u001b[0m\u001b[0;34m.\u001b[0m\u001b[0macquire\u001b[0m\u001b[0;34m(\u001b[0m\u001b[0;32mTrue\u001b[0m\u001b[0;34m,\u001b[0m \u001b[0mtimeout\u001b[0m\u001b[0;34m)\u001b[0m\u001b[0;34m\u001b[0m\u001b[0m\n\u001b[0m\u001b[1;32m    300\u001b[0m                 \u001b[0;32melse\u001b[0m\u001b[0;34m:\u001b[0m\u001b[0;34m\u001b[0m\u001b[0m\n\u001b[1;32m    301\u001b[0m                     \u001b[0mgotit\u001b[0m \u001b[0;34m=\u001b[0m \u001b[0mwaiter\u001b[0m\u001b[0;34m.\u001b[0m\u001b[0macquire\u001b[0m\u001b[0;34m(\u001b[0m\u001b[0;32mFalse\u001b[0m\u001b[0;34m)\u001b[0m\u001b[0;34m\u001b[0m\u001b[0m\n",
      "\u001b[0;31mKeyboardInterrupt\u001b[0m: "
     ]
    }
   ],
   "source": [
    "# Guardar resultados (Solo hace falta hacerlo una vez)\n",
    "data_dir = '/home/ivan/projects/Physics/solar/solar-physics-ex/rotation/data/{file}.fits'\n",
    "results = data_client.get(data_query, path=data_dir).wait()"
   ]
  },
  {
   "cell_type": "markdown",
   "metadata": {},
   "source": [
    "# Arreglando headers de archivos FITS descargados\n",
    "Desafortunadamente para ver los resultados hay muchas imágenes que no tienen los headers correctos, entonces es necesario hacer algo como lo que se muestra en este enlace para corregir estos problemas: http://docs.sunpy.org/en/latest/generated/gallery/gallery/hmi_synoptic_maps.html and specially the updated example in: https://gist.github.com/Cadair/cbc73dc7888b9bae5d06708270aedd68"
   ]
  },
  {
   "cell_type": "code",
   "execution_count": 6,
   "metadata": {
    "collapsed": false
   },
   "outputs": [],
   "source": [
    "basepath = !pwd\n",
    "fits_files = !ls data/"
   ]
  },
  {
   "cell_type": "code",
   "execution_count": 18,
   "metadata": {
    "collapsed": false
   },
   "outputs": [
    {
     "name": "stdout",
     "output_type": "stream",
     "text": [
      "Warning: Key not found, letting it pass.\n"
     ]
    }
   ],
   "source": [
    "# Fixing headers programatically\n",
    "#for i in tqdm_notebook(fits_files):\n",
    "fitsfile = fits.open(basepath[0]+'/data/'+fits_files[0])\n",
    "fitsfile.verify('fix')\n",
    "header = (fitsfile[0].header)\n",
    "if header['CUNIT2'] == 'sin(latitude)' and header['CTYPE1'] == 'CRLN-CEA' and header['CTYPE2'] == 'CRLT-CEA':\n",
    "    #tqdm.write(\"Wrong header information found in %s. Changing...\" % i)\n",
    "    header['CUNIT2'] = 'deg'\n",
    "    header['CTYPE1'] == 'CSLN-CEA'\n",
    "    header['CTYPE2'] == 'CSLT-CEA'\n",
    "try:\n",
    "    if header['HGLN_OBS'] == 'nan':\n",
    "        del header['HGLN_OBS']\n",
    "except KeyError:\n",
    "    #tdqm.write(\"Warning: Key not found, letting it pass.\")\n",
    "    print(\"Warning: Key not found, letting it pass.\")\n",
    "    pass"
   ]
  },
  {
   "cell_type": "code",
   "execution_count": 19,
   "metadata": {
    "collapsed": false,
    "scrolled": true
   },
   "outputs": [],
   "source": [
    "astropy.wcs.utils.WCS_FRAME_MAPPINGS.append([sinehpc_wcs_frame_mapping]) # Adding the map to the WCS astropy utils module"
   ]
  },
  {
   "cell_type": "code",
   "execution_count": 20,
   "metadata": {
    "collapsed": false
   },
   "outputs": [
    {
     "data": {
      "text/plain": [
       "'deg'"
      ]
     },
     "execution_count": 20,
     "metadata": {},
     "output_type": "execute_result"
    }
   ],
   "source": [
    "header['CUNIT2']"
   ]
  },
  {
   "cell_type": "code",
   "execution_count": 61,
   "metadata": {
    "collapsed": false
   },
   "outputs": [
    {
     "data": {
      "text/plain": [
       "(5, 180, 180)"
      ]
     },
     "execution_count": 61,
     "metadata": {},
     "output_type": "execute_result"
    }
   ],
   "source": [
    "np.shape(data)"
   ]
  },
  {
   "cell_type": "markdown",
   "metadata": {},
   "source": [
    "# Graficar visualizar resultados de la búsqueda"
   ]
  },
  {
   "cell_type": "code",
   "execution_count": 21,
   "metadata": {
    "collapsed": false
   },
   "outputs": [],
   "source": [
    "# Making the map \n",
    "data = fitsfile[0].data\n",
    "m = Map((data, header))\n",
    "# Set the colorbar properties.\n",
    "m.plot_settings['cmap'] = 'hmimag'\n",
    "m.plot_settings['norm'] = plt.Normalize(-1500, 1500)"
   ]
  },
  {
   "cell_type": "code",
   "execution_count": 22,
   "metadata": {
    "collapsed": false
   },
   "outputs": [
    {
     "ename": "KeyError",
     "evalue": "'cd1_2'",
     "output_type": "error",
     "traceback": [
      "\u001b[0;31m---------------------------------------------------------------------------\u001b[0m",
      "\u001b[0;31mKeyError\u001b[0m                                  Traceback (most recent call last)",
      "\u001b[0;32m<ipython-input-22-e42ebb724141>\u001b[0m in \u001b[0;36m<module>\u001b[0;34m()\u001b[0m\n\u001b[0;32m----> 1\u001b[0;31m \u001b[0mprint\u001b[0m\u001b[0;34m(\u001b[0m\u001b[0mm\u001b[0m\u001b[0;34m.\u001b[0m\u001b[0mcoordinate_frame\u001b[0m\u001b[0;34m)\u001b[0m\u001b[0;34m\u001b[0m\u001b[0m\n\u001b[0m",
      "\u001b[0;32m/usr/lib/python3.6/site-packages/sunpy/map/mapbase.py\u001b[0m in \u001b[0;36mcoordinate_frame\u001b[0;34m(self)\u001b[0m\n\u001b[1;32m    263\u001b[0m         \u001b[0minformation\u001b[0m \u001b[0;32mfor\u001b[0m \u001b[0mthis\u001b[0m \u001b[0mMap\u001b[0m\u001b[0;34m.\u001b[0m\u001b[0;34m\u001b[0m\u001b[0m\n\u001b[1;32m    264\u001b[0m         \"\"\"\n\u001b[0;32m--> 265\u001b[0;31m         \u001b[0;32mreturn\u001b[0m \u001b[0mastropy\u001b[0m\u001b[0;34m.\u001b[0m\u001b[0mwcs\u001b[0m\u001b[0;34m.\u001b[0m\u001b[0mutils\u001b[0m\u001b[0;34m.\u001b[0m\u001b[0mwcs_to_celestial_frame\u001b[0m\u001b[0;34m(\u001b[0m\u001b[0mself\u001b[0m\u001b[0;34m.\u001b[0m\u001b[0mwcs\u001b[0m\u001b[0;34m)\u001b[0m\u001b[0;34m\u001b[0m\u001b[0m\n\u001b[0m\u001b[1;32m    266\u001b[0m \u001b[0;34m\u001b[0m\u001b[0m\n\u001b[1;32m    267\u001b[0m     \u001b[0;32mdef\u001b[0m \u001b[0m_as_mpl_axes\u001b[0m\u001b[0;34m(\u001b[0m\u001b[0mself\u001b[0m\u001b[0;34m)\u001b[0m\u001b[0;34m:\u001b[0m\u001b[0;34m\u001b[0m\u001b[0m\n",
      "\u001b[0;32m/usr/lib/python3.6/site-packages/sunpy/map/mapbase.py\u001b[0m in \u001b[0;36mwcs\u001b[0;34m(self)\u001b[0m\n\u001b[1;32m    238\u001b[0m         \u001b[0mw2\u001b[0m\u001b[0;34m.\u001b[0m\u001b[0mwcs\u001b[0m\u001b[0;34m.\u001b[0m\u001b[0mcrval\u001b[0m \u001b[0;34m=\u001b[0m \u001b[0mu\u001b[0m\u001b[0;34m.\u001b[0m\u001b[0mQuantity\u001b[0m\u001b[0;34m(\u001b[0m\u001b[0mself\u001b[0m\u001b[0;34m.\u001b[0m\u001b[0mreference_coordinate\u001b[0m\u001b[0;34m)\u001b[0m\u001b[0;34m\u001b[0m\u001b[0m\n\u001b[1;32m    239\u001b[0m         \u001b[0mw2\u001b[0m\u001b[0;34m.\u001b[0m\u001b[0mwcs\u001b[0m\u001b[0;34m.\u001b[0m\u001b[0mctype\u001b[0m \u001b[0;34m=\u001b[0m \u001b[0mself\u001b[0m\u001b[0;34m.\u001b[0m\u001b[0mcoordinate_system\u001b[0m\u001b[0;34m\u001b[0m\u001b[0m\n\u001b[0;32m--> 240\u001b[0;31m         \u001b[0mw2\u001b[0m\u001b[0;34m.\u001b[0m\u001b[0mwcs\u001b[0m\u001b[0;34m.\u001b[0m\u001b[0mpc\u001b[0m \u001b[0;34m=\u001b[0m \u001b[0mself\u001b[0m\u001b[0;34m.\u001b[0m\u001b[0mrotation_matrix\u001b[0m\u001b[0;34m\u001b[0m\u001b[0m\n\u001b[0m\u001b[1;32m    241\u001b[0m         \u001b[0mw2\u001b[0m\u001b[0;34m.\u001b[0m\u001b[0mwcs\u001b[0m\u001b[0;34m.\u001b[0m\u001b[0mcunit\u001b[0m \u001b[0;34m=\u001b[0m \u001b[0mself\u001b[0m\u001b[0;34m.\u001b[0m\u001b[0mspatial_units\u001b[0m\u001b[0;34m\u001b[0m\u001b[0m\n\u001b[1;32m    242\u001b[0m         \u001b[0mw2\u001b[0m\u001b[0;34m.\u001b[0m\u001b[0mwcs\u001b[0m\u001b[0;34m.\u001b[0m\u001b[0mdateobs\u001b[0m \u001b[0;34m=\u001b[0m \u001b[0mself\u001b[0m\u001b[0;34m.\u001b[0m\u001b[0mdate\u001b[0m\u001b[0;34m.\u001b[0m\u001b[0misoformat\u001b[0m\u001b[0;34m(\u001b[0m\u001b[0;34m)\u001b[0m\u001b[0;34m\u001b[0m\u001b[0m\n",
      "\u001b[0;32m/usr/lib/python3.6/site-packages/sunpy/map/mapbase.py\u001b[0m in \u001b[0;36mrotation_matrix\u001b[0;34m(self)\u001b[0m\n\u001b[1;32m    581\u001b[0m \u001b[0;34m\u001b[0m\u001b[0m\n\u001b[1;32m    582\u001b[0m         \u001b[0;32melif\u001b[0m \u001b[0;34m'CD1_1'\u001b[0m \u001b[0;32min\u001b[0m \u001b[0mself\u001b[0m\u001b[0;34m.\u001b[0m\u001b[0mmeta\u001b[0m\u001b[0;34m:\u001b[0m\u001b[0;34m\u001b[0m\u001b[0m\n\u001b[0;32m--> 583\u001b[0;31m             cd = np.matrix([[self.meta['CD1_1'], self.meta['CD1_2']],\n\u001b[0m\u001b[1;32m    584\u001b[0m                             [self.meta['CD2_1'], self.meta['CD2_2']]])\n\u001b[1;32m    585\u001b[0m \u001b[0;34m\u001b[0m\u001b[0m\n",
      "\u001b[0;32m/usr/lib/python3.6/site-packages/sunpy/map/header.py\u001b[0m in \u001b[0;36m__getitem__\u001b[0;34m(self, key)\u001b[0m\n\u001b[1;32m     41\u001b[0m     \u001b[0;32mdef\u001b[0m \u001b[0m__getitem__\u001b[0m\u001b[0;34m(\u001b[0m\u001b[0mself\u001b[0m\u001b[0;34m,\u001b[0m \u001b[0mkey\u001b[0m\u001b[0;34m)\u001b[0m\u001b[0;34m:\u001b[0m\u001b[0;34m\u001b[0m\u001b[0m\n\u001b[1;32m     42\u001b[0m         \u001b[0;34m\"\"\"Override [] indexing\"\"\"\u001b[0m\u001b[0;34m\u001b[0m\u001b[0m\n\u001b[0;32m---> 43\u001b[0;31m         \u001b[0;32mreturn\u001b[0m \u001b[0mOrderedDict\u001b[0m\u001b[0;34m.\u001b[0m\u001b[0m__getitem__\u001b[0m\u001b[0;34m(\u001b[0m\u001b[0mself\u001b[0m\u001b[0;34m,\u001b[0m \u001b[0mkey\u001b[0m\u001b[0;34m.\u001b[0m\u001b[0mlower\u001b[0m\u001b[0;34m(\u001b[0m\u001b[0;34m)\u001b[0m\u001b[0;34m)\u001b[0m\u001b[0;34m\u001b[0m\u001b[0m\n\u001b[0m\u001b[1;32m     44\u001b[0m \u001b[0;34m\u001b[0m\u001b[0m\n\u001b[1;32m     45\u001b[0m     \u001b[0;32mdef\u001b[0m \u001b[0m__setitem__\u001b[0m\u001b[0;34m(\u001b[0m\u001b[0mself\u001b[0m\u001b[0;34m,\u001b[0m \u001b[0mkey\u001b[0m\u001b[0;34m,\u001b[0m \u001b[0mvalue\u001b[0m\u001b[0;34m)\u001b[0m\u001b[0;34m:\u001b[0m\u001b[0;34m\u001b[0m\u001b[0m\n",
      "\u001b[0;31mKeyError\u001b[0m: 'cd1_2'"
     ]
    }
   ],
   "source": [
    "print(m.coordinate_frame)"
   ]
  },
  {
   "cell_type": "code",
   "execution_count": 17,
   "metadata": {
    "collapsed": false
   },
   "outputs": [
    {
     "data": {
      "text/plain": [
       "<bound method Header.iterkeys of SIMPLE  =                    T / Written by IDL:  Sat Apr 16 16:33:33 2016      \n",
       "BITPIX  =                  -64 / number of bits per data pixel                  \n",
       "NAXIS   =                    3 / number of data axes                            \n",
       "NAXIS1  =                  180 / length of data axis 1                          \n",
       "NAXIS2  =                  180 / length of data axis 2                          \n",
       "NAXIS3  =                    5 /                                                \n",
       "EXTEND  =                    T / FITS dataset may contain extensions            \n",
       "COMMENT   FITS (Flexible Image Transport System) format is defined in 'Astronomy\n",
       "COMMENT   and Astrophysics', volume 376, page 359; bibcode: 2001A&A...376..359H \n",
       "COMMENT                                                                         \n",
       "COMMENT _________________________Fits Content Keywords_________________________ \n",
       "COMMENT                                                                         \n",
       "DATE    = '2016-04-16T23:33:33' /                                               \n",
       "IMTYPE1 = 'Mean Radial Flux Dens. (from LOS) [Gauss]     ' /contents of plane 1 \n",
       "IMTYPE2 = 'Statistical Spatial RMS Estimate [Gauss]      ' /contents of plane 2 \n",
       "IMTYPE3 = 'Weighted Mean-square Flux [Gauss^2]           ' /contents of plane 3 \n",
       "IMTYPE4 = 'Sum of Weights [counts]                       ' /contents of plane 4 \n",
       "IMTYPE5 = 'Sum of Squared Weights [counts^2]             ' /contents of plane 5 \n",
       "COMMENT                                                                         \n",
       "COMMENT ____________ HMI Obsv./Proc. Keywords: 1 of 2 ____________              \n",
       "COMMENT                                                                         \n",
       "DATE-OBS= '2011-02-12T00:00:00' / (UT) avg.obsrvn. midpoint from JSOCfilename   \n",
       "TELESCOP= 'SDO/HMI '                                                            \n",
       "INSTRUME= 'HMI_SIDE1'                                                           \n",
       "WAVELNTH=                6173.                                                  \n",
       "CAMERA  =                    1                                                  \n",
       "QUALITY =                    0                                                  \n",
       "QUALLEV1=                    0                                                  \n",
       "BLD_VERS= '-512    '                                                            \n",
       "HCAMID  =                    2                                                  \n",
       "SOURCE  = 'hmi.lev1[:#15556213,#15556093,#15463873,#15463801,#15463729,#1546365'\n",
       "COMMENT                                                                         \n",
       "COMMENT ____________ World Coordinate System Keywords ____________              \n",
       "COMMENT                                                                         \n",
       "WCSDIM  =                    2 /coordinate system number of dimensions          \n",
       "WCSNAME = 'Carrington Cylin-equal-area' /                                       \n",
       "CTYPE1  = 'CRLN-CEA'           /Axis 1 gives Carrington longitude               \n",
       "CTYPE2  = 'CRLT-CEA'           /Axis 2 gives heliographic sine(latitude)        \n",
       "CRPIX1  =              90.5000 /Pixel 90-deg from left-map edge on axis 1       \n",
       "CRPIX2  =              90.5000 /Pixel at equator of map on axis 2               \n",
       "CRVAL1  =        62.0000000000 /Carrington longitude at CRPIX1                  \n",
       "CRVAL2  =              0.00000 /Heliographic sine(latitude) at CRPIX2           \n",
       "CDELT1  =              1.00000 /Carr. longitude increment per pixel along axis 1\n",
       "CDELT2  =            0.0111111 /sine(lat.) increment per pixel along axis 2     \n",
       "CUNIT1  = 'deg     '           /units of CRVAL1 and CDELT1                      \n",
       "CUNIT2  = 'deg     '           / units of CRVAL2 and CDELT2                     \n",
       "PV2_1   =              1.00000 /Lambda for latitude coordinate                  \n",
       "CD1_1   =              1.00000 /CD Rotation and Scaling Matrix                  \n",
       "CD2_2   =            0.0111111 /CD Rotation and Scaling Matrix                  \n",
       "LTM1_1  =              1.00000 /Lterm Rotation Matrix                           \n",
       "LTM2_2  =              1.00000 /Lterm Rotation Matrix                           \n",
       "COMMENT                                                                         \n",
       "COMMENT ____________ HMI Obsv./Proc. Keywords: 2 of 2 ____________              \n",
       "COMMENT                                                                         \n",
       "DSUN_OBS=      147642428157.28                                                  \n",
       "DSUN_REF=           -725984669                                                  \n",
       "RSUN_REF=            696000000                                                  \n",
       "CRLN_OBS=            62.323582                                                  \n",
       "CRLT_OBS=            -6.678949                                                  \n",
       "CAR_ROT =                 2106                                                  \n",
       "OBS_VR  =          2725.781218                                                  \n",
       "OBS_VW  =         30057.130547                                                  \n",
       "OBS_VN  =         -3383.943399                                                  \n",
       "RSUN_OBS=           972.354797                                                  \n",
       "T_OBS   = '2011.02.11_23:59:53_TAI'                                             \n",
       "T_REC   = '2011.02.12_00:00:00_TAI'                                             \n",
       "TRECEPOC= '1993.01.01_00:00:00_TAI'                                             \n",
       "TRECSTEP=                 720.                                                  \n",
       "TRECUNIT= 'secs    '                                                            \n",
       "HFLID   =                 1021                                                  \n",
       "HCFTID  =                   11                                                  \n",
       "QLOOK   =                    0                                                  \n",
       "CAL_FSN =             14171657                                                  \n",
       "LUTQUERY= 'hmi.lookup[14171657][][2][37][56][0][82]'                            \n",
       "TSEL    =            23.502665                                                  \n",
       "TFRONT  =            31.869091                                                  \n",
       "TINTNUM =                   10                                                  \n",
       "SINTNUM =                   10                                                  \n",
       "DISTCOEF= '/home/jsoc/cvs/Development/JSOC/proj/lev1.5_hmi/apps/../libs/lev15/' \n",
       "ROTCOEF = '/home/jsoc/cvs/Development/JSOC/proj/lev1.5_hmi/apps/../libs/lev15/' \n",
       "ODICOEFF=                    6                                                  \n",
       "OROCOEFF=                    4                                                  \n",
       "POLCALM =                    1                                                  \n",
       "CODEVER0= '$Id: HMI_IQUV_averaging.c,v 1.17 2011/02/10 22:19:24 couvidat Exp $' \n",
       "CODEVER1= '$Id: interpol_code.c,v 1.1 2010/09/16 20:46:48 couvidat Exp $'       \n",
       "CODEVER2= '$Id: interpol_code.c,v 1.1 2010/09/16 20:46:48 couvidat Exp $'       \n",
       "CODEVER3= '$Id: polcal.c,v 1.4 2010/09/23 20:57:27 schou Exp $'                 \n",
       "CALVER64=                   16                                                  \n",
       "RECNUM  =               166057                                                  \n",
       "COMMENT                                                                         \n",
       "COMMENT _________ NISP intake sky-image (lev.2) Keywords _________              \n",
       "COMMENT                                                                         \n",
       "JDATEOBS= '2011-02-11T23:58:12.00' / Original JSOC DATE-OBS                     \n",
       "DATE-AVG= '2011-02-12T00:00:00' / [YYYY-MM-DDThh:mm:ss] UTC observation midpoint\n",
       "DATENISP= '2016/01/11 18:11:35 UTC' / date of NISP-ingest                       \n",
       "SITE    = 'mh      '           / GONG-style 'site' abbreviation                 \n",
       "FILE-J  = 'm_720s110212t0000.fits' / JSOC input file                            \n",
       "ITIME   =                  720 / [sec] Copy of CADENCE                          \n",
       "DTYPE   = 'M       '           / LOS Magnetogram                                \n",
       "B0      =            -6.678949 / [deg] B-angle (copy of CRLT_OBS)               \n",
       "L0      =            62.323582 / [deg] L0 (copy of CRLN_OBS)                    \n",
       "SEMIDIAM=       0.004714092072 / [radians] Semi-diameter of the Sun             \n",
       "FNDLMBAN=                   0. / [deg] angle of FNDLMBMA from y-axis            \n",
       "FNDLMBXC=          2058.401978 / x center of solar disk (center-1 indexed)      \n",
       "FNDLMBYC=          2050.952393 / y center of solar disk (center-1 indexed)      \n",
       "FNDLMBMA=          1928.227109 / semimajor axis of solar ellipse                \n",
       "FNDLMBMI=          1928.227109 / semiminor axis of solar ellipse                \n",
       "C_MA    =          1928.227109 / Same as FNDLMBMA                               \n",
       "C_MI    =          1928.227109 / Same as FNDLMBMI                               \n",
       "OFFSET  =             0.013596 / [deg] img.rotated CW from north-up             \n",
       "OBS-MODE= 'LOS-photosphere'    / Obsv. source for SOLIS processing              \n",
       "IMG_R0  =          1928.227109 / Copy of C_MA=C_MI for SOLIS                    \n",
       "EPH_R0  =           972.354797 / [arcsec] Copy of RSUN_OBS for SOLIS            \n",
       "EPH_B0  =            -6.678949 / [deg] Copy of B0 for SOLIS                     \n",
       "EPH_L0  =            62.323582 / [deg] Copy of L0 for SOLIS                     \n",
       "IMG_X0  =          2058.401978 / Copy of FNDLMBXC for SOLIS                     \n",
       "IMG_Y0  =          2050.952393 / Copy of FNDLMBYC for SOLIS                     \n",
       "COMMENT                                                                         \n",
       "COMMENT ______________________Heliographic Remap Keywords______________________ \n",
       "COMMENT                                                                         \n",
       "FILE-L2 = 'x4x72110212t000000_source-SDO-HMI_type-m-720s.fits.gz' /Level-2 input\n",
       "PROVER2 = '1.12    '           /CVS ver.# of HMI_SERRMAPS_REMAP.pro             \n",
       "PROENV2 = 'Zenith4 '           /Level-2 processing environment                  \n",
       "WSENGRD =                    5 /NGRDxNGRD sub-cells to remap bin-crossing pixels\n",
       "WSESLAT =                    1 /Remap using sin(latitude) y-axis (T/F)          \n",
       "CR_NMB  =        2106.82700358 /non-integer Carrington-rotation number          \n",
       "CARROT  =                 2106 /Carrington-rotation number                      \n",
       "LONGMC  =                   62 /[deg] Carrington longitude of remap center      \n",
       "LONGIMC =                   62 /center pix.-pos on an int.-CR synoptic map      \n",
       "CRMAPMC =              62.5000 /map-center lon. index on an int.-CR map         \n",
       "CRL_SHFT=       0.278711347259 /[deg] offset of sub-earth lon. from remap center\n",
       "LONGADJ =       0.278711347259 /duplicate of CRL_SHFT                           \n",
       "CRLON0  =       -27.5000000000 /[deg] Carrington lon. of first longitude bin    \n",
       "CRLONF  =        151.500000000 /[deg] Carrington lon. of final longitude bin    \n",
       "CRMAP0  =                  -27 /first-bin lon. index on an int.-CR map          \n",
       "CRMAPF  =                  152 /final-bin lon. index on an int.-CR map          \n",
       "COMMENT                                                                         \n",
       "ORIGIN  = 'NSO/NISP'           /                                                \n",
       "CONTENT = 'HELIOGRAPHIC MAP'   /                                                \n",
       "MAG_NUM =                    1 /number of observations in this map              \n",
       "CADENCE =                43200 /[sec] Cadence of remaps production              \n",
       "TOTVALS =                32400 /Total number of map pixels                      \n",
       "DATAVALS=                27993 /Number of map pixels with data                  \n",
       "MISSVALS=                 4407 /Number of map pixels without data               \n",
       "COMMENT                                                                         \n",
       "COMMENT                                                                         \n",
       "COMMENT ___________________Notes and Data Processing History___________________ \n",
       "COMMENT                                                                         \n",
       "HISTORY Downloaded HMI image from JSOC                                          \n",
       "HISTORY Processed into SOLIS-VSM orientation; Deviation given in OFFSET         \n",
       "HISTORY                                                                         \n",
       "HISTORY The original sky-image-mapped data were re-binned and mapped into       \n",
       "HISTORY  heliographic coordinates.  The x-axis now proceeds in Carrington       \n",
       "HISTORY  longitude for 180-deg with a left-most pixel-center longitude of       \n",
       "HISTORY  CRLON0.                                                                \n",
       "HISTORY  The y-axis now proceeds in SIN(latitude) with map edges                \n",
       "HISTORY  from -1.0 to 1.0.                                                      \n",
       "HISTORY Lat-Lon bins with insufficient image-pixel contributions were           \n",
       "HISTORY  given RMS 'uncertainty'-frame values of -1000.0.                       >"
      ]
     },
     "execution_count": 17,
     "metadata": {},
     "output_type": "execute_result"
    }
   ],
   "source": [
    "header.keys"
   ]
  },
  {
   "cell_type": "code",
   "execution_count": null,
   "metadata": {
    "collapsed": true
   },
   "outputs": [],
   "source": []
  }
 ],
 "metadata": {
  "kernelspec": {
   "display_name": "Python 3",
   "language": "python",
   "name": "python3"
  },
  "language_info": {
   "codemirror_mode": {
    "name": "ipython",
    "version": 3
   },
   "file_extension": ".py",
   "mimetype": "text/x-python",
   "name": "python",
   "nbconvert_exporter": "python",
   "pygments_lexer": "ipython3",
   "version": "3.6.0"
  }
 },
 "nbformat": 4,
 "nbformat_minor": 2
}
