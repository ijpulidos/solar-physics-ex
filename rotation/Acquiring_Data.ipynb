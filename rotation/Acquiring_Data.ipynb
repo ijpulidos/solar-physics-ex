{
 "cells": [
  {
   "cell_type": "code",
   "execution_count": 2,
   "metadata": {
    "collapsed": false
   },
   "outputs": [
    {
     "name": "stderr",
     "output_type": "stream",
     "text": [
      "WARNING: AstropyDeprecationWarning: astropy.utils.compat.odict.OrderedDict is now deprecated - import OrderedDict from the collections module instead [astropy.utils.compat.odict]\n"
     ]
    }
   ],
   "source": [
    "# Modulos básicos\n",
    "import numpy as np\n",
    "import time\n",
    "#from pylab import imshow\n",
    "import matplotlib.pyplot as plt\n",
    "from tqdm import tqdm, tnrange, tqdm_notebook\n",
    "# Modulo para manejo de fecha\n",
    "from datetime import datetime, timedelta\n",
    "# Modulos para astrofisica/solar\n",
    "import astropy\n",
    "from sunpy.net import vso\n",
    "import astropy.units as u\n",
    "from sunpy.map import Map\n",
    "from astropy.io import fits # to fix headers\n",
    "# Custom-made methods and classes for fixing headers\n",
    "#from lib.CompatMaps import sinehpc_wcs_frame_mapping"
   ]
  },
  {
   "cell_type": "markdown",
   "metadata": {},
   "source": [
    "# Obtener los datos\n",
    "Se usa el cliente VSO de SunPy para obtener los datos automáticamente, solo se tienen que cambiar las fechas correspondientes. Fechas de interés para el proyecto son:\n",
    "* 2011/02/12 a 2011/02/17\n",
    "* 2012/01/23 a 2012/01/28\n",
    "* 2013/03/04 a 2013/03/09\n",
    "* 2014/09/23 a 2013/09/28\n",
    "* 2015/09/03 a 2015/09/08\n",
    "* 2016/03/11 a 2016/03/16"
   ]
  },
  {
   "cell_type": "code",
   "execution_count": 131,
   "metadata": {
    "collapsed": true
   },
   "outputs": [],
   "source": [
    "# defining datetime range and number of samples \n",
    "dates = []  # where the dates pairs are going to be stored\n",
    "date_start = datetime(2015,9,8,13,0,0)\n",
    "date_end = datetime(2015,9,8,23,59,59)\n",
    "date_samples = 20  # Number of samples to take between dates\n",
    "date_delta = (date_end - date_start)/date_samples  # How frequent to take a sample\n",
    "date_window = timedelta(minutes=1.5)\n",
    "temp_date = date_start\n",
    "while temp_date < date_end:\n",
    "    dates.append((str(temp_date),str(temp_date+date_window)))\n",
    "    temp_date += date_delta "
   ]
  },
  {
   "cell_type": "code",
   "execution_count": 132,
   "metadata": {
    "collapsed": false,
    "scrolled": true
   },
   "outputs": [
    {
     "name": "stdout",
     "output_type": "stream",
     "text": [
      "Found  2  records from  2015-09-08 13:00:00  to  2015-09-08 13:01:30\n",
      "Time range:  (datetime.datetime(2015, 9, 8, 13, 0, 35), datetime.datetime(2015, 9, 8, 13, 1, 21))\n",
      "Size in KB:  0\n",
      "Found  2  records from  2015-09-08 13:32:59.950000  to  2015-09-08 13:34:29.950000\n",
      "Time range:  (datetime.datetime(2015, 9, 8, 13, 33, 35), datetime.datetime(2015, 9, 8, 13, 34, 21))\n",
      "Size in KB:  0\n",
      "Found  2  records from  2015-09-08 14:05:59.900000  to  2015-09-08 14:07:29.900000\n",
      "Time range:  (datetime.datetime(2015, 9, 8, 14, 6, 35), datetime.datetime(2015, 9, 8, 14, 7, 21))\n",
      "Size in KB:  0\n",
      "Found  2  records from  2015-09-08 14:38:59.850000  to  2015-09-08 14:40:29.850000\n",
      "Time range:  (datetime.datetime(2015, 9, 8, 14, 39, 35), datetime.datetime(2015, 9, 8, 14, 40, 21))\n",
      "Size in KB:  0\n",
      "Found  2  records from  2015-09-08 15:11:59.800000  to  2015-09-08 15:13:29.800000\n",
      "Time range:  (datetime.datetime(2015, 9, 8, 15, 12, 35), datetime.datetime(2015, 9, 8, 15, 13, 21))\n",
      "Size in KB:  0\n",
      "Found  2  records from  2015-09-08 15:44:59.750000  to  2015-09-08 15:46:29.750000\n",
      "Time range:  (datetime.datetime(2015, 9, 8, 15, 45, 35), datetime.datetime(2015, 9, 8, 15, 46, 21))\n",
      "Size in KB:  0\n",
      "Found  2  records from  2015-09-08 16:17:59.700000  to  2015-09-08 16:19:29.700000\n",
      "Time range:  (datetime.datetime(2015, 9, 8, 16, 18, 35), datetime.datetime(2015, 9, 8, 16, 19, 21))\n",
      "Size in KB:  0\n",
      "Found  2  records from  2015-09-08 16:50:59.650000  to  2015-09-08 16:52:29.650000\n",
      "Time range:  (datetime.datetime(2015, 9, 8, 16, 51, 35), datetime.datetime(2015, 9, 8, 16, 52, 21))\n",
      "Size in KB:  0\n",
      "Found  2  records from  2015-09-08 17:23:59.600000  to  2015-09-08 17:25:29.600000\n",
      "Time range:  (datetime.datetime(2015, 9, 8, 17, 24, 35), datetime.datetime(2015, 9, 8, 17, 25, 21))\n",
      "Size in KB:  0\n",
      "Found  2  records from  2015-09-08 17:56:59.550000  to  2015-09-08 17:58:29.550000\n",
      "Time range:  (datetime.datetime(2015, 9, 8, 17, 57, 35), datetime.datetime(2015, 9, 8, 17, 58, 21))\n",
      "Size in KB:  0\n",
      "Found  2  records from  2015-09-08 18:29:59.500000  to  2015-09-08 18:31:29.500000\n",
      "Time range:  (datetime.datetime(2015, 9, 8, 18, 30, 35), datetime.datetime(2015, 9, 8, 18, 31, 21))\n",
      "Size in KB:  0\n",
      "Found  2  records from  2015-09-08 19:02:59.450000  to  2015-09-08 19:04:29.450000\n",
      "Time range:  (datetime.datetime(2015, 9, 8, 19, 3, 35), datetime.datetime(2015, 9, 8, 19, 4, 21))\n",
      "Size in KB:  0\n",
      "Found  2  records from  2015-09-08 19:35:59.400000  to  2015-09-08 19:37:29.400000\n",
      "Time range:  (datetime.datetime(2015, 9, 8, 19, 36, 35), datetime.datetime(2015, 9, 8, 19, 37, 21))\n",
      "Size in KB:  0\n",
      "Found  2  records from  2015-09-08 20:08:59.350000  to  2015-09-08 20:10:29.350000\n",
      "Time range:  (datetime.datetime(2015, 9, 8, 20, 9, 35), datetime.datetime(2015, 9, 8, 20, 10, 21))\n",
      "Size in KB:  0\n",
      "Found  2  records from  2015-09-08 20:41:59.300000  to  2015-09-08 20:43:29.300000\n",
      "Time range:  (datetime.datetime(2015, 9, 8, 20, 42, 35), datetime.datetime(2015, 9, 8, 20, 43, 21))\n",
      "Size in KB:  0\n",
      "Found  2  records from  2015-09-08 21:14:59.250000  to  2015-09-08 21:16:29.250000\n",
      "Time range:  (datetime.datetime(2015, 9, 8, 21, 15, 35), datetime.datetime(2015, 9, 8, 21, 16, 21))\n",
      "Size in KB:  0\n",
      "Found  2  records from  2015-09-08 21:47:59.200000  to  2015-09-08 21:49:29.200000\n",
      "Time range:  (datetime.datetime(2015, 9, 8, 21, 48, 35), datetime.datetime(2015, 9, 8, 21, 49, 21))\n",
      "Size in KB:  0\n",
      "Found  2  records from  2015-09-08 22:20:59.150000  to  2015-09-08 22:22:29.150000\n",
      "Time range:  (datetime.datetime(2015, 9, 8, 22, 21, 35), datetime.datetime(2015, 9, 8, 22, 22, 21))\n",
      "Size in KB:  0\n",
      "Found  2  records from  2015-09-08 22:53:59.100000  to  2015-09-08 22:55:29.100000\n",
      "Time range:  (datetime.datetime(2015, 9, 8, 22, 54, 35), datetime.datetime(2015, 9, 8, 22, 55, 21))\n",
      "Size in KB:  0\n",
      "Found  2  records from  2015-09-08 23:26:59.050000  to  2015-09-08 23:28:29.050000\n",
      "Time range:  (datetime.datetime(2015, 9, 8, 23, 27, 35), datetime.datetime(2015, 9, 8, 23, 28, 21))\n",
      "Size in KB:  0\n"
     ]
    }
   ],
   "source": [
    "# definir instrumento\n",
    "instrument = 'hmi'\n",
    "# definir rango de longitud de onda (min,max)\n",
    "#wavelength = 400*u.nm , 700*u.nm\n",
    "\n",
    "# Query data - Buscar datos en esas fechas\n",
    "t = 0\n",
    "for i in dates:\n",
    "    tstart, tend = i[0], i[1]\n",
    "    data_client = vso.VSOClient()\n",
    "    data_query = data_client.query(vso.attrs.Time(tstart, tend), \\\n",
    "                                   vso.attrs.Instrument(instrument), vso.attrs.Physobs(\"intensity\"))\n",
    "    print(\"Found \",len(data_query),\" records from \", tstart, \" to \", tend)\n",
    "    print(\"Time range: \", data_query.time_range())\n",
    "    print(\"Size in KB: \", data_query.total_size())\n",
    "    data_dir = '/home/ivan/projects/Physics/solar/solar-physics-ex/rotation/data/set4/{file}.fits'\n",
    "    results = data_client.get(data_query, path=data_dir)\n",
    "    if t%2 == 0:\n",
    "        time.sleep(30)\n",
    "    t+=1"
   ]
  },
  {
   "cell_type": "code",
   "execution_count": null,
   "metadata": {
    "collapsed": true
   },
   "outputs": [],
   "source": []
  }
 ],
 "metadata": {
  "kernelspec": {
   "display_name": "Python 3",
   "language": "python",
   "name": "python3"
  },
  "language_info": {
   "codemirror_mode": {
    "name": "ipython",
    "version": 3
   },
   "file_extension": ".py",
   "mimetype": "text/x-python",
   "name": "python",
   "nbconvert_exporter": "python",
   "pygments_lexer": "ipython3",
   "version": "3.6.0"
  }
 },
 "nbformat": 4,
 "nbformat_minor": 2
}
