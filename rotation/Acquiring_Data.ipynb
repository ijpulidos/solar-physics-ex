{
 "cells": [
  {
   "cell_type": "code",
   "execution_count": 2,
   "metadata": {
    "collapsed": false
   },
   "outputs": [
    {
     "name": "stderr",
     "output_type": "stream",
     "text": [
      "WARNING: AstropyDeprecationWarning: astropy.utils.compat.odict.OrderedDict is now deprecated - import OrderedDict from the collections module instead [astropy.utils.compat.odict]\n"
     ]
    }
   ],
   "source": [
    "# Modulos básicos\n",
    "import numpy as np\n",
    "import time\n",
    "#from pylab import imshow\n",
    "import matplotlib.pyplot as plt\n",
    "from tqdm import tqdm, tnrange, tqdm_notebook\n",
    "# Modulo para manejo de fecha\n",
    "from datetime import datetime, timedelta\n",
    "# Modulos para astrofisica/solar\n",
    "import astropy\n",
    "from sunpy.net import vso\n",
    "import astropy.units as u\n",
    "from sunpy.map import Map\n",
    "from astropy.io import fits # to fix headers\n",
    "# Custom-made methods and classes for fixing headers\n",
    "#from lib.CompatMaps import sinehpc_wcs_frame_mapping"
   ]
  },
  {
   "cell_type": "markdown",
   "metadata": {},
   "source": [
    "# Obtener los datos\n",
    "Se usa el cliente VSO de SunPy para obtener los datos automáticamente, solo se tienen que cambiar las fechas correspondientes. Fechas de interés para el proyecto son:\n",
    "* 2011/02/12 a 2011/02/17\n",
    "* 2012/01/23 a 2012/01/28\n",
    "* 2013/03/04 a 2013/03/09\n",
    "* 2014/09/23 a 2013/09/28\n",
    "* 2015/09/03 a 2015/09/08\n",
    "* 2016/03/11 a 2016/03/16"
   ]
  },
  {
   "cell_type": "code",
   "execution_count": 31,
   "metadata": {
    "collapsed": true
   },
   "outputs": [],
   "source": [
    "# defining datetime range and number of samples \n",
    "dates = []  # where the dates pairs are going to be stored\n",
    "date_start = datetime(2013,3,4,8,0,0)\n",
    "date_end = datetime(2013,3,9,23,59,59)\n",
    "date_samples = 200  # Number of samples to take between dates\n",
    "date_delta = (date_end - date_start)/date_samples  # How frequent to take a sample\n",
    "date_window = timedelta(minutes=2)\n",
    "temp_date = date_start\n",
    "while temp_date < date_end:\n",
    "    dates.append((str(temp_date),str(temp_date+date_window)))\n",
    "    temp_date += date_delta "
   ]
  },
  {
   "cell_type": "code",
   "execution_count": null,
   "metadata": {
    "collapsed": false
   },
   "outputs": [
    {
     "name": "stdout",
     "output_type": "stream",
     "text": [
      "Found  3  records from  2013-03-04 08:00:00  to  2013-03-04 08:02:00\n",
      "Time range:  (datetime.datetime(2013, 3, 4, 8, 0, 28), datetime.datetime(2013, 3, 4, 8, 1, 59))\n",
      "Size in KB:  0\n",
      "Found  3  records from  2013-03-04 08:40:47.995000  to  2013-03-04 08:42:47.995000\n",
      "Time range:  (datetime.datetime(2013, 3, 4, 8, 40, 58), datetime.datetime(2013, 3, 4, 8, 42, 29))\n",
      "Size in KB:  0\n",
      "Found  2  records from  2013-03-04 09:21:35.990000  to  2013-03-04 09:23:35.990000\n",
      "Time range:  (datetime.datetime(2013, 3, 4, 9, 22, 13), datetime.datetime(2013, 3, 4, 9, 22, 59))\n",
      "Size in KB:  0\n"
     ]
    }
   ],
   "source": [
    "# definir instrumento\n",
    "instrument = 'hmi'\n",
    "# definir rango de longitud de onda (min,max)\n",
    "#wavelength = 400*u.nm , 700*u.nm\n",
    "\n",
    "# Query data - Buscar datos en esas fechas\n",
    "t = 0\n",
    "for i in dates:\n",
    "    tstart, tend = i[0], i[1]\n",
    "    data_client = vso.VSOClient()\n",
    "    data_query = data_client.query(vso.attrs.Time(tstart, tend), \\\n",
    "                                   vso.attrs.Instrument(instrument), vso.attrs.Physobs(\"intensity\"))\n",
    "    print(\"Found \",len(data_query),\" records from \", tstart, \" to \", tend)\n",
    "    print(\"Time range: \", data_query.time_range())\n",
    "    print(\"Size in KB: \", data_query.total_size())\n",
    "    data_dir = '/home/ivan/projects/Physics/solar/solar-physics-ex/rotation/data/set2/{file}.fits'\n",
    "    results = data_client.get(data_query, path=data_dir)\n",
    "    if t%2 == 0:\n",
    "        time.sleep(30)\n",
    "    t+=1"
   ]
  },
  {
   "cell_type": "code",
   "execution_count": null,
   "metadata": {
    "collapsed": true
   },
   "outputs": [],
   "source": []
  }
 ],
 "metadata": {
  "kernelspec": {
   "display_name": "Python 3",
   "language": "python",
   "name": "python3"
  },
  "language_info": {
   "codemirror_mode": {
    "name": "ipython",
    "version": 3
   },
   "file_extension": ".py",
   "mimetype": "text/x-python",
   "name": "python",
   "nbconvert_exporter": "python",
   "pygments_lexer": "ipython3",
   "version": "3.6.0"
  }
 },
 "nbformat": 4,
 "nbformat_minor": 2
}
