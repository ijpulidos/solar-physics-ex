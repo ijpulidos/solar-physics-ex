{
 "cells": [
  {
   "cell_type": "code",
   "execution_count": null,
   "metadata": {
    "collapsed": false
   },
   "outputs": [],
   "source": [
    "# Modulos básicos\n",
    "import numpy as np\n",
    "import time\n",
    "#from pylab import imshow\n",
    "import matplotlib.pyplot as plt\n",
    "from tqdm import tqdm, tnrange, tqdm_notebook\n",
    "# Modulo para manejo de fecha\n",
    "from datetime import datetime, timedelta\n",
    "# Modulos para astrofisica/solar\n",
    "import astropy\n",
    "from sunpy.net import vso\n",
    "import astropy.units as u\n",
    "from sunpy.map import Map\n",
    "from astropy.io import fits # to fix headers\n",
    "# Custom-made methods and classes for fixing headers\n",
    "#from lib.CompatMaps import sinehpc_wcs_frame_mapping"
   ]
  },
  {
   "cell_type": "markdown",
   "metadata": {},
   "source": [
    "# Obtener los datos\n",
    "Se usa el cliente VSO de SunPy para obtener los datos automáticamente, solo se tienen que cambiar las fechas correspondientes. Fechas de interés para el proyecto son:\n",
    "* 2012/01/29 a 2012/01/30\n",
    "* 2013/03/04 a 2013/03/09\n",
    "* 2014/09/23 a 2014/09/28\n",
    "* 2015/09/03 a 2015/09/08\n",
    "* 2016/03/11 a 2016/03/16\n",
    "* 2016/08/28 a 2016/08/31\n",
    "* 2016/06/13 a 2016/06/16\n",
    "* 2016/03/29 a 2016/04/01\n",
    "* 2016/01/29 a 2016/02/01\n",
    "* 2016/08/13 a 2016/08/16"
   ]
  },
  {
   "cell_type": "code",
   "execution_count": null,
   "metadata": {
    "collapsed": false
   },
   "outputs": [],
   "source": [
    "# defining datetime range and number of samples \n",
    "dates = []  # where the dates pairs are going to be stored\n",
    "date_start = datetime(2016,6,15,20,0,0)\n",
    "date_end = datetime(2016,6,16,23,59,59)\n",
    "date_samples = 20  # Number of samples to take between dates\n",
    "date_delta = (date_end - date_start)/date_samples  # How frequent to take a sample\n",
    "date_window = timedelta(minutes=1.5)\n",
    "temp_date = date_start\n",
    "while temp_date < date_end:\n",
    "    dates.append((str(temp_date),str(temp_date+date_window)))\n",
    "    temp_date += date_delta "
   ]
  },
  {
   "cell_type": "code",
   "execution_count": null,
   "metadata": {
    "collapsed": false,
    "scrolled": true
   },
   "outputs": [],
   "source": [
    "# definir instrumento\n",
    "instrument = 'hmi'\n",
    "# definir rango de longitud de onda (min,max)\n",
    "#wavelength = 400*u.nm , 700*u.nm\n",
    "\n",
    "# Query data - Buscar datos en esas fechas\n",
    "t = 0\n",
    "for i in dates:\n",
    "    tstart, tend = i[0], i[1]\n",
    "    #data_client = vso.VSOClient()\n",
    "    data_client = vso.VSOClient(url='https://vso.nascom.nasa.gov/API/VSOi_rpc_literal.wsdl') # workaround when VSO server fail \n",
    "    # more info at: https://riot.im/app/#/room/!MeRdFpEonLoCwhoHeT:matrix.org/$14939136771403280rCVLc:matrix.org \n",
    "    data_query = data_client.query(vso.attrs.Time(tstart, tend), \\\n",
    "                                   vso.attrs.Instrument(instrument), vso.attrs.Physobs(\"intensity\"))\n",
    "    print(\"Found \",len(data_query),\" records from \", tstart, \" to \", tend)\n",
    "    print(\"Time range: \", data_query.time_range())\n",
    "    print(\"Size in KB: \", data_query.total_size())\n",
    "    data_dir = '/home/ivan/projects/Physics/solar/solar-physics-ex/rotation/data/set7/{file}.fits'\n",
    "    results = data_client.get(data_query, path=data_dir)\n",
    "    if t%2 == 0:\n",
    "        time.sleep(30)\n",
    "    t+=1"
   ]
  },
  {
   "cell_type": "markdown",
   "metadata": {
    "collapsed": true
   },
   "source": [
    "## Acquiring data from helioviewer\n",
    "To this date (04/05/2017) the VSO server for fits files docs.virtualsolar.org is down and has been for some hours. So I had to choose to use Helioviewer to download data, which come in jpg/png files."
   ]
  },
  {
   "cell_type": "code",
   "execution_count": null,
   "metadata": {
    "collapsed": false
   },
   "outputs": [],
   "source": [
    "from sunpy.net.helioviewer import HelioviewerClient\n",
    "\n",
    "hv = HelioviewerClient()\n",
    "datasources = hv.get_data_sources()\n",
    "\n",
    "# print a list of datasources and their associated ids\n",
    "for observatory, instruments in datasources.items():\n",
    "    for inst, detectors in instruments.items():\n",
    "        for det, measurements in detectors.items():\n",
    "            for meas, params in measurements.items():\n",
    "                print(\"%s %s: %d\" % (observatory, params['nickname'], params['sourceId']))"
   ]
  },
  {
   "cell_type": "code",
   "execution_count": null,
   "metadata": {
    "collapsed": false
   },
   "outputs": [],
   "source": [
    "filepath = hv.download_jp2('2012/07/05 00:30:00', directory=\"data/HMI/set1\", observatory='SDO', instrument='HMI', detector='HMI', measurement='continuum')\n",
    "hmi = Map(filepath)\n",
    "#xrange = Quantity([200, 550], 'arcsec')\n",
    "#yrange = Quantity([-400, 200], 'arcsec')\n",
    "hmi.submap(xrange, yrange).peek()\n",
    "# Si falla\n",
    "# < Cadair> mefistofeles: install glymur and openjpeg >1.5"
   ]
  },
  {
   "cell_type": "code",
   "execution_count": null,
   "metadata": {
    "collapsed": true
   },
   "outputs": [],
   "source": []
  }
 ],
 "metadata": {
  "kernelspec": {
   "display_name": "Python 3",
   "language": "python",
   "name": "python3"
  },
  "language_info": {
   "codemirror_mode": {
    "name": "ipython",
    "version": 3
   },
   "file_extension": ".py",
   "mimetype": "text/x-python",
   "name": "python",
   "nbconvert_exporter": "python",
   "pygments_lexer": "ipython3",
   "version": "3.6.0"
  }
 },
 "nbformat": 4,
 "nbformat_minor": 2
}
