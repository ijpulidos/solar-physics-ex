{
 "cells": [
  {
   "cell_type": "code",
   "execution_count": 1,
   "metadata": {
    "collapsed": false
   },
   "outputs": [
    {
     "name": "stderr",
     "output_type": "stream",
     "text": [
      "WARNING: AstropyDeprecationWarning: astropy.utils.compat.odict.OrderedDict is now deprecated - import OrderedDict from the collections module instead [astropy.utils.compat.odict]\n"
     ]
    }
   ],
   "source": [
    "# Modulos básicos\n",
    "import numpy as np\n",
    "import time\n",
    "#from pylab import imshow\n",
    "import matplotlib.pyplot as plt\n",
    "from tqdm import tqdm, tnrange, tqdm_notebook\n",
    "# Modulo para manejo de fecha\n",
    "from datetime import datetime, timedelta\n",
    "# Modulos para astrofisica/solar\n",
    "import astropy\n",
    "from sunpy.net import vso\n",
    "import astropy.units as u\n",
    "from sunpy.map import Map\n",
    "from astropy.io import fits # to fix headers\n",
    "# Custom-made methods and classes for fixing headers\n",
    "from lib.CompatMaps import sinehpc_wcs_frame_mapping"
   ]
  },
  {
   "cell_type": "markdown",
   "metadata": {},
   "source": [
    "# Obtener los datos\n",
    "Se usa el cliente VSO de SunPy para obtener los datos automáticamente, solo se tienen que cambiar las fechas correspondientes. Fechas de interés para el proyecto son:\n",
    "* 2011/02/12 a 2011/02/17\n",
    "* 2012/01/23 a 2012/01/28\n",
    "* 2013/03/04 a 2013/03/09\n",
    "* 2014/09/23 a 2013/09/28\n",
    "* 2015/09/03 a 2015/09/08\n",
    "* 2016/03/11 a 2016/03/16"
   ]
  },
  {
   "cell_type": "code",
   "execution_count": null,
   "metadata": {
    "collapsed": true,
    "scrolled": true
   },
   "outputs": [],
   "source": [
    "# Fallo en el índice 39 => '2012-01-29 09:41:16.433124' esto es para seguir descargando desde ahí\n",
    "# definir instrumento\n",
    "instrument = 'hmi'\n",
    "# definir rango de longitud de onda (min,max)\n",
    "#wavelength = 400*u.nm , 700*u.nm\n",
    "\n",
    "# Query data - Buscar datos en esas fechas\n",
    "t = 0\n",
    "for i in dates[149:]:\n",
    "    tstart, tend = i[0], i[1]\n",
    "    data_client = vso.VSOClient()\n",
    "    data_query = data_client.query(vso.attrs.Time(tstart, tend), \\\n",
    "                                   vso.attrs.Instrument(instrument), vso.attrs.Physobs(\"intensity\"))\n",
    "    print(\"Found \",len(data_query),\" records from \", tstart, \" to \", tend)\n",
    "    print(\"Time range: \", data_query.time_range())\n",
    "    print(\"Size in KB: \", data_query.total_size())\n",
    "    data_dir = '/home/ivan/projects/Physics/solar/solar-physics-ex/rotation/data/{file}.fits'\n",
    "    results = data_client.get(data_query, path=data_dir)\n",
    "    print(results)\n",
    "    if t%2 == 0:\n",
    "        time.sleep(60)\n",
    "    t+=1"
   ]
  },
  {
   "cell_type": "markdown",
   "metadata": {},
   "source": [
    "# Arreglando headers de archivos FITS descargados\n",
    "Desafortunadamente para ver los resultados hay muchas imágenes que no tienen los headers correctos, entonces es necesario hacer algo como lo que se muestra en este enlace para corregir estos problemas: http://docs.sunpy.org/en/latest/generated/gallery/gallery/hmi_synoptic_maps.html and specially the updated example in: https://gist.github.com/Cadair/cbc73dc7888b9bae5d06708270aedd68"
   ]
  },
  {
   "cell_type": "code",
   "execution_count": 2,
   "metadata": {
    "collapsed": false
   },
   "outputs": [
    {
     "data": {
      "text/plain": [
       "(145,)"
      ]
     },
     "execution_count": 2,
     "metadata": {},
     "output_type": "execute_result"
    }
   ],
   "source": [
    "basepath = !pwd\n",
    "fits_files = !ls data/set1/*.fits  # Quedan con el path data/*.fits \n",
    "np.shape(fits_files)"
   ]
  },
  {
   "cell_type": "code",
   "execution_count": null,
   "metadata": {
    "collapsed": true,
    "scrolled": true
   },
   "outputs": [],
   "source": [
    "#from IPython.display import clear_output\n",
    "# Read header and data from all fits files programatically\n",
    "#i = 0  # index for files\n",
    "for file in fits_files:\n",
    "    fitsfile = fits.open(basepath[0]+'/'+file)\n",
    "    fitsfile.verify('fix')\n",
    "    header = fitsfile[1].header\n",
    "    del fitsfile\n",
    "    #time.sleep(1)\n",
    "    #header.values"
   ]
  },
  {
   "cell_type": "code",
   "execution_count": null,
   "metadata": {
    "collapsed": true,
    "scrolled": true
   },
   "outputs": [],
   "source": [
    "# Fixing headers programatically\n",
    "for file in tqdm_notebook(fits_files):\n",
    "    print(file)\n",
    "    fitsfile = fits.open(basepath[0]+'/data/'+file)\n",
    "    fitsfile.verify('fix')\n",
    "    header = (fitsfile[0].header)\n",
    "    if header['CUNIT2'] == 'sin(latitude)' and header['CTYPE1'] == 'CRLN-CEA' and header['CTYPE2'] == 'CRLT-CEA':\n",
    "        tqdm.write(\"Wrong header information found in %s. Changing...\" % file)\n",
    "        #print(\"Wrong header information found in %s. Changing...\" % file)\n",
    "        header['CUNIT2'] = 'deg'\n",
    "        header['CTYPE1'] == 'CSLN-CEA'\n",
    "        header['CTYPE2'] == 'CSLT-CEA'\n",
    "    try:\n",
    "        if header['HGLN_OBS'] == 'nan':\n",
    "            del header['HGLN_OBS']\n",
    "    except KeyError:\n",
    "        #tdqm.write(\"Warning: Key not found, letting it pass.\")\n",
    "        print(\"Warning: Key not found, letting it pass.\")\n",
    "        pass\n",
    "    if header.get('CD1_2') == None:\n",
    "        header['CD1_2'] = 0\n",
    "    if header.get('CD2_1') == None:\n",
    "        header['CD2_1'] = 0"
   ]
  },
  {
   "cell_type": "code",
   "execution_count": null,
   "metadata": {
    "collapsed": true,
    "scrolled": true
   },
   "outputs": [],
   "source": [
    "astropy.wcs.utils.WCS_FRAME_MAPPINGS.append([sinehpc_wcs_frame_mapping]) # Adding the map to the WCS astropy utils module"
   ]
  },
  {
   "cell_type": "markdown",
   "metadata": {},
   "source": [
    "# Graficar visualizar resultados de la búsqueda"
   ]
  },
  {
   "cell_type": "code",
   "execution_count": null,
   "metadata": {
    "collapsed": false,
    "scrolled": false
   },
   "outputs": [],
   "source": [
    "# Esto es para ver alguna imagen en específico, con coordenadas y todo\n",
    "%matplotlib inline\n",
    "# Making the map \n",
    "fitsfile = fits.open(basepath[0]+'/'+fits_files[14])\n",
    "fitsfile.verify('fix')\n",
    "data = fitsfile[1].data\n",
    "header = fitsfile[1].header\n",
    "m = Map((data, header))\n",
    "m.peek()\n",
    "# Set the colorbar properties.\n",
    "#m.plot_settings['cmap'] = 'hmimag'\n",
    "#m.plot_settings['norm'] = plt.Normalize(-1500, 1500)"
   ]
  },
  {
   "cell_type": "code",
   "execution_count": null,
   "metadata": {
    "collapsed": true
   },
   "outputs": [],
   "source": [
    "# Para dibujar perfiles\n",
    "plt.plot(data[2048,:])\n",
    "plt.xlabel('Pixeles')\n",
    "plt.ylabel('Intensidad')\n",
    "plt.grid(True)\n",
    "plt.show()"
   ]
  },
  {
   "cell_type": "markdown",
   "metadata": {},
   "source": [
    "# Widget to see time evolution\n",
    "\n",
    "Since we are really dealing with a \"big\" sequence of images in FITS format it is helpful to have a widget to actually see the sequence and check wether the time range chosen is correct and see what to expect beforehand."
   ]
  },
  {
   "cell_type": "code",
   "execution_count": null,
   "metadata": {
    "collapsed": true
   },
   "outputs": [],
   "source": [
    "%matplotlib inline\n",
    "from IPython.html.widgets import *\n",
    "number_of_images = len(fits_files)\n",
    "\n",
    "def image_sequence(image):\n",
    "    #fitsfile = fits.open(basepath[0]+'/data/'+fits_files[0])\n",
    "    #print(fitsfile)\n",
    "    fitsfile = fits.open(basepath[0]+'/'+fits_files[image])\n",
    "    fitsfile.verify('fix')\n",
    "    plt.imshow(fitsfile[1].data)\n",
    "    plt.title(fitsfile.filename())\n",
    "    plt.show()\n",
    "    \n",
    "interact(image_sequence, image=(0,number_of_images-1,1), continuous_update=False)"
   ]
  },
  {
   "cell_type": "markdown",
   "metadata": {
    "collapsed": true
   },
   "source": [
    "# Procesamiento de datos\n",
    "\n",
    "Aplicaré algo de lo que dicen acá http://www.pyimagesearch.com/2016/10/31/detecting-multiple-bright-spots-in-an-image-with-python-and-opencv/ para detectar manchas simultáneamente y hacer una estadística automática y \"grande\".\n",
    "\n",
    "Tengo que aplicar lo de esa página pero con oscuros, no con claros. Por ahora se aplica a una imágen en específico, luego hay que aplicarla a todas las imágenes y que lance los datos de velocidad/trayectoria.\n",
    "\n",
    "## Algoritmo:\n",
    "En términos generales el algoritmo es como sigue:\n",
    "\n",
    "1) Remover background/borde oscuro\n",
    "\n",
    "2) Suavizar la imagen aplicando un filtro Gaussiano\n",
    "\n",
    "3) \"Binarizando\" con umbral\n",
    "\n",
    "4) Labeling the spots\n",
    "\n",
    "5) Obteniendo centros de masa (en unidades arcsec)\n",
    "\n"
   ]
  },
  {
   "cell_type": "code",
   "execution_count": 3,
   "metadata": {
    "collapsed": false
   },
   "outputs": [],
   "source": [
    "# Módulos básicos para detectar contornos/manchas\n",
    "from imutils import contours\n",
    "from skimage import measure\n",
    "import skimage\n",
    "#import numpy as np\n",
    "import imutils\n",
    "import cv2"
   ]
  },
  {
   "cell_type": "markdown",
   "metadata": {},
   "source": [
    "### 1) Remover background/borde oscuro, de medidas en casos anteriores sabemos que\n",
    "\n",
    "3851 px = Diametro horizontal sol\n",
    "\n",
    "3967 - 117 = 3850 px = Diametro vert. sol\n",
    "\n",
    "Recordar que X -> vertical y Y -> horizontal, para tratamiento de imágenes.\n",
    "\n",
    "La imagen es de 4096 x 4096 y si asumimos que la imagen está bien centrada en 2048, entonces podemos hacer un círculo de radio $r\\le 3850/2 \\approx 1920$ pixeles, tal que lo que esté por fuera de este círculo se vuelva \"nan\" y lo de adentro se quede igual.\n",
    "\n",
    "Más información en: http://stackoverflow.com/questions/8647024/how-to-apply-a-disc-shaped-mask-to-a-numpy-array"
   ]
  },
  {
   "cell_type": "code",
   "execution_count": 4,
   "metadata": {
    "collapsed": true
   },
   "outputs": [],
   "source": [
    "# Borrar background/contorno negro\n",
    "## se hace una máscara circular con centro = (2048, 2048)\n",
    "centerx, centery = 2048, 2048\n",
    "r = 1920  # radius\n",
    "y,x = np.ogrid[-centerx:4096-centerx, -centery:4096-centery]\n",
    "mask = x*x + y*y > r*r  # circular mask\n",
    "#array = np.ones((n, n))\n",
    "#array[mask] = 255"
   ]
  },
  {
   "cell_type": "code",
   "execution_count": 5,
   "metadata": {
    "collapsed": true
   },
   "outputs": [],
   "source": [
    "# FUNCIONES BÁSICAS PARA HACER LO QUE NECESITO (deberían ir en un .py aparte - WIP)\n",
    "# \n",
    "def extract_fits_data(index):\n",
    "    '''\n",
    "    Function to extract data from fitsfile given just an index\n",
    "    '''\n",
    "    fitsfile = fits.open(basepath[0]+'/'+fits_files[index])\n",
    "    fitsfile.verify('fix')\n",
    "    return fitsfile[1].header, fitsfile[1].data"
   ]
  },
  {
   "cell_type": "code",
   "execution_count": 6,
   "metadata": {
    "collapsed": false
   },
   "outputs": [
    {
     "name": "stderr",
     "output_type": "stream",
     "text": [
      "WARNING: VerifyWarning: Verification reported errors: [astropy.io.fits.verify]\n",
      "WARNING: VerifyWarning: HDU 1: [astropy.io.fits.verify]\n",
      "WARNING: VerifyWarning:     Card 41: [astropy.io.fits.verify]\n",
      "WARNING: VerifyWarning:         Card 'SOURCE' is not FITS standard (invalid value string: \"'hmi.lev1[:#33014301,#33014277,#33014253,#33014325,#33014349,#33014373\").  Fixed 'SOURCE' card to meet the FITS standard. [astropy.io.fits.verify]\n",
      "WARNING: VerifyWarning:     Card 71: [astropy.io.fits.verify]\n",
      "WARNING: VerifyWarning:         Card 'CRDER1' is not FITS standard (invalid value string: 'nan').  Fixed 'CRDER1' card to meet the FITS standard. [astropy.io.fits.verify]\n",
      "WARNING: VerifyWarning:     Card 72: [astropy.io.fits.verify]\n",
      "WARNING: VerifyWarning:         Card 'CRDER2' is not FITS standard (invalid value string: 'nan').  Fixed 'CRDER2' card to meet the FITS standard. [astropy.io.fits.verify]\n",
      "WARNING: VerifyWarning:     Card 73: [astropy.io.fits.verify]\n",
      "WARNING: VerifyWarning:         Card 'CSYSER1' is not FITS standard (invalid value string: 'nan').  Fixed 'CSYSER1' card to meet the FITS standard. [astropy.io.fits.verify]\n",
      "WARNING: VerifyWarning:     Card 74: [astropy.io.fits.verify]\n",
      "WARNING: VerifyWarning:         Card 'CSYSER2' is not FITS standard (invalid value string: 'nan').  Fixed 'CSYSER2' card to meet the FITS standard. [astropy.io.fits.verify]\n",
      "WARNING: VerifyWarning: Note: astropy.io.fits uses zero-based indexing.\n",
      " [astropy.io.fits.verify]\n"
     ]
    }
   ],
   "source": [
    "# Apply mask\n",
    "header, data = extract_fits_data(140)\n",
    "sun_map = Map((data, header))\n",
    "data[mask] = 100000\n",
    "# plot data to check background removal\n",
    "#%matplotlib qt5\n",
    "#plt.figure()\n",
    "#plt.imshow(data)\n",
    "#plt.figure()\n",
    "#plt.imshow(extract_fits_data(14))\n",
    "#plt.show()"
   ]
  },
  {
   "cell_type": "code",
   "execution_count": 7,
   "metadata": {
    "collapsed": false
   },
   "outputs": [
    {
     "data": {
      "text/plain": [
       "datetime.datetime(2012, 1, 30, 14, 15, 26)"
      ]
     },
     "execution_count": 7,
     "metadata": {},
     "output_type": "execute_result"
    }
   ],
   "source": [
    "sun_map.date"
   ]
  },
  {
   "cell_type": "markdown",
   "metadata": {},
   "source": [
    "### 2) Suavizar la imagen aplicando un filtro Gaussiano"
   ]
  },
  {
   "cell_type": "code",
   "execution_count": null,
   "metadata": {
    "collapsed": true
   },
   "outputs": [],
   "source": [
    "# Just blur the image with a gaussian filter\n",
    "blurred = cv2.GaussianBlur(data, (31, 31), 0)"
   ]
  },
  {
   "cell_type": "code",
   "execution_count": null,
   "metadata": {
    "collapsed": false
   },
   "outputs": [],
   "source": [
    "# Plot blurred image\n",
    "%matplotlib inline\n",
    "plt.figure(figsize=(16,9))\n",
    "plt.imshow(blurred)\n",
    "plt.colorbar()\n",
    "plt.show()"
   ]
  },
  {
   "cell_type": "markdown",
   "metadata": {},
   "source": [
    "Al parecer usar 31 en el filtro Gaussiano da buenos resultados con esta imagen que tiene algunas manchas MUY pequeñas, de tal forma que puedo descartar todas las cosas que sean más brillantes a 4.5e4 (45000), detectando así solo las dos manchas grandes. Porque no puedo garantizar que las manchas pequeñas siempre sean visibles."
   ]
  },
  {
   "cell_type": "markdown",
   "metadata": {},
   "source": [
    "### 3) \"Binarizando\" con umbral"
   ]
  },
  {
   "cell_type": "code",
   "execution_count": null,
   "metadata": {
    "collapsed": true
   },
   "outputs": [],
   "source": [
    "thresh = cv2.threshold(blurred, 28000, 74078, cv2.THRESH_BINARY)[1]"
   ]
  },
  {
   "cell_type": "code",
   "execution_count": null,
   "metadata": {
    "collapsed": false
   },
   "outputs": [],
   "source": [
    "# Plot binary image\n",
    "%matplotlib inline\n",
    "plt.figure(figsize=(16,9))\n",
    "plt.imshow(thresh)\n",
    "plt.colorbar()\n",
    "plt.show()"
   ]
  },
  {
   "cell_type": "code",
   "execution_count": null,
   "metadata": {
    "collapsed": true
   },
   "outputs": [],
   "source": [
    "# Removing small \"blobs\" with erode and dilate\n",
    "thresh = cv2.erode(thresh, None, iterations=2)\n",
    "thresh = cv2.dilate(thresh, None, iterations=2)"
   ]
  },
  {
   "cell_type": "markdown",
   "metadata": {},
   "source": [
    "### 4) Labeling the spots\n",
    "Using https://en.wikipedia.org/wiki/Connected-component_labeling"
   ]
  },
  {
   "cell_type": "code",
   "execution_count": null,
   "metadata": {
    "collapsed": true
   },
   "outputs": [],
   "source": [
    "labels = measure.label(thresh, neighbors=8, background=74078)\n",
    "mask = np.zeros(thresh.shape, dtype=\"uint8\")\n",
    "# loop over the unique components\n",
    "for label in np.unique(labels):\n",
    "    # if this is the background label, ignore it\n",
    "    if label == 0:\n",
    "        continue\n",
    " \n",
    "    # otherwise, construct the label mask and count the\n",
    "    # number of pixels \n",
    "    labelMask = np.zeros(thresh.shape, dtype=\"uint8\")\n",
    "    labelMask[labels == label] = 255\n",
    "    numPixels = cv2.countNonZero(labelMask)\n",
    " \n",
    "    # if the number of pixels in the component is sufficiently\n",
    "    # large, then add it to our mask of \"large blobs\"\n",
    "    if numPixels > 30:\n",
    "        mask = cv2.add(mask, labelMask)"
   ]
  },
  {
   "cell_type": "code",
   "execution_count": null,
   "metadata": {
    "collapsed": false
   },
   "outputs": [],
   "source": [
    "# Plot the resulting mask\n",
    "# Plot binary image\n",
    "%matplotlib inline\n",
    "plt.figure(figsize=(16,9))\n",
    "plt.imshow(mask)\n",
    "plt.colorbar()\n",
    "plt.show()"
   ]
  },
  {
   "cell_type": "code",
   "execution_count": null,
   "metadata": {
    "collapsed": false
   },
   "outputs": [],
   "source": [
    "image = data.astype(\"uint8\")\n",
    "# find the contours in the mask, then sort them from left to right\n",
    "cnts = cv2.findContours(mask.copy(), cv2.RETR_EXTERNAL, cv2.CHAIN_APPROX_SIMPLE)\n",
    "cnts = cnts[0] if imutils.is_cv2() else cnts[1]\n",
    "cnts = contours.sort_contours(cnts)[0]\n",
    "#cv2.namedWindow(\"Image\", cv2.WINDOW_NORMAL or cv2.WINDOW_AUTOSIZE)  # To show window that's larger than screen \n",
    "# loop over the contours\n",
    "centros_de_masa = []\n",
    "for (i, c) in enumerate(cnts):\n",
    "    # draw the bright spot on the image\n",
    "    (x, y, w, h) = cv2.boundingRect(c)\n",
    "    ((cX, cY), radius) = cv2.minEnclosingCircle(c)\n",
    "    print(cX,cY)\n",
    "    centros_de_masa.append([cX, cY])\n",
    "    cv2.circle(image, (int(cX), int(cY)), int(radius), (0, 0, 255), 3)\n",
    "    cv2.putText(image, \"#{}\".format(i + 1), (x, y - 15), cv2.FONT_HERSHEY_SIMPLEX, 0.45, (0, 0, 255), 2)\n",
    "\n",
    "# show the output image\n",
    "#cv2.imshow(\"Image\",image)\n",
    "#cv2.waitKey(0)"
   ]
  },
  {
   "cell_type": "code",
   "execution_count": null,
   "metadata": {
    "collapsed": false
   },
   "outputs": [],
   "source": [
    "centros_de_masa"
   ]
  },
  {
   "cell_type": "markdown",
   "metadata": {
    "collapsed": true
   },
   "source": [
    "### 5) Obteniendo centros de masa\n",
    "De lo anterior se obtienen centros en pixeles, ahora tengo que pasar estos centros a centros de masa en coordenadas de sunpy (arcsec)."
   ]
  },
  {
   "cell_type": "code",
   "execution_count": null,
   "metadata": {
    "collapsed": false
   },
   "outputs": [],
   "source": [
    "# hago mapa de SunPy\n",
    "sun_map = Map((data, header))"
   ]
  },
  {
   "cell_type": "code",
   "execution_count": null,
   "metadata": {
    "collapsed": false
   },
   "outputs": [],
   "source": [
    "for i in centros_de_masa:\n",
    "    print(sun_map.pixel_to_data(i[0]*u.pix, i[1]*u.pix))"
   ]
  },
  {
   "cell_type": "code",
   "execution_count": null,
   "metadata": {
    "collapsed": false
   },
   "outputs": [],
   "source": [
    "sun_map.pixel_to_data(3394.5*u.pix, 1329.5*u.pix)"
   ]
  },
  {
   "cell_type": "code",
   "execution_count": null,
   "metadata": {
    "collapsed": true
   },
   "outputs": [],
   "source": [
    "A = skimage.util.invert(data)"
   ]
  },
  {
   "cell_type": "code",
   "execution_count": null,
   "metadata": {
    "collapsed": true
   },
   "outputs": [],
   "source": [
    "m.data = blurred"
   ]
  },
  {
   "cell_type": "code",
   "execution_count": null,
   "metadata": {
    "collapsed": true
   },
   "outputs": [],
   "source": [
    "np.max(np.nan_to_num(data))"
   ]
  },
  {
   "cell_type": "code",
   "execution_count": null,
   "metadata": {
    "collapsed": true
   },
   "outputs": [],
   "source": [
    "thresh"
   ]
  },
  {
   "cell_type": "markdown",
   "metadata": {
    "collapsed": true
   },
   "source": [
    "# Aplicando a todo el set\n",
    "## Algoritmo:\n",
    "En términos generales el algoritmo es como sigue:\n",
    "\n",
    "1) Remover background/borde oscuro (aplicar máscara)\n",
    "\n",
    "2) Suavizar la imagen aplicando un filtro Gaussiano\n",
    "\n",
    "3) \"Binarizando\" con umbral\n",
    "\n",
    "4) Labeling the spots\n",
    "\n",
    "5) Obteniendo centros de masa (en unidades arcsec)"
   ]
  },
  {
   "cell_type": "code",
   "execution_count": null,
   "metadata": {
    "collapsed": true
   },
   "outputs": [],
   "source": [
    "def plot_data(data, title):\n",
    "    %matplotlib inline\n",
    "    plt.figure(figsize=(16,9))\n",
    "    plt.title(title)\n",
    "    plt.imshow(data)\n",
    "    plt.colorbar()\n",
    "    plt.show()"
   ]
  },
  {
   "cell_type": "code",
   "execution_count": 66,
   "metadata": {
    "collapsed": false,
    "scrolled": true
   },
   "outputs": [
    {
     "name": "stderr",
     "output_type": "stream",
     "text": [
      "WARNING: VerifyWarning: Verification reported errors: [astropy.io.fits.verify]\n",
      "WARNING: VerifyWarning: HDU 1: [astropy.io.fits.verify]\n",
      "WARNING: VerifyWarning:     Card 41: [astropy.io.fits.verify]\n",
      "WARNING: VerifyWarning:         Card 'SOURCE' is not FITS standard (invalid value string: \"'hmi.lev1[:#32940845,#32940842,#32940813,#32940885,#32940909,#32940933\").  Fixed 'SOURCE' card to meet the FITS standard. [astropy.io.fits.verify]\n",
      "WARNING: VerifyWarning:     Card 71: [astropy.io.fits.verify]\n",
      "WARNING: VerifyWarning:         Card 'CRDER1' is not FITS standard (invalid value string: 'nan').  Fixed 'CRDER1' card to meet the FITS standard. [astropy.io.fits.verify]\n",
      "WARNING: VerifyWarning:     Card 72: [astropy.io.fits.verify]\n",
      "WARNING: VerifyWarning:         Card 'CRDER2' is not FITS standard (invalid value string: 'nan').  Fixed 'CRDER2' card to meet the FITS standard. [astropy.io.fits.verify]\n",
      "WARNING: VerifyWarning:     Card 73: [astropy.io.fits.verify]\n",
      "WARNING: VerifyWarning:         Card 'CSYSER1' is not FITS standard (invalid value string: 'nan').  Fixed 'CSYSER1' card to meet the FITS standard. [astropy.io.fits.verify]\n",
      "WARNING: VerifyWarning:     Card 74: [astropy.io.fits.verify]\n",
      "WARNING: VerifyWarning:         Card 'CSYSER2' is not FITS standard (invalid value string: 'nan').  Fixed 'CSYSER2' card to meet the FITS standard. [astropy.io.fits.verify]\n",
      "WARNING: VerifyWarning: Note: astropy.io.fits uses zero-based indexing.\n",
      " [astropy.io.fits.verify]\n"
     ]
    },
    {
     "name": "stdout",
     "output_type": "stream",
     "text": [
      "Detected  2  spots.\n"
     ]
    },
    {
     "name": "stderr",
     "output_type": "stream",
     "text": [
      "WARNING: VerifyWarning:         Card 'SOURCE' is not FITS standard (invalid value string: \"'hmi.lev1[:#32941341,#32941317,#32941293,#32941365,#32941389,#32941413\").  Fixed 'SOURCE' card to meet the FITS standard. [astropy.io.fits.verify]\n"
     ]
    },
    {
     "name": "stdout",
     "output_type": "stream",
     "text": [
      "Detected  2  spots.\n"
     ]
    },
    {
     "name": "stderr",
     "output_type": "stream",
     "text": [
      "WARNING: VerifyWarning:         Card 'SOURCE' is not FITS standard (invalid value string: \"'hmi.lev1[:#32941821,#32941797,#32941773,#32941845,#32941869,#32941893\").  Fixed 'SOURCE' card to meet the FITS standard. [astropy.io.fits.verify]\n"
     ]
    },
    {
     "name": "stdout",
     "output_type": "stream",
     "text": [
      "Detected  2  spots.\n"
     ]
    },
    {
     "name": "stderr",
     "output_type": "stream",
     "text": [
      "WARNING: VerifyWarning:         Card 'SOURCE' is not FITS standard (invalid value string: \"'hmi.lev1[:#32942301,#32942277,#32942253,#32942325,#32942349,#32942373\").  Fixed 'SOURCE' card to meet the FITS standard. [astropy.io.fits.verify]\n"
     ]
    },
    {
     "name": "stdout",
     "output_type": "stream",
     "text": [
      "Detected  2  spots.\n"
     ]
    },
    {
     "name": "stderr",
     "output_type": "stream",
     "text": [
      "WARNING: VerifyWarning:         Card 'SOURCE' is not FITS standard (invalid value string: \"'hmi.lev1[:#32942757,#32942733,#32942709,#32942781,#32942805,#32942829\").  Fixed 'SOURCE' card to meet the FITS standard. [astropy.io.fits.verify]\n"
     ]
    },
    {
     "name": "stdout",
     "output_type": "stream",
     "text": [
      "Detected  2  spots.\n"
     ]
    },
    {
     "name": "stderr",
     "output_type": "stream",
     "text": [
      "WARNING: VerifyWarning:         Card 'SOURCE' is not FITS standard (invalid value string: \"'hmi.lev1[:#32942781,#32942757,#32942733,#32942805,#32942829,#32942853\").  Fixed 'SOURCE' card to meet the FITS standard. [astropy.io.fits.verify]\n"
     ]
    },
    {
     "name": "stdout",
     "output_type": "stream",
     "text": [
      "Detected  2  spots.\n"
     ]
    },
    {
     "name": "stderr",
     "output_type": "stream",
     "text": [
      "WARNING: VerifyWarning:         Card 'SOURCE' is not FITS standard (invalid value string: \"'hmi.lev1[:#32943237,#32943213,#32943189,#32943261,#32943285,#32943309\").  Fixed 'SOURCE' card to meet the FITS standard. [astropy.io.fits.verify]\n"
     ]
    },
    {
     "name": "stdout",
     "output_type": "stream",
     "text": [
      "Detected  2  spots.\n"
     ]
    },
    {
     "name": "stderr",
     "output_type": "stream",
     "text": [
      "WARNING: VerifyWarning:         Card 'SOURCE' is not FITS standard (invalid value string: \"'hmi.lev1[:#32943261,#32943237,#32943213,#32943285,#32943309,#32943333\").  Fixed 'SOURCE' card to meet the FITS standard. [astropy.io.fits.verify]\n"
     ]
    },
    {
     "name": "stdout",
     "output_type": "stream",
     "text": [
      "Detected  2  spots.\n"
     ]
    },
    {
     "name": "stderr",
     "output_type": "stream",
     "text": [
      "WARNING: VerifyWarning:         Card 'SOURCE' is not FITS standard (invalid value string: \"'hmi.lev1[:#32943717,#32943693,#32943681,#32943741,#32943777,#32943789\").  Fixed 'SOURCE' card to meet the FITS standard. [astropy.io.fits.verify]\n"
     ]
    },
    {
     "name": "stdout",
     "output_type": "stream",
     "text": [
      "Detected  2  spots.\n"
     ]
    },
    {
     "name": "stderr",
     "output_type": "stream",
     "text": [
      "WARNING: VerifyWarning:         Card 'SOURCE' is not FITS standard (invalid value string: \"'hmi.lev1[:#32943741,#32943717,#32943693,#32943777,#32943789,#32943813\").  Fixed 'SOURCE' card to meet the FITS standard. [astropy.io.fits.verify]\n"
     ]
    },
    {
     "name": "stdout",
     "output_type": "stream",
     "text": [
      "Detected  2  spots.\n"
     ]
    },
    {
     "name": "stderr",
     "output_type": "stream",
     "text": [
      "WARNING: VerifyWarning:         Card 'SOURCE' is not FITS standard (invalid value string: \"'hmi.lev1[:#32944209,#32944173,#32944161,#32944221,#32944257,#32944269\").  Fixed 'SOURCE' card to meet the FITS standard. [astropy.io.fits.verify]\n"
     ]
    },
    {
     "name": "stdout",
     "output_type": "stream",
     "text": [
      "Detected  2  spots.\n"
     ]
    },
    {
     "name": "stderr",
     "output_type": "stream",
     "text": [
      "WARNING: VerifyWarning:         Card 'SOURCE' is not FITS standard (invalid value string: \"'hmi.lev1[:#32944677,#32944653,#32944629,#32944701,#32944737,#32944749\").  Fixed 'SOURCE' card to meet the FITS standard. [astropy.io.fits.verify]\n"
     ]
    },
    {
     "name": "stdout",
     "output_type": "stream",
     "text": [
      "Detected  2  spots.\n"
     ]
    },
    {
     "name": "stderr",
     "output_type": "stream",
     "text": [
      "WARNING: VerifyWarning:         Card 'SOURCE' is not FITS standard (invalid value string: \"'hmi.lev1[:#32945157,#32945133,#32945109,#32945181,#32945217,#32945229\").  Fixed 'SOURCE' card to meet the FITS standard. [astropy.io.fits.verify]\n"
     ]
    },
    {
     "name": "stdout",
     "output_type": "stream",
     "text": [
      "Detected  2  spots.\n"
     ]
    },
    {
     "name": "stderr",
     "output_type": "stream",
     "text": [
      "WARNING: VerifyWarning:         Card 'SOURCE' is not FITS standard (invalid value string: \"'hmi.lev1[:#32945637,#32945613,#32945589,#32945661,#32945685,#32945709\").  Fixed 'SOURCE' card to meet the FITS standard. [astropy.io.fits.verify]\n"
     ]
    },
    {
     "name": "stdout",
     "output_type": "stream",
     "text": [
      "Detected  2  spots.\n"
     ]
    },
    {
     "name": "stderr",
     "output_type": "stream",
     "text": [
      "WARNING: VerifyWarning:         Card 'SOURCE' is not FITS standard (invalid value string: \"'hmi.lev1[:#32946093,#32946069,#32946045,#32946117,#32946141,#32946165\").  Fixed 'SOURCE' card to meet the FITS standard. [astropy.io.fits.verify]\n"
     ]
    },
    {
     "name": "stdout",
     "output_type": "stream",
     "text": [
      "Detected  2  spots.\n"
     ]
    },
    {
     "name": "stderr",
     "output_type": "stream",
     "text": [
      "WARNING: VerifyWarning:         Card 'SOURCE' is not FITS standard (invalid value string: \"'hmi.lev1[:#32946117,#32946093,#32946069,#32946141,#32946165,#32946189\").  Fixed 'SOURCE' card to meet the FITS standard. [astropy.io.fits.verify]\n"
     ]
    },
    {
     "name": "stdout",
     "output_type": "stream",
     "text": [
      "Detected  2  spots.\n"
     ]
    },
    {
     "name": "stderr",
     "output_type": "stream",
     "text": [
      "WARNING: VerifyWarning:         Card 'SOURCE' is not FITS standard (invalid value string: \"'hmi.lev1[:#32946573,#32946549,#32946525,#32946597,#32946633,#32946645\").  Fixed 'SOURCE' card to meet the FITS standard. [astropy.io.fits.verify]\n"
     ]
    },
    {
     "name": "stdout",
     "output_type": "stream",
     "text": [
      "Detected  2  spots.\n"
     ]
    },
    {
     "name": "stderr",
     "output_type": "stream",
     "text": [
      "WARNING: VerifyWarning:         Card 'SOURCE' is not FITS standard (invalid value string: \"'hmi.lev1[:#32946597,#32946573,#32946549,#32946633,#32946645,#32946669\").  Fixed 'SOURCE' card to meet the FITS standard. [astropy.io.fits.verify]\n"
     ]
    },
    {
     "name": "stdout",
     "output_type": "stream",
     "text": [
      "Detected  2  spots.\n"
     ]
    },
    {
     "name": "stderr",
     "output_type": "stream",
     "text": [
      "WARNING: VerifyWarning:         Card 'SOURCE' is not FITS standard (invalid value string: \"'hmi.lev1[:#32947053,#32947029,#32947005,#32947077,#32947101,#32947125\").  Fixed 'SOURCE' card to meet the FITS standard. [astropy.io.fits.verify]\n"
     ]
    },
    {
     "name": "stdout",
     "output_type": "stream",
     "text": [
      "Detected  2  spots.\n"
     ]
    },
    {
     "name": "stderr",
     "output_type": "stream",
     "text": [
      "WARNING: VerifyWarning:         Card 'SOURCE' is not FITS standard (invalid value string: \"'hmi.lev1[:#32947077,#32947053,#32947029,#32947101,#32947125,#32947149\").  Fixed 'SOURCE' card to meet the FITS standard. [astropy.io.fits.verify]\n"
     ]
    },
    {
     "name": "stdout",
     "output_type": "stream",
     "text": [
      "Detected  2  spots.\n"
     ]
    },
    {
     "name": "stderr",
     "output_type": "stream",
     "text": [
      "WARNING: VerifyWarning:         Card 'SOURCE' is not FITS standard (invalid value string: \"'hmi.lev1[:#32947533,#32947509,#32947485,#32947557,#32947581,#32947605\").  Fixed 'SOURCE' card to meet the FITS standard. [astropy.io.fits.verify]\n"
     ]
    },
    {
     "name": "stdout",
     "output_type": "stream",
     "text": [
      "Detected  2  spots.\n"
     ]
    },
    {
     "name": "stderr",
     "output_type": "stream",
     "text": [
      "WARNING: VerifyWarning:         Card 'SOURCE' is not FITS standard (invalid value string: \"'hmi.lev1[:#32948013,#32947977,#32947965,#32948037,#32948061,#32948085\").  Fixed 'SOURCE' card to meet the FITS standard. [astropy.io.fits.verify]\n"
     ]
    },
    {
     "name": "stdout",
     "output_type": "stream",
     "text": [
      "Detected  2  spots.\n"
     ]
    },
    {
     "name": "stderr",
     "output_type": "stream",
     "text": [
      "WARNING: VerifyWarning:         Card 'SOURCE' is not FITS standard (invalid value string: \"'hmi.lev1[:#32948481,#32948469,#32948445,#32948517,#32948541,#32948565\").  Fixed 'SOURCE' card to meet the FITS standard. [astropy.io.fits.verify]\n"
     ]
    },
    {
     "name": "stdout",
     "output_type": "stream",
     "text": [
      "Detected  2  spots.\n"
     ]
    },
    {
     "name": "stderr",
     "output_type": "stream",
     "text": [
      "WARNING: VerifyWarning:         Card 'SOURCE' is not FITS standard (invalid value string: \"'hmi.lev1[:#32948961,#32948949,#32948925,#32948997,#32949021,#32949045\").  Fixed 'SOURCE' card to meet the FITS standard. [astropy.io.fits.verify]\n"
     ]
    },
    {
     "name": "stdout",
     "output_type": "stream",
     "text": [
      "Detected  2  spots.\n"
     ]
    },
    {
     "name": "stderr",
     "output_type": "stream",
     "text": [
      "WARNING: VerifyWarning:         Card 'SOURCE' is not FITS standard (invalid value string: \"'hmi.lev1[:#32949453,#32949429,#32949405,#32949477,#32949501,#32949525\").  Fixed 'SOURCE' card to meet the FITS standard. [astropy.io.fits.verify]\n"
     ]
    },
    {
     "name": "stdout",
     "output_type": "stream",
     "text": [
      "Detected  2  spots.\n"
     ]
    },
    {
     "name": "stderr",
     "output_type": "stream",
     "text": [
      "WARNING: VerifyWarning:         Card 'SOURCE' is not FITS standard (invalid value string: \"'hmi.lev1[:#32949909,#32949885,#32949861,#32949933,#32949957,#32949981\").  Fixed 'SOURCE' card to meet the FITS standard. [astropy.io.fits.verify]\n"
     ]
    },
    {
     "name": "stdout",
     "output_type": "stream",
     "text": [
      "Detected  2  spots.\n"
     ]
    },
    {
     "name": "stderr",
     "output_type": "stream",
     "text": [
      "WARNING: VerifyWarning:         Card 'SOURCE' is not FITS standard (invalid value string: \"'hmi.lev1[:#32949933,#32949909,#32949885,#32949957,#32949981,#32950005\").  Fixed 'SOURCE' card to meet the FITS standard. [astropy.io.fits.verify]\n"
     ]
    },
    {
     "name": "stdout",
     "output_type": "stream",
     "text": [
      "Detected  2  spots.\n"
     ]
    },
    {
     "name": "stderr",
     "output_type": "stream",
     "text": [
      "WARNING: VerifyWarning:         Card 'SOURCE' is not FITS standard (invalid value string: \"'hmi.lev1[:#32950389,#32950365,#32950341,#32950413,#32950437,#32950461\").  Fixed 'SOURCE' card to meet the FITS standard. [astropy.io.fits.verify]\n"
     ]
    },
    {
     "name": "stdout",
     "output_type": "stream",
     "text": [
      "Detected  2  spots.\n"
     ]
    },
    {
     "name": "stderr",
     "output_type": "stream",
     "text": [
      "WARNING: VerifyWarning:         Card 'SOURCE' is not FITS standard (invalid value string: \"'hmi.lev1[:#32950413,#32950389,#32950365,#32950437,#32950461,#32950485\").  Fixed 'SOURCE' card to meet the FITS standard. [astropy.io.fits.verify]\n"
     ]
    },
    {
     "name": "stdout",
     "output_type": "stream",
     "text": [
      "Detected  2  spots.\n"
     ]
    },
    {
     "name": "stderr",
     "output_type": "stream",
     "text": [
      "WARNING: VerifyWarning:         Card 'SOURCE' is not FITS standard (invalid value string: \"'hmi.lev1[:#32950881,#32950845,#32950833,#32950893,#32950917,#32950941\").  Fixed 'SOURCE' card to meet the FITS standard. [astropy.io.fits.verify]\n"
     ]
    },
    {
     "name": "stdout",
     "output_type": "stream",
     "text": [
      "Detected  2  spots.\n"
     ]
    },
    {
     "name": "stderr",
     "output_type": "stream",
     "text": [
      "WARNING: VerifyWarning:         Card 'SOURCE' is not FITS standard (invalid value string: \"'hmi.lev1[:#32950893,#32950881,#32950845,#32950917,#32950941,#32950965\").  Fixed 'SOURCE' card to meet the FITS standard. [astropy.io.fits.verify]\n"
     ]
    },
    {
     "name": "stdout",
     "output_type": "stream",
     "text": [
      "Detected  2  spots.\n"
     ]
    },
    {
     "name": "stderr",
     "output_type": "stream",
     "text": [
      "WARNING: VerifyWarning:         Card 'SOURCE' is not FITS standard (invalid value string: \"'hmi.lev1[:#32951349,#32951337,#32951301,#32951373,#32951397,#32951421\").  Fixed 'SOURCE' card to meet the FITS standard. [astropy.io.fits.verify]\n"
     ]
    },
    {
     "name": "stdout",
     "output_type": "stream",
     "text": [
      "Detected  2  spots.\n"
     ]
    },
    {
     "name": "stderr",
     "output_type": "stream",
     "text": [
      "WARNING: VerifyWarning:         Card 'SOURCE' is not FITS standard (invalid value string: \"'hmi.lev1[:#32951829,#32951805,#32951781,#32951853,#32951877,#32951901\").  Fixed 'SOURCE' card to meet the FITS standard. [astropy.io.fits.verify]\n"
     ]
    },
    {
     "name": "stdout",
     "output_type": "stream",
     "text": [
      "Detected  2  spots.\n"
     ]
    },
    {
     "name": "stderr",
     "output_type": "stream",
     "text": [
      "WARNING: VerifyWarning:         Card 'SOURCE' is not FITS standard (invalid value string: \"'hmi.lev1[:#32952309,#32952285,#32952249,#32952345,#32952357,#32952381\").  Fixed 'SOURCE' card to meet the FITS standard. [astropy.io.fits.verify]\n"
     ]
    },
    {
     "name": "stdout",
     "output_type": "stream",
     "text": [
      "Detected  2  spots.\n"
     ]
    },
    {
     "name": "stderr",
     "output_type": "stream",
     "text": [
      "WARNING: VerifyWarning:         Card 'SOURCE' is not FITS standard (invalid value string: \"'hmi.lev1[:#32952789,#32952765,#32952741,#32952813,#32952837,#32952861\").  Fixed 'SOURCE' card to meet the FITS standard. [astropy.io.fits.verify]\n"
     ]
    },
    {
     "name": "stdout",
     "output_type": "stream",
     "text": [
      "Detected  2  spots.\n"
     ]
    },
    {
     "name": "stderr",
     "output_type": "stream",
     "text": [
      "WARNING: VerifyWarning:         Card 'SOURCE' is not FITS standard (invalid value string: \"'hmi.lev1[:#32953257,#32953245,#32953221,#32953293,#32953317,#32953341\").  Fixed 'SOURCE' card to meet the FITS standard. [astropy.io.fits.verify]\n"
     ]
    },
    {
     "name": "stdout",
     "output_type": "stream",
     "text": [
      "Detected  2  spots.\n"
     ]
    },
    {
     "name": "stderr",
     "output_type": "stream",
     "text": [
      "WARNING: VerifyWarning:         Card 'SOURCE' is not FITS standard (invalid value string: \"'hmi.lev1[:#32953725,#32953701,#32953677,#32953737,#32953773,#32953797\").  Fixed 'SOURCE' card to meet the FITS standard. [astropy.io.fits.verify]\n"
     ]
    },
    {
     "name": "stdout",
     "output_type": "stream",
     "text": [
      "Detected  2  spots.\n"
     ]
    },
    {
     "name": "stderr",
     "output_type": "stream",
     "text": [
      "WARNING: VerifyWarning:         Card 'SOURCE' is not FITS standard (invalid value string: \"'hmi.lev1[:#32953737,#32953725,#32953701,#32953773,#32953797,#32953821\").  Fixed 'SOURCE' card to meet the FITS standard. [astropy.io.fits.verify]\n"
     ]
    },
    {
     "name": "stdout",
     "output_type": "stream",
     "text": [
      "Detected  2  spots.\n"
     ]
    },
    {
     "name": "stderr",
     "output_type": "stream",
     "text": [
      "WARNING: VerifyWarning:         Card 'SOURCE' is not FITS standard (invalid value string: \"'hmi.lev1[:#32954205,#32954181,#32954157,#32954229,#32954253,#32954277\").  Fixed 'SOURCE' card to meet the FITS standard. [astropy.io.fits.verify]\n"
     ]
    },
    {
     "name": "stdout",
     "output_type": "stream",
     "text": [
      "Detected  2  spots.\n"
     ]
    },
    {
     "name": "stderr",
     "output_type": "stream",
     "text": [
      "WARNING: VerifyWarning:         Card 'SOURCE' is not FITS standard (invalid value string: \"'hmi.lev1[:#32954229,#32954205,#32954181,#32954253,#32954277,#32954301\").  Fixed 'SOURCE' card to meet the FITS standard. [astropy.io.fits.verify]\n"
     ]
    },
    {
     "name": "stdout",
     "output_type": "stream",
     "text": [
      "Detected  2  spots.\n"
     ]
    },
    {
     "name": "stderr",
     "output_type": "stream",
     "text": [
      "WARNING: VerifyWarning:         Card 'SOURCE' is not FITS standard (invalid value string: \"'hmi.lev1[:#32954685,#32954649,#32954637,#32954709,#32954733,#32954757\").  Fixed 'SOURCE' card to meet the FITS standard. [astropy.io.fits.verify]\n"
     ]
    },
    {
     "name": "stdout",
     "output_type": "stream",
     "text": [
      "Detected  2  spots.\n"
     ]
    },
    {
     "name": "stderr",
     "output_type": "stream",
     "text": [
      "WARNING: VerifyWarning:         Card 'SOURCE' is not FITS standard (invalid value string: \"'hmi.lev1[:#32954709,#32954685,#32954649,#32954733,#32954757,#32954781\").  Fixed 'SOURCE' card to meet the FITS standard. [astropy.io.fits.verify]\n"
     ]
    },
    {
     "name": "stdout",
     "output_type": "stream",
     "text": [
      "Detected  2  spots.\n"
     ]
    },
    {
     "name": "stderr",
     "output_type": "stream",
     "text": [
      "WARNING: VerifyWarning:         Card 'SOURCE' is not FITS standard (invalid value string: \"'hmi.lev1[:#32955165,#32955129,#32955141,#32955189,#32955213,#32955237\").  Fixed 'SOURCE' card to meet the FITS standard. [astropy.io.fits.verify]\n"
     ]
    },
    {
     "name": "stdout",
     "output_type": "stream",
     "text": [
      "Detected  2  spots.\n"
     ]
    },
    {
     "name": "stderr",
     "output_type": "stream",
     "text": [
      "WARNING: VerifyWarning:         Card 'SOURCE' is not FITS standard (invalid value string: \"'hmi.lev1[:#32955645,#32955621,#32955609,#32955669,#32955693,#32955717\").  Fixed 'SOURCE' card to meet the FITS standard. [astropy.io.fits.verify]\n"
     ]
    },
    {
     "name": "stdout",
     "output_type": "stream",
     "text": [
      "Detected  2  spots.\n"
     ]
    },
    {
     "name": "stderr",
     "output_type": "stream",
     "text": [
      "WARNING: VerifyWarning:         Card 'SOURCE' is not FITS standard (invalid value string: \"'hmi.lev1[:#32956125,#32956101,#32956065,#32956149,#32956173,#32956197\").  Fixed 'SOURCE' card to meet the FITS standard. [astropy.io.fits.verify]\n"
     ]
    },
    {
     "name": "stdout",
     "output_type": "stream",
     "text": [
      "Detected  2  spots.\n"
     ]
    },
    {
     "name": "stderr",
     "output_type": "stream",
     "text": [
      "WARNING: VerifyWarning:         Card 'SOURCE' is not FITS standard (invalid value string: \"'hmi.lev1[:#32956617,#32956581,#32956557,#32956629,#32956665,#32956677\").  Fixed 'SOURCE' card to meet the FITS standard. [astropy.io.fits.verify]\n"
     ]
    },
    {
     "name": "stdout",
     "output_type": "stream",
     "text": [
      "Detected  2  spots.\n"
     ]
    },
    {
     "name": "stderr",
     "output_type": "stream",
     "text": [
      "WARNING: VerifyWarning:         Card 'SOURCE' is not FITS standard (invalid value string: \"'hmi.lev1[:#32957085,#32957061,#32957037,#32957109,#32957121,#32957157\").  Fixed 'SOURCE' card to meet the FITS standard. [astropy.io.fits.verify]\n"
     ]
    },
    {
     "name": "stdout",
     "output_type": "stream",
     "text": [
      "Detected  2  spots.\n"
     ]
    },
    {
     "name": "stderr",
     "output_type": "stream",
     "text": [
      "WARNING: VerifyWarning:         Card 'SOURCE' is not FITS standard (invalid value string: \"'hmi.lev1[:#32957541,#32957517,#32957493,#32957565,#32957577,#32957613\").  Fixed 'SOURCE' card to meet the FITS standard. [astropy.io.fits.verify]\n"
     ]
    },
    {
     "name": "stdout",
     "output_type": "stream",
     "text": [
      "Detected  2  spots.\n"
     ]
    },
    {
     "name": "stderr",
     "output_type": "stream",
     "text": [
      "WARNING: VerifyWarning:         Card 'SOURCE' is not FITS standard (invalid value string: \"'hmi.lev1[:#32957565,#32957541,#32957517,#32957577,#32957613,#32957637\").  Fixed 'SOURCE' card to meet the FITS standard. [astropy.io.fits.verify]\n"
     ]
    },
    {
     "name": "stdout",
     "output_type": "stream",
     "text": [
      "Detected  2  spots.\n"
     ]
    },
    {
     "name": "stderr",
     "output_type": "stream",
     "text": [
      "WARNING: VerifyWarning:         Card 'SOURCE' is not FITS standard (invalid value string: \"'hmi.lev1[:#32958021,#32957997,#32957973,#32958045,#32958069,#32958093\").  Fixed 'SOURCE' card to meet the FITS standard. [astropy.io.fits.verify]\n"
     ]
    },
    {
     "name": "stdout",
     "output_type": "stream",
     "text": [
      "Detected  2  spots.\n"
     ]
    },
    {
     "name": "stderr",
     "output_type": "stream",
     "text": [
      "WARNING: VerifyWarning:         Card 'SOURCE' is not FITS standard (invalid value string: \"'hmi.lev1[:#32958045,#32958021,#32957997,#32958069,#32958093,#32958117\").  Fixed 'SOURCE' card to meet the FITS standard. [astropy.io.fits.verify]\n"
     ]
    },
    {
     "name": "stdout",
     "output_type": "stream",
     "text": [
      "Detected  2  spots.\n"
     ]
    },
    {
     "name": "stderr",
     "output_type": "stream",
     "text": [
      "WARNING: VerifyWarning:         Card 'SOURCE' is not FITS standard (invalid value string: \"'hmi.lev1[:#32958501,#32958477,#32958453,#32958525,#32958549,#32958573\").  Fixed 'SOURCE' card to meet the FITS standard. [astropy.io.fits.verify]\n"
     ]
    },
    {
     "name": "stdout",
     "output_type": "stream",
     "text": [
      "Detected  2  spots.\n"
     ]
    },
    {
     "name": "stderr",
     "output_type": "stream",
     "text": [
      "WARNING: VerifyWarning:         Card 'SOURCE' is not FITS standard (invalid value string: \"'hmi.lev1[:#32958525,#32958501,#32958477,#32958549,#32958573,#32958597\").  Fixed 'SOURCE' card to meet the FITS standard. [astropy.io.fits.verify]\n"
     ]
    },
    {
     "name": "stdout",
     "output_type": "stream",
     "text": [
      "Detected  2  spots.\n"
     ]
    },
    {
     "name": "stderr",
     "output_type": "stream",
     "text": [
      "WARNING: VerifyWarning:         Card 'SOURCE' is not FITS standard (invalid value string: \"'hmi.lev1[:#32958981,#32958957,#32958933,#32959005,#32959029,#32959053\").  Fixed 'SOURCE' card to meet the FITS standard. [astropy.io.fits.verify]\n"
     ]
    },
    {
     "name": "stdout",
     "output_type": "stream",
     "text": [
      "Detected  2  spots.\n"
     ]
    },
    {
     "name": "stderr",
     "output_type": "stream",
     "text": [
      "WARNING: VerifyWarning:         Card 'SOURCE' is not FITS standard (invalid value string: \"'hmi.lev1[:#32959461,#32959437,#32959413,#32959485,#32959509,#32959533\").  Fixed 'SOURCE' card to meet the FITS standard. [astropy.io.fits.verify]\n"
     ]
    },
    {
     "name": "stdout",
     "output_type": "stream",
     "text": [
      "Detected  2  spots.\n"
     ]
    },
    {
     "name": "stderr",
     "output_type": "stream",
     "text": [
      "WARNING: VerifyWarning:         Card 'SOURCE' is not FITS standard (invalid value string: \"'hmi.lev1[:#32959941,#32959917,#32959893,#32959965,#32959989,#32960013\").  Fixed 'SOURCE' card to meet the FITS standard. [astropy.io.fits.verify]\n"
     ]
    },
    {
     "name": "stdout",
     "output_type": "stream",
     "text": [
      "Detected  2  spots.\n"
     ]
    },
    {
     "name": "stderr",
     "output_type": "stream",
     "text": [
      "WARNING: VerifyWarning:         Card 'SOURCE' is not FITS standard (invalid value string: \"'hmi.lev1[:#32960421,#32960397,#32960373,#32960445,#32960469,#32960493\").  Fixed 'SOURCE' card to meet the FITS standard. [astropy.io.fits.verify]\n"
     ]
    },
    {
     "name": "stdout",
     "output_type": "stream",
     "text": [
      "Detected  2  spots.\n"
     ]
    },
    {
     "name": "stderr",
     "output_type": "stream",
     "text": [
      "WARNING: VerifyWarning:         Card 'SOURCE' is not FITS standard (invalid value string: \"'hmi.lev1[:#32960901,#32960877,#32960853,#32960925,#32960949,#32960962\").  Fixed 'SOURCE' card to meet the FITS standard. [astropy.io.fits.verify]\n"
     ]
    },
    {
     "name": "stdout",
     "output_type": "stream",
     "text": [
      "Detected  2  spots.\n"
     ]
    },
    {
     "name": "stderr",
     "output_type": "stream",
     "text": [
      "WARNING: VerifyWarning:         Card 'SOURCE' is not FITS standard (invalid value string: \"'hmi.lev1[:#32961369,#32961333,#32961309,#32961381,#32961405,#32961429\").  Fixed 'SOURCE' card to meet the FITS standard. [astropy.io.fits.verify]\n"
     ]
    },
    {
     "name": "stdout",
     "output_type": "stream",
     "text": [
      "Detected  2  spots.\n"
     ]
    },
    {
     "name": "stderr",
     "output_type": "stream",
     "text": [
      "WARNING: VerifyWarning:         Card 'SOURCE' is not FITS standard (invalid value string: \"'hmi.lev1[:#32961381,#32961369,#32961333,#32961405,#32961429,#32961453\").  Fixed 'SOURCE' card to meet the FITS standard. [astropy.io.fits.verify]\n"
     ]
    },
    {
     "name": "stdout",
     "output_type": "stream",
     "text": [
      "Detected  2  spots.\n"
     ]
    },
    {
     "name": "stderr",
     "output_type": "stream",
     "text": [
      "WARNING: VerifyWarning:         Card 'SOURCE' is not FITS standard (invalid value string: \"'hmi.lev1[:#32961837,#32961813,#32961789,#32961861,#32961885,#32961909\").  Fixed 'SOURCE' card to meet the FITS standard. [astropy.io.fits.verify]\n"
     ]
    },
    {
     "name": "stdout",
     "output_type": "stream",
     "text": [
      "Detected  2  spots.\n"
     ]
    },
    {
     "name": "stderr",
     "output_type": "stream",
     "text": [
      "WARNING: VerifyWarning:         Card 'SOURCE' is not FITS standard (invalid value string: \"'hmi.lev1[:#32961861,#32961837,#32961813,#32961885,#32961909,#32961933\").  Fixed 'SOURCE' card to meet the FITS standard. [astropy.io.fits.verify]\n"
     ]
    },
    {
     "name": "stdout",
     "output_type": "stream",
     "text": [
      "Detected  2  spots.\n"
     ]
    },
    {
     "name": "stderr",
     "output_type": "stream",
     "text": [
      "WARNING: VerifyWarning:         Card 'SOURCE' is not FITS standard (invalid value string: \"'hmi.lev1[:#32962317,#32962293,#32962269,#32962341,#32962365,#32962389\").  Fixed 'SOURCE' card to meet the FITS standard. [astropy.io.fits.verify]\n"
     ]
    },
    {
     "name": "stdout",
     "output_type": "stream",
     "text": [
      "Detected  2  spots.\n"
     ]
    },
    {
     "name": "stderr",
     "output_type": "stream",
     "text": [
      "WARNING: VerifyWarning:         Card 'SOURCE' is not FITS standard (invalid value string: \"'hmi.lev1[:#32962341,#32962317,#32962293,#32962365,#32962389,#32962413\").  Fixed 'SOURCE' card to meet the FITS standard. [astropy.io.fits.verify]\n"
     ]
    },
    {
     "name": "stdout",
     "output_type": "stream",
     "text": [
      "Detected  2  spots.\n"
     ]
    },
    {
     "name": "stderr",
     "output_type": "stream",
     "text": [
      "WARNING: VerifyWarning:         Card 'SOURCE' is not FITS standard (invalid value string: \"'hmi.lev1[:#32962797,#32962773,#32962749,#32962821,#32962845,#32962869\").  Fixed 'SOURCE' card to meet the FITS standard. [astropy.io.fits.verify]\n"
     ]
    },
    {
     "name": "stdout",
     "output_type": "stream",
     "text": [
      "Detected  2  spots.\n"
     ]
    },
    {
     "name": "stderr",
     "output_type": "stream",
     "text": [
      "WARNING: VerifyWarning:         Card 'SOURCE' is not FITS standard (invalid value string: \"'hmi.lev1[:#32963277,#32963253,#32963229,#32963301,#32963325,#32963349\").  Fixed 'SOURCE' card to meet the FITS standard. [astropy.io.fits.verify]\n"
     ]
    },
    {
     "name": "stdout",
     "output_type": "stream",
     "text": [
      "Detected  2  spots.\n"
     ]
    },
    {
     "name": "stderr",
     "output_type": "stream",
     "text": [
      "WARNING: VerifyWarning:         Card 'SOURCE' is not FITS standard (invalid value string: \"'hmi.lev1[:#32963757,#32963733,#32963709,#32963781,#32963805,#32963829\").  Fixed 'SOURCE' card to meet the FITS standard. [astropy.io.fits.verify]\n"
     ]
    },
    {
     "name": "stdout",
     "output_type": "stream",
     "text": [
      "Detected  2  spots.\n"
     ]
    },
    {
     "name": "stderr",
     "output_type": "stream",
     "text": [
      "WARNING: VerifyWarning:         Card 'SOURCE' is not FITS standard (invalid value string: \"'hmi.lev1[:#32964237,#32964213,#32964189,#32964261,#32964285,#32964309\").  Fixed 'SOURCE' card to meet the FITS standard. [astropy.io.fits.verify]\n"
     ]
    },
    {
     "name": "stdout",
     "output_type": "stream",
     "text": [
      "Detected  2  spots.\n"
     ]
    },
    {
     "name": "stderr",
     "output_type": "stream",
     "text": [
      "WARNING"
     ]
    },
    {
     "name": "stdout",
     "output_type": "stream",
     "text": [
      "Detected  2  spots.\n"
     ]
    },
    {
     "name": "stderr",
     "output_type": "stream",
     "text": [
      ": VerifyWarning:         Card 'SOURCE' is not FITS standard (invalid value string: \"'hmi.lev1[:#32964717,#32964705,#32964669,#32964753,#32964765,#32964789\").  Fixed 'SOURCE' card to meet the FITS standard. [astropy.io.fits.verify]\n",
      "WARNING: VerifyWarning:         Card 'SOURCE' is not FITS standard (invalid value string: \"'hmi.lev1[:#32965173,#32965149,#32965125,#32965197,#32965221,#32965245\").  Fixed 'SOURCE' card to meet the FITS standard. [astropy.io.fits.verify]\n"
     ]
    },
    {
     "name": "stdout",
     "output_type": "stream",
     "text": [
      "Detected  2  spots.\n"
     ]
    },
    {
     "ename": "FileNotFoundError",
     "evalue": "[Errno 2] No such file or directory: '/home/ivan/projects/Physics/solar/solar-physics-ex/rotation/data/set1/hmi_ic_45s_2012_01_29_12_42_00_tai_continuum.fits.0.fits'",
     "output_type": "error",
     "traceback": [
      "\u001b[0;31m---------------------------------------------------------------------------\u001b[0m",
      "\u001b[0;31mFileNotFoundError\u001b[0m                         Traceback (most recent call last)",
      "\u001b[0;32m<ipython-input-66-cb7af737e8b2>\u001b[0m in \u001b[0;36m<module>\u001b[0;34m()\u001b[0m\n\u001b[1;32m     10\u001b[0m \u001b[0;32mfor\u001b[0m \u001b[0mimag_idx\u001b[0m \u001b[0;32min\u001b[0m \u001b[0mrange\u001b[0m\u001b[0;34m(\u001b[0m\u001b[0mlen\u001b[0m\u001b[0;34m(\u001b[0m\u001b[0mfits_files\u001b[0m\u001b[0;34m)\u001b[0m\u001b[0;34m)\u001b[0m\u001b[0;34m:\u001b[0m\u001b[0;34m\u001b[0m\u001b[0m\n\u001b[1;32m     11\u001b[0m     \u001b[0;31m# 0) Extract header and data and make map\u001b[0m\u001b[0;34m\u001b[0m\u001b[0;34m\u001b[0m\u001b[0m\n\u001b[0;32m---> 12\u001b[0;31m     \u001b[0mheader\u001b[0m\u001b[0;34m,\u001b[0m \u001b[0mdata\u001b[0m \u001b[0;34m=\u001b[0m \u001b[0mextract_fits_data\u001b[0m\u001b[0;34m(\u001b[0m\u001b[0mimag_idx\u001b[0m\u001b[0;34m)\u001b[0m\u001b[0;34m\u001b[0m\u001b[0m\n\u001b[0m\u001b[1;32m     13\u001b[0m     \u001b[0msun_map\u001b[0m \u001b[0;34m=\u001b[0m \u001b[0mMap\u001b[0m\u001b[0;34m(\u001b[0m\u001b[0;34m(\u001b[0m\u001b[0mdata\u001b[0m\u001b[0;34m,\u001b[0m \u001b[0mheader\u001b[0m\u001b[0;34m)\u001b[0m\u001b[0;34m)\u001b[0m\u001b[0;34m\u001b[0m\u001b[0m\n\u001b[1;32m     14\u001b[0m \u001b[0;34m\u001b[0m\u001b[0m\n",
      "\u001b[0;32m<ipython-input-5-26ca6d5bd128>\u001b[0m in \u001b[0;36mextract_fits_data\u001b[0;34m(index)\u001b[0m\n\u001b[1;32m      5\u001b[0m     \u001b[0mFunction\u001b[0m \u001b[0mto\u001b[0m \u001b[0mextract\u001b[0m \u001b[0mdata\u001b[0m \u001b[0;32mfrom\u001b[0m \u001b[0mfitsfile\u001b[0m \u001b[0mgiven\u001b[0m \u001b[0mjust\u001b[0m \u001b[0man\u001b[0m \u001b[0mindex\u001b[0m\u001b[0;34m\u001b[0m\u001b[0m\n\u001b[1;32m      6\u001b[0m     '''\n\u001b[0;32m----> 7\u001b[0;31m     \u001b[0mfitsfile\u001b[0m \u001b[0;34m=\u001b[0m \u001b[0mfits\u001b[0m\u001b[0;34m.\u001b[0m\u001b[0mopen\u001b[0m\u001b[0;34m(\u001b[0m\u001b[0mbasepath\u001b[0m\u001b[0;34m[\u001b[0m\u001b[0;36m0\u001b[0m\u001b[0;34m]\u001b[0m\u001b[0;34m+\u001b[0m\u001b[0;34m'/'\u001b[0m\u001b[0;34m+\u001b[0m\u001b[0mfits_files\u001b[0m\u001b[0;34m[\u001b[0m\u001b[0mindex\u001b[0m\u001b[0;34m]\u001b[0m\u001b[0;34m)\u001b[0m\u001b[0;34m\u001b[0m\u001b[0m\n\u001b[0m\u001b[1;32m      8\u001b[0m     \u001b[0mfitsfile\u001b[0m\u001b[0;34m.\u001b[0m\u001b[0mverify\u001b[0m\u001b[0;34m(\u001b[0m\u001b[0;34m'fix'\u001b[0m\u001b[0;34m)\u001b[0m\u001b[0;34m\u001b[0m\u001b[0m\n\u001b[1;32m      9\u001b[0m     \u001b[0;32mreturn\u001b[0m \u001b[0mfitsfile\u001b[0m\u001b[0;34m[\u001b[0m\u001b[0;36m1\u001b[0m\u001b[0;34m]\u001b[0m\u001b[0;34m.\u001b[0m\u001b[0mheader\u001b[0m\u001b[0;34m,\u001b[0m \u001b[0mfitsfile\u001b[0m\u001b[0;34m[\u001b[0m\u001b[0;36m1\u001b[0m\u001b[0;34m]\u001b[0m\u001b[0;34m.\u001b[0m\u001b[0mdata\u001b[0m\u001b[0;34m\u001b[0m\u001b[0m\n",
      "\u001b[0;32m/usr/lib/python3.6/site-packages/astropy/io/fits/hdu/hdulist.py\u001b[0m in \u001b[0;36mfitsopen\u001b[0;34m(name, mode, memmap, save_backup, cache, lazy_load_hdus, **kwargs)\u001b[0m\n\u001b[1;32m    164\u001b[0m \u001b[0;34m\u001b[0m\u001b[0m\n\u001b[1;32m    165\u001b[0m     return HDUList.fromfile(name, mode, memmap, save_backup, cache,\n\u001b[0;32m--> 166\u001b[0;31m                             lazy_load_hdus, **kwargs)\n\u001b[0m\u001b[1;32m    167\u001b[0m \u001b[0;34m\u001b[0m\u001b[0m\n\u001b[1;32m    168\u001b[0m \u001b[0;34m\u001b[0m\u001b[0m\n",
      "\u001b[0;32m/usr/lib/python3.6/site-packages/astropy/io/fits/hdu/hdulist.py\u001b[0m in \u001b[0;36mfromfile\u001b[0;34m(cls, fileobj, mode, memmap, save_backup, cache, lazy_load_hdus, **kwargs)\u001b[0m\n\u001b[1;32m    402\u001b[0m         return cls._readfrom(fileobj=fileobj, mode=mode, memmap=memmap,\n\u001b[1;32m    403\u001b[0m                              \u001b[0msave_backup\u001b[0m\u001b[0;34m=\u001b[0m\u001b[0msave_backup\u001b[0m\u001b[0;34m,\u001b[0m \u001b[0mcache\u001b[0m\u001b[0;34m=\u001b[0m\u001b[0mcache\u001b[0m\u001b[0;34m,\u001b[0m\u001b[0;34m\u001b[0m\u001b[0m\n\u001b[0;32m--> 404\u001b[0;31m                              lazy_load_hdus=lazy_load_hdus, **kwargs)\n\u001b[0m\u001b[1;32m    405\u001b[0m \u001b[0;34m\u001b[0m\u001b[0m\n\u001b[1;32m    406\u001b[0m     \u001b[0;34m@\u001b[0m\u001b[0mclassmethod\u001b[0m\u001b[0;34m\u001b[0m\u001b[0m\n",
      "\u001b[0;32m/usr/lib/python3.6/site-packages/astropy/io/fits/hdu/hdulist.py\u001b[0m in \u001b[0;36m_readfrom\u001b[0;34m(cls, fileobj, data, mode, memmap, save_backup, cache, lazy_load_hdus, **kwargs)\u001b[0m\n\u001b[1;32m   1013\u001b[0m             \u001b[0;32mif\u001b[0m \u001b[0;32mnot\u001b[0m \u001b[0misinstance\u001b[0m\u001b[0;34m(\u001b[0m\u001b[0mfileobj\u001b[0m\u001b[0;34m,\u001b[0m \u001b[0m_File\u001b[0m\u001b[0;34m)\u001b[0m\u001b[0;34m:\u001b[0m\u001b[0;34m\u001b[0m\u001b[0m\n\u001b[1;32m   1014\u001b[0m                 \u001b[0;31m# instantiate a FITS file object (ffo)\u001b[0m\u001b[0;34m\u001b[0m\u001b[0;34m\u001b[0m\u001b[0m\n\u001b[0;32m-> 1015\u001b[0;31m                 \u001b[0mfileobj\u001b[0m \u001b[0;34m=\u001b[0m \u001b[0m_File\u001b[0m\u001b[0;34m(\u001b[0m\u001b[0mfileobj\u001b[0m\u001b[0;34m,\u001b[0m \u001b[0mmode\u001b[0m\u001b[0;34m=\u001b[0m\u001b[0mmode\u001b[0m\u001b[0;34m,\u001b[0m \u001b[0mmemmap\u001b[0m\u001b[0;34m=\u001b[0m\u001b[0mmemmap\u001b[0m\u001b[0;34m,\u001b[0m \u001b[0mcache\u001b[0m\u001b[0;34m=\u001b[0m\u001b[0mcache\u001b[0m\u001b[0;34m)\u001b[0m\u001b[0;34m\u001b[0m\u001b[0m\n\u001b[0m\u001b[1;32m   1016\u001b[0m             \u001b[0;31m# The pyfits mode is determined by the _File initializer if the\u001b[0m\u001b[0;34m\u001b[0m\u001b[0;34m\u001b[0m\u001b[0m\n\u001b[1;32m   1017\u001b[0m             \u001b[0;31m# supplied mode was None\u001b[0m\u001b[0;34m\u001b[0m\u001b[0;34m\u001b[0m\u001b[0m\n",
      "\u001b[0;32m/usr/lib/python3.6/site-packages/astropy/utils/decorators.py\u001b[0m in \u001b[0;36mwrapper\u001b[0;34m(*args, **kwargs)\u001b[0m\n\u001b[1;32m    491\u001b[0m                         \u001b[0;31m# one with the name of the new argument to the function\u001b[0m\u001b[0;34m\u001b[0m\u001b[0;34m\u001b[0m\u001b[0m\n\u001b[1;32m    492\u001b[0m                         \u001b[0mkwargs\u001b[0m\u001b[0;34m[\u001b[0m\u001b[0mnew_name\u001b[0m\u001b[0;34m[\u001b[0m\u001b[0mi\u001b[0m\u001b[0;34m]\u001b[0m\u001b[0;34m]\u001b[0m \u001b[0;34m=\u001b[0m \u001b[0mvalue\u001b[0m\u001b[0;34m\u001b[0m\u001b[0m\n\u001b[0;32m--> 493\u001b[0;31m             \u001b[0;32mreturn\u001b[0m \u001b[0mfunction\u001b[0m\u001b[0;34m(\u001b[0m\u001b[0;34m*\u001b[0m\u001b[0margs\u001b[0m\u001b[0;34m,\u001b[0m \u001b[0;34m**\u001b[0m\u001b[0mkwargs\u001b[0m\u001b[0;34m)\u001b[0m\u001b[0;34m\u001b[0m\u001b[0m\n\u001b[0m\u001b[1;32m    494\u001b[0m \u001b[0;34m\u001b[0m\u001b[0m\n\u001b[1;32m    495\u001b[0m         \u001b[0;32mreturn\u001b[0m \u001b[0mwrapper\u001b[0m\u001b[0;34m\u001b[0m\u001b[0m\n",
      "\u001b[0;32m/usr/lib/python3.6/site-packages/astropy/io/fits/file.py\u001b[0m in \u001b[0;36m__init__\u001b[0;34m(self, fileobj, mode, memmap, overwrite, cache)\u001b[0m\n\u001b[1;32m    142\u001b[0m             \u001b[0mself\u001b[0m\u001b[0;34m.\u001b[0m\u001b[0m_open_fileobj\u001b[0m\u001b[0;34m(\u001b[0m\u001b[0mfileobj\u001b[0m\u001b[0;34m,\u001b[0m \u001b[0mmode\u001b[0m\u001b[0;34m,\u001b[0m \u001b[0moverwrite\u001b[0m\u001b[0;34m)\u001b[0m\u001b[0;34m\u001b[0m\u001b[0m\n\u001b[1;32m    143\u001b[0m         \u001b[0;32melif\u001b[0m \u001b[0misinstance\u001b[0m\u001b[0;34m(\u001b[0m\u001b[0mfileobj\u001b[0m\u001b[0;34m,\u001b[0m \u001b[0mstring_types\u001b[0m\u001b[0;34m)\u001b[0m\u001b[0;34m:\u001b[0m\u001b[0;34m\u001b[0m\u001b[0m\n\u001b[0;32m--> 144\u001b[0;31m             \u001b[0mself\u001b[0m\u001b[0;34m.\u001b[0m\u001b[0m_open_filename\u001b[0m\u001b[0;34m(\u001b[0m\u001b[0mfileobj\u001b[0m\u001b[0;34m,\u001b[0m \u001b[0mmode\u001b[0m\u001b[0;34m,\u001b[0m \u001b[0moverwrite\u001b[0m\u001b[0;34m)\u001b[0m\u001b[0;34m\u001b[0m\u001b[0m\n\u001b[0m\u001b[1;32m    145\u001b[0m         \u001b[0;32melse\u001b[0m\u001b[0;34m:\u001b[0m\u001b[0;34m\u001b[0m\u001b[0m\n\u001b[1;32m    146\u001b[0m             \u001b[0mself\u001b[0m\u001b[0;34m.\u001b[0m\u001b[0m_open_filelike\u001b[0m\u001b[0;34m(\u001b[0m\u001b[0mfileobj\u001b[0m\u001b[0;34m,\u001b[0m \u001b[0mmode\u001b[0m\u001b[0;34m,\u001b[0m \u001b[0moverwrite\u001b[0m\u001b[0;34m)\u001b[0m\u001b[0;34m\u001b[0m\u001b[0m\n",
      "\u001b[0;32m/usr/lib/python3.6/site-packages/astropy/io/fits/file.py\u001b[0m in \u001b[0;36m_open_filename\u001b[0;34m(self, filename, mode, overwrite)\u001b[0m\n\u001b[1;32m    497\u001b[0m             \u001b[0mself\u001b[0m\u001b[0;34m.\u001b[0m\u001b[0m_file\u001b[0m \u001b[0;34m=\u001b[0m \u001b[0mbz2\u001b[0m\u001b[0;34m.\u001b[0m\u001b[0mBZ2File\u001b[0m\u001b[0;34m(\u001b[0m\u001b[0mself\u001b[0m\u001b[0;34m.\u001b[0m\u001b[0mname\u001b[0m\u001b[0;34m,\u001b[0m \u001b[0mbzip2_mode\u001b[0m\u001b[0;34m)\u001b[0m\u001b[0;34m\u001b[0m\u001b[0m\n\u001b[1;32m    498\u001b[0m         \u001b[0;32melse\u001b[0m\u001b[0;34m:\u001b[0m\u001b[0;34m\u001b[0m\u001b[0m\n\u001b[0;32m--> 499\u001b[0;31m             \u001b[0mself\u001b[0m\u001b[0;34m.\u001b[0m\u001b[0m_file\u001b[0m \u001b[0;34m=\u001b[0m \u001b[0mfileobj_open\u001b[0m\u001b[0;34m(\u001b[0m\u001b[0mself\u001b[0m\u001b[0;34m.\u001b[0m\u001b[0mname\u001b[0m\u001b[0;34m,\u001b[0m \u001b[0mIO_FITS_MODES\u001b[0m\u001b[0;34m[\u001b[0m\u001b[0mmode\u001b[0m\u001b[0;34m]\u001b[0m\u001b[0;34m)\u001b[0m\u001b[0;34m\u001b[0m\u001b[0m\n\u001b[0m\u001b[1;32m    500\u001b[0m \u001b[0;34m\u001b[0m\u001b[0m\n\u001b[1;32m    501\u001b[0m         \u001b[0;31m# Make certain we're back at the beginning of the file\u001b[0m\u001b[0;34m\u001b[0m\u001b[0;34m\u001b[0m\u001b[0m\n",
      "\u001b[0;32m/usr/lib/python3.6/site-packages/astropy/io/fits/util.py\u001b[0m in \u001b[0;36mfileobj_open\u001b[0;34m(filename, mode)\u001b[0m\n\u001b[1;32m    405\u001b[0m         \"\"\"\n\u001b[1;32m    406\u001b[0m \u001b[0;34m\u001b[0m\u001b[0m\n\u001b[0;32m--> 407\u001b[0;31m         \u001b[0;32mreturn\u001b[0m \u001b[0mopen\u001b[0m\u001b[0;34m(\u001b[0m\u001b[0mfilename\u001b[0m\u001b[0;34m,\u001b[0m \u001b[0mmode\u001b[0m\u001b[0;34m,\u001b[0m \u001b[0mbuffering\u001b[0m\u001b[0;34m=\u001b[0m\u001b[0;36m0\u001b[0m\u001b[0;34m)\u001b[0m\u001b[0;34m\u001b[0m\u001b[0m\n\u001b[0m\u001b[1;32m    408\u001b[0m \u001b[0;34m\u001b[0m\u001b[0m\n\u001b[1;32m    409\u001b[0m \u001b[0;34m\u001b[0m\u001b[0m\n",
      "\u001b[0;31mFileNotFoundError\u001b[0m: [Errno 2] No such file or directory: '/home/ivan/projects/Physics/solar/solar-physics-ex/rotation/data/set1/hmi_ic_45s_2012_01_29_12_42_00_tai_continuum.fits.0.fits'"
     ]
    }
   ],
   "source": [
    "number_of_spot = 1  # Initiliazing variable\n",
    "centros_de_masa = 0 # Initializing variable\n",
    "\n",
    "longitudes = []\n",
    "latitudes = []\n",
    "datetimes = []\n",
    "\n",
    "#for imag_idx in range(1,140):  # For testing purposes\n",
    "#for imag_idx in [1,140]:\n",
    "for imag_idx in range(len(fits_files)):\n",
    "    # 0) Extract header and data and make map\n",
    "    header, data = extract_fits_data(imag_idx)\n",
    "    sun_map = Map((data, header))\n",
    "    \n",
    "    # Prior to applying mask\n",
    "    # Borrar background/contorno negro\n",
    "    ## se hace una máscara circular con centro = (2048, 2048)\n",
    "    centerx, centery = 2048, 2048\n",
    "    r = 1920  # radius\n",
    "    y,x = np.ogrid[-centerx:4096-centerx, -centery:4096-centery]\n",
    "    mask = x*x + y*y > r*r  # circular mask\n",
    "    #array = np.ones((n, n))\n",
    "    #array[mask] = 255\n",
    "        \n",
    "    # 1) Apply mask\n",
    "    data[mask] = 100000\n",
    "    #plot_data(data, \"data masked\") # plot data masked\n",
    "    \n",
    "    # 2) Apply Gaussian filter\n",
    "    blurred = cv2.GaussianBlur(data, (31, 31), 0)\n",
    "    #plot_data(blurred, \"data blurred\") # plot data masked\n",
    "    \n",
    "    # 3) Binarizing\n",
    "    thresh = cv2.threshold(blurred, 29250, 74078, cv2.THRESH_BINARY)[1]\n",
    "    ## Removing small \"blobs\" with erode and dilate\n",
    "    thresh = cv2.erode(thresh, None, iterations=2)\n",
    "    thresh = cv2.dilate(thresh, None, iterations=2)\n",
    "    #plot_data(thresh, \"data binarized\") # plot data masked\n",
    "    \n",
    "    # 4) Labeling and computing center in pixels\n",
    "    labels = measure.label(thresh, neighbors=8, background=74078)\n",
    "    mask = np.zeros(thresh.shape, dtype=\"uint8\")\n",
    "    # loop over the unique components\n",
    "    for label in np.unique(labels):\n",
    "        # if this is the background label, ignore it\n",
    "        if label == 0:\n",
    "            continue\n",
    "\n",
    "        # otherwise, construct the label mask and count the\n",
    "        # number of pixels \n",
    "        labelMask = np.zeros(thresh.shape, dtype=\"uint8\")\n",
    "        labelMask[labels == label] = 255\n",
    "        numPixels = cv2.countNonZero(labelMask)\n",
    "\n",
    "        # if the number of pixels in the component is sufficiently\n",
    "        # large, then add it to our mask of \"large blobs\"\n",
    "        if numPixels > 30:\n",
    "            mask = cv2.add(mask, labelMask)\n",
    "    image = data.astype(\"uint8\")\n",
    "    # find the contours in the mask, then sort them from left to right\n",
    "    cnts = cv2.findContours(mask.copy(), cv2.RETR_EXTERNAL, cv2.CHAIN_APPROX_SIMPLE)\n",
    "    cnts = cnts[0] if imutils.is_cv2() else cnts[1]\n",
    "    cnts = contours.sort_contours(cnts)[0]\n",
    "    #cv2.namedWindow(\"Image\", cv2.WINDOW_NORMAL or cv2.WINDOW_AUTOSIZE)  # To show window that's larger than screen \n",
    "    # loop over the contours\n",
    "    centros_de_masa_old = centros_de_masa\n",
    "    centros_de_masa = []\n",
    "    number_of_spot_old = number_of_spot\n",
    "    for (number_of_spot, c) in enumerate(cnts):\n",
    "        # draw the bright spot on the image\n",
    "        (x, y, w, h) = cv2.boundingRect(c)\n",
    "        ((cX, cY), radius) = cv2.minEnclosingCircle(c)\n",
    "        #print(cX,cY)\n",
    "        centros_de_masa.append([cX, cY])\n",
    "        cv2.circle(image, (int(cX), int(cY)), int(radius), (0, 0, 255), 3)\n",
    "        cv2.putText(image, \"#{}\".format(number_of_spot + 1), (x, y - 15), cv2.FONT_HERSHEY_SIMPLEX, 0.45, (0, 0, 255), 2)\n",
    "    print(\"Detected \", number_of_spot+1, \" spots.\")\n",
    "    if number_of_spot_old != number_of_spot:\n",
    "        print(\"Last index image calculated: \", imag_idx)\n",
    "        raise ValueError(\"Number of spots detected differente from before. Stoping calculation.\")\n",
    "        \n",
    "    # 5) Getting centers of mass in lat,long (arcsecs)\n",
    "    # hago mapa de SunPy\n",
    "    #sun_map = Map((data, header))\n",
    "    longitude_temp = []\n",
    "    latitude_temp = []\n",
    "    for CoM in centros_de_masa:    \n",
    "        longitude, latitude = sun_map.pixel_to_data(CoM[0]*u.pix, CoM[1]*u.pix)\n",
    "        longitude_temp.append(longitude)\n",
    "        latitude_temp.append(latitude)\n",
    "        #print(longitude, latitude)\n",
    "    #print(longitude_temp)\n",
    "    longitudes.append(longitude_temp)\n",
    "    latitudes.append(latitude_temp)\n",
    "    datetimes.append(sun_map.date)\n",
    "    \n",
    "        \n",
    "    # Borrar todas las variables para evitar errores\n",
    "    del(sun_map, header, mask, data, blurred, thresh, image, longitude_temp)"
   ]
  },
  {
   "cell_type": "code",
   "execution_count": null,
   "metadata": {
    "collapsed": false
   },
   "outputs": [],
   "source": [
    "prueba1 = \"algo\"\n",
    "prueba2 = \"algo2\""
   ]
  },
  {
   "cell_type": "code",
   "execution_count": null,
   "metadata": {
    "collapsed": false
   },
   "outputs": [],
   "source": [
    "del(sun_map, header, data, blurred, thresh, image)"
   ]
  },
  {
   "cell_type": "code",
   "execution_count": null,
   "metadata": {
    "collapsed": false
   },
   "outputs": [],
   "source": [
    "sun_map.pixel_to_data(CoM[0]*u.pix, CoM[1]*u.pix)"
   ]
  },
  {
   "cell_type": "code",
   "execution_count": 67,
   "metadata": {
    "collapsed": false,
    "scrolled": true
   },
   "outputs": [
    {
     "name": "stdout",
     "output_type": "stream",
     "text": [
      "2012-01-29 00:15:25.900000  -  2012-01-29 00:00:25.900000  =  0:15:00\n",
      "2012-01-29 00:30:25.900000  -  2012-01-29 00:15:25.900000  =  0:15:00\n",
      "2012-01-29 00:45:25.900000  -  2012-01-29 00:30:25.900000  =  0:15:00\n",
      "2012-01-29 00:59:40.900000  -  2012-01-29 00:45:25.900000  =  0:14:15\n",
      "2012-01-29 01:00:25.900000  -  2012-01-29 00:59:40.900000  =  0:00:45\n",
      "2012-01-29 01:14:40.900000  -  2012-01-29 01:00:25.900000  =  0:14:15\n",
      "2012-01-29 01:15:25.900000  -  2012-01-29 01:14:40.900000  =  0:00:45\n",
      "2012-01-29 01:29:40.900000  -  2012-01-29 01:15:25.900000  =  0:14:15\n",
      "2012-01-29 01:30:25.900000  -  2012-01-29 01:29:40.900000  =  0:00:45\n",
      "2012-01-29 01:44:41  -  2012-01-29 01:30:25.900000  =  0:14:15.100000\n",
      "2012-01-29 01:59:41  -  2012-01-29 01:44:41  =  0:15:00\n",
      "2012-01-29 02:14:41  -  2012-01-29 01:59:41  =  0:15:00\n",
      "2012-01-29 02:29:41  -  2012-01-29 02:14:41  =  0:15:00\n",
      "2012-01-29 02:43:56  -  2012-01-29 02:29:41  =  0:14:15\n",
      "2012-01-29 02:44:41  -  2012-01-29 02:43:56  =  0:00:45\n",
      "2012-01-29 02:58:56  -  2012-01-29 02:44:41  =  0:14:15\n",
      "2012-01-29 02:59:41  -  2012-01-29 02:58:56  =  0:00:45\n",
      "2012-01-29 03:13:56  -  2012-01-29 02:59:41  =  0:14:15\n",
      "2012-01-29 03:14:41  -  2012-01-29 03:13:56  =  0:00:45\n",
      "2012-01-29 03:28:56  -  2012-01-29 03:14:41  =  0:14:15\n",
      "2012-01-29 03:43:56  -  2012-01-29 03:28:56  =  0:15:00\n",
      "2012-01-29 03:58:56  -  2012-01-29 03:43:56  =  0:15:00\n",
      "2012-01-29 04:13:56  -  2012-01-29 03:58:56  =  0:15:00\n",
      "2012-01-29 04:28:56  -  2012-01-29 04:13:56  =  0:15:00\n",
      "2012-01-29 04:43:11  -  2012-01-29 04:28:56  =  0:14:15\n",
      "2012-01-29 04:43:56  -  2012-01-29 04:43:11  =  0:00:45\n",
      "2012-01-29 04:58:11  -  2012-01-29 04:43:56  =  0:14:15\n",
      "2012-01-29 04:58:56  -  2012-01-29 04:58:11  =  0:00:45\n",
      "2012-01-29 05:13:11.100000  -  2012-01-29 04:58:56  =  0:14:15.100000\n",
      "2012-01-29 05:13:56.100000  -  2012-01-29 05:13:11.100000  =  0:00:45\n",
      "2012-01-29 05:28:11.100000  -  2012-01-29 05:13:56.100000  =  0:14:15\n",
      "2012-01-29 05:43:11.100000  -  2012-01-29 05:28:11.100000  =  0:15:00\n",
      "2012-01-29 05:58:11.100000  -  2012-01-29 05:43:11.100000  =  0:15:00\n",
      "2012-01-29 06:13:11.100000  -  2012-01-29 05:58:11.100000  =  0:15:00\n",
      "2012-01-29 06:28:11.100000  -  2012-01-29 06:13:11.100000  =  0:15:00\n",
      "2012-01-29 06:42:26.100000  -  2012-01-29 06:28:11.100000  =  0:14:15\n",
      "2012-01-29 06:43:11.100000  -  2012-01-29 06:42:26.100000  =  0:00:45\n",
      "2012-01-29 06:57:26.100000  -  2012-01-29 06:43:11.100000  =  0:14:15\n",
      "2012-01-29 06:58:11.100000  -  2012-01-29 06:57:26.100000  =  0:00:45\n",
      "2012-01-29 07:12:26.100000  -  2012-01-29 06:58:11.100000  =  0:14:15\n",
      "2012-01-29 07:13:11.100000  -  2012-01-29 07:12:26.100000  =  0:00:45\n",
      "2012-01-29 07:27:26.100000  -  2012-01-29 07:13:11.100000  =  0:14:15\n",
      "2012-01-29 07:42:26.100000  -  2012-01-29 07:27:26.100000  =  0:15:00\n",
      "2012-01-29 07:57:26.100000  -  2012-01-29 07:42:26.100000  =  0:15:00\n",
      "2012-01-29 08:12:26.100000  -  2012-01-29 07:57:26.100000  =  0:15:00\n",
      "2012-01-29 08:27:26.100000  -  2012-01-29 08:12:26.100000  =  0:15:00\n",
      "2012-01-29 08:41:41.100000  -  2012-01-29 08:27:26.100000  =  0:14:15\n",
      "2012-01-29 08:42:26.100000  -  2012-01-29 08:41:41.100000  =  0:00:45\n",
      "2012-01-29 08:56:41.100000  -  2012-01-29 08:42:26.100000  =  0:14:15\n",
      "2012-01-29 08:57:26.100000  -  2012-01-29 08:56:41.100000  =  0:00:45\n",
      "2012-01-29 09:11:41.100000  -  2012-01-29 08:57:26.100000  =  0:14:15\n",
      "2012-01-29 09:12:26.100000  -  2012-01-29 09:11:41.100000  =  0:00:45\n",
      "2012-01-29 09:26:41.100000  -  2012-01-29 09:12:26.100000  =  0:14:15\n",
      "2012-01-29 09:41:41.100000  -  2012-01-29 09:26:41.100000  =  0:15:00\n",
      "2012-01-29 09:56:41.100000  -  2012-01-29 09:41:41.100000  =  0:15:00\n",
      "2012-01-29 10:11:41.100000  -  2012-01-29 09:56:41.100000  =  0:15:00\n",
      "2012-01-29 10:26:41.100000  -  2012-01-29 10:11:41.100000  =  0:15:00\n",
      "2012-01-29 10:40:56.100000  -  2012-01-29 10:26:41.100000  =  0:14:15\n",
      "2012-01-29 10:41:41.100000  -  2012-01-29 10:40:56.100000  =  0:00:45\n",
      "2012-01-29 10:55:56.100000  -  2012-01-29 10:41:41.100000  =  0:14:15\n",
      "2012-01-29 10:56:41.100000  -  2012-01-29 10:55:56.100000  =  0:00:45\n",
      "2012-01-29 11:10:56  -  2012-01-29 10:56:41.100000  =  0:14:14.900000\n",
      "2012-01-29 11:11:41  -  2012-01-29 11:10:56  =  0:00:45\n",
      "2012-01-29 11:25:56  -  2012-01-29 11:11:41  =  0:14:15\n",
      "2012-01-29 11:40:56  -  2012-01-29 11:25:56  =  0:15:00\n",
      "2012-01-29 11:55:56  -  2012-01-29 11:40:56  =  0:15:00\n",
      "2012-01-29 12:10:56  -  2012-01-29 11:55:56  =  0:15:00\n",
      "2012-01-29 12:25:56  -  2012-01-29 12:10:56  =  0:15:00\n",
      "2012-01-29 12:40:11  -  2012-01-29 12:25:56  =  0:14:15\n"
     ]
    }
   ],
   "source": [
    "# Volver arreglos de tiempos, latitudes, longitudes un arreglo numérico\n",
    "deltatimes = []\n",
    "longitudes_0 = []\n",
    "longitudes_1 = []\n",
    "latitudes_0 = []\n",
    "latitudes_1 = []\n",
    "for i in range(len(datetimes)-1):\n",
    "    delta_t = datetimes[i+1] - datetimes[i]\n",
    "    print(datetimes[i+1], \" - \", datetimes[i],\" = \", delta_t)\n",
    "    deltatimes.append(delta_t.seconds)\n",
    "for i in range(len(longitudes)-1):\n",
    "    delta_long_0 = longitudes[i+1][0] - longitudes[i][0]\n",
    "    delta_long_1 = longitudes[i+1][1] - longitudes[i][1]\n",
    "    longitudes_0.append(delta_long_0.arcsec)\n",
    "    longitudes_1.append(delta_long_1.arcsec)\n",
    "    \n",
    "deltatimes = np.array(deltatimes)\n",
    "longitudes_0 = np.array(longitudes_0)\n",
    "longitudes_1 = np.array(longitudes_1)\n"
   ]
  },
  {
   "cell_type": "code",
   "execution_count": 68,
   "metadata": {
    "collapsed": false
   },
   "outputs": [
    {
     "data": {
      "text/plain": [
       "array([  1.14726354e-03,   1.64173725e-03,   1.72395306e-03,\n",
       "         1.75600302e-03,   1.13187910e-02,   1.12900929e-03,\n",
       "         1.12403436e-02,   1.52060289e-03,  -5.71113042e-03,\n",
       "         1.47929603e-03,   1.95142468e-03,   1.12260974e-03,\n",
       "         2.26158598e-03,   1.74707483e-03,  -5.18837476e-03,\n",
       "         1.45996426e-03,  -2.32850198e-06,   2.97076476e-03,\n",
       "         2.31651393e-05,   1.50153966e-03,   1.35076399e-03,\n",
       "         1.93790576e-03,   1.42732984e-03,   1.45686088e-03,\n",
       "         2.00116817e-03,  -5.69015050e-03,   2.13328545e-03,\n",
       "         3.50691103e-04,   1.67182027e-03,   7.13820076e-03,\n",
       "         1.39589182e-03,   1.98746990e-03,   1.93384743e-03,\n",
       "         1.40800339e-03,   1.39962037e-03,   1.84788533e-03,\n",
       "         4.98544068e-07,   1.38787078e-03,  -1.13021542e-05,\n",
       "         1.71186570e-03,   5.69427739e-03,   1.89137655e-03,\n",
       "         1.59596939e-03,   1.67434256e-03,   2.21935997e-03,\n",
       "         1.64021269e-03,   1.50618347e-03,   1.10701999e-02,\n",
       "         1.51190345e-03,  -1.57296154e-05,   1.49255611e-03,\n",
       "         1.10972482e-02,   1.76129887e-03,   1.38785182e-03,\n",
       "         1.89880253e-03,   1.41925800e-03,   2.27384598e-03,\n",
       "         1.76020039e-03,   1.47181845e-05,   2.29168230e-03,\n",
       "         7.80726668e-05,   1.50542735e-03,  -5.72235842e-03,\n",
       "         2.04760862e-03,   1.69739352e-03,   1.93055484e-03,\n",
       "         2.30390155e-03,   1.36244588e-03,   1.47279006e-03])"
      ]
     },
     "execution_count": 68,
     "metadata": {},
     "output_type": "execute_result"
    }
   ],
   "source": [
    "v0 = []\n",
    "v1 = []\n",
    "for i in range(np.size(longitudes_0)):\n",
    "    v0.append(longitudes_0[i]/deltatimes[i])\n",
    "    v1.append(longitudes_1[i]/deltatimes[i])\n",
    "np.array(v0)\n",
    "np.array(v1)"
   ]
  },
  {
   "cell_type": "code",
   "execution_count": 73,
   "metadata": {
    "collapsed": false
   },
   "outputs": [
    {
     "data": {
      "text/plain": [
       "0.0024272023871463461"
      ]
     },
     "execution_count": 73,
     "metadata": {},
     "output_type": "execute_result"
    }
   ],
   "source": [
    "np.average(np.abs(v1))"
   ]
  },
  {
   "cell_type": "code",
   "execution_count": 22,
   "metadata": {
    "collapsed": false
   },
   "outputs": [
    {
     "data": {
      "text/plain": [
       "[datetime.datetime(2012, 1, 29, 0, 0, 25, 900000),\n",
       " datetime.datetime(2012, 1, 29, 0, 15, 25, 900000),\n",
       " datetime.datetime(2012, 1, 29, 0, 30, 25, 900000),\n",
       " datetime.datetime(2012, 1, 29, 0, 45, 25, 900000),\n",
       " datetime.datetime(2012, 1, 29, 0, 59, 40, 900000),\n",
       " datetime.datetime(2012, 1, 29, 1, 0, 25, 900000),\n",
       " datetime.datetime(2012, 1, 29, 1, 14, 40, 900000),\n",
       " datetime.datetime(2012, 1, 29, 1, 15, 25, 900000),\n",
       " datetime.datetime(2012, 1, 29, 1, 29, 40, 900000),\n",
       " datetime.datetime(2012, 1, 29, 1, 30, 25, 900000),\n",
       " datetime.datetime(2012, 1, 29, 1, 44, 41),\n",
       " datetime.datetime(2012, 1, 29, 1, 59, 41),\n",
       " datetime.datetime(2012, 1, 29, 2, 14, 41),\n",
       " datetime.datetime(2012, 1, 29, 2, 29, 41),\n",
       " datetime.datetime(2012, 1, 29, 2, 43, 56),\n",
       " datetime.datetime(2012, 1, 29, 2, 44, 41),\n",
       " datetime.datetime(2012, 1, 29, 2, 58, 56),\n",
       " datetime.datetime(2012, 1, 29, 2, 59, 41),\n",
       " datetime.datetime(2012, 1, 29, 3, 13, 56),\n",
       " datetime.datetime(2012, 1, 29, 3, 14, 41),\n",
       " datetime.datetime(2012, 1, 29, 3, 28, 56),\n",
       " datetime.datetime(2012, 1, 29, 3, 43, 56),\n",
       " datetime.datetime(2012, 1, 29, 3, 58, 56),\n",
       " datetime.datetime(2012, 1, 29, 4, 13, 56),\n",
       " datetime.datetime(2012, 1, 29, 4, 28, 56),\n",
       " datetime.datetime(2012, 1, 29, 4, 43, 11),\n",
       " datetime.datetime(2012, 1, 29, 4, 43, 56),\n",
       " datetime.datetime(2012, 1, 29, 4, 58, 11),\n",
       " datetime.datetime(2012, 1, 29, 4, 58, 56),\n",
       " datetime.datetime(2012, 1, 29, 5, 13, 11, 100000),\n",
       " datetime.datetime(2012, 1, 29, 5, 13, 56, 100000),\n",
       " datetime.datetime(2012, 1, 29, 5, 28, 11, 100000),\n",
       " datetime.datetime(2012, 1, 29, 5, 43, 11, 100000),\n",
       " datetime.datetime(2012, 1, 29, 5, 58, 11, 100000),\n",
       " datetime.datetime(2012, 1, 29, 6, 13, 11, 100000),\n",
       " datetime.datetime(2012, 1, 29, 6, 28, 11, 100000),\n",
       " datetime.datetime(2012, 1, 29, 6, 42, 26, 100000),\n",
       " datetime.datetime(2012, 1, 29, 6, 43, 11, 100000),\n",
       " datetime.datetime(2012, 1, 29, 6, 57, 26, 100000),\n",
       " datetime.datetime(2012, 1, 29, 6, 58, 11, 100000),\n",
       " datetime.datetime(2012, 1, 29, 7, 12, 26, 100000),\n",
       " datetime.datetime(2012, 1, 29, 7, 13, 11, 100000),\n",
       " datetime.datetime(2012, 1, 29, 7, 27, 26, 100000),\n",
       " datetime.datetime(2012, 1, 29, 7, 42, 26, 100000),\n",
       " datetime.datetime(2012, 1, 29, 7, 57, 26, 100000),\n",
       " datetime.datetime(2012, 1, 29, 8, 12, 26, 100000),\n",
       " datetime.datetime(2012, 1, 29, 8, 27, 26, 100000),\n",
       " datetime.datetime(2012, 1, 29, 8, 41, 41, 100000),\n",
       " datetime.datetime(2012, 1, 29, 8, 42, 26, 100000),\n",
       " datetime.datetime(2012, 1, 29, 8, 56, 41, 100000),\n",
       " datetime.datetime(2012, 1, 29, 8, 57, 26, 100000),\n",
       " datetime.datetime(2012, 1, 29, 9, 11, 41, 100000),\n",
       " datetime.datetime(2012, 1, 29, 9, 12, 26, 100000),\n",
       " datetime.datetime(2012, 1, 29, 9, 26, 41, 100000),\n",
       " datetime.datetime(2012, 1, 29, 9, 41, 41, 100000),\n",
       " datetime.datetime(2012, 1, 29, 9, 56, 41, 100000),\n",
       " datetime.datetime(2012, 1, 29, 10, 11, 41, 100000),\n",
       " datetime.datetime(2012, 1, 29, 10, 26, 41, 100000),\n",
       " datetime.datetime(2012, 1, 29, 10, 40, 56, 100000),\n",
       " datetime.datetime(2012, 1, 29, 10, 41, 41, 100000),\n",
       " datetime.datetime(2012, 1, 29, 10, 55, 56, 100000),\n",
       " datetime.datetime(2012, 1, 29, 10, 56, 41, 100000),\n",
       " datetime.datetime(2012, 1, 29, 11, 10, 56),\n",
       " datetime.datetime(2012, 1, 29, 11, 11, 41),\n",
       " datetime.datetime(2012, 1, 29, 11, 25, 56),\n",
       " datetime.datetime(2012, 1, 29, 11, 40, 56),\n",
       " datetime.datetime(2012, 1, 29, 11, 55, 56),\n",
       " datetime.datetime(2012, 1, 29, 12, 10, 56),\n",
       " datetime.datetime(2012, 1, 29, 12, 25, 56),\n",
       " datetime.datetime(2012, 1, 29, 12, 40, 11),\n",
       " datetime.datetime(2012, 1, 29, 12, 40, 56),\n",
       " datetime.datetime(2012, 1, 29, 12, 40, 56),\n",
       " datetime.datetime(2012, 1, 29, 12, 55, 11),\n",
       " datetime.datetime(2012, 1, 29, 12, 55, 56),\n",
       " datetime.datetime(2012, 1, 29, 13, 10, 11),\n",
       " datetime.datetime(2012, 1, 29, 13, 10, 56),\n",
       " datetime.datetime(2012, 1, 29, 13, 25, 11),\n",
       " datetime.datetime(2012, 1, 29, 13, 40, 11),\n",
       " datetime.datetime(2012, 1, 29, 13, 55, 11),\n",
       " datetime.datetime(2012, 1, 29, 13, 55, 11),\n",
       " datetime.datetime(2012, 1, 29, 14, 10, 11),\n",
       " datetime.datetime(2012, 1, 29, 14, 25, 11),\n",
       " datetime.datetime(2012, 1, 29, 14, 39, 26),\n",
       " datetime.datetime(2012, 1, 29, 14, 40, 11),\n",
       " datetime.datetime(2012, 1, 29, 14, 54, 26),\n",
       " datetime.datetime(2012, 1, 29, 14, 55, 11),\n",
       " datetime.datetime(2012, 1, 29, 15, 9, 25, 900000),\n",
       " datetime.datetime(2012, 1, 29, 15, 10, 10, 900000),\n",
       " datetime.datetime(2012, 1, 29, 15, 24, 25, 900000),\n",
       " datetime.datetime(2012, 1, 29, 15, 39, 25, 900000),\n",
       " datetime.datetime(2012, 1, 29, 15, 54, 25, 900000),\n",
       " datetime.datetime(2012, 1, 29, 16, 9, 25, 900000),\n",
       " datetime.datetime(2012, 1, 29, 16, 24, 25, 900000),\n",
       " datetime.datetime(2012, 1, 29, 16, 38, 40, 900000),\n",
       " datetime.datetime(2012, 1, 29, 16, 39, 25, 900000),\n",
       " datetime.datetime(2012, 1, 29, 16, 53, 40, 900000),\n",
       " datetime.datetime(2012, 1, 29, 16, 54, 25, 900000),\n",
       " datetime.datetime(2012, 1, 29, 17, 8, 40, 900000),\n",
       " datetime.datetime(2012, 1, 29, 17, 8, 40, 900000),\n",
       " datetime.datetime(2012, 1, 29, 17, 23, 40, 900000),\n",
       " datetime.datetime(2012, 1, 29, 17, 38, 40, 900000),\n",
       " datetime.datetime(2012, 1, 29, 17, 53, 40, 900000),\n",
       " datetime.datetime(2012, 1, 29, 18, 8, 40, 900000),\n",
       " datetime.datetime(2012, 1, 29, 18, 22, 55, 900000),\n",
       " datetime.datetime(2012, 1, 29, 18, 23, 40, 900000),\n",
       " datetime.datetime(2012, 1, 29, 18, 37, 55, 900000),\n",
       " datetime.datetime(2012, 1, 29, 18, 38, 40, 900000),\n",
       " datetime.datetime(2012, 1, 29, 18, 52, 55, 900000),\n",
       " datetime.datetime(2012, 1, 29, 18, 52, 55, 900000),\n",
       " datetime.datetime(2012, 1, 29, 18, 53, 40, 900000),\n",
       " datetime.datetime(2012, 1, 29, 18, 53, 40, 900000),\n",
       " datetime.datetime(2012, 1, 29, 19, 7, 55, 900000),\n",
       " datetime.datetime(2012, 1, 29, 19, 7, 55, 900000),\n",
       " datetime.datetime(2012, 1, 29, 19, 22, 55, 900000),\n",
       " datetime.datetime(2012, 1, 29, 19, 37, 55, 900000),\n",
       " datetime.datetime(2012, 1, 29, 19, 37, 55, 900000),\n",
       " datetime.datetime(2012, 1, 29, 19, 52, 55, 900000),\n",
       " datetime.datetime(2012, 1, 29, 20, 7, 55, 900000),\n",
       " datetime.datetime(2012, 1, 29, 20, 22, 10, 900000),\n",
       " datetime.datetime(2012, 1, 29, 20, 22, 55, 900000),\n",
       " datetime.datetime(2012, 1, 29, 20, 37, 10, 900000),\n",
       " datetime.datetime(2012, 1, 29, 20, 37, 55, 900000),\n",
       " datetime.datetime(2012, 1, 30, 0, 6, 26),\n",
       " datetime.datetime(2012, 1, 30, 0, 20, 41),\n",
       " datetime.datetime(2012, 1, 30, 0, 21, 26),\n",
       " datetime.datetime(2012, 1, 30, 0, 35, 41),\n",
       " datetime.datetime(2012, 1, 30, 0, 36, 26),\n",
       " datetime.datetime(2012, 1, 30, 0, 50, 41),\n",
       " datetime.datetime(2012, 1, 30, 2, 49, 56),\n",
       " datetime.datetime(2012, 1, 30, 6, 48, 26, 100000),\n",
       " datetime.datetime(2012, 1, 30, 12, 1, 11, 100000),\n",
       " datetime.datetime(2012, 1, 30, 12, 1, 56, 100000),\n",
       " datetime.datetime(2012, 1, 30, 12, 16, 11, 100000),\n",
       " datetime.datetime(2012, 1, 30, 12, 46, 11, 100000),\n",
       " datetime.datetime(2012, 1, 30, 13, 1, 11, 100000),\n",
       " datetime.datetime(2012, 1, 30, 13, 16, 11, 100000),\n",
       " datetime.datetime(2012, 1, 30, 13, 31, 11, 100000),\n",
       " datetime.datetime(2012, 1, 30, 13, 46, 11),\n",
       " datetime.datetime(2012, 1, 30, 14, 0, 26),\n",
       " datetime.datetime(2012, 1, 30, 14, 1, 11),\n",
       " datetime.datetime(2012, 1, 30, 14, 15, 26),\n",
       " datetime.datetime(2012, 1, 30, 14, 16, 11),\n",
       " datetime.datetime(2012, 1, 30, 14, 30, 26),\n",
       " datetime.datetime(2012, 1, 30, 14, 31, 11),\n",
       " datetime.datetime(2012, 1, 30, 14, 45, 26)]"
      ]
     },
     "execution_count": 22,
     "metadata": {},
     "output_type": "execute_result"
    }
   ],
   "source": [
    "datetimes"
   ]
  },
  {
   "cell_type": "code",
   "execution_count": 46,
   "metadata": {
    "collapsed": false
   },
   "outputs": [
    {
     "data": {
      "text/plain": [
       "1.9443694824297495"
      ]
     },
     "execution_count": 46,
     "metadata": {},
     "output_type": "execute_result"
    }
   ],
   "source": [
    "delta_long_0 = longitudes[3+1][0] - longitudes[3][0]\n",
    "delta_long_0.arcsec"
   ]
  },
  {
   "cell_type": "code",
   "execution_count": 38,
   "metadata": {
    "collapsed": false
   },
   "outputs": [],
   "source": [
    "a = longitudes[10][0]"
   ]
  },
  {
   "cell_type": "code",
   "execution_count": 43,
   "metadata": {
    "collapsed": false
   },
   "outputs": [
    {
     "data": {
      "text/plain": [
       "float"
      ]
     },
     "execution_count": 43,
     "metadata": {},
     "output_type": "execute_result"
    }
   ],
   "source": [
    "type(a.arcsec)"
   ]
  },
  {
   "cell_type": "code",
   "execution_count": 24,
   "metadata": {
    "collapsed": false
   },
   "outputs": [
    {
     "data": {
      "text/plain": [
       "[[<Latitude 223.2356583418135 arcsec>, <Latitude 358.4326775183662 arcsec>],\n",
       " [<Latitude 223.27845552459493 arcsec>, <Latitude 358.9750449042302 arcsec>],\n",
       " [<Latitude 223.1316761056224 arcsec>, <Latitude 359.17096296953525 arcsec>],\n",
       " [<Latitude 222.80645917180073 arcsec>, <Latitude 359.1937625079325 arcsec>],\n",
       " [<Latitude 222.7814635339792 arcsec>, <Latitude 359.1511437771456 arcsec>],\n",
       " [<Latitude 222.76077339905544 arcsec>, <Latitude 358.8965638751735 arcsec>],\n",
       " [<Latitude 222.6591550374164 arcsec>, <Latitude 359.4348275869177 arcsec>],\n",
       " [<Latitude 222.72721838329798 arcsec>, <Latitude 359.18658914730355 arcsec>],\n",
       " [<Latitude 222.6854562531554 arcsec>, <Latitude 359.39965805359907 arcsec>],\n",
       " [<Latitude 222.69283660868498 arcsec>, <Latitude 359.6591523911388 arcsec>],\n",
       " [<Latitude 222.74583921501184 arcsec>, <Latitude 359.96463345581566 arcsec>],\n",
       " [<Latitude 222.4996973461209 arcsec>, <Latitude 359.909366479337 arcsec>],\n",
       " [<Latitude 222.39222322635314 arcsec>, <Latitude 360.37155795863396 arcsec>],\n",
       " [<Latitude 222.20952184138753 arcsec>, <Latitude 360.18683958441386 arcsec>],\n",
       " [<Latitude 222.23075056559034 arcsec>, <Latitude 360.4045124538605 arcsec>],\n",
       " [<Latitude 222.2304002715016 arcsec>, <Latitude 360.65745437077953 arcsec>],\n",
       " [<Latitude 221.9906391357004 arcsec>, <Latitude 360.91527449626386 arcsec>],\n",
       " [<Latitude 221.92446390036244 arcsec>, <Latitude 360.9118223235647 arcsec>],\n",
       " [<Latitude 221.7189251009207 arcsec>, <Latitude 360.45532728006174 arcsec>],\n",
       " [<Latitude 221.71980090087467 arcsec>, <Latitude 360.4553175500482 arcsec>],\n",
       " [<Latitude 221.8840563779403 arcsec>, <Latitude 360.7156575485434 arcsec>],\n",
       " [<Latitude 221.6775028170266 arcsec>, <Latitude 360.9180100820147 arcsec>],\n",
       " [<Latitude 221.46364897020766 arcsec>, <Latitude 360.9568848681074 arcsec>],\n",
       " [<Latitude 221.42627304860508 arcsec>, <Latitude 361.17488377752005 arcsec>],\n",
       " [<Latitude 221.19304893599897 arcsec>, <Latitude 361.4453671129795 arcsec>],\n",
       " [<Latitude 221.07552053517227 arcsec>, <Latitude 361.4497522515709 arcsec>],\n",
       " [<Latitude 221.19353462333157 arcsec>, <Latitude 361.7009502668813 arcsec>],\n",
       " [<Latitude 220.93583608773474 arcsec>, <Latitude 361.69480281114784 arcsec>],\n",
       " [<Latitude 221.1167024029047 arcsec>, <Latitude 361.70368421069736 arcsec>],\n",
       " [<Latitude 220.94730033437065 arcsec>, <Latitude 361.9552281362448 arcsec>],\n",
       " [<Latitude 220.94623093211018 arcsec>, <Latitude 361.8097241991937 arcsec>],\n",
       " [<Latitude 220.69528205420684 arcsec>, <Latitude 362.2121485636846 arcsec>],\n",
       " [<Latitude 220.43144584773353 arcsec>, <Latitude 362.19932017537485 arcsec>],\n",
       " [<Latitude 220.1804273883312 arcsec>, <Latitude 362.2019023058414 arcsec>],\n",
       " [<Latitude 220.16742838699818 arcsec>, <Latitude 362.4784168108129 arcsec>],\n",
       " [<Latitude 220.02879640079772 arcsec>, <Latitude 362.68613290187386 arcsec>],\n",
       " [<Latitude 219.95381700808642 arcsec>, <Latitude 362.8574599219561 arcsec>],\n",
       " [<Latitude 219.88014083609735 arcsec>, <Latitude 362.85589553252976 arcsec>],\n",
       " [<Latitude 219.78993776552113 arcsec>, <Latitude 363.1999215434934 arcsec>],\n",
       " [<Latitude 219.76426892921071 arcsec>, <Latitude 363.20044880143854 arcsec>],\n",
       " [<Latitude 219.68279139308564 arcsec>, <Latitude 363.22216898942463 arcsec>],\n",
       " [<Latitude 219.6915264715262 arcsec>, <Latitude 363.23059615137885 arcsec>],\n",
       " [<Latitude 219.40465862160409 arcsec>, <Latitude 363.39190943887803 arcsec>],\n",
       " [<Latitude 219.37946158185193 arcsec>, <Latitude 363.4764502473076 arcsec>],\n",
       " [<Latitude 219.27110616079685 arcsec>, <Latitude 363.6674471061058 arcsec>],\n",
       " [<Latitude 218.94410626123343 arcsec>, <Latitude 363.4938335917262 arcsec>],\n",
       " [<Latitude 219.1562909030979 arcsec>, <Latitude 363.7054727988049 arcsec>],\n",
       " [<Latitude 218.84727428754113 arcsec>, <Latitude 363.95375565573835 arcsec>],\n",
       " [<Latitude 218.89793858060747 arcsec>, <Latitude 363.70188240310165 arcsec>],\n",
       " [<Latitude 218.73670408105943 arcsec>, <Latitude 364.20566515534836 arcsec>],\n",
       " [<Latitude 218.7315885393277 arcsec>, <Latitude 364.20463334515455 arcsec>],\n",
       " [<Latitude 218.61575902774723 arcsec>, <Latitude 364.4283747328257 arcsec>],\n",
       " [<Latitude 218.70074569527554 arcsec>, <Latitude 364.19082433258467 arcsec>],\n",
       " [<Latitude 218.40894508040313 arcsec>, <Latitude 364.4753389815216 arcsec>],\n",
       " [<Latitude 218.2486962991844 arcsec>, <Latitude 364.72834344124345 arcsec>],\n",
       " [<Latitude 218.1305504982348 arcsec>, <Latitude 364.7008423428282 arcsec>],\n",
       " [<Latitude 217.85421583244238 arcsec>, <Latitude 364.92948417817246 arcsec>],\n",
       " [<Latitude 217.86915966760432 arcsec>, <Latitude 364.94713149732075 arcsec>],\n",
       " [<Latitude 217.67154169671448 arcsec>, <Latitude 365.25141311323694 arcsec>],\n",
       " [<Latitude 217.66543319033846 arcsec>, <Latitude 365.24677280985145 arcsec>],\n",
       " [<Latitude 217.61028954581184 arcsec>, <Latitude 365.2092953957747 arcsec>],\n",
       " [<Latitude 217.62658247472984 arcsec>, <Latitude 365.20822743022177 arcsec>],\n",
       " [<Latitude 217.3776214664642 arcsec>, <Latitude 365.46501386359364 arcsec>],\n",
       " [<Latitude 217.1876687555055 arcsec>, <Latitude 365.72418243436425 arcsec>],\n",
       " [<Latitude 217.35509997590964 arcsec>, <Latitude 365.69554574014523 arcsec>],\n",
       " [<Latitude 217.24479485377515 arcsec>, <Latitude 365.9567361261875 arcsec>],\n",
       " [<Latitude 216.81896562480222 arcsec>, <Latitude 365.9981650205734 arcsec>],\n",
       " [<Latitude 216.98815233939592 arcsec>, <Latitude 365.67136351140414 arcsec>],\n",
       " [<Latitude 216.8312273535619 arcsec>, <Latitude 365.93022811790087 arcsec>],\n",
       " [<Latitude 216.5624813851719 arcsec>, <Latitude 366.18369489155344 arcsec>],\n",
       " [<Latitude 216.5794303227278 arcsec>, <Latitude 366.01291697253816 arcsec>],\n",
       " [<Latitude 216.5794303227278 arcsec>, <Latitude 366.01291697253816 arcsec>],\n",
       " [<Latitude 216.30675840411132 arcsec>, <Latitude 366.16363884308856 arcsec>],\n",
       " [<Latitude 216.30788432874334 arcsec>, <Latitude 366.1638924763481 arcsec>],\n",
       " [<Latitude 216.10588901359333 arcsec>, <Latitude 366.4679376034127 arcsec>],\n",
       " [<Latitude 216.01452554826648 arcsec>, <Latitude 366.46744473766944 arcsec>],\n",
       " [<Latitude 215.9791542489551 arcsec>, <Latitude 366.630681105047 arcsec>],\n",
       " [<Latitude 215.6603889196406 arcsec>, <Latitude 366.40093281250506 arcsec>],\n",
       " [<Latitude 215.56408817216104 arcsec>, <Latitude 366.8774863805732 arcsec>],\n",
       " [<Latitude 215.56408817216104 arcsec>, <Latitude 366.8774863805732 arcsec>],\n",
       " [<Latitude 215.2366532259598 arcsec>, <Latitude 367.16757866604974 arcsec>],\n",
       " [<Latitude 215.0136559832269 arcsec>, <Latitude 367.4412049649627 arcsec>],\n",
       " [<Latitude 215.00328156562395 arcsec>, <Latitude 367.6588363035959 arcsec>],\n",
       " [<Latitude 215.02290727953746 arcsec>, <Latitude 367.6565361729362 arcsec>],\n",
       " [<Latitude 214.75521437738624 arcsec>, <Latitude 367.38953205299043 arcsec>],\n",
       " [<Latitude 214.75664321851832 arcsec>, <Latitude 367.38999720004057 arcsec>],\n",
       " [<Latitude 214.60450195644768 arcsec>, <Latitude 367.90292675044554 arcsec>],\n",
       " [<Latitude 214.59784110976088 arcsec>, <Latitude 368.1563164469564 arcsec>],\n",
       " [<Latitude 214.49939696367932 arcsec>, <Latitude 367.9041345730964 arcsec>],\n",
       " [<Latitude 214.4821383604557 arcsec>, <Latitude 368.21648576756616 arcsec>],\n",
       " [<Latitude 214.21492102025314 arcsec>, <Latitude 368.6674303763823 arcsec>],\n",
       " [<Latitude 213.97225443680918 arcsec>, <Latitude 368.63647410119256 arcsec>],\n",
       " [<Latitude 213.6865495774202 arcsec>, <Latitude 368.9132962285306 arcsec>],\n",
       " [<Latitude 213.732895188491 arcsec>, <Latitude 368.88853127237866 arcsec>],\n",
       " [<Latitude 213.735019831228 arcsec>, <Latitude 368.6385106631975 arcsec>],\n",
       " [<Latitude 213.48462935230202 arcsec>, <Latitude 369.1477653801995 arcsec>],\n",
       " [<Latitude 213.5205416220799 arcsec>, <Latitude 369.4012296179018 arcsec>],\n",
       " [<Latitude 213.21775932506188 arcsec>, <Latitude 369.13065038234487 arcsec>],\n",
       " [<Latitude 213.21775932506188 arcsec>, <Latitude 369.13065038234487 arcsec>],\n",
       " [<Latitude 213.23475758611883 arcsec>, <Latitude 369.4039769877273 arcsec>],\n",
       " [<Latitude 212.94928420893277 arcsec>, <Latitude 369.61740210494514 arcsec>],\n",
       " [<Latitude 212.7168821971034 arcsec>, <Latitude 369.896704860753 arcsec>],\n",
       " [<Latitude 212.64175507883076 arcsec>, <Latitude 370.12303020929903 arcsec>],\n",
       " [<Latitude 212.45111603248174 arcsec>, <Latitude 370.13222880702455 arcsec>],\n",
       " [<Latitude 212.54400957462914 arcsec>, <Latitude 369.98885524666724 arcsec>],\n",
       " [<Latitude 212.39761072762025 arcsec>, <Latitude 370.1708115992568 arcsec>],\n",
       " [<Latitude 212.48993073285718 arcsec>, <Latitude 370.1716783603246 arcsec>],\n",
       " [<Latitude 212.21869786381524 arcsec>, <Latitude 370.40472153332274 arcsec>],\n",
       " [<Latitude 212.21869786381524 arcsec>, <Latitude 370.40472153332274 arcsec>],\n",
       " [<Latitude 212.21609278088764 arcsec>, <Latitude 370.406274058522 arcsec>],\n",
       " [<Latitude 212.21609278088764 arcsec>, <Latitude 370.406274058522 arcsec>],\n",
       " [<Latitude 211.96945229676712 arcsec>, <Latitude 370.40758887098775 arcsec>],\n",
       " [<Latitude 211.96945229676712 arcsec>, <Latitude 370.40758887098775 arcsec>],\n",
       " [<Latitude 211.6543103661731 arcsec>, <Latitude 370.65077109749103 arcsec>],\n",
       " [<Latitude 211.5478543904233 arcsec>, <Latitude 370.86961682571416 arcsec>],\n",
       " [<Latitude 211.5478543904233 arcsec>, <Latitude 370.86961682571416 arcsec>],\n",
       " [<Latitude 211.5494949780305 arcsec>, <Latitude 371.1157720106112 arcsec>],\n",
       " [<Latitude 211.19939758150272 arcsec>, <Latitude 371.40447591162575 arcsec>],\n",
       " [<Latitude 211.2113191482047 arcsec>, <Latitude 371.1694735043123 arcsec>],\n",
       " [<Latitude 211.17339360398134 arcsec>, <Latitude 371.12516795196905 arcsec>],\n",
       " [<Latitude 211.0262182838188 arcsec>, <Latitude 371.3898966036904 arcsec>],\n",
       " [<Latitude 210.93613821164118 arcsec>, <Latitude 371.3927710675107 arcsec>],\n",
       " [<Latitude 208.41121976866765 arcsec>, <Latitude 373.40909453330175 arcsec>],\n",
       " [<Latitude 208.47428556977928 arcsec>, <Latitude 373.65022137364645 arcsec>],\n",
       " [<Latitude 208.5397916638844 arcsec>, <Latitude 373.3899068157988 arcsec>],\n",
       " [<Latitude 208.3618266897472 arcsec>, <Latitude 373.61213673783175 arcsec>],\n",
       " [<Latitude 208.24407597619114 arcsec>, <Latitude 373.6147604495513 arcsec>],\n",
       " [<Latitude 207.84174784086414 arcsec>, <Latitude 373.5923849913182 arcsec>],\n",
       " [<Latitude 206.8726978783561 arcsec>, <Latitude 374.89300341436143 arcsec>],\n",
       " [<Latitude 204.08487941623227 arcsec>, <Latitude 377.1484474135036 arcsec>],\n",
       " [<Latitude 200.05239930779751 arcsec>, <Latitude 380.11946315295796 arcsec>],\n",
       " [<Latitude 200.05936341761355 arcsec>, <Latitude 379.8647554008587 arcsec>],\n",
       " [<Latitude 200.11795614675702 arcsec>, <Latitude 379.87049810062575 arcsec>],\n",
       " [<Latitude 199.51628270568776 arcsec>, <Latitude 380.1381200006891 arcsec>],\n",
       " [<Latitude 199.3818733671353 arcsec>, <Latitude 380.62664198983254 arcsec>],\n",
       " [<Latitude 199.0796277519884 arcsec>, <Latitude 380.3841172954215 arcsec>],\n",
       " [<Latitude 198.99448293920082 arcsec>, <Latitude 380.62753931718896 arcsec>],\n",
       " [<Latitude 198.56853073801113 arcsec>, <Latitude 380.87203181440765 arcsec>],\n",
       " [<Latitude 198.46815849083032 arcsec>, <Latitude 381.1094415418835 arcsec>],\n",
       " [<Latitude 198.46820923372718 arcsec>, <Latitude 380.8564859063305 arcsec>],\n",
       " [<Latitude 198.32880658301238 arcsec>, <Latitude 380.79910157251214 arcsec>],\n",
       " [<Latitude 198.28594637387724 arcsec>, <Latitude 380.7994414058423 arcsec>],\n",
       " [<Latitude 198.18453603895136 arcsec>, <Latitude 380.8240272803464 arcsec>],\n",
       " [<Latitude 198.29005538215813 arcsec>, <Latitude 380.81888304282523 arcsec>],\n",
       " [<Latitude 197.93541630422715 arcsec>, <Latitude 381.0780164128503 arcsec>]]"
      ]
     },
     "execution_count": 24,
     "metadata": {},
     "output_type": "execute_result"
    }
   ],
   "source": [
    "latitudes"
   ]
  },
  {
   "cell_type": "code",
   "execution_count": 27,
   "metadata": {
    "collapsed": false
   },
   "outputs": [
    {
     "data": {
      "text/plain": [
       "[<Longitude 385.54074565627843 arcsec>, <Longitude -697.1209684461883 arcsec>]"
      ]
     },
     "execution_count": 27,
     "metadata": {},
     "output_type": "execute_result"
    }
   ],
   "source": []
  },
  {
   "cell_type": "code",
   "execution_count": null,
   "metadata": {
    "collapsed": true
   },
   "outputs": [],
   "source": []
  }
 ],
 "metadata": {
  "kernelspec": {
   "display_name": "Python 3",
   "language": "python",
   "name": "python3"
  },
  "language_info": {
   "codemirror_mode": {
    "name": "ipython",
    "version": 3
   },
   "file_extension": ".py",
   "mimetype": "text/x-python",
   "name": "python",
   "nbconvert_exporter": "python",
   "pygments_lexer": "ipython3",
   "version": "3.6.0"
  }
 },
 "nbformat": 4,
 "nbformat_minor": 2
}
