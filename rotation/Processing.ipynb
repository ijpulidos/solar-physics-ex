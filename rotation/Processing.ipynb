{
 "cells": [
  {
   "cell_type": "code",
   "execution_count": 1,
   "metadata": {
    "collapsed": false
   },
   "outputs": [
    {
     "name": "stderr",
     "output_type": "stream",
     "text": [
      "WARNING: AstropyDeprecationWarning: astropy.utils.compat.odict.OrderedDict is now deprecated - import OrderedDict from the collections module instead [astropy.utils.compat.odict]\n"
     ]
    }
   ],
   "source": [
    "# Modulos básicos\n",
    "import numpy as np\n",
    "import time\n",
    "#from pylab import imshow\n",
    "import matplotlib.pyplot as plt\n",
    "from tqdm import tqdm, tnrange, tqdm_notebook\n",
    "# Modulo para manejo de fecha\n",
    "from datetime import datetime, timedelta\n",
    "# Modulos para astrofisica/solar\n",
    "import astropy\n",
    "from sunpy.net import vso\n",
    "import astropy.units as u\n",
    "from sunpy.map import Map\n",
    "from astropy.io import fits # to fix headers\n",
    "# Custom-made methods and classes for fixing headers\n",
    "from lib.CompatMaps import sinehpc_wcs_frame_mapping"
   ]
  },
  {
   "cell_type": "code",
   "execution_count": null,
   "metadata": {
    "collapsed": true
   },
   "outputs": [],
   "source": [
    "# Habilitar JS en jupyter (correr en shell como root)\n",
    "# jupyter nbextension enable --py --sys-prefix widgetsnbextension"
   ]
  },
  {
   "cell_type": "markdown",
   "metadata": {},
   "source": [
    "# Data structure\n",
    "\n",
    "Data is acquired using another jupyter notebook that is in the same repository as this one (check https://github.com/ijpulidos/solar-physics-ex/) and it's called Acquiring_Data.ipynb\n",
    "\n",
    "The structure of the data sets downloaded with that notebook is as follows (relative to the directory of this notebook):\n",
    "\n",
    "    data\n",
    "    ├── set1\n",
    "    │   ├── hmi_ic_45s_2012_01_29_00_01_30_tai_continuum.fits.fits\n",
    "    │   ├── hmi_ic_45s_2012_01_29_00_16_30_tai_continuum.fits.fits\n",
    "    │   ├── hmi_ic_45s_2012_01_29_00_31_30_tai_continuum.fits.fits\n",
    "    |   ...\n",
    "    │   └── hmi_ic_45s_2012_01_30_14_46_30_tai_continuum.fits.fits\n",
    "    ├── set2\n",
    "    │   ├── hmi_ic_45s_2013_03_04_00_01_30_tai_continuum.fits.fits\n",
    "    │   ├── hmi_ic_45s_2013_03_04_00_44_15_tai_continuum.fits.fits\n",
    "    │   ├── hmi_ic_45s_2013_03_04_00_45_00_tai_continuum.fits.fits\n",
    "    |   ...\n",
    "    │   └── hmi_ic_45s_2013_03_09_17_12_45_tai_continuum.fits.fits\n",
    "    ├── set3\n",
    "    │   ├── hmi_ic_45s_2014_09_23_00_02_15_tai_continuum.fits.fits\n",
    "    │   ├── hmi_ic_45s_2014_09_23_00_03_00_tai_continuum.fits.fits\n",
    "    │   ├── hmi_ic_45s_2014_09_23_00_03_45_tai_continuum.fits.fits\n",
    "    |   ...\n",
    "    │   └── hmi_ic_45s_2014_09_28_23_06_00_tai_continuum.fits.fits\n",
    "    ├── set4\n",
    "    │   ├── hmi_ic_45s_2015_09_03_00_01_30_tai_continuum.fits.fits\n",
    "    │   ├── hmi_ic_45s_2015_09_03_00_02_15_tai_continuum.fits.fits\n",
    "    │   ├── hmi_ic_45s_2015_09_03_05_46_30_tai_continuum.fits.fits\n",
    "    |   ...\n",
    "    │   └── hmi_ic_45s_2015_09_08_22_56_15_tai_continuum.fits.fits\n",
    "    ...\n",
    "\n",
    "    12 directories, 1290 files (in my case)"
   ]
  },
  {
   "cell_type": "code",
   "execution_count": 2,
   "metadata": {
    "collapsed": false
   },
   "outputs": [
    {
     "data": {
      "text/plain": [
       "(138,)"
      ]
     },
     "execution_count": 2,
     "metadata": {},
     "output_type": "execute_result"
    }
   ],
   "source": [
    "basepath = !pwd\n",
    "fits_files = !ls data/set1/*.fits  # Quedan con el path data/*.fits \n",
    "np.shape(fits_files)"
   ]
  },
  {
   "cell_type": "markdown",
   "metadata": {},
   "source": [
    "# Arreglando headers de archivos FITS descargados\n",
    "Desafortunadamente para ver los resultados hay muchas imágenes que no tienen los headers correctos, entonces es necesario hacer algo como lo que se muestra en este enlace para corregir estos problemas: http://docs.sunpy.org/en/latest/generated/gallery/gallery/hmi_synoptic_maps.html and specially the updated example in: https://gist.github.com/Cadair/cbc73dc7888b9bae5d06708270aedd68"
   ]
  },
  {
   "cell_type": "code",
   "execution_count": null,
   "metadata": {
    "collapsed": true,
    "scrolled": true
   },
   "outputs": [],
   "source": [
    "#from IPython.display import clear_output\n",
    "# Read header and data from all fits files programatically\n",
    "#i = 0  # index for files\n",
    "for file in fits_files:\n",
    "    fitsfile = fits.open(basepath[0]+'/'+file)\n",
    "    fitsfile.verify('fix')\n",
    "    header = fitsfile[1].header\n",
    "    del fitsfile\n",
    "    #time.sleep(1)\n",
    "    #header.values"
   ]
  },
  {
   "cell_type": "code",
   "execution_count": null,
   "metadata": {
    "collapsed": true,
    "scrolled": true
   },
   "outputs": [],
   "source": [
    "# Fixing headers programatically\n",
    "for file in tqdm_notebook(fits_files):\n",
    "    print(file)\n",
    "    fitsfile = fits.open(basepath[0]+'/data/'+file)\n",
    "    fitsfile.verify('fix')\n",
    "    header = (fitsfile[0].header)\n",
    "    if header['CUNIT2'] == 'sin(latitude)' and header['CTYPE1'] == 'CRLN-CEA' and header['CTYPE2'] == 'CRLT-CEA':\n",
    "        tqdm.write(\"Wrong header information found in %s. Changing...\" % file)\n",
    "        #print(\"Wrong header information found in %s. Changing...\" % file)\n",
    "        header['CUNIT2'] = 'deg'\n",
    "        header['CTYPE1'] == 'CSLN-CEA'\n",
    "        header['CTYPE2'] == 'CSLT-CEA'\n",
    "    try:\n",
    "        if header['HGLN_OBS'] == 'nan':\n",
    "            del header['HGLN_OBS']\n",
    "    except KeyError:\n",
    "        #tdqm.write(\"Warning: Key not found, letting it pass.\")\n",
    "        print(\"Warning: Key not found, letting it pass.\")\n",
    "        pass\n",
    "    if header.get('CD1_2') == None:\n",
    "        header['CD1_2'] = 0\n",
    "    if header.get('CD2_1') == None:\n",
    "        header['CD2_1'] = 0"
   ]
  },
  {
   "cell_type": "code",
   "execution_count": null,
   "metadata": {
    "collapsed": true,
    "scrolled": true
   },
   "outputs": [],
   "source": [
    "# NOT NEEDED - KEPT FOR REMEMBERING IN THE OCCASION THIS IS NEEDED\n",
    "#astropy.wcs.utils.WCS_FRAME_MAPPINGS.append([sinehpc_wcs_frame_mapping]) # Adding the map to the WCS astropy utils module"
   ]
  },
  {
   "cell_type": "markdown",
   "metadata": {},
   "source": [
    "# Graficar visualizar resultados de la búsqueda"
   ]
  },
  {
   "cell_type": "code",
   "execution_count": null,
   "metadata": {
    "collapsed": false,
    "scrolled": false
   },
   "outputs": [],
   "source": [
    "# Esto es para ver alguna imagen en específico, con coordenadas y todo\n",
    "%matplotlib inline\n",
    "plt.figure(figsize=(16,9))\n",
    "# Making the map \n",
    "fitsfile = fits.open(basepath[0]+'/'+fits_files[10])\n",
    "fitsfile.verify('fix')\n",
    "data = fitsfile[1].data\n",
    "header = fitsfile[1].header\n",
    "m = Map((data, header))\n",
    "m.peek()\n",
    "# Set the colorbar properties.\n",
    "#m.plot_settings['cmap'] = 'hmimag'\n",
    "#m.plot_settings['norm'] = plt.Normalize(-1500, 1500)"
   ]
  },
  {
   "cell_type": "code",
   "execution_count": null,
   "metadata": {
    "collapsed": true
   },
   "outputs": [],
   "source": [
    "# Para dibujar perfiles\n",
    "plt.plot(data[2048,:])\n",
    "plt.xlabel('Pixeles')\n",
    "plt.ylabel('Intensidad')\n",
    "plt.grid(True)\n",
    "plt.show()"
   ]
  },
  {
   "cell_type": "markdown",
   "metadata": {},
   "source": [
    "# Widget to see time evolution\n",
    "\n",
    "Since we are really dealing with a \"big\" sequence of images in FITS format it is helpful to have a widget to actually see the sequence and check wether the time range chosen is correct and see what to expect beforehand."
   ]
  },
  {
   "cell_type": "code",
   "execution_count": null,
   "metadata": {
    "collapsed": false
   },
   "outputs": [],
   "source": [
    "%matplotlib inline\n",
    "from IPython.html.widgets import *\n",
    "number_of_images = len(fits_files)\n",
    "\n",
    "def image_sequence(image):\n",
    "    #fitsfile = fits.open(basepath[0]+'/data/'+fits_files[0])\n",
    "    #print(fitsfile)\n",
    "    fitsfile = fits.open(basepath[0]+'/'+fits_files[image])\n",
    "    fitsfile.verify('fix')\n",
    "    plt.figure(figsize=(16,9))\n",
    "    plt.imshow(fitsfile[1].data)\n",
    "    plt.title(fitsfile.filename())\n",
    "    plt.show()\n",
    "    \n",
    "interact(image_sequence, image=(0,number_of_images-1,1), continuous_update=False)"
   ]
  },
  {
   "cell_type": "markdown",
   "metadata": {
    "collapsed": true
   },
   "source": [
    "# Procesamiento de datos\n",
    "\n",
    "Aplicaré algo de lo que dicen acá http://www.pyimagesearch.com/2016/10/31/detecting-multiple-bright-spots-in-an-image-with-python-and-opencv/ para detectar manchas simultáneamente y hacer una estadística automática y \"grande\".\n",
    "\n",
    "Tengo que aplicar lo de esa página pero con oscuros, no con claros. Por ahora se aplica a una imágen en específico, luego hay que aplicarla a todas las imágenes y que lance los datos de velocidad/trayectoria.\n",
    "\n",
    "## Algoritmo:\n",
    "En términos generales el algoritmo es como sigue:\n",
    "\n",
    "1) Remover background/borde oscuro\n",
    "\n",
    "2) Suavizar la imagen aplicando un filtro Gaussiano\n",
    "\n",
    "3) \"Binarizando\" con umbral\n",
    "\n",
    "4) Labeling the spots\n",
    "\n",
    "5) Obteniendo centros de masa (en unidades arcsec)\n",
    "\n"
   ]
  },
  {
   "cell_type": "code",
   "execution_count": 3,
   "metadata": {
    "collapsed": false
   },
   "outputs": [],
   "source": [
    "# Módulos básicos para detectar contornos/manchas\n",
    "from imutils import contours\n",
    "from skimage import measure\n",
    "import skimage\n",
    "#import numpy as np\n",
    "import imutils\n",
    "import cv2"
   ]
  },
  {
   "cell_type": "markdown",
   "metadata": {},
   "source": [
    "### 1) Remover background/borde oscuro, de medidas en casos anteriores sabemos que\n",
    "\n",
    "3851 px = Diametro horizontal sol\n",
    "\n",
    "3967 - 117 = 3850 px = Diametro vert. sol\n",
    "\n",
    "Recordar que X -> vertical y Y -> horizontal, para tratamiento de imágenes.\n",
    "\n",
    "La imagen es de 4096 x 4096 y si asumimos que la imagen está bien centrada en 2048, entonces podemos hacer un círculo de radio $r\\le 3850/2 \\approx 1925$ pixeles, tal que lo que esté por fuera de este círculo se vuelva \"nan\" y lo de adentro se quede igual.\n",
    "\n",
    "Más información en: http://stackoverflow.com/questions/8647024/how-to-apply-a-disc-shaped-mask-to-a-numpy-array"
   ]
  },
  {
   "cell_type": "code",
   "execution_count": 4,
   "metadata": {
    "collapsed": false
   },
   "outputs": [],
   "source": [
    "# Borrar background/contorno negro\n",
    "## se hace una máscara circular con centro = (2048, 2048)\n",
    "centerx, centery = 2048, 2048\n",
    "r = 1920  # radius set1\n",
    "# r = 1850 # radius set2\n",
    "# r = 1810 # radius set3\n",
    "# r = 1810 # radius set4\n",
    "#r = 1860 # radius set5\n",
    "#r = 1860 # radius set6\n",
    "#r = 1850 # radius set7\n",
    "y,x = np.ogrid[-centerx:4096-centerx, -centery:4096-centery]\n",
    "mask = x*x + y*y > r*r  # circular mask\n",
    "#array = np.ones((n, n))\n",
    "#array[mask] = 255"
   ]
  },
  {
   "cell_type": "code",
   "execution_count": 5,
   "metadata": {
    "collapsed": true
   },
   "outputs": [],
   "source": [
    "# FUNCIONES BÁSICAS PARA HACER LO QUE NECESITO (deberían ir en un .py aparte - WIP)\n",
    "# \n",
    "def extract_fits_data(index):\n",
    "    '''\n",
    "    Function to extract data from fitsfile given just an index\n",
    "    '''\n",
    "    fitsfile = fits.open(basepath[0]+'/'+fits_files[index])\n",
    "    fitsfile.verify('fix')\n",
    "    return fitsfile[1].header, fitsfile[1].data"
   ]
  },
  {
   "cell_type": "code",
   "execution_count": 6,
   "metadata": {
    "collapsed": false
   },
   "outputs": [
    {
     "name": "stderr",
     "output_type": "stream",
     "text": [
      "WARNING: VerifyWarning: Verification reported errors: [astropy.io.fits.verify]\n",
      "WARNING: VerifyWarning: HDU 1: [astropy.io.fits.verify]\n",
      "WARNING: VerifyWarning:     Card 41: [astropy.io.fits.verify]\n",
      "WARNING: VerifyWarning:         Card 'SOURCE' is not FITS standard (invalid value string: \"'hmi.lev1[:#32941821,#32941797,#32941773,#32941845,#32941869,#32941893\").  Fixed 'SOURCE' card to meet the FITS standard. [astropy.io.fits.verify]\n",
      "WARNING: VerifyWarning:     Card 71: [astropy.io.fits.verify]\n",
      "WARNING: VerifyWarning:         Card 'CRDER1' is not FITS standard (invalid value string: 'nan').  Fixed 'CRDER1' card to meet the FITS standard. [astropy.io.fits.verify]\n",
      "WARNING: VerifyWarning:     Card 72: [astropy.io.fits.verify]\n",
      "WARNING: VerifyWarning:         Card 'CRDER2' is not FITS standard (invalid value string: 'nan').  Fixed 'CRDER2' card to meet the FITS standard. [astropy.io.fits.verify]\n",
      "WARNING: VerifyWarning:     Card 73: [astropy.io.fits.verify]\n",
      "WARNING: VerifyWarning:         Card 'CSYSER1' is not FITS standard (invalid value string: 'nan').  Fixed 'CSYSER1' card to meet the FITS standard. [astropy.io.fits.verify]\n",
      "WARNING: VerifyWarning:     Card 74: [astropy.io.fits.verify]\n",
      "WARNING: VerifyWarning:         Card 'CSYSER2' is not FITS standard (invalid value string: 'nan').  Fixed 'CSYSER2' card to meet the FITS standard. [astropy.io.fits.verify]\n",
      "WARNING: VerifyWarning: Note: astropy.io.fits uses zero-based indexing.\n",
      " [astropy.io.fits.verify]\n"
     ]
    },
    {
     "data": {
      "text/plain": [
       "<matplotlib.image.AxesImage at 0x7ff8c9d55a58>"
      ]
     },
     "execution_count": 6,
     "metadata": {},
     "output_type": "execute_result"
    },
    {
     "data": {
      "image/png": "[encoded data removed]",
      "text/plain": [
       "<matplotlib.figure.Figure at 0x7ff8c9e69f28>"
      ]
     },
     "metadata": {},
     "output_type": "display_data"
    }
   ],
   "source": [
    "# Apply mask\n",
    "header, data = extract_fits_data(2)\n",
    "sun_map = Map((data, header))\n",
    "data[mask] = 100000\n",
    "# plot data to check background removal\n",
    "%matplotlib inline\n",
    "plt.figure(figsize=(16,9))\n",
    "plt.imshow(data)\n",
    "#plt.figure()\n",
    "#plt.imshow(extract_fits_data(14))\n",
    "#plt.show()"
   ]
  },
  {
   "cell_type": "markdown",
   "metadata": {},
   "source": [
    "### 2) Suavizar la imagen aplicando un filtro Gaussiano"
   ]
  },
  {
   "cell_type": "code",
   "execution_count": 12,
   "metadata": {
    "collapsed": true
   },
   "outputs": [],
   "source": [
    "# Just blur the image with a gaussian filter\n",
    "blurred = cv2.GaussianBlur(data, (31, 31), 0)\n",
    "#blurred = cv2.GaussianBlur(data, (11, 11), 0) # set 4"
   ]
  },
  {
   "cell_type": "code",
   "execution_count": 13,
   "metadata": {
    "collapsed": false
   },
   "outputs": [
    {
     "data": {
      "image/png": "[encoded data removed]",
      "text/plain": [
       "<matplotlib.figure.Figure at 0x7ff8f26ddd30>"
      ]
     },
     "metadata": {},
     "output_type": "display_data"
    }
   ],
   "source": [
    "# Plot blurred image\n",
    "%matplotlib inline\n",
    "plt.figure(figsize=(16,9))\n",
    "plt.imshow(blurred)\n",
    "plt.colorbar()\n",
    "plt.show()"
   ]
  },
  {
   "cell_type": "markdown",
   "metadata": {},
   "source": [
    "Al parecer usar 31 en el filtro Gaussiano da buenos resultados con esta imagen que tiene algunas manchas MUY pequeñas, de tal forma que puedo descartar todas las cosas que sean más brillantes a 4.5e4 (45000), detectando así solo las dos manchas grandes. Porque no puedo garantizar que las manchas pequeñas siempre sean visibles."
   ]
  },
  {
   "cell_type": "markdown",
   "metadata": {},
   "source": [
    "### 3) \"Binarizando\" con umbral"
   ]
  },
  {
   "cell_type": "code",
   "execution_count": 14,
   "metadata": {
    "collapsed": true
   },
   "outputs": [],
   "source": [
    "thresh = cv2.threshold(blurred, 29250, 74078, cv2.THRESH_BINARY)[1]"
   ]
  },
  {
   "cell_type": "code",
   "execution_count": 17,
   "metadata": {
    "collapsed": false
   },
   "outputs": [
    {
     "data": {
      "image/png": "[encoded data removed]",
      "text/plain": [
       "<matplotlib.figure.Figure at 0x7ff8aff84208>"
      ]
     },
     "metadata": {},
     "output_type": "display_data"
    }
   ],
   "source": [
    "# Plot binary image\n",
    "%matplotlib inline\n",
    "plt.figure(figsize=(16,9))\n",
    "plt.imshow(thresh)\n",
    "plt.colorbar()\n",
    "plt.show()"
   ]
  },
  {
   "cell_type": "code",
   "execution_count": 16,
   "metadata": {
    "collapsed": true
   },
   "outputs": [],
   "source": [
    "# Removing small \"blobs\" with erode and dilate\n",
    "thresh = cv2.erode(thresh, None, iterations=2)\n",
    "thresh = cv2.dilate(thresh, None, iterations=2)"
   ]
  },
  {
   "cell_type": "markdown",
   "metadata": {},
   "source": [
    "### 4) Labeling the spots\n",
    "Using https://en.wikipedia.org/wiki/Connected-component_labeling"
   ]
  },
  {
   "cell_type": "code",
   "execution_count": 18,
   "metadata": {
    "collapsed": true
   },
   "outputs": [],
   "source": [
    "labels = measure.label(thresh, neighbors=8, background=74078)\n",
    "mask = np.zeros(thresh.shape, dtype=\"uint8\")\n",
    "# loop over the unique components\n",
    "for label in np.unique(labels):\n",
    "    # if this is the background label, ignore it\n",
    "    if label == 0:\n",
    "        continue\n",
    " \n",
    "    # otherwise, construct the label mask and count the\n",
    "    # number of pixels \n",
    "    labelMask = np.zeros(thresh.shape, dtype=\"uint8\")\n",
    "    labelMask[labels == label] = 255\n",
    "    numPixels = cv2.countNonZero(labelMask)\n",
    " \n",
    "    # if the number of pixels in the component is sufficiently\n",
    "    # large, then add it to our mask of \"large blobs\"\n",
    "    if numPixels > 30: # set1\n",
    "    #if numPixels > 20: # set4\n",
    "    #if numPixels > 200: # set5\n",
    "    #if numPixels > 200: # set6\n",
    "    #if numPixels > 50: # set7\n",
    "        mask = cv2.add(mask, labelMask)"
   ]
  },
  {
   "cell_type": "code",
   "execution_count": 19,
   "metadata": {
    "collapsed": false
   },
   "outputs": [
    {
     "data": {
      "image/png": "[encoded data removed]",
      "text/plain": [
       "<matplotlib.figure.Figure at 0x7ff8aff0ecc0>"
      ]
     },
     "metadata": {},
     "output_type": "display_data"
    }
   ],
   "source": [
    "# Plot the resulting mask\n",
    "# Plot binary image\n",
    "%matplotlib inline\n",
    "plt.figure(figsize=(16,9))\n",
    "plt.imshow(mask)\n",
    "plt.colorbar()\n",
    "plt.show()"
   ]
  },
  {
   "cell_type": "code",
   "execution_count": 20,
   "metadata": {
    "collapsed": false
   },
   "outputs": [
    {
     "name": "stdout",
     "output_type": "stream",
     "text": [
      "1271.0 1598.6666259765625\n",
      "3422.0 1331.5\n"
     ]
    }
   ],
   "source": [
    "image = data.astype(\"uint8\")\n",
    "# find the contours in the mask, then sort them from left to right\n",
    "cnts = cv2.findContours(mask.copy(), cv2.RETR_EXTERNAL, cv2.CHAIN_APPROX_SIMPLE)\n",
    "cnts = cnts[0] if imutils.is_cv2() else cnts[1]\n",
    "cnts = contours.sort_contours(cnts)[0]\n",
    "#cv2.namedWindow(\"Image\", cv2.WINDOW_NORMAL or cv2.WINDOW_AUTOSIZE)  # To show window that's larger than screen \n",
    "# loop over the contours\n",
    "centros_de_masa = []\n",
    "for (i, c) in enumerate(cnts):\n",
    "    # draw the bright spot on the image\n",
    "    (x, y, w, h) = cv2.boundingRect(c)\n",
    "    ((cX, cY), radius) = cv2.minEnclosingCircle(c)\n",
    "    print(cX,cY)\n",
    "    centros_de_masa.append([cX, cY])\n",
    "    cv2.circle(image, (int(cX), int(cY)), int(radius), (0, 0, 255), 3)\n",
    "    cv2.putText(image, \"#{}\".format(i + 1), (x, y - 15), cv2.FONT_HERSHEY_SIMPLEX, 0.45, (0, 0, 255), 2)\n",
    "\n",
    "# show the output image\n",
    "#cv2.imshow(\"Image\",image)\n",
    "#cv2.waitKey(0)"
   ]
  },
  {
   "cell_type": "markdown",
   "metadata": {
    "collapsed": true
   },
   "source": [
    "### 5) Obteniendo centros de masa\n",
    "De lo anterior se obtienen centros en pixeles, ahora tengo que pasar estos centros a centros de masa en coordenadas de sunpy (arcsec)."
   ]
  },
  {
   "cell_type": "code",
   "execution_count": 21,
   "metadata": {
    "collapsed": false
   },
   "outputs": [],
   "source": [
    "# hago mapa de SunPy\n",
    "sun_map = Map((data, header))"
   ]
  },
  {
   "cell_type": "code",
   "execution_count": 22,
   "metadata": {
    "collapsed": false
   },
   "outputs": [
    {
     "name": "stdout",
     "output_type": "stream",
     "text": [
      "(<Longitude 389.81247636713766 arcsec>, <Latitude 223.1316761056224 arcsec>)\n",
      "(<Longitude -694.6108677394705 arcsec>, <Latitude 359.17096296953525 arcsec>)\n"
     ]
    }
   ],
   "source": [
    "for i in centros_de_masa:\n",
    "    print(sun_map.pixel_to_data(i[0]*u.pix, i[1]*u.pix))"
   ]
  },
  {
   "cell_type": "markdown",
   "metadata": {},
   "source": [
    "## Transforming coordinates\n",
    "Coordinates from the data of HMI are in Helioprojective-cartesian, to account for changes in the perspective of the Sun since the observer is sometimes above Sun's equator, sometimes below and the north pole is not always the highest point in the image (check http://jgiesen.de/sunrot/index.html for visualization and explanations) we have to perform a coordinate transformation to use Stonyhurst-Heliocentric coordinates. Fortunately astropy does this for us.\n",
    "\n",
    "Based on code from http://docs.sunpy.org/en/latest/generated/gallery/tutorials/skip_SDO_to_STEREO_Coordinate_Conversion.html#sphx-glr-generated-gallery-tutorials-skip-sdo-to-stereo-coordinate-conversion-py"
   ]
  },
  {
   "cell_type": "code",
   "execution_count": 23,
   "metadata": {
    "collapsed": false
   },
   "outputs": [
    {
     "data": {
      "text/plain": [
       "<Helioprojective Frame (D0=147324152897.0 m, dateobs=2012-01-29 00:30:25.900000, L0=0.0 deg, B0=-5.758757 deg, rsun=695508.0 km)>"
      ]
     },
     "execution_count": 23,
     "metadata": {},
     "output_type": "execute_result"
    }
   ],
   "source": [
    "sun_map.coordinate_frame"
   ]
  },
  {
   "cell_type": "code",
   "execution_count": 24,
   "metadata": {
    "collapsed": true
   },
   "outputs": [],
   "source": [
    "from astropy.coordinates import SkyCoord\n",
    "\n",
    "import sunpy.map\n",
    "import sunpy.coordinates\n",
    "import sunpy.coordinates.wcs_utils"
   ]
  },
  {
   "cell_type": "code",
   "execution_count": 25,
   "metadata": {
    "collapsed": false
   },
   "outputs": [
    {
     "name": "stdout",
     "output_type": "stream",
     "text": [
      "<SkyCoord (HeliographicStonyhurst: dateobs=2012-01-29 00:30:25.900000): (lon, lat, radius) in (deg, deg, km)\n",
      "    [( 23.73347573,   7.92650434,  695508.00000399),\n",
      "     (-48.34103282,  17.80942647,  695508.00000139)]>\n"
     ]
    },
    {
     "data": {
      "text/plain": [
       "sunpy.coordinates.representation.SphericalWrap180Representation"
      ]
     },
     "execution_count": 25,
     "metadata": {},
     "output_type": "execute_result"
    }
   ],
   "source": [
    "CoM_pix = centros_de_masa*u.pix # Transforming CoM to astropy pix unit\n",
    "CoM_arcsec = [sun_map.pixel_to_data(*i) for i in CoM_pix] # Then transforming them to arcsec\n",
    "#print(CoM_arcsec)\n",
    "hpc_coords = SkyCoord([*CoM_arcsec], frame=sun_map.coordinate_frame)  # Built skycoord object with sunspots/CoM coords\n",
    "#print(hpc_coords)\n",
    "hgs_coords = hpc_coords.transform_to('heliographic_stonyhurst')  # Transform from HPC to HGS coordinate system\n",
    "print(hgs_coords)\n",
    "type(hgs_coords.data)"
   ]
  },
  {
   "cell_type": "code",
   "execution_count": 26,
   "metadata": {
    "collapsed": false
   },
   "outputs": [
    {
     "data": {
      "text/plain": [
       "-48.34103282400773"
      ]
     },
     "execution_count": 26,
     "metadata": {},
     "output_type": "execute_result"
    }
   ],
   "source": [
    "hgs_coords.data[1].lon.deg # acceder a dato numérico \"puro\" de lat o lon en grados"
   ]
  },
  {
   "cell_type": "code",
   "execution_count": 28,
   "metadata": {
    "collapsed": false
   },
   "outputs": [
    {
     "name": "stdout",
     "output_type": "stream",
     "text": [
      "23.733475726303862\n",
      "7.9265043386397105\n",
      "-48.34103282400773\n",
      "17.809426468015396\n"
     ]
    }
   ],
   "source": [
    "for i in hgs_coords.data:\n",
    "    print(i.lon.deg)\n",
    "    print(i.lat.deg)"
   ]
  },
  {
   "cell_type": "markdown",
   "metadata": {
    "collapsed": true
   },
   "source": [
    "# Aplicando a todo el set\n",
    "\n",
    "Lo anterior consiste en el laboratorio para ver los diferentes pasos por separado y entender los resultados de cada uno de los pasos del algoritmo. A continuación se unen todos estos pasos y se aplican a TODO el conjunto de imágenes.\n",
    "\n",
    "## Algoritmo:\n",
    "En términos generales el algoritmo es como sigue:\n",
    "\n",
    "1) Remover background/borde oscuro (aplicar máscara)\n",
    "\n",
    "2) Suavizar la imagen aplicando un filtro Gaussiano\n",
    "\n",
    "3) \"Binarizando\" con umbral\n",
    "\n",
    "4) Labeling the spots\n",
    "\n",
    "5) Obteniendo centros de masa (en unidades de pixeles)\n",
    "\n",
    "6) Transformar coordenadas a HGS (Heliographic-Stonyhurst)\n",
    "\n",
    "7) Obtener datos latitud/longitud en degrees\n",
    "\n",
    "8) Guardar datos en archivos de texto\n",
    "\n",
    "### Nota\n",
    "Para cada set de datos es necesario aplicar diferentes valores para los parámetros del procesamiento de imágenes, entonces se usará un archivo de configuración (del tipo ConfigParser) para leer y guardar estos parámetros para cada set."
   ]
  },
  {
   "cell_type": "code",
   "execution_count": null,
   "metadata": {
    "collapsed": true
   },
   "outputs": [],
   "source": [
    "# Configparser to parse options for each set of data\n",
    "from configparser import ConfigParser"
   ]
  },
  {
   "cell_type": "code",
   "execution_count": null,
   "metadata": {
    "collapsed": true
   },
   "outputs": [],
   "source": [
    "# Read data set parameters from config file\n",
    "config = ConfigParser()\n",
    "# TODO"
   ]
  },
  {
   "cell_type": "code",
   "execution_count": null,
   "metadata": {
    "collapsed": true
   },
   "outputs": [],
   "source": [
    "def plot_data(data, title):\n",
    "    %matplotlib inline\n",
    "    plt.figure(figsize=(16,9))\n",
    "    plt.title(title)\n",
    "    plt.imshow(data)\n",
    "    plt.colorbar()\n",
    "    plt.show()"
   ]
  },
  {
   "cell_type": "code",
   "execution_count": 29,
   "metadata": {
    "collapsed": false
   },
   "outputs": [
    {
     "name": "stderr",
     "output_type": "stream",
     "text": [
      "WARNING: VerifyWarning: Verification reported errors: [astropy.io.fits.verify]\n",
      "WARNING: VerifyWarning: HDU 1: [astropy.io.fits.verify]\n",
      "WARNING: VerifyWarning:     Card 41: [astropy.io.fits.verify]\n",
      "WARNING: VerifyWarning:         Card 'SOURCE' is not FITS standard (invalid value string: \"'hmi.lev1[:#32940845,#32940842,#32940813,#32940885,#32940909,#32940933\").  Fixed 'SOURCE' card to meet the FITS standard. [astropy.io.fits.verify]\n",
      "WARNING: VerifyWarning:     Card 71: [astropy.io.fits.verify]\n",
      "WARNING"
     ]
    },
    {
     "name": "stdout",
     "output_type": "stream",
     "text": [
      "<SkyCoord (HeliographicStonyhurst: dateobs=2012-01-29 00:00:25.900000): (lon, lat, radius) in (deg, deg, km)\n",
      "    ( 23.4565573,  7.92371454,  695508.00000193)>\n",
      "<SkyCoord (HeliographicStonyhurst: dateobs=2012-01-29 00:00:25.900000): (lon, lat, radius) in (deg, deg, km)\n",
      "    [( 23.4565573 ,   7.92371454,  695508.00000193),\n",
      "     (-48.56290192,  17.7813695 ,  695507.99999994)]>\n",
      "Image index:  0\n",
      "Detected  2  spots.\n",
      "23.456557303910873\n",
      "7.923714541541935\n",
      "-48.562901924289626\n",
      "17.781369500134815\n"
     ]
    },
    {
     "name": "stderr",
     "output_type": "stream",
     "text": [
      ": VerifyWarning:         Card 'CRDER1' is not FITS standard (invalid value string: 'nan').  Fixed 'CRDER1' card to meet the FITS standard. [astropy.io.fits.verify]\n",
      "WARNING: VerifyWarning:     Card 72: [astropy.io.fits.verify]\n",
      "WARNING: VerifyWarning:         Card 'CRDER2' is not FITS standard (invalid value string: 'nan').  Fixed 'CRDER2' card to meet the FITS standard. [astropy.io.fits.verify]\n",
      "WARNING: VerifyWarning:     Card 73: [astropy.io.fits.verify]\n",
      "WARNING: VerifyWarning:         Card 'CSYSER1' is not FITS standard (invalid value string: 'nan').  Fixed 'CSYSER1' card to meet the FITS standard. [astropy.io.fits.verify]\n",
      "WARNING: VerifyWarning:     Card 74: [astropy.io.fits.verify]\n",
      "WARNING: VerifyWarning:         Card 'CSYSER2' is not FITS standard (invalid value string: 'nan').  Fixed 'CSYSER2' card to meet the FITS standard. [astropy.io.fits.verify]\n",
      "WARNING: VerifyWarning: Note: astropy.io.fits uses zero-based indexing.\n",
      " [astropy.io.fits.verify]\n",
      "WARNING: VerifyWarning:         Card 'SOURCE' is not FITS standard (invalid value string: \"'hmi.lev1[:#32941341,#32941317,#32941293,#32941365,#32941389,#32941413\").  Fixed 'SOURCE' card to meet the FITS standard. [astropy.io.fits.verify]\n"
     ]
    },
    {
     "name": "stdout",
     "output_type": "stream",
     "text": [
      "<SkyCoord (HeliographicStonyhurst: dateobs=2012-01-29 00:15:25.900000): (lon, lat, radius) in (deg, deg, km)\n",
      "    ( 23.60291584,  7.9311155,  695507.99999914)>\n",
      "<SkyCoord (HeliographicStonyhurst: dateobs=2012-01-29 00:15:25.900000): (lon, lat, radius) in (deg, deg, km)\n",
      "    [( 23.60291584,   7.9311155 ,  695507.99999914),\n",
      "     (-48.47732887,  17.80834008,  695508.00000233)]>\n",
      "Image index:  1\n",
      "Detected  2  spots.\n",
      "23.602915843839043\n",
      "7.931115495787562"
     ]
    },
    {
     "name": "stderr",
     "output_type": "stream",
     "text": [
      "WARNING: VerifyWarning:         Card 'SOURCE' is not FITS standard (invalid value string: \"'hmi.lev1[:#32941821,#32941797,#32941773,#32941845,#32941869,#32941893\").  Fixed 'SOURCE' card to meet the FITS standard. [astropy.io.fits.verify]\n"
     ]
    },
    {
     "name": "stdout",
     "output_type": "stream",
     "text": [
      "\n",
      "-48.47732886673987\n",
      "17.80834007689166\n",
      "<SkyCoord (HeliographicStonyhurst: dateobs=2012-01-29 00:30:25.900000): (lon, lat, radius) in (deg, deg, km)\n",
      "    ( 23.73347573,  7.92650434,  695508.00000399)>\n",
      "<SkyCoord (HeliographicStonyhurst: dateobs=2012-01-29 00:30:25.900000): (lon, lat, radius) in (deg, deg, km)\n",
      "    [( 23.73347573,   7.92650434,  695508.00000399),\n",
      "     (-48.34103282,  17.80942647,  695508.00000139)]>\n",
      "Image index:  2\n",
      "Detected  2  spots.\n",
      "23.733475726303862\n",
      "7.9265043386397105\n",
      "-48.34103282400773\n",
      "17.809426468015396\n"
     ]
    },
    {
     "name": "stderr",
     "output_type": "stream",
     "text": [
      "WARNING: VerifyWarning:         Card 'SOURCE' is not FITS standard (invalid value string: \"'hmi.lev1[:#32942301,#32942277,#32942253,#32942325,#32942349,#32942373\").  Fixed 'SOURCE' card to meet the FITS standard. [astropy.io.fits.verify]\n"
     ]
    },
    {
     "name": "stdout",
     "output_type": "stream",
     "text": [
      "<SkyCoord (HeliographicStonyhurst: dateobs=2012-01-29 00:45:25.900000): (lon, lat, radius) in (deg, deg, km)\n",
      "    ( 23.86827981,  7.9113792,  695507.99999586)>\n",
      "<SkyCoord (HeliographicStonyhurst: dateobs=2012-01-29 00:45:25.900000): (lon, lat, radius) in (deg, deg, km)\n",
      "    [( 23.86827981,   7.9113792 ,  695507.99999586),\n",
      "     (-48.19399216,  17.79874826,  695507.99999675)]>\n",
      "Image index:  3\n",
      "Detected  2  spots.\n",
      "23.868279806029\n",
      "7.91137920019169\n",
      "-48.19399216086762\n",
      "17.798748263396153\n"
     ]
    },
    {
     "name": "stderr",
     "output_type": "stream",
     "text": [
      "WARNING: VerifyWarning:         Card 'SOURCE' is not FITS standard (invalid value string: \"'hmi.lev1[:#32942757,#32942733,#32942709,#32942781,#32942805,#32942829\").  Fixed 'SOURCE' card to meet the FITS standard. [astropy.io.fits.verify]\n"
     ]
    },
    {
     "name": "stdout",
     "output_type": "stream",
     "text": [
      "<SkyCoord (HeliographicStonyhurst: dateobs=2012-01-29 00:59:40.900000): (lon, lat, radius) in (deg, deg, km)\n",
      "    ( 23.9947872,  7.91411243,  695508.00000293)>\n",
      "<SkyCoord (HeliographicStonyhurst: dateobs=2012-01-29 00:59:40.900000): (lon, lat, radius) in (deg, deg, km)\n",
      "    [( 23.9947872 ,   7.91411243,  695508.00000293),\n",
      "     (-48.05063934,  17.78428941,  695507.99999839)]>\n",
      "Image index:  4\n",
      "Detected  2  spots.\n",
      "23.994787198008805\n",
      "7.914112431421944\n",
      "-48.05063933973564\n",
      "17.784289408265707\n"
     ]
    },
    {
     "name": "stderr",
     "output_type": "stream",
     "text": [
      "WARNING: VerifyWarning:         Card 'SOURCE' is not FITS standard (invalid value string: \"'hmi.lev1[:#32942781,#32942757,#32942733,#32942805,#32942829,#32942853\").  Fixed 'SOURCE' card to meet the FITS standard. [astropy.io.fits.verify]\n"
     ]
    },
    {
     "name": "stdout",
     "output_type": "stream",
     "text": [
      "<SkyCoord (HeliographicStonyhurst: dateobs=2012-01-29 01:00:25.900000): (lon, lat, radius) in (deg, deg, km)\n",
      "    ( 23.99891271,  7.91298361,  695508.00000347)>\n",
      "<SkyCoord (HeliographicStonyhurst: dateobs=2012-01-29 01:00:25.900000): (lon, lat, radius) in (deg, deg, km)\n",
      "    [( 23.99891271,   7.91298361,  695508.00000347),\n",
      "     (-47.9962663 ,  17.76389362,  695508.00000257)]>\n",
      "Image index:  5\n",
      "Detected  2  spots.\n",
      "23.99891271239818\n",
      "7.91298360815091\n",
      "-47.996266303136785\n",
      "17.76389362303734\n"
     ]
    },
    {
     "name": "stderr",
     "output_type": "stream",
     "text": [
      "WARNING: VerifyWarning:         Card 'SOURCE' is not FITS standard (invalid value string: \"'hmi.lev1[:#32943237,#32943213,#32943189,#32943261,#32943285,#32943309\").  Fixed 'SOURCE' card to meet the FITS standard. [astropy.io.fits.verify]\n"
     ]
    },
    {
     "name": "stdout",
     "output_type": "stream",
     "text": [
      "<SkyCoord (HeliographicStonyhurst: dateobs=2012-01-29 01:14:40.900000): (lon, lat, radius) in (deg, deg, km)\n",
      "    ( 24.13915019,  7.91174214,  695507.9999978)>\n",
      "<SkyCoord (HeliographicStonyhurst: dateobs=2012-01-29 01:14:40.900000): (lon, lat, radius) in (deg, deg, km)\n",
      "    [( 24.13915019,   7.91174214,  695507.9999978 ),\n",
      "     (-47.91794333,  17.79134407,  695507.99999976)]>\n",
      "Image index:  6\n",
      "Detected  2  spots.\n",
      "24.13915018950661\n",
      "7.91174213839336\n",
      "-47.917943332534215\n",
      "17.791344074734557\n"
     ]
    },
    {
     "name": "stderr",
     "output_type": "stream",
     "text": [
      "WARNING"
     ]
    },
    {
     "name": "stdout",
     "output_type": "stream",
     "text": [
      "<SkyCoord (HeliographicStonyhurst: dateobs=2012-01-29 01:15:25.900000): (lon, lat, radius) in (deg, deg, km)\n",
      "    ( 24.14161007,  7.91589301,  695507.99999924)>\n",
      "<SkyCoord (HeliographicStonyhurst: dateobs=2012-01-29 01:15:25.900000): (lon, lat, radius) in (deg, deg, km)\n",
      "    [( 24.14161007,   7.91589301,  695507.99999924),\n",
      "     (-47.86421037,  17.7714066 ,  695507.99999344)]>\n",
      "Image index:  7\n",
      "Detected  2  spots.\n",
      "24.141610072290486\n",
      "7.915893005056136\n",
      "-47.864210373190176\n",
      "17.771406598374288\n"
     ]
    },
    {
     "name": "stderr",
     "output_type": "stream",
     "text": [
      ": VerifyWarning:         Card 'SOURCE' is not FITS standard (invalid value string: \"'hmi.lev1[:#32943261,#32943237,#32943213,#32943285,#32943309,#32943333\").  Fixed 'SOURCE' card to meet the FITS standard. [astropy.io.fits.verify]\n",
      "WARNING: VerifyWarning:         Card 'SOURCE' is not FITS standard (invalid value string: \"'hmi.lev1[:#32943717,#32943693,#32943681,#32943741,#32943777,#32943789\").  Fixed 'SOURCE' card to meet the FITS standard. [astropy.io.fits.verify]\n"
     ]
    },
    {
     "name": "stdout",
     "output_type": "stream",
     "text": [
      "<SkyCoord (HeliographicStonyhurst: dateobs=2012-01-29 01:29:40.900000): (lon, lat, radius) in (deg, deg, km)\n",
      "    ( 24.29190258,  7.91875255,  695508.00000085)>\n",
      "<SkyCoord (HeliographicStonyhurst: dateobs=2012-01-29 01:29:40.900000): (lon, lat, radius) in (deg, deg, km)\n",
      "    [( 24.29190258,   7.91875255,  695508.00000085),\n",
      "     (-47.74685926,  17.77525846,  695507.99999992)]>\n",
      "Image index:  8\n",
      "Detected  2  spots.\n",
      "24.29190258496155\n",
      "7.9187525530299885\n",
      "-47.74685925861972\n",
      "17.775258461010633\n"
     ]
    },
    {
     "name": "stderr",
     "output_type": "stream",
     "text": [
      "WARNING: VerifyWarning:         Card 'SOURCE' is not FITS standard (invalid value string: \"'hmi.lev1[:#32943741,#32943717,#32943693,#32943777,#32943789,#32943813\").  Fixed 'SOURCE' card to meet the FITS standard. [astropy.io.fits.verify]\n"
     ]
    },
    {
     "name": "stdout",
     "output_type": "stream",
     "text": [
      "<SkyCoord (HeliographicStonyhurst: dateobs=2012-01-29 01:30:25.900000): (lon, lat, radius) in (deg, deg, km)\n",
      "    ( 24.29161255,  7.91913313,  695508.00000036)>\n",
      "<SkyCoord (HeliographicStonyhurst: dateobs=2012-01-29 01:30:25.900000): (lon, lat, radius) in (deg, deg, km)\n",
      "    [( 24.29161255,   7.91913313,  695508.00000036),\n",
      "     (-47.77724313,  17.79403313,  695507.99999532)]>\n",
      "Image index:  9\n",
      "Detected  2  spots.\n",
      "24.291612547511473\n",
      "7.9191331335100905\n",
      "-47.77724312694139\n",
      "17.79403313388004\n"
     ]
    },
    {
     "name": "stderr",
     "output_type": "stream",
     "text": [
      "WARNING: VerifyWarning:         Card 'SOURCE' is not FITS standard (invalid value string: \"'hmi.lev1[:#32944209,#32944173,#32944161,#32944221,#32944257,#32944269\").  Fixed 'SOURCE' card to meet the FITS standard. [astropy.io.fits.verify]\n"
     ]
    },
    {
     "name": "stdout",
     "output_type": "stream",
     "text": [
      "<SkyCoord (HeliographicStonyhurst: dateobs=2012-01-29 01:44:41): (lon, lat, radius) in (deg, deg, km)\n",
      "    ( 24.42387799,  7.92700471,  695508.00000264)>\n",
      "<SkyCoord (HeliographicStonyhurst: dateobs=2012-01-29 01:44:41): (lon, lat, radius) in (deg, deg, km)\n",
      "    [( 24.42387799,   7.92700471,  695508.00000264),\n",
      "     (-47.66556874,  17.8042174 ,  695507.99999972)]>\n",
      "Image index:  10\n",
      "Detected  2  spots.\n",
      "24.42387799327347\n",
      "7.927004706278613\n",
      "-47.66556873601051\n",
      "17.804217404413656\n"
     ]
    },
    {
     "name": "stderr",
     "output_type": "stream",
     "text": [
      "WARNING: VerifyWarning:         Card 'SOURCE' is not FITS standard (invalid value string: \"'hmi.lev1[:#32944677,#32944653,#32944629,#32944701,#32944737,#32944749\").  Fixed 'SOURCE' card to meet the FITS standard. [astropy.io.fits.verify]\n"
     ]
    },
    {
     "name": "stdout",
     "output_type": "stream",
     "text": [
      "<SkyCoord (HeliographicStonyhurst: dateobs=2012-01-29 01:59:41): (lon, lat, radius) in (deg, deg, km)\n",
      "    ( 24.57077673,  7.91749763,  695508.00000055)>\n",
      "<SkyCoord (HeliographicStonyhurst: dateobs=2012-01-29 01:59:41): (lon, lat, radius) in (deg, deg, km)\n",
      "    [( 24.57077673,   7.91749763,  695508.00000055),\n",
      "     (-47.49958876,  17.78734695,  695507.99999474)]>\n",
      "Image index:  11\n",
      "Detected  2  spots.\n",
      "24.570776726867905\n",
      "7.91749763344197\n",
      "-47.4995887596525\n",
      "17.787346951604455\n"
     ]
    },
    {
     "name": "stderr",
     "output_type": "stream",
     "text": [
      "WARNING: VerifyWarning:         Card 'SOURCE' is not FITS standard (invalid value string: \"'hmi.lev1[:#32945157,#32945133,#32945109,#32945181,#32945217,#32945229\").  Fixed 'SOURCE' card to meet the FITS standard. [astropy.io.fits.verify]\n"
     ]
    },
    {
     "name": "stdout",
     "output_type": "stream",
     "text": [
      "<SkyCoord (HeliographicStonyhurst: dateobs=2012-01-29 02:14:41): (lon, lat, radius) in (deg, deg, km)\n",
      "    ( 24.70241835,  7.91576259,  695507.99999946)>\n",
      "<SkyCoord (HeliographicStonyhurst: dateobs=2012-01-29 02:14:41): (lon, lat, radius) in (deg, deg, km)\n",
      "    [( 24.70241835,   7.91576259,  695507.99999946),\n",
      "     (-47.41607398,  17.80969908,  695507.99999828)]>\n",
      "Image index:  12\n",
      "Detected  2  spots.\n",
      "24.70241835290493\n",
      "7.91576258845558\n",
      "-47.41607398019213\n",
      "17.809699082043636\n"
     ]
    },
    {
     "name": "stderr",
     "output_type": "stream",
     "text": [
      "WARNING: VerifyWarning:         Card 'SOURCE' is not FITS standard (invalid value string: \"'hmi.lev1[:#32945637,#32945613,#32945589,#32945661,#32945685,#32945709\").  Fixed 'SOURCE' card to meet the FITS standard. [astropy.io.fits.verify]\n"
     ]
    },
    {
     "name": "stdout",
     "output_type": "stream",
     "text": [
      "<SkyCoord (HeliographicStonyhurst: dateobs=2012-01-29 02:29:41): (lon, lat, radius) in (deg, deg, km)\n",
      "    ( 24.83521553,  7.90961322,  695507.99999958)>\n",
      "<SkyCoord (HeliographicStonyhurst: dateobs=2012-01-29 02:29:41): (lon, lat, radius) in (deg, deg, km)\n",
      "    [( 24.83521553,   7.90961322,  695507.99999958),\n",
      "     (-47.22185945,  17.78253804,  695507.9999987 )]>\n",
      "Image index:  13\n",
      "Detected  2  spots.\n",
      "24.835215534373685\n",
      "7.909613216872606\n",
      "-47.22185945194236\n",
      "17.78253803583959\n"
     ]
    },
    {
     "name": "stderr",
     "output_type": "stream",
     "text": [
      "WARNING: VerifyWarning:         Card 'SOURCE' is not FITS standard (invalid value string: \"'hmi.lev1[:#32946093,#32946069,#32946045,#32946117,#32946141,#32946165\").  Fixed 'SOURCE' card to meet the FITS standard. [astropy.io.fits.verify]"
     ]
    },
    {
     "name": "stdout",
     "output_type": "stream",
     "text": [
      "<SkyCoord (HeliographicStonyhurst: dateobs=2012-01-29 02:43:56): (lon, lat, radius) in (deg, deg, km)\n",
      "    ( 24.96645876,  7.91579646,  695507.99999339)>\n",
      "<SkyCoord (HeliographicStonyhurst: dateobs=2012-01-29 02:43:56): (lon, lat, radius) in (deg, deg, km)\n",
      "    [( 24.96645876,   7.91579646,  695507.99999339),\n",
      "     (-47.08803217,  17.78561337,  695507.99999786)]>\n",
      "Image index:  14\n",
      "Detected  2  spots.\n",
      "24.96645876413005\n",
      "7.915796464931528\n",
      "-47.088032172193884\n",
      "17.78561336754723\n"
     ]
    },
    {
     "name": "stderr",
     "output_type": "stream",
     "text": [
      "\n",
      "WARNING: VerifyWarning:         Card 'SOURCE' is not FITS standard (invalid value string: \"'hmi.lev1[:#32946117,#32946093,#32946069,#32946141,#32946165,#32946189\").  Fixed 'SOURCE' card to meet the FITS standard. [astropy.io.fits.verify]\n"
     ]
    },
    {
     "name": "stdout",
     "output_type": "stream",
     "text": [
      "<SkyCoord (HeliographicStonyhurst: dateobs=2012-01-29 02:44:41): (lon, lat, radius) in (deg, deg, km)\n",
      "    ( 24.96766906,  7.91578553,  695507.99999994)>\n",
      "<SkyCoord (HeliographicStonyhurst: dateobs=2012-01-29 02:44:41): (lon, lat, radius) in (deg, deg, km)\n",
      "    [( 24.96766906,   7.91578553,  695507.99999994),\n",
      "     (-47.11560825,  17.80374764,  695508.00000132)]>\n",
      "Image index:  15\n",
      "Detected  2  spots.\n",
      "24.967669060405388\n",
      "7.915785533221195\n",
      "-47.115608251217\n",
      "17.803747641934685\n"
     ]
    },
    {
     "name": "stderr",
     "output_type": "stream",
     "text": [
      "WARNING: VerifyWarning:         Card 'SOURCE' is not FITS standard (invalid value string: \"'hmi.lev1[:#32946573,#32946549,#32946525,#32946597,#32946633,#32946645\").  Fixed 'SOURCE' card to meet the FITS standard. [astropy.io.fits.verify]\n"
     ]
    },
    {
     "name": "stdout",
     "output_type": "stream",
     "text": [
      "<SkyCoord (HeliographicStonyhurst: dateobs=2012-01-29 02:58:56): (lon, lat, radius) in (deg, deg, km)\n",
      "    ( 25.0982955,  7.9062849,  695507.99999857)>\n",
      "<SkyCoord (HeliographicStonyhurst: dateobs=2012-01-29 02:58:56): (lon, lat, radius) in (deg, deg, km)\n",
      "    [( 25.0982955 ,   7.9062849 ,  695507.99999857),\n",
      "     (-47.00581489,  17.81125797,  695508.00000314)]>\n",
      "Image index:  16\n",
      "Detected  2  spots.\n",
      "25.0982954990398\n",
      "7.906284899847153\n",
      "-47.00581488784194\n",
      "17.81125797118431\n"
     ]
    },
    {
     "name": "stderr",
     "output_type": "stream",
     "text": [
      "WARNING: VerifyWarning:         Card 'SOURCE' is not FITS standard (invalid value string: \"'hmi.lev1[:#32946597,#32946573,#32946549,#32946633,#32946645,#32946669\").  Fixed 'SOURCE' card to meet the FITS standard. [astropy.io.fits.verify]\n"
     ]
    },
    {
     "name": "stdout",
     "output_type": "stream",
     "text": [
      "<SkyCoord (HeliographicStonyhurst: dateobs=2012-01-29 02:59:41): (lon, lat, radius) in (deg, deg, km)\n",
      "    ( 25.09804233,  7.90224756,  695507.99999648)>\n",
      "<SkyCoord (HeliographicStonyhurst: dateobs=2012-01-29 02:59:41): (lon, lat, radius) in (deg, deg, km)\n",
      "    [( 25.09804233,   7.90224756,  695507.99999648),\n",
      "     (-47.00578939,  17.81101851,  695507.99999836)]>\n",
      "Image index:  17\n",
      "Detected  2  spots.\n",
      "25.09804232668097\n",
      "7.902247559375977\n",
      "-47.005789389602434\n",
      "17.81101851128853\n"
     ]
    },
    {
     "name": "stderr",
     "output_type": "stream",
     "text": [
      "WARNING: VerifyWarning:         Card 'SOURCE' is not FITS standard (invalid value string: \"'hmi.lev1[:#32947053,#32947029,#32947005,#32947077,#32947101,#32947125\").  Fixed 'SOURCE' card to meet the FITS standard. [astropy.io.fits.verify]\n"
     ]
    },
    {
     "name": "stdout",
     "output_type": "stream",
     "text": [
      "<SkyCoord (HeliographicStonyhurst: dateobs=2012-01-29 03:13:56): (lon, lat, radius) in (deg, deg, km)\n",
      "    ( 25.23117395,  7.89498687,  695508.00000172)>\n",
      "<SkyCoord (HeliographicStonyhurst: dateobs=2012-01-29 03:13:56): (lon, lat, radius) in (deg, deg, km)\n",
      "    [( 25.23117395,   7.89498687,  695508.00000172),\n",
      "     (-46.76024863,  17.76287119,  695508.00000013)]>\n",
      "Image index:  18\n",
      "Detected  2  spots.\n",
      "25.23117394535454\n",
      "7.894986868716047\n",
      "-46.760248626150954\n",
      "17.762871187447292\n"
     ]
    },
    {
     "name": "stderr",
     "output_type": "stream",
     "text": [
      "WARNING: VerifyWarning:         Card 'SOURCE' is not FITS standard (invalid value string: \"'hmi.lev1[:#32947077,#32947053,#32947029,#32947101,#32947125,#32947149\").  Fixed 'SOURCE' card to meet the FITS standard. [astropy.io.fits.verify]\n"
     ]
    },
    {
     "name": "stdout",
     "output_type": "stream",
     "text": [
      "<SkyCoord (HeliographicStonyhurst: dateobs=2012-01-29 03:14:41): (lon, lat, radius) in (deg, deg, km)\n",
      "    ( 25.23141577,  7.89501269,  695508.000003)>\n",
      "<SkyCoord (HeliographicStonyhurst: dateobs=2012-01-29 03:14:41): (lon, lat, radius) in (deg, deg, km)\n",
      "    [( 25.23141577,   7.89501269,  695508.000003  ),\n",
      "     (-46.76019341,  17.76284839,  695508.00000335)]>\n",
      "Image index:  19\n",
      "Detected  2  spots.\n",
      "25.231415768103123\n",
      "7.895012692628003\n",
      "-46.760193408968426\n",
      "17.762848387431386\n"
     ]
    },
    {
     "name": "stderr",
     "output_type": "stream",
     "text": [
      "WARNING: VerifyWarning:         Card 'SOURCE' is not FITS standard (invalid value string: \"'hmi.lev1[:#32947533,#32947509,#32947485,#32947557,#32947581,#32947605\").  Fixed 'SOURCE' card to meet the FITS standard. [astropy.io.fits.verify]\n"
     ]
    },
    {
     "name": "stdout",
     "output_type": "stream",
     "text": [
      "<SkyCoord (HeliographicStonyhurst: dateobs=2012-01-29 03:28:56): (lon, lat, radius) in (deg, deg, km)\n",
      "    ( 25.3828741,  7.91091523,  695507.99999282)>\n",
      "<SkyCoord (HeliographicStonyhurst: dateobs=2012-01-29 03:28:56): (lon, lat, radius) in (deg, deg, km)\n",
      "    [( 25.3828741 ,   7.91091523,  695507.99999282),\n",
      "     (-46.64790592,  17.77041375,  695508.00000167)]>\n",
      "Image index:  20\n",
      "Detected  2  spots.\n",
      "25.382874104308314\n",
      "7.910915233332938\n",
      "-46.64790592075131\n",
      "17.770413746919214\n"
     ]
    },
    {
     "name": "stderr",
     "output_type": "stream",
     "text": [
      "WARNING: VerifyWarning:         Card 'SOURCE' is not FITS standard (invalid value string: \"'hmi.lev1[:#32948013,#32947977,#32947965,#32948037,#32948061,#32948085\").  Fixed 'SOURCE' card to meet the FITS standard. [astropy.io.fits.verify]\n"
     ]
    },
    {
     "name": "stdout",
     "output_type": "stream",
     "text": [
      "<SkyCoord (HeliographicStonyhurst: dateobs=2012-01-29 03:43:56): (lon, lat, radius) in (deg, deg, km)\n",
      "    ( 25.52870825,  7.90426757,  695508.00000216)>\n",
      "<SkyCoord (HeliographicStonyhurst: dateobs=2012-01-29 03:43:56): (lon, lat, radius) in (deg, deg, km)\n",
      "    [( 25.52870825,   7.90426757,  695508.00000216),\n",
      "     (-46.54087719,  17.77472615,  695508.00000094)]>\n",
      "Image index:  21\n",
      "Detected  2  spots.\n",
      "25.528708249540433\n",
      "7.90426757458556\n",
      "-46.54087718725268\n",
      "17.7747261530708\n"
     ]
    },
    {
     "name": "stderr",
     "output_type": "stream",
     "text": [
      "WARNING: VerifyWarning:         Card 'SOURCE' is not FITS standard (invalid value string: \"'hmi.lev1[:#32948481,#32948469,#32948445,#32948517,#32948541,#32948565\").  Fixed 'SOURCE' card to meet the FITS standard. [astropy.io.fits.verify]\n"
     ]
    },
    {
     "name": "stdout",
     "output_type": "stream",
     "text": [
      "<SkyCoord (HeliographicStonyhurst: dateobs=2012-01-29 03:58:56): (lon, lat, radius) in (deg, deg, km)\n",
      "    ( 25.65951162,  7.89658271,  695508.00000338)>\n",
      "<SkyCoord (HeliographicStonyhurst: dateobs=2012-01-29 03:58:56): (lon, lat, radius) in (deg, deg, km)\n",
      "    [( 25.65951162,   7.89658271,  695508.00000338),\n",
      "     (-46.381786  ,  17.7647409 ,  695507.9999993 )]>\n",
      "Image index:  22\n",
      "Detected  2  spots.\n",
      "25.659511617393367\n",
      "7.896582706472027\n",
      "-46.38178600336284\n",
      "17.76474090279929\n"
     ]
    },
    {
     "name": "stderr",
     "output_type": "stream",
     "text": [
      "WARNING: VerifyWarning:         Card 'SOURCE' is not FITS standard (invalid value string: \"'hmi.lev1[:#32948961,#32948949,#32948925,#32948997,#32949021,#32949045\").  Fixed 'SOURCE' card to meet the FITS standard. [astropy.io.fits.verify]\n"
     ]
    },
    {
     "name": "stdout",
     "output_type": "stream",
     "text": [
      "<SkyCoord (HeliographicStonyhurst: dateobs=2012-01-29 04:13:56): (lon, lat, radius) in (deg, deg, km)\n",
      "    ( 25.79424807,  7.89977769,  695507.99999737)>\n",
      "<SkyCoord (HeliographicStonyhurst: dateobs=2012-01-29 04:13:56): (lon, lat, radius) in (deg, deg, km)\n",
      "    [( 25.79424807,   7.89977769,  695507.99999737),\n",
      "     (-46.26926829,  17.76970464,  695508.00000345)]>\n",
      "Image index:  23\n",
      "Detected  2  spots.\n",
      "25.79424807429849\n",
      "7.899777687443587\n",
      "-46.26926829193175\n",
      "17.76970463803462\n"
     ]
    },
    {
     "name": "stderr",
     "output_type": "stream",
     "text": [
      "WARNING: VerifyWarning:         Card 'SOURCE' is not FITS standard (invalid value string: \"'hmi.lev1[:#32949453,#32949429,#32949405,#32949477,#32949501,#32949525\").  Fixed 'SOURCE' card to meet the FITS standard. [astropy.io.fits.verify]\n"
     ]
    },
    {
     "name": "stdout",
     "output_type": "stream",
     "text": [
      "<SkyCoord (HeliographicStonyhurst: dateobs=2012-01-29 04:28:56): (lon, lat, radius) in (deg, deg, km)\n",
      "    ( 25.93009649,  7.89129392,  695508.00000254)>\n",
      "<SkyCoord (HeliographicStonyhurst: dateobs=2012-01-29 04:28:56): (lon, lat, radius) in (deg, deg, km)\n",
      "    [( 25.93009649,   7.89129392,  695508.00000254),\n",
      "     (-46.15567093,  17.7779502 ,  695508.00000063)]>\n",
      "Image index:  24\n",
      "Detected  2  spots.\n",
      "25.930096494975963\n",
      "7.891293922324566\n",
      "-46.15567092658549\n",
      "17.77795020456682\n"
     ]
    },
    {
     "name": "stderr",
     "output_type": "stream",
     "text": [
      "WARNING: VerifyWarning:         Card 'SOURCE' is not FITS standard (invalid value string: \"'hmi.lev1[:#32949909,#32949885,#32949861,#32949933,#32949957,#32949981\").  Fixed 'SOURCE' card to meet the FITS standard. [astropy.io.fits.verify]\n"
     ]
    },
    {
     "name": "stdout",
     "output_type": "stream",
     "text": [
      "<SkyCoord (HeliographicStonyhurst: dateobs=2012-01-29 04:43:11): (lon, lat, radius) in (deg, deg, km)\n",
      "    ( 26.07001728,  7.89006164,  695508.00000223)>\n",
      "<SkyCoord (HeliographicStonyhurst: dateobs=2012-01-29 04:43:11): (lon, lat, radius) in (deg, deg, km)\n",
      "    [( 26.07001728,   7.89006164,  695508.00000223),\n",
      "     (-45.99991848,  17.76617552,  695507.99999587)]>\n",
      "Image index:  25\n",
      "Detected  2  spots.\n",
      "26.070017280804443\n",
      "7.890061641419164\n",
      "-45.9999184835793\n",
      "17.766175517333977\n"
     ]
    },
    {
     "name": "stderr",
     "output_type": "stream",
     "text": [
      "WARNING: VerifyWarning:         Card 'SOURCE' is not FITS standard (invalid value string: \"'hmi.lev1[:#32949933,#32949909,#32949885,#32949957,#32949981,#32950005\").  Fixed 'SOURCE' card to meet the FITS standard. [astropy.io.fits.verify]\n"
     ]
    },
    {
     "name": "stdout",
     "output_type": "stream",
     "text": [
      "<SkyCoord (HeliographicStonyhurst: dateobs=2012-01-29 04:43:56): (lon, lat, radius) in (deg, deg, km)\n",
      "    ( 26.09323781,  7.89820451,  695508.00000303)>\n",
      "<SkyCoord (HeliographicStonyhurst: dateobs=2012-01-29 04:43:56): (lon, lat, radius) in (deg, deg, km)\n",
      "    [( 26.09323781,   7.89820451,  695508.00000303),\n",
      "     (-46.02881247,  17.78428162,  695508.00000266)]>\n",
      "Image index:  26\n",
      "Detected  2  spots.\n",
      "26.093237806362954\n",
      "7.8982045090935875\n",
      "-46.02881246966083\n",
      "17.784281624221325\n"
     ]
    },
    {
     "name": "stderr",
     "output_type": "stream",
     "text": [
      "WARNING: VerifyWarning:         Card 'SOURCE' is not FITS standard (invalid value string: \"'hmi.lev1[:#32950389,#32950365,#32950341,#32950413,#32950437,#32950461\").  Fixed 'SOURCE' card to meet the FITS standard. [astropy.io.fits.verify]\n"
     ]
    },
    {
     "name": "stdout",
     "output_type": "stream",
     "text": [
      "<SkyCoord (HeliographicStonyhurst: dateobs=2012-01-29 04:58:11): (lon, lat, radius) in (deg, deg, km)\n",
      "    ( 26.21317639,  7.8876876,  695508.00000245)>\n",
      "<SkyCoord (HeliographicStonyhurst: dateobs=2012-01-29 04:58:11): (lon, lat, radius) in (deg, deg, km)\n",
      "    [( 26.21317639,   7.8876876 ,  695508.00000245),\n",
      "     (-45.86288474,  17.77111052,  695508.00000019)]>\n",
      "Image index:  27\n",
      "Detected  2  spots.\n",
      "26.213176388576127\n",
      "7.8876876022724876\n",
      "-45.862884742576924\n",
      "17.771110516643034\n"
     ]
    },
    {
     "name": "stderr",
     "output_type": "stream",
     "text": [
      "WARNING: VerifyWarning:         Card 'SOURCE' is not FITS standard (invalid value string: \"'hmi.lev1[:#32950413,#32950389,#32950365,#32950437,#32950461,#32950485\").  Fixed 'SOURCE' card to meet the FITS standard. [astropy.io.fits.verify]\n"
     ]
    },
    {
     "name": "stdout",
     "output_type": "stream",
     "text": [
      "<SkyCoord (HeliographicStonyhurst: dateobs=2012-01-29 04:58:56): (lon, lat, radius) in (deg, deg, km)\n",
      "    ( 26.22955788,  7.89931094,  695507.99999421)>\n",
      "<SkyCoord (HeliographicStonyhurst: dateobs=2012-01-29 04:58:56): (lon, lat, radius) in (deg, deg, km)\n",
      "    [( 26.22955788,   7.89931094,  695507.99999421),\n",
      "     (-45.86167045,  17.77157096,  695508.00000676)]>\n",
      "Image index:  28\n",
      "Detected  2  spots.\n",
      "26.2295578796016\n",
      "7.899310938084081\n",
      "-45.86167044748715\n",
      "17.771570958180504\n"
     ]
    },
    {
     "name": "stderr",
     "output_type": "stream",
     "text": [
      "WARNING: VerifyWarning:         Card 'SOURCE' is not FITS standard (invalid value string: \"'hmi.lev1[:#32950881,#32950845,#32950833,#32950893,#32950917,#32950941\").  Fixed 'SOURCE' card to meet the FITS standard. [astropy.io.fits.verify]\n"
     ]
    },
    {
     "name": "stdout",
     "output_type": "stream",
     "text": [
      "<SkyCoord (HeliographicStonyhurst: dateobs=2012-01-29 05:13:11.100000): (lon, lat, radius) in (deg, deg, km)\n",
      "    ( 26.34256073,  7.89385785,  695507.99999938)>\n",
      "<SkyCoord (HeliographicStonyhurst: dateobs=2012-01-29 05:13:11.100000): (lon, lat, radius) in (deg, deg, km)\n",
      "    [( 26.34256073,   7.89385785,  695507.99999938),\n",
      "     (-45.7376395 ,  17.77795127,  695508.00000417)]>\n",
      "Image index:  29\n",
      "Detected  2  spots.\n",
      "26.34256073287624\n",
      "7.8938578503222505\n",
      "-45.737639501022116\n",
      "17.77795126611293\n"
     ]
    },
    {
     "name": "stderr",
     "output_type": "stream",
     "text": [
      "WARNING: VerifyWarning:         Card 'SOURCE' is not FITS standard (invalid value string: \"'hmi.lev1[:#32950893,#32950881,#32950845,#32950917,#32950941,#32950965\").  Fixed 'SOURCE' card to meet the FITS standard. [astropy.io.fits.verify]\n"
     ]
    },
    {
     "name": "stdout",
     "output_type": "stream",
     "text": [
      "<SkyCoord (HeliographicStonyhurst: dateobs=2012-01-29 05:13:56.100000): (lon, lat, radius) in (deg, deg, km)\n",
      "    ( 26.35604505,  7.89439114,  695508.00000117)>\n",
      "<SkyCoord (HeliographicStonyhurst: dateobs=2012-01-29 05:13:56.100000): (lon, lat, radius) in (deg, deg, km)\n",
      "    [( 26.35604505,   7.89439114,  695508.00000117),\n",
      "     (-45.70535715,  17.76627785,  695508.00000161)]>\n",
      "Image index:  30\n",
      "Detected  2  spots.\n",
      "26.356045048648507\n",
      "7.894391138562516\n",
      "-45.70535714581063\n",
      "17.766277848871074\n"
     ]
    },
    {
     "name": "stderr",
     "output_type": "stream",
     "text": [
      "WARNING: VerifyWarning:         Card 'SOURCE' is not FITS standard (invalid value string: \"'hmi.lev1[:#32951349,#32951337,#32951301,#32951373,#32951397,#32951421\").  Fixed 'SOURCE' card to meet the FITS standard. [astropy.io.fits.verify]\n"
     ]
    },
    {
     "name": "stdout",
     "output_type": "stream",
     "text": [
      "<SkyCoord (HeliographicStonyhurst: dateobs=2012-01-29 05:28:11.100000): (lon, lat, radius) in (deg, deg, km)\n",
      "    ( 26.49253496,  7.88516842,  695507.99999649)>\n",
      "<SkyCoord (HeliographicStonyhurst: dateobs=2012-01-29 05:28:11.100000): (lon, lat, radius) in (deg, deg, km)\n",
      "    [( 26.49253496,   7.88516842,  695507.99999649),\n",
      "     (-45.6062621 ,  17.78414374,  695508.00000452)]>\n",
      "Image index:  31\n",
      "Detected  2  spots.\n",
      "26.492534963507392\n",
      "7.885168423389423\n",
      "-45.606262103460466\n",
      "17.78414374344093\n"
     ]
    },
    {
     "name": "stderr",
     "output_type": "stream",
     "text": [
      "WARNING: VerifyWarning:         Card 'SOURCE' is not FITS standard (invalid value string: \"'hmi.lev1[:#32951829,#32951805,#32951781,#32951853,#32951877,#32951901\").  Fixed 'SOURCE' card to meet the FITS standard. [astropy.io.fits.verify]\n"
     ]
    },
    {
     "name": "stdout",
     "output_type": "stream",
     "text": [
      "<SkyCoord (HeliographicStonyhurst: dateobs=2012-01-29 05:43:11.100000): (lon, lat, radius) in (deg, deg, km)\n",
      "    ( 26.64386782,  7.87590355,  695507.99999739)>\n",
      "<SkyCoord (HeliographicStonyhurst: dateobs=2012-01-29 05:43:11.100000): (lon, lat, radius) in (deg, deg, km)\n",
      "    [( 26.64386782,   7.87590355,  695507.99999739),\n",
      "     (-45.4446298 ,  17.77099219,  695508.00000193)]>\n",
      "Image index:  32\n",
      "Detected  2  spots.\n",
      "26.643867822407852\n",
      "7.875903550000871\n",
      "-45.44462980308681\n",
      "17.770992191380365\n"
     ]
    },
    {
     "name": "stderr",
     "output_type": "stream",
     "text": [
      "WARNING: VerifyWarning:         Card 'SOURCE' is not FITS standard (invalid value string: \"'hmi.lev1[:#32952309,#32952285,#32952249,#32952345,#32952357,#32952381\").  Fixed 'SOURCE' card to meet the FITS standard. [astropy.io.fits.verify]"
     ]
    },
    {
     "name": "stdout",
     "output_type": "stream",
     "text": [
      "<SkyCoord (HeliographicStonyhurst: dateobs=2012-01-29 05:58:11.100000): (lon, lat, radius) in (deg, deg, km)\n",
      "    ( 26.77556109,  7.86656526,  695508.00000203)>\n",
      "<SkyCoord (HeliographicStonyhurst: dateobs=2012-01-29 05:58:11.100000): (lon, lat, radius) in (deg, deg, km)\n",
      "    [( 26.77556109,   7.86656526,  695508.00000203),\n",
      "     (-45.28813853,  17.75924869,  695507.99999916)]>\n",
      "Image index:  33\n",
      "Detected  2  spots.\n",
      "26.77556108740063\n",
      "7.866565256699044\n",
      "-45.288138530359404\n",
      "17.75924868600582\n"
     ]
    },
    {
     "name": "stderr",
     "output_type": "stream",
     "text": [
      "\n",
      "WARNING: VerifyWarning:         Card 'SOURCE' is not FITS standard (invalid value string: \"'hmi.lev1[:#32952789,#32952765,#32952741,#32952813,#32952837,#32952861\").  Fixed 'SOURCE' card to meet the FITS standard. [astropy.io.fits.verify]\n"
     ]
    },
    {
     "name": "stdout",
     "output_type": "stream",
     "text": [
      "<SkyCoord (HeliographicStonyhurst: dateobs=2012-01-29 06:13:11.100000): (lon, lat, radius) in (deg, deg, km)\n",
      "    ( 26.92022271,  7.87223548,  695508.00000078)>\n",
      "<SkyCoord (HeliographicStonyhurst: dateobs=2012-01-29 06:13:11.100000): (lon, lat, radius) in (deg, deg, km)\n",
      "    [( 26.92022271,   7.87223548,  695508.00000078),\n",
      "     (-45.18037215,  17.76856466,  695508.00000075)]>\n",
      "Image index:  34\n",
      "Detected  2  spots.\n",
      "26.920222712475265\n",
      "7.872235476803083\n",
      "-45.18037215318844\n",
      "17.768564660971258\n"
     ]
    },
    {
     "name": "stderr",
     "output_type": "stream",
     "text": [
      "WARNING: VerifyWarning:         Card 'SOURCE' is not FITS standard (invalid value string: \"'hmi.lev1[:#32953257,#32953245,#32953221,#32953293,#32953317,#32953341\").  Fixed 'SOURCE' card to meet the FITS standard. [astropy.io.fits.verify]\n"
     ]
    },
    {
     "name": "stdout",
     "output_type": "stream",
     "text": [
      "<SkyCoord (HeliographicStonyhurst: dateobs=2012-01-29 06:28:11.100000): (lon, lat, radius) in (deg, deg, km)\n",
      "    ( 27.05885101,  7.87011679,  695508.00000492)>\n",
      "<SkyCoord (HeliographicStonyhurst: dateobs=2012-01-29 06:28:11.100000): (lon, lat, radius) in (deg, deg, km)\n",
      "    [( 27.05885101,   7.87011679,  695508.00000492),\n",
      "     (-45.07198857,  17.77349742,  695507.99999968)]>\n",
      "Image index:  35\n",
      "Detected  2  spots.\n",
      "27.058851005884744\n",
      "7.87011679309429\n",
      "-45.07198856943598\n",
      "17.77349742302057\n"
     ]
    },
    {
     "name": "stderr",
     "output_type": "stream",
     "text": [
      "WARNING: VerifyWarning:         Card 'SOURCE' is not FITS standard (invalid value string: \"'hmi.lev1[:#32953725,#32953701,#32953677,#32953737,#32953773,#32953797\").  Fixed 'SOURCE' card to meet the FITS standard. [astropy.io.fits.verify]\n"
     ]
    },
    {
     "name": "stdout",
     "output_type": "stream",
     "text": [
      "<SkyCoord (HeliographicStonyhurst: dateobs=2012-01-29 06:42:26.100000): (lon, lat, radius) in (deg, deg, km)\n",
      "    ( 27.17671332,  7.87092187,  695508.00000021)>\n",
      "<SkyCoord (HeliographicStonyhurst: dateobs=2012-01-29 06:42:26.100000): (lon, lat, radius) in (deg, deg, km)\n",
      "    [( 27.17671332,   7.87092187,  695508.00000021),\n",
      "     (-44.93432209,  17.77397023,  695508.00000189)]>\n",
      "Image index:  36\n",
      "Detected  2  spots.\n",
      "27.176713320164858\n",
      "7.870921871672538\n",
      "-44.93432209038784\n",
      "17.773970226616257\n"
     ]
    },
    {
     "name": "stderr",
     "output_type": "stream",
     "text": [
      "WARNING: VerifyWarning:         Card 'SOURCE' is not FITS standard (invalid value string: \"'hmi.lev1[:#32953737,#32953725,#32953701,#32953773,#32953797,#32953821\").  Fixed 'SOURCE' card to meet the FITS standard. [astropy.io.fits.verify]\n"
     ]
    },
    {
     "name": "stdout",
     "output_type": "stream",
     "text": [
      "<SkyCoord (HeliographicStonyhurst: dateobs=2012-01-29 06:43:11.100000): (lon, lat, radius) in (deg, deg, km)\n",
      "    ( 27.1765756,  7.86646438,  695508.0000008)>\n",
      "<SkyCoord (HeliographicStonyhurst: dateobs=2012-01-29 06:43:11.100000): (lon, lat, radius) in (deg, deg, km)\n",
      "    [( 27.1765756 ,   7.86646438,  695508.0000008 ),\n",
      "     (-44.93430078,  17.77386305,  695507.99999789)]>\n",
      "Image index:  37\n",
      "Detected  2  spots.\n",
      "27.176575603383565\n",
      "7.866464379001622\n",
      "-44.93430078008943\n",
      "17.773863051807822\n"
     ]
    },
    {
     "name": "stderr",
     "output_type": "stream",
     "text": [
      "WARNING: VerifyWarning:         Card 'SOURCE' is not FITS standard (invalid value string: \"'hmi.lev1[:#32954205,#32954181,#32954157,#32954229,#32954253,#32954277\").  Fixed 'SOURCE' card to meet the FITS standard. [astropy.io.fits.verify]\n"
     ]
    },
    {
     "name": "stdout",
     "output_type": "stream",
     "text": [
      "<SkyCoord (HeliographicStonyhurst: dateobs=2012-01-29 06:57:26.100000): (lon, lat, radius) in (deg, deg, km)\n",
      "    ( 27.32557132,  7.86788115,  695507.99999778)>\n",
      "<SkyCoord (HeliographicStonyhurst: dateobs=2012-01-29 06:57:26.100000): (lon, lat, radius) in (deg, deg, km)\n",
      "    [( 27.32557132,   7.86788115,  695507.99999778),\n",
      "     (-44.83565011,  17.78822556,  695508.00000179)]>\n",
      "Image index:  38\n",
      "Detected  2  spots.\n",
      "27.32557132273873\n",
      "7.867881154651837\n",
      "-44.83565011046173\n",
      "17.788225557393993\n"
     ]
    },
    {
     "name": "stderr",
     "output_type": "stream",
     "text": [
      "WARNING: VerifyWarning:         Card 'SOURCE' is not FITS standard (invalid value string: \"'hmi.lev1[:#32954229,#32954205,#32954181,#32954253,#32954277,#32954301\").  Fixed 'SOURCE' card to meet the FITS standard. [astropy.io.fits.verify]\n"
     ]
    },
    {
     "name": "stdout",
     "output_type": "stream",
     "text": [
      "<SkyCoord (HeliographicStonyhurst: dateobs=2012-01-29 06:58:11.100000): (lon, lat, radius) in (deg, deg, km)\n",
      "    ( 27.32963882,  7.86651706,  695507.99999835)>\n",
      "<SkyCoord (HeliographicStonyhurst: dateobs=2012-01-29 06:58:11.100000): (lon, lat, radius) in (deg, deg, km)\n",
      "    [( 27.32963882,   7.86651706,  695507.99999835),\n",
      "     (-44.83571723,  17.78825791,  695508.00000228)]>\n",
      "Image index:  39\n",
      "Detected  2  spots.\n",
      "27.329638815221458\n",
      "7.866517056150442\n",
      "-44.83571723277006\n",
      "17.788257906840634\n"
     ]
    },
    {
     "name": "stderr",
     "output_type": "stream",
     "text": [
      "WARNING: VerifyWarning:         Card 'SOURCE' is not FITS standard (invalid value string: \"'hmi.lev1[:#32954685,#32954649,#32954637,#32954709,#32954733,#32954757\").  Fixed 'SOURCE' card to meet the FITS standard. [astropy.io.fits.verify]\n"
     ]
    },
    {
     "name": "stdout",
     "output_type": "stream",
     "text": [
      "<SkyCoord (HeliographicStonyhurst: dateobs=2012-01-29 07:12:26.100000): (lon, lat, radius) in (deg, deg, km)\n",
      "    ( 27.46111701,  7.86768138,  695507.99999532)>\n",
      "<SkyCoord (HeliographicStonyhurst: dateobs=2012-01-29 07:12:26.100000): (lon, lat, radius) in (deg, deg, km)\n",
      "    [( 27.46111701,   7.86768138,  695507.99999532),\n",
      "     (-44.70578245,  17.77986828,  695507.99999444)]>\n",
      "Image index:  40\n",
      "Detected  2  spots.\n",
      "27.461117005141816\n",
      "7.867681379418166\n",
      "-44.705782449766\n",
      "17.779868280934185\n"
     ]
    },
    {
     "name": "stderr",
     "output_type": "stream",
     "text": [
      "WARNING: VerifyWarning:         Card 'SOURCE' is not FITS standard (invalid value string: \"'hmi.lev1[:#32954709,#32954685,#32954649,#32954733,#32954757,#32954781\").  Fixed 'SOURCE' card to meet the FITS standard. [astropy.io.fits.verify]\n"
     ]
    },
    {
     "name": "stdout",
     "output_type": "stream",
     "text": [
      "<SkyCoord (HeliographicStonyhurst: dateobs=2012-01-29 07:13:11.100000): (lon, lat, radius) in (deg, deg, km)\n",
      "    ( 27.46143653,  7.86821272,  695508.0000033)>\n",
      "<SkyCoord (HeliographicStonyhurst: dateobs=2012-01-29 07:13:11.100000): (lon, lat, radius) in (deg, deg, km)\n",
      "    [( 27.46143653,   7.86821272,  695508.0000033 ),\n",
      "     (-44.68314066,  17.77871624,  695508.00000067)]>\n",
      "Image index:  41\n",
      "Detected  2  spots.\n",
      "27.46143652833103\n",
      "7.868212716687264\n",
      "-44.68314065849075\n",
      "17.778716235316836\n"
     ]
    },
    {
     "name": "stderr",
     "output_type": "stream",
     "text": [
      "WARNING: VerifyWarning:         Card 'SOURCE' is not FITS standard (invalid value string: \"'hmi.lev1[:#32955165,#32955129,#32955141,#32955189,#32955213,#32955237\").  Fixed 'SOURCE' card to meet the FITS standard. [astropy.io.fits.verify]\n"
     ]
    },
    {
     "name": "stdout",
     "output_type": "stream",
     "text": [
      "<SkyCoord (HeliographicStonyhurst: dateobs=2012-01-29 07:27:26.100000): (lon, lat, radius) in (deg, deg, km)\n",
      "    ( 27.57891825,  7.85638258,  695508.00000274)>\n",
      "<SkyCoord (HeliographicStonyhurst: dateobs=2012-01-29 07:27:26.100000): (lon, lat, radius) in (deg, deg, km)\n",
      "    [( 27.57891825,   7.85638258,  695508.00000274),\n",
      "     (-44.54278107,  17.77844085,  695508.00000241)]>\n",
      "Image index:  42\n",
      "Detected  2  spots.\n",
      "27.578918248894727\n",
      "7.856382584529451\n",
      "-44.54278107452084\n",
      "17.778440853080618\n"
     ]
    },
    {
     "name": "stderr",
     "output_type": "stream",
     "text": [
      "WARNING: VerifyWarning:         Card 'SOURCE' is not FITS standard (invalid value string: \"'hmi.lev1[:#32955645,#32955621,#32955609,#32955669,#32955693,#32955717\").  Fixed 'SOURCE' card to meet the FITS standard. [astropy.io.fits.verify]\n"
     ]
    },
    {
     "name": "stdout",
     "output_type": "stream",
     "text": [
      "<SkyCoord (HeliographicStonyhurst: dateobs=2012-01-29 07:42:26.100000): (lon, lat, radius) in (deg, deg, km)\n",
      "    ( 27.72477604,  7.86171473,  695507.99999899)>\n",
      "<SkyCoord (HeliographicStonyhurst: dateobs=2012-01-29 07:42:26.100000): (lon, lat, radius) in (deg, deg, km)\n",
      "    [( 27.72477604,   7.86171473,  695507.99999899),\n",
      "     (-44.41716734,  17.77440518,  695508.00000451)]>\n",
      "Image index:  43\n",
      "Detected  2  spots.\n",
      "27.724776043809978\n",
      "7.861714727566489\n",
      "-44.417167340241726\n",
      "17.774405176015957\n"
     ]
    },
    {
     "name": "stderr",
     "output_type": "stream",
     "text": [
      "WARNING: VerifyWarning:         Card 'SOURCE' is not FITS standard (invalid value string: \"'hmi.lev1[:#32956125,#32956101,#32956065,#32956149,#32956173,#32956197\").  Fixed 'SOURCE' card to meet the FITS standard. [astropy.io.fits.verify]\n"
     ]
    },
    {
     "name": "stdout",
     "output_type": "stream",
     "text": [
      "<SkyCoord (HeliographicStonyhurst: dateobs=2012-01-29 07:57:26.100000): (lon, lat, radius) in (deg, deg, km)\n",
      "    ( 27.86748035,  7.86193678,  695507.99999738)>\n",
      "<SkyCoord (HeliographicStonyhurst: dateobs=2012-01-29 07:57:26.100000): (lon, lat, radius) in (deg, deg, km)\n",
      "    [( 27.86748035,   7.86193678,  695507.99999738),\n",
      "     (-44.28773175,  17.77686351,  695508.0000002 )]>\n",
      "Image index:  44\n",
      "Detected  2  spots.\n",
      "27.86748034682641\n",
      "7.861936778506389\n",
      "-44.28773174994495\n",
      "17.77686351395393\n"
     ]
    },
    {
     "name": "stderr",
     "output_type": "stream",
     "text": [
      "WARNING: VerifyWarning:         Card 'SOURCE' is not FITS standard (invalid value string: \"'hmi.lev1[:#32956617,#32956581,#32956557,#32956629,#32956665,#32956677\").  Fixed 'SOURCE' card to meet the FITS standard. [astropy.io.fits.verify]\n"
     ]
    },
    {
     "name": "stdout",
     "output_type": "stream",
     "text": [
      "<SkyCoord (HeliographicStonyhurst: dateobs=2012-01-29 08:12:26.100000): (lon, lat, radius) in (deg, deg, km)\n",
      "    ( 28.01738759,  7.84938689,  695508.00000408)>\n",
      "<SkyCoord (HeliographicStonyhurst: dateobs=2012-01-29 08:12:26.100000): (lon, lat, radius) in (deg, deg, km)\n",
      "    [( 28.01738759,   7.84938689,  695508.00000408),\n",
      "     (-44.10788426,  17.7525026 ,  695507.99999752)]>\n",
      "Image index:  45\n",
      "Detected  2  spots.\n",
      "28.017387592576853\n",
      "7.849386889741645\n",
      "-44.107884263542914\n",
      "17.752502604341316\n"
     ]
    },
    {
     "name": "stderr",
     "output_type": "stream",
     "text": [
      "WARNING: VerifyWarning:         Card 'SOURCE' is not FITS standard (invalid value string: \"'hmi.lev1[:#32957085,#32957061,#32957037,#32957109,#32957121,#32957157\").  Fixed 'SOURCE' card to meet the FITS standard. [astropy.io.fits.verify]\n"
     ]
    },
    {
     "name": "stdout",
     "output_type": "stream",
     "text": [
      "<SkyCoord (HeliographicStonyhurst: dateobs=2012-01-29 08:27:26.100000): (lon, lat, radius) in (deg, deg, km)\n",
      "    ( 28.15193755,  7.86861458,  695508.0000038)>\n",
      "<SkyCoord (HeliographicStonyhurst: dateobs=2012-01-29 08:27:26.100000): (lon, lat, radius) in (deg, deg, km)\n",
      "    [( 28.15193755,   7.86861458,  695508.0000038),\n",
      "     (-43.98218089,  17.75659253,  695508.0000064)]>\n",
      "Image index:  46\n",
      "Detected  2  spots.\n",
      "28.151937546099234\n",
      "7.8686145811408545\n",
      "-43.98218089368832\n",
      "17.756592527647964\n"
     ]
    },
    {
     "name": "stderr",
     "output_type": "stream",
     "text": [
      "WARNING: VerifyWarning:         Card 'SOURCE' is not FITS standard (invalid value string: \"'hmi.lev1[:#32957541,#32957517,#32957493,#32957565,#32957577,#32957613\").  Fixed 'SOURCE' card to meet the FITS standard. [astropy.io.fits.verify]\n"
     ]
    },
    {
     "name": "stdout",
     "output_type": "stream",
     "text": [
      "<SkyCoord (HeliographicStonyhurst: dateobs=2012-01-29 08:41:41.100000): (lon, lat, radius) in (deg, deg, km)\n",
      "    ( 28.27149098,  7.85575369,  695507.99999744)>\n",
      "<SkyCoord (HeliographicStonyhurst: dateobs=2012-01-29 08:41:41.100000): (lon, lat, radius) in (deg, deg, km)\n",
      "    [( 28.27149098,   7.85575369,  695507.99999744),\n",
      "     (-43.87396967,  17.76431012,  695507.99999817)]>\n",
      "Image index:  47\n",
      "Detected  2  spots.\n",
      "28.271490975245985\n",
      "7.85575368653246\n",
      "-43.87396967265731\n",
      "17.76431012123043\n"
     ]
    },
    {
     "name": "stderr",
     "output_type": "stream",
     "text": [
      "WARNING: VerifyWarning:         Card 'SOURCE' is not FITS standard (invalid value string: \"'hmi.lev1[:#32957565,#32957541,#32957517,#32957577,#32957613,#32957637\").  Fixed 'SOURCE' card to meet the FITS standard. [astropy.io.fits.verify]\n"
     ]
    },
    {
     "name": "stdout",
     "output_type": "stream",
     "text": [
      "<SkyCoord (HeliographicStonyhurst: dateobs=2012-01-29 08:42:26.100000): (lon, lat, radius) in (deg, deg, km)\n",
      "    ( 28.2883537,  7.8596286,  695507.9999987)>\n",
      "<SkyCoord (HeliographicStonyhurst: dateobs=2012-01-29 08:42:26.100000): (lon, lat, radius) in (deg, deg, km)\n",
      "    [( 28.2883537 ,   7.8596286 ,  695507.9999987),\n",
      "     (-43.82521397,  17.74475621,  695508.0000011)]>\n",
      "Image index:  48\n",
      "Detected  2  spots.\n",
      "28.288353703061308\n",
      "7.859628598416738\n",
      "-43.82521396539886\n",
      "17.744756210032968\n"
     ]
    },
    {
     "name": "stderr",
     "output_type": "stream",
     "text": [
      "WARNING: VerifyWarning:         Card 'SOURCE' is not FITS standard (invalid value string: \"'hmi.lev1[:#32958021,#32957997,#32957973,#32958045,#32958069,#32958093\").  Fixed 'SOURCE' card to meet the FITS standard. [astropy.io.fits.verify]\n"
     ]
    },
    {
     "name": "stdout",
     "output_type": "stream",
     "text": [
      "<SkyCoord (HeliographicStonyhurst: dateobs=2012-01-29 08:56:41.100000): (lon, lat, radius) in (deg, deg, km)\n",
      "    ( 28.42439627,  7.85651596,  695508.00000209)>\n",
      "<SkyCoord (HeliographicStonyhurst: dateobs=2012-01-29 08:56:41.100000): (lon, lat, radius) in (deg, deg, km)\n",
      "    [( 28.42439627,   7.85651596,  695508.00000209),\n",
      "     (-43.72194146,  17.7690623 ,  695507.99999568)]>\n",
      "Image index:  49\n",
      "Detected  2  spots.\n",
      "28.424396272570505\n",
      "7.856515958659562\n",
      "-43.72194145674358\n",
      "17.76906229983969\n"
     ]
    },
    {
     "name": "stderr",
     "output_type": "stream",
     "text": [
      "WARNING: VerifyWarning:         Card 'SOURCE' is not FITS standard (invalid value string: \"'hmi.lev1[:#32958045,#32958021,#32957997,#32958069,#32958093,#32958117\").  Fixed 'SOURCE' card to meet the FITS standard. [astropy.io.fits.verify]\n"
     ]
    },
    {
     "name": "stdout",
     "output_type": "stream",
     "text": [
      "<SkyCoord (HeliographicStonyhurst: dateobs=2012-01-29 08:57:26.100000): (lon, lat, radius) in (deg, deg, km)\n",
      "    ( 28.42479665,  7.85622267,  695508.00000354)>\n",
      "<SkyCoord (HeliographicStonyhurst: dateobs=2012-01-29 08:57:26.100000): (lon, lat, radius) in (deg, deg, km)\n",
      "    [( 28.42479665,   7.85622267,  695508.00000354),\n",
      "     (-43.72197103,  17.76899286,  695508.00000136)]>\n",
      "Image index:  50\n",
      "Detected  2  spots.\n",
      "28.424796650057424\n",
      "7.856222665395647\n",
      "-43.72197102707178\n",
      "17.76899285813438\n"
     ]
    },
    {
     "name": "stderr",
     "output_type": "stream",
     "text": [
      "WARNING: VerifyWarning:         Card 'SOURCE' is not FITS standard (invalid value string: \"'hmi.lev1[:#32958501,#32958477,#32958453,#32958525,#32958549,#32958573\").  Fixed 'SOURCE' card to meet the FITS standard. [astropy.io.fits.verify]\n"
     ]
    },
    {
     "name": "stdout",
     "output_type": "stream",
     "text": [
      "<SkyCoord (HeliographicStonyhurst: dateobs=2012-01-29 09:11:41.100000): (lon, lat, radius) in (deg, deg, km)\n",
      "    ( 28.55248561,  7.85546649,  695508.00000145)>\n",
      "<SkyCoord (HeliographicStonyhurst: dateobs=2012-01-29 09:11:41.100000): (lon, lat, radius) in (deg, deg, km)\n",
      "    [( 28.55248561,   7.85546649,  695508.00000145),\n",
      "     (-43.61466376,  17.77524444,  695508.0000023 )]>\n",
      "Image index:  51\n",
      "Detected  2  spots.\n",
      "28.552485609930176\n",
      "7.855466486715888\n",
      "-43.6146637565985\n",
      "17.77524443920897\n"
     ]
    },
    {
     "name": "stderr",
     "output_type": "stream",
     "text": [
      "WARNING: VerifyWarning:         Card 'SOURCE' is not FITS standard (invalid value string: \"'hmi.lev1[:#32958525,#32958501,#32958477,#32958549,#32958573,#32958597\").  Fixed 'SOURCE' card to meet the FITS standard. [astropy.io.fits.verify]\n"
     ]
    },
    {
     "name": "stdout",
     "output_type": "stream",
     "text": [
      "<SkyCoord (HeliographicStonyhurst: dateobs=2012-01-29 09:12:26.100000): (lon, lat, radius) in (deg, deg, km)\n",
      "    ( 28.56035432,  7.86097183,  695508.00000407)>\n",
      "<SkyCoord (HeliographicStonyhurst: dateobs=2012-01-29 09:12:26.100000): (lon, lat, radius) in (deg, deg, km)\n",
      "    [( 28.56035432,   7.86097183,  695508.00000407),\n",
      "     (-43.56632676,  17.75664344,  695508.00000405)]>\n",
      "Image index:  52\n",
      "Detected  2  spots.\n",
      "28.5603543186461\n",
      "7.860971828440865\n",
      "-43.56632676464862\n",
      "17.756643440033898\n"
     ]
    },
    {
     "name": "stderr",
     "output_type": "stream",
     "text": [
      "WARNING: VerifyWarning:         Card 'SOURCE' is not FITS standard (invalid value string: \"'hmi.lev1[:#32958981,#32958957,#32958933,#32959005,#32959029,#32959053\").  Fixed 'SOURCE' card to meet the FITS standard. [astropy.io.fits.verify]\n"
     ]
    },
    {
     "name": "stdout",
     "output_type": "stream",
     "text": [
      "<SkyCoord (HeliographicStonyhurst: dateobs=2012-01-29 09:26:41.100000): (lon, lat, radius) in (deg, deg, km)\n",
      "    ( 28.69761525,  7.85012269,  695508.00000492)>\n",
      "<SkyCoord (HeliographicStonyhurst: dateobs=2012-01-29 09:26:41.100000): (lon, lat, radius) in (deg, deg, km)\n",
      "    [( 28.69761525,   7.85012269,  695508.00000492),\n",
      "     (-43.44046652,  17.7654165 ,  695507.99999873)]>\n",
      "Image index:  53\n",
      "Detected  2  spots.\n",
      "28.69761525250838\n",
      "7.850122686142026\n",
      "-43.44046651674891\n",
      "17.76541649569542\n"
     ]
    },
    {
     "name": "stderr",
     "output_type": "stream",
     "text": [
      "WARNING: VerifyWarning:         Card 'SOURCE' is not FITS standard (invalid value string: \"'hmi.lev1[:#32959461,#32959437,#32959413,#32959485,#32959509,#32959533\").  Fixed 'SOURCE' card to meet the FITS standard. [astropy.io.fits.verify]\n"
     ]
    },
    {
     "name": "stdout",
     "output_type": "stream",
     "text": [
      "<SkyCoord (HeliographicStonyhurst: dateobs=2012-01-29 09:41:41.100000): (lon, lat, radius) in (deg, deg, km)\n",
      "    ( 28.8344268,  7.84720009,  695508.00000085)>\n",
      "<SkyCoord (HeliographicStonyhurst: dateobs=2012-01-29 09:41:41.100000): (lon, lat, radius) in (deg, deg, km)\n",
      "    [( 28.8344268 ,   7.84720009,  695508.00000085),\n",
      "     (-43.33649411,  17.77378023,  695508.00000214)]>\n",
      "Image index:  54\n",
      "Detected  2  spots.\n",
      "28.83442679888499\n",
      "7.84720008824792\n",
      "-43.336494105072326\n",
      "17.77378023311702\n"
     ]
    },
    {
     "name": "stderr",
     "output_type": "stream",
     "text": [
      "WARNING: VerifyWarning:         Card 'SOURCE' is not FITS standard (invalid value string: \"'hmi.lev1[:#32959941,#32959917,#32959893,#32959965,#32959989,#32960013\").  Fixed 'SOURCE' card to meet the FITS standard. [astropy.io.fits.verify]\n"
     ]
    },
    {
     "name": "stdout",
     "output_type": "stream",
     "text": [
      "<SkyCoord (HeliographicStonyhurst: dateobs=2012-01-29 09:56:41.100000): (lon, lat, radius) in (deg, deg, km)\n",
      "    ( 28.9756309,  7.84706105,  695507.99999703)>\n",
      "<SkyCoord (HeliographicStonyhurst: dateobs=2012-01-29 09:56:41.100000): (lon, lat, radius) in (deg, deg, km)\n",
      "    [( 28.9756309 ,   7.84706105,  695507.99999703),\n",
      "     (-43.18726608,  17.76106915,  695508.00000047)]>\n",
      "Image index:  55\n",
      "Detected  2  spots.\n",
      "28.975630900818633\n",
      "7.847061050403032\n",
      "-43.1872660801071\n",
      "17.761069147543573\n"
     ]
    },
    {
     "name": "stderr",
     "output_type": "stream",
     "text": [
      "WARNING: VerifyWarning:         Card 'SOURCE' is not FITS standard (invalid value string: \"'hmi.lev1[:#32960421,#32960397,#32960373,#32960445,#32960469,#32960493\").  Fixed 'SOURCE' card to meet the FITS standard. [astropy.io.fits.verify]\n"
     ]
    },
    {
     "name": "stdout",
     "output_type": "stream",
     "text": [
      "<SkyCoord (HeliographicStonyhurst: dateobs=2012-01-29 10:11:41.100000): (lon, lat, radius) in (deg, deg, km)\n",
      "    ( 29.10212027,  7.83668041,  695508.00000528)>\n",
      "<SkyCoord (HeliographicStonyhurst: dateobs=2012-01-29 10:11:41.100000): (lon, lat, radius) in (deg, deg, km)\n",
      "    [( 29.10212027,   7.83668041,  695508.00000528),\n",
      "     (-43.08072004,  17.76770941,  695508.00000193)]>\n",
      "Image index:  56\n",
      "Detected  2  spots.\n",
      "29.102120273552156\n",
      "7.836680405538186\n",
      "-43.080720041220935\n",
      "17.7677094103266\n"
     ]
    },
    {
     "name": "stderr",
     "output_type": "stream",
     "text": [
      "WARNING: VerifyWarning:         Card 'SOURCE' is not FITS standard (invalid value string: \"'hmi.lev1[:#32960901,#32960877,#32960853,#32960925,#32960949,#32960962\").  Fixed 'SOURCE' card to meet the FITS standard. [astropy.io.fits.verify]\n"
     ]
    },
    {
     "name": "stdout",
     "output_type": "stream",
     "text": [
      "<SkyCoord (HeliographicStonyhurst: dateobs=2012-01-29 10:26:41.100000): (lon, lat, radius) in (deg, deg, km)\n",
      "    ( 29.27584675,  7.84625179,  695508.00000005)>\n",
      "<SkyCoord (HeliographicStonyhurst: dateobs=2012-01-29 10:26:41.100000): (lon, lat, radius) in (deg, deg, km)\n",
      "    [( 29.27584675,   7.84625179,  695508.00000005),\n",
      "     (-42.90385529,  17.75589499,  695507.99999679)]>\n",
      "Image index:  57\n",
      "Detected  2  spots.\n",
      "29.275846745518383\n",
      "7.846251790987475\n",
      "-42.903855288503095\n",
      "17.75589498838683\n"
     ]
    },
    {
     "name": "stderr",
     "output_type": "stream",
     "text": [
      "WARNING: VerifyWarning:         Card 'SOURCE' is not FITS standard (invalid value string: \"'hmi.lev1[:#32961369,#32961333,#32961309,#32961381,#32961405,#32961429\").  Fixed 'SOURCE' card to meet the FITS standard. [astropy.io.fits.verify]\n"
     ]
    },
    {
     "name": "stdout",
     "output_type": "stream",
     "text": [
      "<SkyCoord (HeliographicStonyhurst: dateobs=2012-01-29 10:40:56.100000): (lon, lat, radius) in (deg, deg, km)\n",
      "    ( 29.39451162,  7.84026254,  695508.00000073)>\n",
      "<SkyCoord (HeliographicStonyhurst: dateobs=2012-01-29 10:40:56.100000): (lon, lat, radius) in (deg, deg, km)\n",
      "    [( 29.39451162,   7.84026254,  695508.00000073),\n",
      "     (-42.77963903,  17.76608555,  695507.9999991 )]>\n",
      "Image index:  58\n",
      "Detected  2  spots.\n",
      "29.3945116229216\n",
      "7.840262538952349\n",
      "-42.77963902926992\n",
      "17.76608555143985\n"
     ]
    },
    {
     "name": "stderr",
     "output_type": "stream",
     "text": [
      "WARNING: VerifyWarning:         Card 'SOURCE' is not FITS standard (invalid value string: \"'hmi.lev1[:#32961381,#32961369,#32961333,#32961405,#32961429,#32961453\").  Fixed 'SOURCE' card to meet the FITS standard. [astropy.io.fits.verify]\n"
     ]
    },
    {
     "name": "stdout",
     "output_type": "stream",
     "text": [
      "<SkyCoord (HeliographicStonyhurst: dateobs=2012-01-29 10:41:41.100000): (lon, lat, radius) in (deg, deg, km)\n",
      "    ( 29.39449889,  7.83988703,  695508.00000344)>\n",
      "<SkyCoord (HeliographicStonyhurst: dateobs=2012-01-29 10:41:41.100000): (lon, lat, radius) in (deg, deg, km)\n",
      "    [( 29.39449889,   7.83988703,  695508.00000344),\n",
      "     (-42.77946329,  17.76576687,  695508.00000056)]>\n",
      "Image index:  59\n",
      "Detected  2  spots.\n",
      "29.394498889063907\n",
      "7.839887028049212\n",
      "-42.77946329223381\n",
      "17.765766866433985\n"
     ]
    },
    {
     "name": "stderr",
     "output_type": "stream",
     "text": [
      "WARNING: VerifyWarning:         Card 'SOURCE' is not FITS standard (invalid value string: \"'hmi.lev1[:#32961837,#32961813,#32961789,#32961861,#32961885,#32961909\").  Fixed 'SOURCE' card to meet the FITS standard. [astropy.io.fits.verify]\n"
     ]
    },
    {
     "name": "stdout",
     "output_type": "stream",
     "text": [
      "<SkyCoord (HeliographicStonyhurst: dateobs=2012-01-29 10:55:56.100000): (lon, lat, radius) in (deg, deg, km)\n",
      "    ( 29.5401801,  7.84386909,  695508.00000045)>\n",
      "<SkyCoord (HeliographicStonyhurst: dateobs=2012-01-29 10:55:56.100000): (lon, lat, radius) in (deg, deg, km)\n",
      "    [( 29.5401801,   7.84386909,  695508.00000045),\n",
      "     (-42.6098837,  17.751021  ,  695508.00000196)]>\n",
      "Image index:  60\n",
      "Detected  2  spots.\n",
      "29.540180103463356\n",
      "7.843869087717914\n",
      "-42.609883696175366\n",
      "17.751021002551017\n"
     ]
    },
    {
     "name": "stderr",
     "output_type": "stream",
     "text": [
      "WARNING: VerifyWarning:         Card 'SOURCE' is not FITS standard (invalid value string: \"'hmi.lev1[:#32961861,#32961837,#32961813,#32961885,#32961909,#32961933\").  Fixed 'SOURCE' card to meet the FITS standard. [astropy.io.fits.verify]\n"
     ]
    },
    {
     "name": "stdout",
     "output_type": "stream",
     "text": [
      "<SkyCoord (HeliographicStonyhurst: dateobs=2012-01-29 10:56:41.100000): (lon, lat, radius) in (deg, deg, km)\n",
      "    ( 29.52810307,  7.84422583,  695508.00000521)>\n",
      "<SkyCoord (HeliographicStonyhurst: dateobs=2012-01-29 10:56:41.100000): (lon, lat, radius) in (deg, deg, km)\n",
      "    [( 29.52810307,   7.84422583,  695508.00000521),\n",
      "     (-42.60953109,  17.75091567,  695508.0000027 )]>\n",
      "Image index:  61\n",
      "Detected  2  spots.\n",
      "29.528103071696847\n",
      "7.844225832471499\n",
      "-42.609531087703324\n",
      "17.750915665773977\n"
     ]
    },
    {
     "name": "stderr",
     "output_type": "stream",
     "text": [
      "WARNING: VerifyWarning:         Card 'SOURCE' is not FITS standard (invalid value string: \"'hmi.lev1[:#32962317,#32962293,#32962269,#32962341,#32962365,#32962389\").  Fixed 'SOURCE' card to meet the FITS standard. [astropy.io.fits.verify]\n"
     ]
    },
    {
     "name": "stdout",
     "output_type": "stream",
     "text": [
      "<SkyCoord (HeliographicStonyhurst: dateobs=2012-01-29 11:10:56): (lon, lat, radius) in (deg, deg, km)\n",
      "    ( 29.66640103,  7.83617326,  695507.99999999)>\n",
      "<SkyCoord (HeliographicStonyhurst: dateobs=2012-01-29 11:10:56): (lon, lat, radius) in (deg, deg, km)\n",
      "    [( 29.66640103,   7.83617326,  695507.99999999),\n",
      "     (-42.50370819,  17.75941594,  695508.00000348)]>\n",
      "Image index:  62\n",
      "Detected  2  spots.\n",
      "29.666401034666233\n",
      "7.836173261979365\n",
      "-42.503708193131956\n",
      "17.759415935982176\n"
     ]
    },
    {
     "name": "stderr",
     "output_type": "stream",
     "text": [
      "WARNING: VerifyWarning:         Card 'SOURCE' is not FITS standard (invalid value string: \"'hmi.lev1[:#32962341,#32962317,#32962293,#32962365,#32962389,#32962413\").  Fixed 'SOURCE' card to meet the FITS standard. [astropy.io.fits.verify]\n"
     ]
    },
    {
     "name": "stdout",
     "output_type": "stream",
     "text": [
      "<SkyCoord (HeliographicStonyhurst: dateobs=2012-01-29 11:11:41): (lon, lat, radius) in (deg, deg, km)\n",
      "    ( 29.66506284,  7.82465798,  695508.00000374)>\n",
      "<SkyCoord (HeliographicStonyhurst: dateobs=2012-01-29 11:11:41): (lon, lat, radius) in (deg, deg, km)\n",
      "    [( 29.66506284,   7.82465798,  695508.00000374),\n",
      "     (-42.5307015 ,  17.77778308,  695508.00000258)]>\n",
      "Image index:  63\n",
      "Detected  2  spots.\n",
      "29.66506284101084\n",
      "7.8246579818837\n",
      "-42.53070149773234\n",
      "17.77778308080371\n"
     ]
    },
    {
     "name": "stderr",
     "output_type": "stream",
     "text": [
      "WARNING: VerifyWarning:         Card 'SOURCE' is not FITS standard (invalid value string: \"'hmi.lev1[:#32962797,#32962773,#32962749,#32962821,#32962845,#32962869\").  Fixed 'SOURCE' card to meet the FITS standard. [astropy.io.fits.verify]\n"
     ]
    },
    {
     "name": "stdout",
     "output_type": "stream",
     "text": [
      "<SkyCoord (HeliographicStonyhurst: dateobs=2012-01-29 11:25:56): (lon, lat, radius) in (deg, deg, km)\n",
      "    ( 29.82004437,  7.84255395,  695508.00000112)>\n",
      "<SkyCoord (HeliographicStonyhurst: dateobs=2012-01-29 11:25:56): (lon, lat, radius) in (deg, deg, km)\n",
      "    [( 29.82004437,   7.84255395,  695508.00000112),\n",
      "     (-42.37976259,  17.76494033,  695507.99999903)]>\n",
      "Image index:  64\n",
      "Detected  2  spots.\n",
      "29.82004436971835\n",
      "7.842553953907374\n",
      "-42.379762588330856\n",
      "17.76494032700833\n"
     ]
    },
    {
     "name": "stderr",
     "output_type": "stream",
     "text": [
      "WARNING: VerifyWarning:         Card 'SOURCE' is not FITS standard (invalid value string: \"'hmi.lev1[:#32963277,#32963253,#32963229,#32963301,#32963325,#32963349\").  Fixed 'SOURCE' card to meet the FITS standard. [astropy.io.fits.verify]\n"
     ]
    },
    {
     "name": "stdout",
     "output_type": "stream",
     "text": [
      "<SkyCoord (HeliographicStonyhurst: dateobs=2012-01-29 11:40:56): (lon, lat, radius) in (deg, deg, km)\n",
      "    ( 29.95413015,  7.84265348,  695508.00000228)>\n",
      "<SkyCoord (HeliographicStonyhurst: dateobs=2012-01-29 11:40:56): (lon, lat, radius) in (deg, deg, km)\n",
      "    [( 29.95413015,   7.84265348,  695508.00000228),\n",
      "     (-42.25368038,  17.77225713,  695508.00000488)]>\n",
      "Image index:  65\n",
      "Detected  2  spots.\n",
      "29.954130151877315\n",
      "7.842653479646675\n",
      "-42.25368037686359\n",
      "17.772257128952067\n"
     ]
    },
    {
     "name": "stderr",
     "output_type": "stream",
     "text": [
      "WARNING: VerifyWarning:         Card 'SOURCE' is not FITS standard (invalid value string: \"'hmi.lev1[:#32963757,#32963733,#32963709,#32963781,#32963805,#32963829\").  Fixed 'SOURCE' card to meet the FITS standard. [astropy.io.fits.verify]\n"
     ]
    },
    {
     "name": "stdout",
     "output_type": "stream",
     "text": [
      "<SkyCoord (HeliographicStonyhurst: dateobs=2012-01-29 11:55:56): (lon, lat, radius) in (deg, deg, km)\n",
      "    ( 30.07754825,  7.82320549,  695508.00000315)>\n",
      "<SkyCoord (HeliographicStonyhurst: dateobs=2012-01-29 11:55:56): (lon, lat, radius) in (deg, deg, km)\n",
      "    [( 30.07754825,   7.82320549,  695508.00000315),\n",
      "     (-42.10581889,  17.76407463,  695508.00000576)]>\n",
      "Image index:  66\n",
      "Detected  2  spots.\n",
      "30.07754825255557\n",
      "7.823205491481731\n",
      "-42.10581889080445\n",
      "17.76407463203922\n"
     ]
    },
    {
     "name": "stderr",
     "output_type": "stream",
     "text": [
      "WARNING: VerifyWarning:         Card 'SOURCE' is not FITS standard (invalid value string: \"'hmi.lev1[:#32964237,#32964213,#32964189,#32964261,#32964285,#32964309\").  Fixed 'SOURCE' card to meet the FITS standard. [astropy.io.fits.verify]\n"
     ]
    },
    {
     "name": "stdout",
     "output_type": "stream",
     "text": [
      "<SkyCoord (HeliographicStonyhurst: dateobs=2012-01-29 12:10:56): (lon, lat, radius) in (deg, deg, km)\n",
      "    ( 30.22514802,  7.84084964,  695508.00000093)>\n",
      "<SkyCoord (HeliographicStonyhurst: dateobs=2012-01-29 12:10:56): (lon, lat, radius) in (deg, deg, km)\n",
      "    [( 30.22514802,   7.84084964,  695508.00000093),\n",
      "     (-41.92291443,  17.73004603,  695507.99999922)]>\n",
      "Image index:  67\n",
      "Detected  2  spots.\n",
      "30.225148018438812\n",
      "7.8408496404370505\n",
      "-41.922914434186524\n",
      "17.73004602563445\n"
     ]
    },
    {
     "name": "stderr",
     "output_type": "stream",
     "text": [
      "WARNING: VerifyWarning:         Card 'SOURCE' is not FITS standard (invalid value string: \"'hmi.lev1[:#32964717,#32964705,#32964669,#32964753,#32964765,#32964789\").  Fixed 'SOURCE' card to meet the FITS standard. [astropy.io.fits.verify]\n"
     ]
    },
    {
     "name": "stdout",
     "output_type": "stream",
     "text": [
      "<SkyCoord (HeliographicStonyhurst: dateobs=2012-01-29 12:25:56): (lon, lat, radius) in (deg, deg, km)\n",
      "    ( 30.37172316,  7.83881173,  695508.00000295)>\n",
      "<SkyCoord (HeliographicStonyhurst: dateobs=2012-01-29 12:25:56): (lon, lat, radius) in (deg, deg, km)\n",
      "    [( 30.37172316,   7.83881173,  695508.00000295),\n",
      "     (-41.82315872,  17.73906947,  695508.00000317)]>\n",
      "Image index:  68\n",
      "Detected  2  spots.\n",
      "30.371723164048845\n",
      "7.838811727667579\n",
      "-41.82315872018477\n",
      "17.73906946544056\n"
     ]
    },
    {
     "name": "stderr",
     "output_type": "stream",
     "text": [
      "WARNING: VerifyWarning:         Card 'SOURCE' is not FITS standard (invalid value string: \"'hmi.lev1[:#32965173,#32965149,#32965125,#32965197,#32965221,#32965245\").  Fixed 'SOURCE' card to meet the FITS standard. [astropy.io.fits.verify]\n"
     ]
    },
    {
     "name": "stdout",
     "output_type": "stream",
     "text": [
      "<SkyCoord (HeliographicStonyhurst: dateobs=2012-01-29 12:40:11): (lon, lat, radius) in (deg, deg, km)\n",
      "    ( 30.50381192,  7.82930076,  695508.00000251)>\n",
      "<SkyCoord (HeliographicStonyhurst: dateobs=2012-01-29 12:40:11): (lon, lat, radius) in (deg, deg, km)\n",
      "    [( 30.50381192,   7.82930076,  695508.00000251),\n",
      "     (-41.72068642,  17.74756708,  695508.00000195)]>\n",
      "Image index:  69\n",
      "Detected  2  spots.\n",
      "30.503811922350906\n",
      "7.829300755349932\n",
      "-41.72068641572095\n",
      "17.747567078000177\n"
     ]
    },
    {
     "name": "stderr",
     "output_type": "stream",
     "text": [
      "WARNING: VerifyWarning:         Card 'SOURCE' is not FITS standard (invalid value string: \"'hmi.lev1[:#32965197,#32965173,#32965149,#32965221,#32965245,#32965269\").  Fixed 'SOURCE' card to meet the FITS standard. [astropy.io.fits.verify]\n"
     ]
    },
    {
     "name": "stdout",
     "output_type": "stream",
     "text": [
      "<SkyCoord (HeliographicStonyhurst: dateobs=2012-01-29 12:40:56): (lon, lat, radius) in (deg, deg, km)\n",
      "    ( 30.50890411,  7.83057444,  695508.00000181)>\n",
      "<SkyCoord (HeliographicStonyhurst: dateobs=2012-01-29 12:40:56): (lon, lat, radius) in (deg, deg, km)\n",
      "    [( 30.50890411,   7.83057444,  695508.00000181),\n",
      "     (-41.67740191,  17.73366111,  695508.00000061)]>\n",
      "Image index:  70\n",
      "Detected  2  spots.\n",
      "30.508904113330264\n",
      "7.830574441071167\n",
      "-41.67740191249957\n",
      "17.733661106357864\n"
     ]
    },
    {
     "name": "stderr",
     "output_type": "stream",
     "text": [
      "WARNING: VerifyWarning:         Card 'SOURCE' is not FITS standard (invalid value string: \"'hmi.lev1[:#32965653,#32965629,#32965605,#32965677,#32965701,#32965725\").  Fixed 'SOURCE' card to meet the FITS standard. [astropy.io.fits.verify]\n"
     ]
    },
    {
     "name": "stdout",
     "output_type": "stream",
     "text": [
      "<SkyCoord (HeliographicStonyhurst: dateobs=2012-01-29 12:55:11): (lon, lat, radius) in (deg, deg, km)\n",
      "    ( 30.64727093,  7.8211607,  695508.00000319)>\n",
      "<SkyCoord (HeliographicStonyhurst: dateobs=2012-01-29 12:55:11): (lon, lat, radius) in (deg, deg, km)\n",
      "    [( 30.64727093,   7.8211607 ,  695508.00000319),\n",
      "     (-41.54867886,  17.73378801,  695508.00000368)]>\n",
      "Image index:  71\n",
      "Detected  2  spots.\n",
      "30.647270931755983\n",
      "7.821160698918549\n",
      "-41.548678857111305\n",
      "17.733788014789006\n"
     ]
    },
    {
     "name": "stderr",
     "output_type": "stream",
     "text": [
      "WARNING"
     ]
    },
    {
     "name": "stdout",
     "output_type": "stream",
     "text": [
      "<SkyCoord (HeliographicStonyhurst: dateobs=2012-01-29 12:55:56): (lon, lat, radius) in (deg, deg, km)\n",
      "    ( 30.64726579,  7.82121165,  695507.9999953)>\n",
      "<SkyCoord (HeliographicStonyhurst: dateobs=2012-01-29 12:55:56): (lon, lat, radius) in (deg, deg, km)\n",
      "    [( 30.64726579,   7.82121165,  695507.9999953),\n",
      "     (-41.54863481,  17.73377863,  695507.9999957)]>\n",
      "Image index:  72\n",
      "Detected  2  spots.\n",
      "30.64726579172184\n",
      "7.821211652631831\n",
      "-41.54863480641804\n",
      "17.733778634543555\n"
     ]
    },
    {
     "name": "stderr",
     "output_type": "stream",
     "text": [
      ": VerifyWarning:         Card 'SOURCE' is not FITS standard (invalid value string: \"'hmi.lev1[:#32965677,#32965653,#32965629,#32965701,#32965725,#32965749\").  Fixed 'SOURCE' card to meet the FITS standard. [astropy.io.fits.verify]\n",
      "WARNING: VerifyWarning:         Card 'SOURCE' is not FITS standard (invalid value string: \"'hmi.lev1[:#32966145,#32966109,#32966085,#32966157,#32966181,#32966205\").  Fixed 'SOURCE' card to meet the FITS standard. [astropy.io.fits.verify]\n"
     ]
    },
    {
     "name": "stdout",
     "output_type": "stream",
     "text": [
      "<SkyCoord (HeliographicStonyhurst: dateobs=2012-01-29 13:10:11): (lon, lat, radius) in (deg, deg, km)\n",
      "    ( 30.76778491,  7.81510841,  695507.99999814)>\n",
      "<SkyCoord (HeliographicStonyhurst: dateobs=2012-01-29 13:10:11): (lon, lat, radius) in (deg, deg, km)\n",
      "    [( 30.76778491,   7.81510841,  695507.99999814),\n",
      "     (-41.44752681,  17.74556629,  695508.00000403)]>\n",
      "Image index:  73\n",
      "Detected  2  spots.\n",
      "30.767784912676703\n",
      "7.815108412424421\n",
      "-41.44752681140018\n",
      "17.745566290541507\n"
     ]
    },
    {
     "name": "stderr",
     "output_type": "stream",
     "text": [
      "WARNING: VerifyWarning:         Card 'SOURCE' is not FITS standard (invalid value string: \"'hmi.lev1[:#32966157,#32966145,#32966109,#32966181,#32966205,#32966229\").  Fixed 'SOURCE' card to meet the FITS standard. [astropy.io.fits.verify]\n"
     ]
    },
    {
     "name": "stdout",
     "output_type": "stream",
     "text": [
      "<SkyCoord (HeliographicStonyhurst: dateobs=2012-01-29 13:10:56): (lon, lat, radius) in (deg, deg, km)\n",
      "    ( 30.77354733,  7.80989602,  695508.00000356)>\n",
      "<SkyCoord (HeliographicStonyhurst: dateobs=2012-01-29 13:10:56): (lon, lat, radius) in (deg, deg, km)\n",
      "    [( 30.77354733,   7.80989602,  695508.00000356),\n",
      "     (-41.44760356,  17.74551701,  695507.99999982)]>\n",
      "Image index:  74\n",
      "Detected  2  spots.\n",
      "30.77354732575354\n",
      "7.809896024553801\n",
      "-41.447603560559045\n",
      "17.745517008424088\n"
     ]
    },
    {
     "name": "stderr",
     "output_type": "stream",
     "text": [
      "WARNING: VerifyWarning:         Card 'SOURCE' is not FITS standard (invalid value string: \"'hmi.lev1[:#32966613,#32966589,#32966565,#32966625,#32966661,#32966673\").  Fixed 'SOURCE' card to meet the FITS standard. [astropy.io.fits.verify]\n"
     ]
    },
    {
     "name": "stdout",
     "output_type": "stream",
     "text": [
      "<SkyCoord (HeliographicStonyhurst: dateobs=2012-01-29 13:25:11): (lon, lat, radius) in (deg, deg, km)\n",
      "    ( 30.90889714,  7.81460787,  695508.00000284)>\n",
      "<SkyCoord (HeliographicStonyhurst: dateobs=2012-01-29 13:25:11): (lon, lat, radius) in (deg, deg, km)\n",
      "    [( 30.90889714,   7.81460787,  695508.00000284),\n",
      "     (-41.30177215,  17.74522879,  695507.99999711)]>\n",
      "Image index:  75\n",
      "Detected  2  spots.\n",
      "30.908897140712995\n",
      "7.814607874137331\n",
      "-41.3017721481102\n",
      "17.745228794272027\n"
     ]
    },
    {
     "name": "stderr",
     "output_type": "stream",
     "text": [
      "WARNING: VerifyWarning:         Card 'SOURCE' is not FITS standard (invalid value string: \"'hmi.lev1[:#32967093,#32967069,#32967045,#32967117,#32967141,#32967165\").  Fixed 'SOURCE' card to meet the FITS standard. [astropy.io.fits.verify]\n"
     ]
    },
    {
     "name": "stdout",
     "output_type": "stream",
     "text": [
      "<SkyCoord (HeliographicStonyhurst: dateobs=2012-01-29 13:40:11): (lon, lat, radius) in (deg, deg, km)\n",
      "    ( 31.04841923,  7.80246117,  695508.00000174)>\n",
      "<SkyCoord (HeliographicStonyhurst: dateobs=2012-01-29 13:40:11): (lon, lat, radius) in (deg, deg, km)\n",
      "    [( 31.04841923,   7.80246117,  695508.00000174),\n",
      "     (-41.1015372 ,  17.71618238,  695507.99999684)]>\n",
      "Image index:  76\n",
      "Detected  2  spots.\n",
      "31.048419233783864\n",
      "7.802461166365216\n",
      "-41.10153719967361\n",
      "17.716182381669995\n"
     ]
    },
    {
     "name": "stderr",
     "output_type": "stream",
     "text": [
      "WARNING: VerifyWarning:         Card 'SOURCE' is not FITS standard (invalid value string: \"'hmi.lev1[:#32967573,#32967549,#32967525,#32967585,#32967621,#32967645\").  Fixed 'SOURCE' card to meet the FITS standard. [astropy.io.fits.verify]\n"
     ]
    },
    {
     "name": "stdout",
     "output_type": "stream",
     "text": [
      "<SkyCoord (HeliographicStonyhurst: dateobs=2012-01-29 13:55:11): (lon, lat, radius) in (deg, deg, km)\n",
      "    ( 31.18662803,  7.80363307,  695508.00000708)>\n",
      "<SkyCoord (HeliographicStonyhurst: dateobs=2012-01-29 13:55:11): (lon, lat, radius) in (deg, deg, km)\n",
      "    [( 31.18662803,   7.80363307,  695508.00000708),\n",
      "     (-41.00542624,  17.73921829,  695508.00000122)]>\n",
      "Image index:  77\n",
      "Detected  2  spots.\n",
      "31.186628033358073\n",
      "7.803633068275281\n",
      "-41.00542624220094\n",
      "17.739218287655934\n"
     ]
    },
    {
     "name": "stderr",
     "output_type": "stream",
     "text": [
      "WARNING: VerifyWarning:         Card 'SOURCE' is not FITS standard (invalid value string: \"'hmi.lev1[:#32968053,#32968029,#32968005,#32968077,#32968101,#32968113\").  Fixed 'SOURCE' card to meet the FITS standard. [astropy.io.fits.verify]\n"
     ]
    },
    {
     "name": "stdout",
     "output_type": "stream",
     "text": [
      "<SkyCoord (HeliographicStonyhurst: dateobs=2012-01-29 14:10:11): (lon, lat, radius) in (deg, deg, km)\n",
      "    ( 31.33006402,  7.79116901,  695508.00000316)>\n",
      "<SkyCoord (HeliographicStonyhurst: dateobs=2012-01-29 14:10:11): (lon, lat, radius) in (deg, deg, km)\n",
      "    [( 31.33006402,   7.79116901,  695508.00000316),\n",
      "     (-40.88472778,  17.7486973 ,  695508.00000437)]>\n",
      "Image index:  78\n",
      "Detected  2  spots.\n",
      "31.33006401524832\n",
      "7.791169009491285\n",
      "-40.88472778039235\n",
      "17.748697301638494\n"
     ]
    },
    {
     "name": "stderr",
     "output_type": "stream",
     "text": [
      "WARNING: VerifyWarning:         Card 'SOURCE' is not FITS standard (invalid value string: \"'hmi.lev1[:#32968533,#32968509,#32968485,#32968557,#32968581,#32968605\").  Fixed 'SOURCE' card to meet the FITS standard. [astropy.io.fits.verify]\n"
     ]
    },
    {
     "name": "stdout",
     "output_type": "stream",
     "text": [
      "<SkyCoord (HeliographicStonyhurst: dateobs=2012-01-29 14:25:11): (lon, lat, radius) in (deg, deg, km)\n",
      "    ( 31.47751672,  7.78520637,  695508.00000089)>\n",
      "<SkyCoord (HeliographicStonyhurst: dateobs=2012-01-29 14:25:11): (lon, lat, radius) in (deg, deg, km)\n",
      "    [( 31.47751672,   7.78520637,  695508.00000089),\n",
      "     (-40.76292151,  17.75704422,  695507.99999927)]>\n",
      "Image index:  79\n",
      "Detected  2  spots.\n",
      "31.477516717280615\n",
      "7.78520636636504\n",
      "-40.762921514307955\n",
      "17.757044218303122\n"
     ]
    },
    {
     "name": "stderr",
     "output_type": "stream",
     "text": [
      "WARNING: VerifyWarning:         Card 'SOURCE' is not FITS standard (invalid value string: \"'hmi.lev1[:#32968989,#32968965,#32968941,#32969013,#32969037,#32969061\").  Fixed 'SOURCE' card to meet the FITS standard. [astropy.io.fits.verify]\n"
     ]
    },
    {
     "name": "stdout",
     "output_type": "stream",
     "text": [
      "<SkyCoord (HeliographicStonyhurst: dateobs=2012-01-29 14:39:26): (lon, lat, radius) in (deg, deg, km)\n",
      "    ( 31.61603973,  7.79158244,  695507.99999331)>\n",
      "<SkyCoord (HeliographicStonyhurst: dateobs=2012-01-29 14:39:26): (lon, lat, radius) in (deg, deg, km)\n",
      "    [( 31.61603973,   7.79158244,  695507.99999331),\n",
      "     (-40.62078653,  17.76045722,  695507.99999613)]>\n",
      "Image index:  80\n",
      "Detected  2  spots.\n",
      "31.616039732025982\n",
      "7.791582437104022\n",
      "-40.62078653181184\n",
      "17.760457216074926\n"
     ]
    },
    {
     "name": "stderr",
     "output_type": "stream",
     "text": [
      "WARNING: VerifyWarning:         Card 'SOURCE' is not FITS standard (invalid value string: \"'hmi.lev1[:#32969013,#32968989,#32968965,#32969037,#32969061,#32969073\").  Fixed 'SOURCE' card to meet the FITS standard. [astropy.io.fits.verify]\n"
     ]
    },
    {
     "name": "stdout",
     "output_type": "stream",
     "text": [
      "<SkyCoord (HeliographicStonyhurst: dateobs=2012-01-29 14:40:11): (lon, lat, radius) in (deg, deg, km)\n",
      "    ( 31.61982719,  7.79294126,  695507.99999906)>\n",
      "<SkyCoord (HeliographicStonyhurst: dateobs=2012-01-29 14:40:11): (lon, lat, radius) in (deg, deg, km)\n",
      "    [( 31.61982719,   7.79294126,  695507.99999906),\n",
      "     (-40.59975083,  17.75882941,  695507.99999973)]>\n",
      "Image index:  81\n",
      "Detected  2  spots.\n",
      "31.6198271897642\n",
      "7.792941261654925\n",
      "-40.599750833430875\n",
      "17.7588294125153\n"
     ]
    },
    {
     "name": "stderr",
     "output_type": "stream",
     "text": [
      "WARNING: VerifyWarning:         Card 'SOURCE' is not FITS standard (invalid value string: \"'hmi.lev1[:#32969469,#32969445,#32969421,#32969493,#32969517,#32969541\").  Fixed 'SOURCE' card to meet the FITS standard. [astropy.io.fits.verify]\n"
     ]
    },
    {
     "name": "stdout",
     "output_type": "stream",
     "text": [
      "<SkyCoord (HeliographicStonyhurst: dateobs=2012-01-29 14:54:26): (lon, lat, radius) in (deg, deg, km)\n",
      "    ( 31.74561437,  7.78313142,  695507.99999959)>\n",
      "<SkyCoord (HeliographicStonyhurst: dateobs=2012-01-29 14:54:26): (lon, lat, radius) in (deg, deg, km)\n",
      "    [( 31.74561437,   7.78313142,  695507.99999959),\n",
      "     (-40.42819673,  17.72944849,  695507.99999973)]>\n",
      "Image index:  82\n",
      "Detected  2  spots.\n",
      "31.74561437386948\n",
      "7.783131422185019\n",
      "-40.42819672725925\n",
      "17.729448489811812\n"
     ]
    },
    {
     "name": "stderr",
     "output_type": "stream",
     "text": [
      "WARNING: VerifyWarning:         Card 'SOURCE' is not FITS standard (invalid value string: \"'hmi.lev1[:#32969493,#32969469,#32969445,#32969517,#32969541,#32969565\").  Fixed 'SOURCE' card to meet the FITS standard. [astropy.io.fits.verify]\n"
     ]
    },
    {
     "name": "stdout",
     "output_type": "stream",
     "text": [
      "<SkyCoord (HeliographicStonyhurst: dateobs=2012-01-29 14:55:11): (lon, lat, radius) in (deg, deg, km)\n",
      "    ( 31.75820046,  7.78387421,  695507.99999954)>\n",
      "<SkyCoord (HeliographicStonyhurst: dateobs=2012-01-29 14:55:11): (lon, lat, radius) in (deg, deg, km)\n",
      "    [( 31.75820046,   7.78387421,  695507.99999954),\n",
      "     (-40.42817946,  17.72944273,  695507.9999993 )]>\n",
      "Image index:  83\n",
      "Detected  2  spots.\n",
      "31.758200457875002\n",
      "7.783874214510134\n",
      "-40.42817945700855\n",
      "17.729442732587476\n"
     ]
    },
    {
     "name": "stderr",
     "output_type": "stream",
     "text": [
      "WARNING: VerifyWarning:         Card 'SOURCE' is not FITS standard (invalid value string: \"'hmi.lev1[:#32969937,#32969925,#32969901,#32969973,#32969997,#32970033\").  Fixed 'SOURCE' card to meet the FITS standard. [astropy.io.fits.verify]\n"
     ]
    },
    {
     "name": "stdout",
     "output_type": "stream",
     "text": [
      "<SkyCoord (HeliographicStonyhurst: dateobs=2012-01-29 15:09:25.900000): (lon, lat, radius) in (deg, deg, km)\n",
      "    ( 31.90218118,  7.78200862,  695507.99999901)>\n",
      "<SkyCoord (HeliographicStonyhurst: dateobs=2012-01-29 15:09:25.900000): (lon, lat, radius) in (deg, deg, km)\n",
      "    [( 31.90218118,   7.78200862,  695507.99999901),\n",
      "     (-40.32973097,  17.75460536,  695508.0000044 )]>\n",
      "Image index:  84\n",
      "Detected  2  spots.\n",
      "31.90218118203325\n",
      "7.782008622290056\n",
      "-40.329730965324856\n",
      "17.75460536218222\n"
     ]
    },
    {
     "name": "stderr",
     "output_type": "stream",
     "text": [
      "WARNING: VerifyWarning:         Card 'SOURCE' is not FITS standard (invalid value string: \"'hmi.lev1[:#32969973,#32969937,#32969925,#32969997,#32970033,#32970045\").  Fixed 'SOURCE' card to meet the FITS standard. [astropy.io.fits.verify]\n"
     ]
    },
    {
     "name": "stdout",
     "output_type": "stream",
     "text": [
      "<SkyCoord (HeliographicStonyhurst: dateobs=2012-01-29 15:10:10.900000): (lon, lat, radius) in (deg, deg, km)\n",
      "    ( 31.90166535,  7.78154834,  695507.99999995)>\n",
      "<SkyCoord (HeliographicStonyhurst: dateobs=2012-01-29 15:10:10.900000): (lon, lat, radius) in (deg, deg, km)\n",
      "    [( 31.90166535,   7.78154834,  695507.99999995),\n",
      "     (-40.35492346,  17.77239023,  695507.99999675)]>\n",
      "Image index:  85\n",
      "Detected  2  spots.\n",
      "31.90166534602739\n",
      "7.781548336552918\n",
      "-40.354923461261905\n",
      "17.772390228865344\n"
     ]
    },
    {
     "name": "stderr",
     "output_type": "stream",
     "text": [
      "WARNING: VerifyWarning:         Card 'SOURCE' is not FITS standard (invalid value string: \"'hmi.lev1[:#32970429,#32970405,#32970381,#32970465,#32970477,#32970489\").  Fixed 'SOURCE' card to meet the FITS standard. [astropy.io.fits.verify]\n"
     ]
    },
    {
     "name": "stdout",
     "output_type": "stream",
     "text": [
      "<SkyCoord (HeliographicStonyhurst: dateobs=2012-01-29 15:24:25.900000): (lon, lat, radius) in (deg, deg, km)\n",
      "    ( 32.03591337,  7.78237551,  695507.99999972)>\n",
      "<SkyCoord (HeliographicStonyhurst: dateobs=2012-01-29 15:24:25.900000): (lon, lat, radius) in (deg, deg, km)\n",
      "    [( 32.03591337,   7.78237551,  695507.99999972),\n",
      "     (-40.18565389,  17.74410104,  695507.99999934)]>\n",
      "Image index:  86\n",
      "Detected  2  spots.\n",
      "32.03591336796722\n",
      "7.782375510893459\n",
      "-40.185653887516054\n",
      "17.74410104317395\n"
     ]
    },
    {
     "name": "stderr",
     "output_type": "stream",
     "text": [
      "WARNING: VerifyWarning:         Card 'SOURCE' is not FITS standard (invalid value string: \"'hmi.lev1[:#32970897,#32970885,#32970861,#32970933,#32970957,#32970984\").  Fixed 'SOURCE' card to meet the FITS standard. [astropy.io.fits.verify]\n"
     ]
    },
    {
     "name": "stdout",
     "output_type": "stream",
     "text": [
      "<SkyCoord (HeliographicStonyhurst: dateobs=2012-01-29 15:39:25.900000): (lon, lat, radius) in (deg, deg, km)\n",
      "    ( 32.17737954,  7.78844924,  695507.99999974)>\n",
      "<SkyCoord (HeliographicStonyhurst: dateobs=2012-01-29 15:39:25.900000): (lon, lat, radius) in (deg, deg, km)\n",
      "    [( 32.17737954,   7.78844924,  695507.99999974),\n",
      "     (-40.0541151 ,  17.75421179,  695507.99999677)]>\n",
      "Image index:  87\n",
      "Detected  2  spots.\n",
      "32.17737954451778\n",
      "7.78844924180076\n",
      "-40.05411510242328\n",
      "17.75421179076713\n"
     ]
    },
    {
     "name": "stderr",
     "output_type": "stream",
     "text": [
      "WARNING: VerifyWarning:         Card 'SOURCE' is not FITS standard (invalid value string: \"'hmi.lev1[:#32971389,#32971365,#32971341,#32971413,#32971437,#32971449\").  Fixed 'SOURCE' card to meet the FITS standard. [astropy.io.fits.verify]\n"
     ]
    },
    {
     "name": "stdout",
     "output_type": "stream",
     "text": [
      "<SkyCoord (HeliographicStonyhurst: dateobs=2012-01-29 15:54:25.900000): (lon, lat, radius) in (deg, deg, km)\n",
      "    ( 32.31620215,  7.77932659,  695507.99999594)>\n",
      "<SkyCoord (HeliographicStonyhurst: dateobs=2012-01-29 15:54:25.900000): (lon, lat, radius) in (deg, deg, km)\n",
      "    [( 32.31620215,   7.77932659,  695507.99999594),\n",
      "     (-39.94926672,  17.77493525,  695507.99999592)]>\n",
      "Image index:  88\n",
      "Detected  2  spots.\n",
      "32.31620214773737\n",
      "7.779326592623931\n",
      "-39.94926672316812\n",
      "17.774935253601704\n"
     ]
    },
    {
     "name": "stderr",
     "output_type": "stream",
     "text": [
      "WARNING"
     ]
    },
    {
     "name": "stdout",
     "output_type": "stream",
     "text": [
      "<SkyCoord (HeliographicStonyhurst: dateobs=2012-01-29 16:09:25.900000): (lon, lat, radius) in (deg, deg, km)\n",
      "    ( 32.45845551,  7.77186917,  695508.00000243)>\n",
      "<SkyCoord (HeliographicStonyhurst: dateobs=2012-01-29 16:09:25.900000): (lon, lat, radius) in (deg, deg, km)\n",
      "    [( 32.45845551,   7.77186917,  695508.00000243),\n",
      "     (-39.78116984,  17.76074652,  695507.99999975)]>\n",
      "Image index:  89\n",
      "Detected  2  spots.\n",
      "32.458455510196956\n",
      "7.771869170545666\n",
      "-39.78116984038218\n",
      "17.760746523816128\n"
     ]
    },
    {
     "name": "stderr",
     "output_type": "stream",
     "text": [
      ": VerifyWarning:         Card 'SOURCE' is not FITS standard (invalid value string: \"'hmi.lev1[:#32971869,#32971845,#32971821,#32971893,#32971917,#32971941\").  Fixed 'SOURCE' card to meet the FITS standard. [astropy.io.fits.verify]\n",
      "WARNING: VerifyWarning:         Card 'SOURCE' is not FITS standard (invalid value string: \"'hmi.lev1[:#32972349,#32972325,#32972301,#32972373,#32972397,#32972421\").  Fixed 'SOURCE' card to meet the FITS standard. [astropy.io.fits.verify]\n"
     ]
    },
    {
     "name": "stdout",
     "output_type": "stream",
     "text": [
      "<SkyCoord (HeliographicStonyhurst: dateobs=2012-01-29 16:24:25.900000): (lon, lat, radius) in (deg, deg, km)\n",
      "    ( 32.6028524,  7.76193753,  695508.00000093)>\n",
      "<SkyCoord (HeliographicStonyhurst: dateobs=2012-01-29 16:24:25.900000): (lon, lat, radius) in (deg, deg, km)\n",
      "    [( 32.6028524,   7.76193753,  695508.00000093),\n",
      "     (-39.6623967,  17.76945255,  695507.99999912)]>\n",
      "Image index:  90\n",
      "Detected  2  spots.\n",
      "32.60285239548362\n",
      "7.761937525853062\n",
      "-39.66239670268613\n",
      "17.76945254751602\n"
     ]
    },
    {
     "name": "stderr",
     "output_type": "stream",
     "text": [
      "WARNING"
     ]
    },
    {
     "name": "stdout",
     "output_type": "stream",
     "text": [
      "<SkyCoord (HeliographicStonyhurst: dateobs=2012-01-29 16:38:40.900000): (lon, lat, radius) in (deg, deg, km)\n",
      "    ( 32.74271334,  7.77177238,  695507.99999755)>\n",
      "<SkyCoord (HeliographicStonyhurst: dateobs=2012-01-29 16:38:40.900000): (lon, lat, radius) in (deg, deg, km)\n",
      "    [( 32.74271334,   7.77177238,  695507.99999755),\n",
      "     (-39.51871986,  17.75735647,  695507.99999768)]>\n",
      "Image index:  91\n",
      "Detected  2  spots.\n",
      "32.74271333504223\n",
      "7.771772380674466\n",
      "-39.51871986049584\n",
      "17.75735647216739\n"
     ]
    },
    {
     "name": "stderr",
     "output_type": "stream",
     "text": [
      ": VerifyWarning:         Card 'SOURCE' is not FITS standard (invalid value string: \"'hmi.lev1[:#32972805,#32972781,#32972757,#32972829,#32972853,#32972877\").  Fixed 'SOURCE' card to meet the FITS standard. [astropy.io.fits.verify]\n",
      "WARNING: VerifyWarning:         Card 'SOURCE' is not FITS standard (invalid value string: \"'hmi.lev1[:#32972829,#32972805,#32972781,#32972853,#32972877,#32972901\").  Fixed 'SOURCE' card to meet the FITS standard. [astropy.io.fits.verify]\n"
     ]
    },
    {
     "name": "stdout",
     "output_type": "stream",
     "text": [
      "<SkyCoord (HeliographicStonyhurst: dateobs=2012-01-29 16:39:25.900000): (lon, lat, radius) in (deg, deg, km)\n",
      "    ( 32.74278075,  7.77186175,  695508.00000392)>\n",
      "<SkyCoord (HeliographicStonyhurst: dateobs=2012-01-29 16:39:25.900000): (lon, lat, radius) in (deg, deg, km)\n",
      "    [( 32.74278075,   7.77186175,  695508.00000392),\n",
      "     (-39.47325103,  17.73836626,  695507.99999964)]>\n",
      "Image index:  92\n",
      "Detected  2  spots.\n",
      "32.7427807540564\n",
      "7.771861752815623\n",
      "-39.47325103119433\n",
      "17.738366261191775\n"
     ]
    },
    {
     "name": "stderr",
     "output_type": "stream",
     "text": [
      "WARNING: VerifyWarning:         Card 'SOURCE' is not FITS standard (invalid value string: \"'hmi.lev1[:#32973285,#32973261,#32973237,#32973309,#32973333,#32973357\").  Fixed 'SOURCE' card to meet the FITS standard. [astropy.io.fits.verify]\n"
     ]
    },
    {
     "name": "stdout",
     "output_type": "stream",
     "text": [
      "<SkyCoord (HeliographicStonyhurst: dateobs=2012-01-29 16:53:40.900000): (lon, lat, radius) in (deg, deg, km)\n",
      "    ( 32.86644729,  7.76292873,  695507.99999925)>\n",
      "<SkyCoord (HeliographicStonyhurst: dateobs=2012-01-29 16:53:40.900000): (lon, lat, radius) in (deg, deg, km)\n",
      "    [( 32.86644729,   7.76292873,  695507.99999925),\n",
      "     (-39.37804722,  17.7634648 ,  695508.00000348)]>\n",
      "Image index:  93\n",
      "Detected  2  spots.\n",
      "32.86644729096165\n",
      "7.762928731470929\n",
      "-39.37804721580861\n",
      "17.763464803146345\n"
     ]
    },
    {
     "name": "stderr",
     "output_type": "stream",
     "text": [
      "WARNING: VerifyWarning:         Card 'SOURCE' is not FITS standard (invalid value string: \"'hmi.lev1[:#32973309,#32973285,#32973261,#32973333,#32973357,#32973381\").  Fixed 'SOURCE' card to meet the FITS standard. [astropy.io.fits.verify]\n"
     ]
    },
    {
     "name": "stdout",
     "output_type": "stream",
     "text": [
      "<SkyCoord (HeliographicStonyhurst: dateobs=2012-01-29 16:54:25.900000): (lon, lat, radius) in (deg, deg, km)\n",
      "    ( 32.880751,  7.76585069,  695508.00000479)>\n",
      "<SkyCoord (HeliographicStonyhurst: dateobs=2012-01-29 16:54:25.900000): (lon, lat, radius) in (deg, deg, km)\n",
      "    [( 32.880751  ,   7.76585069,  695508.00000479),\n",
      "     (-39.40291669,  17.78119604,  695507.99999876)]>\n",
      "Image index:  94\n",
      "Detected  2  spots.\n",
      "32.88075100015819\n",
      "7.765850690643483\n",
      "-39.402916694747994\n",
      "17.781196037645454\n"
     ]
    },
    {
     "name": "stderr",
     "output_type": "stream",
     "text": [
      "WARNING: VerifyWarning:         Card 'SOURCE' is not FITS standard (invalid value string: \"'hmi.lev1[:#32973765,#32973741,#32973717,#32973789,#32973813,#32973837\").  Fixed 'SOURCE' card to meet the FITS standard. [astropy.io.fits.verify]\n"
     ]
    },
    {
     "name": "stdout",
     "output_type": "stream",
     "text": [
      "<SkyCoord (HeliographicStonyhurst: dateobs=2012-01-29 17:08:40.900000): (lon, lat, radius) in (deg, deg, km)\n",
      "    ( 33.01011502,  7.75408316,  695507.99999801)>\n",
      "<SkyCoord (HeliographicStonyhurst: dateobs=2012-01-29 17:08:40.900000): (lon, lat, radius) in (deg, deg, km)\n",
      "    [( 33.01011502,   7.75408316,  695507.99999801),\n",
      "     (-39.2106014 ,  17.75022379,  695507.99999935)]>\n",
      "Image index:  95\n",
      "Detected  2  spots.\n",
      "33.01011501763667\n",
      "7.754083160960452\n",
      "-39.210601398362805\n",
      "17.750223790776722\n"
     ]
    },
    {
     "name": "stderr",
     "output_type": "stream",
     "text": [
      "WARNING: VerifyWarning:         Card 'SOURCE' is not FITS standard (invalid value string: \"'hmi.lev1[:#32974245,#32974221,#32974197,#32974269,#32974293,#32974317\").  Fixed 'SOURCE' card to meet the FITS standard. [astropy.io.fits.verify]\n"
     ]
    },
    {
     "name": "stdout",
     "output_type": "stream",
     "text": [
      "<SkyCoord (HeliographicStonyhurst: dateobs=2012-01-29 17:23:40.900000): (lon, lat, radius) in (deg, deg, km)\n",
      "    ( 33.16885371,  7.76317436,  695508.0000008)>\n",
      "<SkyCoord (HeliographicStonyhurst: dateobs=2012-01-29 17:23:40.900000): (lon, lat, radius) in (deg, deg, km)\n",
      "    [( 33.16885371,   7.76317436,  695508.0000008 ),\n",
      "     (-39.09459008,  17.75888734,  695508.00000405)]>\n",
      "Image index:  96\n",
      "Detected  2  spots.\n",
      "33.168853713112796\n",
      "7.763174362861377\n",
      "-39.09459008207526\n",
      "17.758887342195756\n"
     ]
    },
    {
     "name": "stderr",
     "output_type": "stream",
     "text": [
      "WARNING: VerifyWarning:         Card 'SOURCE' is not FITS standard (invalid value string: \"'hmi.lev1[:#32974713,#32974701,#32974677,#32974749,#32974773,#32974797\").  Fixed 'SOURCE' card to meet the FITS standard. [astropy.io.fits.verify]\n"
     ]
    },
    {
     "name": "stdout",
     "output_type": "stream",
     "text": [
      "<SkyCoord (HeliographicStonyhurst: dateobs=2012-01-29 17:38:40.900000): (lon, lat, radius) in (deg, deg, km)\n",
      "    ( 33.2939438,  7.75215824,  695508.00000061)>\n",
      "<SkyCoord (HeliographicStonyhurst: dateobs=2012-01-29 17:38:40.900000): (lon, lat, radius) in (deg, deg, km)\n",
      "    [( 33.2939438 ,   7.75215824,  695508.00000061),\n",
      "     (-38.97377518,  17.76342209,  695507.99999916)]>\n",
      "Image index:  97\n",
      "Detected  2  spots.\n",
      "33.293943799004964\n",
      "7.752158242784035\n",
      "-38.97377518287849\n",
      "17.76342209391393\n"
     ]
    },
    {
     "name": "stderr",
     "output_type": "stream",
     "text": [
      "WARNING: VerifyWarning:         Card 'SOURCE' is not FITS standard (invalid value string: \"'hmi.lev1[:#32975205,#32975169,#32975157,#32975217,#32975253,#32975277\").  Fixed 'SOURCE' card to meet the FITS standard. [astropy.io.fits.verify]\n"
     ]
    },
    {
     "name": "stdout",
     "output_type": "stream",
     "text": [
      "<SkyCoord (HeliographicStonyhurst: dateobs=2012-01-29 17:53:40.900000): (lon, lat, radius) in (deg, deg, km)\n",
      "    ( 33.43791558,  7.74541011,  695508.0000006)>\n",
      "<SkyCoord (HeliographicStonyhurst: dateobs=2012-01-29 17:53:40.900000): (lon, lat, radius) in (deg, deg, km)\n",
      "    [( 33.43791558,   7.74541011,  695508.0000006),\n",
      "     (-38.8537332 ,  17.77219392,  695508.0000011)]>\n",
      "Image index:  98\n",
      "Detected  2  spots.\n",
      "33.43791558221685\n",
      "7.745410113352947\n",
      "-38.853733201116796\n",
      "17.772193919255074\n"
     ]
    },
    {
     "name": "stderr",
     "output_type": "stream",
     "text": [
      "WARNING: VerifyWarning:         Card 'SOURCE' is not FITS standard (invalid value string: \"'hmi.lev1[:#32975685,#32975661,#32975637,#32975709,#32975733,#32975757\").  Fixed 'SOURCE' card to meet the FITS standard. [astropy.io.fits.verify]\n"
     ]
    },
    {
     "name": "stdout",
     "output_type": "stream",
     "text": [
      "<SkyCoord (HeliographicStonyhurst: dateobs=2012-01-29 18:08:40.900000): (lon, lat, radius) in (deg, deg, km)\n",
      "    ( 33.5791045,  7.74797119,  695508.00000154)>\n",
      "<SkyCoord (HeliographicStonyhurst: dateobs=2012-01-29 18:08:40.900000): (lon, lat, radius) in (deg, deg, km)\n",
      "    [( 33.5791045 ,   7.74797119,  695508.00000154),\n",
      "     (-38.72003686,  17.77669606,  695508.00000842)]>\n",
      "Image index:  99\n",
      "Detected  2  spots.\n",
      "33.57910450329509\n",
      "7.747971188574811\n",
      "-38.72003686382118\n",
      "17.776696059031607\n"
     ]
    },
    {
     "name": "stderr",
     "output_type": "stream",
     "text": [
      "WARNING: VerifyWarning:         Card 'SOURCE' is not FITS standard (invalid value string: \"'hmi.lev1[:#32976141,#32976117,#32976093,#32976165,#32976189,#32976213\").  Fixed 'SOURCE' card to meet the FITS standard. [astropy.io.fits.verify]\n"
     ]
    },
    {
     "name": "stdout",
     "output_type": "stream",
     "text": [
      "<SkyCoord (HeliographicStonyhurst: dateobs=2012-01-29 18:22:55.900000): (lon, lat, radius) in (deg, deg, km)\n",
      "    ( 33.7052707,  7.74277454,  695508.00000431)>\n",
      "<SkyCoord (HeliographicStonyhurst: dateobs=2012-01-29 18:22:55.900000): (lon, lat, radius) in (deg, deg, km)\n",
      "    [( 33.7052707 ,   7.74277454,  695508.00000431),\n",
      "     (-38.57375653,  17.76662426,  695508.00000546)]>\n",
      "Image index:  100\n",
      "Detected  2  spots.\n",
      "33.705270703861835\n",
      "7.74277453517615\n",
      "-38.57375653014989\n",
      "17.766624261672824\n"
     ]
    },
    {
     "name": "stderr",
     "output_type": "stream",
     "text": [
      "WARNING: VerifyWarning:         Card 'SOURCE' is not FITS standard (invalid value string: \"'hmi.lev1[:#32976165,#32976141,#32976117,#32976189,#32976213,#32976237\").  Fixed 'SOURCE' card to meet the FITS standard. [astropy.io.fits.verify]"
     ]
    },
    {
     "name": "stdout",
     "output_type": "stream",
     "text": [
      "<SkyCoord (HeliographicStonyhurst: dateobs=2012-01-29 18:23:40.900000): (lon, lat, radius) in (deg, deg, km)\n",
      "    ( 33.71730219,  7.74900337,  695508.00000093)>\n",
      "<SkyCoord (HeliographicStonyhurst: dateobs=2012-01-29 18:23:40.900000): (lon, lat, radius) in (deg, deg, km)\n",
      "    [( 33.71730219,   7.74900337,  695508.00000093),\n",
      "     (-38.54542642,  17.75558728,  695508.00000174)]>\n",
      "Image index:  101\n",
      "Detected  2  spots.\n",
      "33.717302188469176\n",
      "7.749003365987646\n",
      "-38.54542641913162\n",
      "17.755587281974286\n"
     ]
    },
    {
     "name": "stderr",
     "output_type": "stream",
     "text": [
      "\n",
      "WARNING: VerifyWarning:         Card 'SOURCE' is not FITS standard (invalid value string: \"'hmi.lev1[:#32976621,#32976597,#32976573,#32976645,#32976669,#32976693\").  Fixed 'SOURCE' card to meet the FITS standard. [astropy.io.fits.verify]\n"
     ]
    },
    {
     "name": "stdout",
     "output_type": "stream",
     "text": [
      "<SkyCoord (HeliographicStonyhurst: dateobs=2012-01-29 18:37:55.900000): (lon, lat, radius) in (deg, deg, km)\n",
      "    ( 33.87455364,  7.74827258,  695508.00000222)>\n",
      "<SkyCoord (HeliographicStonyhurst: dateobs=2012-01-29 18:37:55.900000): (lon, lat, radius) in (deg, deg, km)\n",
      "    [( 33.87455364,   7.74827258,  695508.00000222),\n",
      "     (-38.41151772,  17.75733064,  695507.99999864)]>\n",
      "Image index:  102\n",
      "Detected  2  spots.\n",
      "33.87455364164507\n",
      "7.748272575702864\n",
      "-38.41151772054248\n",
      "17.757330635829707\n"
     ]
    },
    {
     "name": "stderr",
     "output_type": "stream",
     "text": [
      "WARNING: VerifyWarning:         Card 'SOURCE' is not FITS standard (invalid value string: \"'hmi.lev1[:#32976645,#32976621,#32976597,#32976669,#32976693,#32976717\").  Fixed 'SOURCE' card to meet the FITS standard. [astropy.io.fits.verify]\n"
     ]
    },
    {
     "name": "stdout",
     "output_type": "stream",
     "text": [
      "<SkyCoord (HeliographicStonyhurst: dateobs=2012-01-29 18:38:40.900000): (lon, lat, radius) in (deg, deg, km)\n",
      "    ( 33.88628267,  7.75445169,  695508.00000529)>\n",
      "<SkyCoord (HeliographicStonyhurst: dateobs=2012-01-29 18:38:40.900000): (lon, lat, radius) in (deg, deg, km)\n",
      "    [( 33.88628267,   7.75445169,  695508.00000529),\n",
      "     (-38.41184177,  17.75735496,  695507.99999621)]>\n",
      "Image index:  103\n",
      "Detected  2  spots.\n",
      "33.886282665855404\n",
      "7.754451689452771\n",
      "-38.41184176671871\n",
      "17.75735495510209\n"
     ]
    },
    {
     "name": "stderr",
     "output_type": "stream",
     "text": [
      "WARNING: VerifyWarning:         Card 'SOURCE' is not FITS standard (invalid value string: \"'hmi.lev1[:#32977101,#32977077,#32977053,#32977125,#32977149,#32977173\").  Fixed 'SOURCE' card to meet the FITS standard. [astropy.io.fits.verify]\n"
     ]
    },
    {
     "name": "stdout",
     "output_type": "stream",
     "text": [
      "<SkyCoord (HeliographicStonyhurst: dateobs=2012-01-29 18:52:55.900000): (lon, lat, radius) in (deg, deg, km)\n",
      "    ( 34.02680526,  7.74525819,  695508.00000185)>\n",
      "<SkyCoord (HeliographicStonyhurst: dateobs=2012-01-29 18:52:55.900000): (lon, lat, radius) in (deg, deg, km)\n",
      "    [( 34.02680526,   7.74525819,  695508.00000185),\n",
      "     (-38.29732381,  17.7636316 ,  695507.99999662)]>\n",
      "Image index:  104\n",
      "Detected  2  spots.\n",
      "34.02680526471487\n",
      "7.745258191486488\n",
      "-38.297323811942626\n",
      "17.763631595433953\n"
     ]
    },
    {
     "name": "stderr",
     "output_type": "stream",
     "text": [
      "WARNING: VerifyWarning:         Card 'SOURCE' is not FITS standard (invalid value string: \"'hmi.lev1[:#32977125,#32977101,#32977077,#32977149,#32977173,#32977197\").  Fixed 'SOURCE' card to meet the FITS standard. [astropy.io.fits.verify]\n"
     ]
    },
    {
     "name": "stdout",
     "output_type": "stream",
     "text": [
      "<SkyCoord (HeliographicStonyhurst: dateobs=2012-01-29 18:53:40.900000): (lon, lat, radius) in (deg, deg, km)\n",
      "    ( 34.02780951,  7.74510574,  695507.99999994)>\n",
      "<SkyCoord (HeliographicStonyhurst: dateobs=2012-01-29 18:53:40.900000): (lon, lat, radius) in (deg, deg, km)\n",
      "    [( 34.02780951,   7.74510574,  695507.99999994),\n",
      "     (-38.29595971,  17.76358863,  695507.99999996)]>\n",
      "Image index:  105\n",
      "Detected  2  spots.\n",
      "34.02780950914328\n",
      "7.745105739246792\n",
      "-38.29595970930247\n",
      "17.763588630901552\n"
     ]
    },
    {
     "name": "stderr",
     "output_type": "stream",
     "text": [
      "WARNING: VerifyWarning:         Card 'SOURCE' is not FITS standard (invalid value string: \"'hmi.lev1[:#32977581,#32977557,#32977533,#32977605,#32977629,#32977653\").  Fixed 'SOURCE' card to meet the FITS standard. [astropy.io.fits.verify]\n"
     ]
    },
    {
     "name": "stdout",
     "output_type": "stream",
     "text": [
      "<SkyCoord (HeliographicStonyhurst: dateobs=2012-01-29 19:07:55.900000): (lon, lat, radius) in (deg, deg, km)\n",
      "    ( 34.15416816,  7.73657814,  695508.00000101)>\n",
      "<SkyCoord (HeliographicStonyhurst: dateobs=2012-01-29 19:07:55.900000): (lon, lat, radius) in (deg, deg, km)\n",
      "    [( 34.15416816,   7.73657814,  695508.00000101),\n",
      "     (-38.13354432,  17.75200148,  695507.99999982)]>\n",
      "Image index:  106\n",
      "Detected  2  spots.\n",
      "34.15416815832589\n",
      "7.7365781443397\n",
      "-38.13354431778319\n",
      "17.752001479523237\n"
     ]
    },
    {
     "name": "stderr",
     "output_type": "stream",
     "text": [
      "WARNING: VerifyWarning:         Card 'SOURCE' is not FITS standard (invalid value string: \"'hmi.lev1[:#32978061,#32978037,#32978013,#32978085,#32978109,#32978133\").  Fixed 'SOURCE' card to meet the FITS standard. [astropy.io.fits.verify]\n"
     ]
    },
    {
     "name": "stdout",
     "output_type": "stream",
     "text": [
      "<SkyCoord (HeliographicStonyhurst: dateobs=2012-01-29 19:22:55.900000): (lon, lat, radius) in (deg, deg, km)\n",
      "    ( 34.30077335,  7.72506906,  695508.00000153)>\n",
      "<SkyCoord (HeliographicStonyhurst: dateobs=2012-01-29 19:22:55.900000): (lon, lat, radius) in (deg, deg, km)\n",
      "    [( 34.30077335,   7.72506906,  695508.00000153),\n",
      "     (-37.99570975,  17.75736802,  695508.00000028)]>\n",
      "Image index:  107\n",
      "Detected  2  spots.\n",
      "34.30077334846386\n",
      "7.725069055445007\n",
      "-37.995709753498936\n",
      "17.75736801769161\n"
     ]
    },
    {
     "name": "stderr",
     "output_type": "stream",
     "text": [
      "WARNING: VerifyWarning:         Card 'SOURCE' is not FITS standard (invalid value string: \"'hmi.lev1[:#32978541,#32978517,#32978493,#32978565,#32978589,#32978613\").  Fixed 'SOURCE' card to meet the FITS standard. [astropy.io.fits.verify]\n"
     ]
    },
    {
     "name": "stdout",
     "output_type": "stream",
     "text": [
      "<SkyCoord (HeliographicStonyhurst: dateobs=2012-01-29 19:37:55.900000): (lon, lat, radius) in (deg, deg, km)\n",
      "    ( 34.44077975,  7.72574325,  695508.0000009)>\n",
      "<SkyCoord (HeliographicStonyhurst: dateobs=2012-01-29 19:37:55.900000): (lon, lat, radius) in (deg, deg, km)\n",
      "    [( 34.44077975,   7.72574325,  695508.0000009 ),\n",
      "     (-37.8811781 ,  17.76272627,  695508.00000149)]>\n",
      "Image index:  108\n",
      "Detected  2  spots.\n",
      "34.440779747742134\n",
      "7.7257432472443135\n",
      "-37.881178095343685\n",
      "17.762726271386978\n"
     ]
    },
    {
     "name": "stderr",
     "output_type": "stream",
     "text": [
      "WARNING: VerifyWarning:         Card 'SOURCE' is not FITS standard (invalid value string: \"'hmi.lev1[:#32979021,#32978997,#32978973,#32979045,#32979069,#32979093\").  Fixed 'SOURCE' card to meet the FITS standard. [astropy.io.fits.verify]\n"
     ]
    },
    {
     "name": "stdout",
     "output_type": "stream",
     "text": [
      "<SkyCoord (HeliographicStonyhurst: dateobs=2012-01-29 19:52:55.900000): (lon, lat, radius) in (deg, deg, km)\n",
      "    ( 34.56334814,  7.73190848,  695508.00000382)>\n",
      "<SkyCoord (HeliographicStonyhurst: dateobs=2012-01-29 19:52:55.900000): (lon, lat, radius) in (deg, deg, km)\n",
      "    [( 34.56334814,   7.73190848,  695508.00000382),\n",
      "     (-37.7650317 ,  17.76972809,  695507.99999618)]>\n",
      "Image index:  109\n",
      "Detected  2  spots.\n",
      "34.56334814393056\n",
      "7.731908482733245\n",
      "-37.765031703276925\n",
      "17.76972809452448\n"
     ]
    },
    {
     "name": "stderr",
     "output_type": "stream",
     "text": [
      "WARNING: VerifyWarning:         Card 'SOURCE' is not FITS standard (invalid value string: \"'hmi.lev1[:#32979501,#32979477,#32979453,#32979525,#32979549,#32979573\").  Fixed 'SOURCE' card to meet the FITS standard. [astropy.io.fits.verify]\n"
     ]
    },
    {
     "name": "stdout",
     "output_type": "stream",
     "text": [
      "<SkyCoord (HeliographicStonyhurst: dateobs=2012-01-29 20:07:55.900000): (lon, lat, radius) in (deg, deg, km)\n",
      "    ( 34.69323185,  7.7173608,  695508.00000072)>\n",
      "<SkyCoord (HeliographicStonyhurst: dateobs=2012-01-29 20:07:55.900000): (lon, lat, radius) in (deg, deg, km)\n",
      "    [( 34.69323185,   7.7173608 ,  695508.00000072),\n",
      "     (-37.63014106,  17.77823333,  695508.00000204)]>\n",
      "Image index:  110\n",
      "Detected  2  spots.\n",
      "34.6932318453069\n",
      "7.717360797127851\n",
      "-37.63014106316401\n",
      "17.778233332331503\n"
     ]
    },
    {
     "name": "stderr",
     "output_type": "stream",
     "text": [
      "WARNING: VerifyWarning:         Card 'SOURCE' is not FITS standard (invalid value string: \"'hmi.lev1[:#32979957,#32979933,#32979909,#32979969,#32980005,#32980041\").  Fixed 'SOURCE' card to meet the FITS standard. [astropy.io.fits.verify]\n"
     ]
    },
    {
     "name": "stdout",
     "output_type": "stream",
     "text": [
      "<SkyCoord (HeliographicStonyhurst: dateobs=2012-01-29 20:22:10.900000): (lon, lat, radius) in (deg, deg, km)\n",
      "    ( 34.83454921,  7.72534513,  695508.00000288)>\n",
      "<SkyCoord (HeliographicStonyhurst: dateobs=2012-01-29 20:22:10.900000): (lon, lat, radius) in (deg, deg, km)\n",
      "    [( 34.83454921,   7.72534513,  695508.00000288),\n",
      "     (-37.46606864,  17.751632  ,  695507.99999648)]>\n",
      "Image index:  111\n",
      "Detected  2  spots.\n",
      "34.83454920651529\n",
      "7.725345134386783\n",
      "-37.46606864208204\n",
      "17.751631999522527\n"
     ]
    },
    {
     "name": "stderr",
     "output_type": "stream",
     "text": [
      "WARNING: VerifyWarning:         Card 'SOURCE' is not FITS standard (invalid value string: \"'hmi.lev1[:#32979969,#32979957,#32979933,#32980005,#32980041,#32980053\").  Fixed 'SOURCE' card to meet the FITS standard. [astropy.io.fits.verify]\n"
     ]
    },
    {
     "name": "stdout",
     "output_type": "stream",
     "text": [
      "<SkyCoord (HeliographicStonyhurst: dateobs=2012-01-29 20:22:55.900000): (lon, lat, radius) in (deg, deg, km)\n",
      "    ( 34.8445486,  7.72359907,  695508.00000171)>\n",
      "<SkyCoord (HeliographicStonyhurst: dateobs=2012-01-29 20:22:55.900000): (lon, lat, radius) in (deg, deg, km)\n",
      "    [( 34.8445486 ,   7.72359907,  695508.00000171),\n",
      "     (-37.44057074,  17.74711183,  695507.999998  )]>\n",
      "Image index:  112\n",
      "Detected  2  spots.\n",
      "34.84454860298309\n",
      "7.723599066406291\n",
      "-37.4405707358653\n",
      "17.747111831468846\n"
     ]
    },
    {
     "name": "stderr",
     "output_type": "stream",
     "text": [
      "WARNING: VerifyWarning:         Card 'SOURCE' is not FITS standard (invalid value string: \"'hmi.lev1[:#32980437,#32980413,#32980389,#32980461,#32980485,#32980509\").  Fixed 'SOURCE' card to meet the FITS standard. [astropy.io.fits.verify]\n"
     ]
    },
    {
     "name": "stdout",
     "output_type": "stream",
     "text": [
      "<SkyCoord (HeliographicStonyhurst: dateobs=2012-01-29 20:37:10.900000): (lon, lat, radius) in (deg, deg, km)\n",
      "    ( 34.98101918,  7.72175188,  695508.00000277)>\n",
      "<SkyCoord (HeliographicStonyhurst: dateobs=2012-01-29 20:37:10.900000): (lon, lat, radius) in (deg, deg, km)\n",
      "    [( 34.98101918,   7.72175188,  695508.00000277),\n",
      "     (-37.32822827,  17.75565824,  695507.99999797)]>\n",
      "Image index:  113\n",
      "Detected  2  spots.\n",
      "34.98101918237112\n",
      "7.721751881515988\n",
      "-37.328228266930914\n",
      "17.75565824019764\n"
     ]
    },
    {
     "name": "stderr",
     "output_type": "stream",
     "text": [
      "WARNING: VerifyWarning:         Card 'SOURCE' is not FITS standard (invalid value string: \"'hmi.lev1[:#32980461,#32980437,#32980413,#32980485,#32980509,#32980533\").  Fixed 'SOURCE' card to meet the FITS standard. [astropy.io.fits.verify]\n"
     ]
    },
    {
     "name": "stdout",
     "output_type": "stream",
     "text": [
      "<SkyCoord (HeliographicStonyhurst: dateobs=2012-01-29 20:37:55.900000): (lon, lat, radius) in (deg, deg, km)\n",
      "    ( 34.98741241,  7.71665587,  695508.00000411)>\n",
      "<SkyCoord (HeliographicStonyhurst: dateobs=2012-01-29 20:37:55.900000): (lon, lat, radius) in (deg, deg, km)\n",
      "    [( 34.98741241,   7.71665587,  695508.00000411),\n",
      "     (-37.32798747,  17.75577161,  695508.00000429)]>\n",
      "Image index:  114\n",
      "Detected  2  spots.\n",
      "34.98741240873702\n",
      "7.716655871055888\n",
      "-37.32798747225843\n",
      "17.755771610620492\n"
     ]
    },
    {
     "name": "stderr",
     "output_type": "stream",
     "text": [
      "WARNING: VerifyWarning:         Card 'SOURCE' is not FITS standard (invalid value string: \"'hmi.lev1[:#32987133,#32987109,#32987097,#32987157,#32987181,#32987205\").  Fixed 'SOURCE' card to meet the FITS standard. [astropy.io.fits.verify]\n"
     ]
    },
    {
     "name": "stdout",
     "output_type": "stream",
     "text": [
      "<SkyCoord (HeliographicStonyhurst: dateobs=2012-01-30 00:06:26): (lon, lat, radius) in (deg, deg, km)\n",
      "    ( 36.94926295,  7.6690778,  695507.99999857)>\n",
      "<SkyCoord (HeliographicStonyhurst: dateobs=2012-01-30 00:06:26): (lon, lat, radius) in (deg, deg, km)\n",
      "    [( 36.94926295,   7.6690778 ,  695507.99999857),\n",
      "     (-35.41630776,  17.74922067,  695508.00000333)]>\n",
      "Image index:  115\n",
      "Detected  2  spots.\n",
      "36.94926294607108\n",
      "7.669077799240221\n",
      "-35.416307762858786\n",
      "17.749220668062645\n"
     ]
    },
    {
     "name": "stderr",
     "output_type": "stream",
     "text": [
      "WARNING: VerifyWarning:         Card 'SOURCE' is not FITS standard (invalid value string: \"'hmi.lev1[:#32987601,#32987565,#32987541,#32987613,#32987637,#32987673\").  Fixed 'SOURCE' card to meet the FITS standard. [astropy.io.fits.verify]\n"
     ]
    },
    {
     "name": "stdout",
     "output_type": "stream",
     "text": [
      "<SkyCoord (HeliographicStonyhurst: dateobs=2012-01-30 00:20:41): (lon, lat, radius) in (deg, deg, km)\n",
      "    ( 37.08557017,  7.68048057,  695508.00000297)>\n",
      "<SkyCoord (HeliographicStonyhurst: dateobs=2012-01-30 00:20:41): (lon, lat, radius) in (deg, deg, km)\n",
      "    [( 37.08557017,   7.68048057,  695508.00000297),\n",
      "     (-35.30324437,  17.75676081,  695507.9999993 )]>\n",
      "Image index:  116\n",
      "Detected  2  spots.\n",
      "37.0855701729604\n",
      "7.680480566901938\n",
      "-35.30324437044756\n",
      "17.756760806008945\n"
     ]
    },
    {
     "name": "stderr",
     "output_type": "stream",
     "text": [
      "WARNING: VerifyWarning:         Card 'SOURCE' is not FITS standard (invalid value string: \"'hmi.lev1[:#32987613,#32987601,#32987565,#32987637,#32987673,#32987685\").  Fixed 'SOURCE' card to meet the FITS standard. [astropy.io.fits.verify]\n"
     ]
    },
    {
     "name": "stdout",
     "output_type": "stream",
     "text": [
      "<SkyCoord (HeliographicStonyhurst: dateobs=2012-01-30 00:21:26): (lon, lat, radius) in (deg, deg, km)\n",
      "    ( 37.09666356,  7.68506912,  695507.99999909)>\n",
      "<SkyCoord (HeliographicStonyhurst: dateobs=2012-01-30 00:21:26): (lon, lat, radius) in (deg, deg, km)\n",
      "    [( 37.09666356,   7.68506912,  695507.99999909),\n",
      "     (-35.26095871,  17.73754257,  695508.0000051 )]>\n",
      "Image index:  117\n",
      "Detected  2  spots.\n",
      "37.096663556281065\n",
      "7.685069117814456\n",
      "-35.26095870661146\n",
      "17.737542573685946\n"
     ]
    },
    {
     "name": "stderr",
     "output_type": "stream",
     "text": [
      "WARNING: VerifyWarning:         Card 'SOURCE' is not FITS standard (invalid value string: \"'hmi.lev1[:#32988069,#32988045,#32988021,#32988093,#32988117,#32988141\").  Fixed 'SOURCE' card to meet the FITS standard. [astropy.io.fits.verify]\n"
     ]
    },
    {
     "name": "stdout",
     "output_type": "stream",
     "text": [
      "<SkyCoord (HeliographicStonyhurst: dateobs=2012-01-30 00:35:41): (lon, lat, radius) in (deg, deg, km)\n",
      "    ( 37.23489828,  7.68215616,  695507.9999991)>\n",
      "<SkyCoord (HeliographicStonyhurst: dateobs=2012-01-30 00:35:41): (lon, lat, radius) in (deg, deg, km)\n",
      "    [( 37.23489828,   7.68215616,  695507.9999991 ),\n",
      "     (-35.14751042,  17.74390843,  695508.00000175)]>\n",
      "Image index:  118\n",
      "Detected  2  spots.\n",
      "37.234898278583735\n",
      "7.682156162668965\n",
      "-35.147510424082746\n",
      "17.74390842777778\n"
     ]
    },
    {
     "name": "stderr",
     "output_type": "stream",
     "text": [
      "WARNING: VerifyWarning:         Card 'SOURCE' is not FITS standard (invalid value string: \"'hmi.lev1[:#32988093,#32988069,#32988045,#32988117,#32988141,#32988165\").  Fixed 'SOURCE' card to meet the FITS standard. [astropy.io.fits.verify]\n"
     ]
    },
    {
     "name": "stdout",
     "output_type": "stream",
     "text": [
      "<SkyCoord (HeliographicStonyhurst: dateobs=2012-01-30 00:36:26): (lon, lat, radius) in (deg, deg, km)\n",
      "    ( 37.22737904,  7.67455052,  695507.99999597)>\n",
      "<SkyCoord (HeliographicStonyhurst: dateobs=2012-01-30 00:36:26): (lon, lat, radius) in (deg, deg, km)\n",
      "    [( 37.22737904,   7.67455052,  695507.99999597),\n",
      "     (-35.14721137,  17.74401618,  695507.99999797)]>\n",
      "Image index:  119\n",
      "Detected  2  spots.\n",
      "37.22737904031073\n",
      "7.674550517022477\n",
      "-35.14721137112585\n",
      "17.74401617779859\n"
     ]
    },
    {
     "name": "stderr",
     "output_type": "stream",
     "text": [
      "WARNING: VerifyWarning:         Card 'SOURCE' is not FITS standard (invalid value string: \"'hmi.lev1[:#32988549,#32988525,#32988501,#32988573,#32988597,#32988621\").  Fixed 'SOURCE' card to meet the FITS standard. [astropy.io.fits.verify]\n"
     ]
    },
    {
     "name": "stdout",
     "output_type": "stream",
     "text": [
      "<SkyCoord (HeliographicStonyhurst: dateobs=2012-01-30 00:50:41): (lon, lat, radius) in (deg, deg, km)\n",
      "    ( 37.36481241,  7.65814806,  695508.00000056)>\n",
      "<SkyCoord (HeliographicStonyhurst: dateobs=2012-01-30 00:50:41): (lon, lat, radius) in (deg, deg, km)\n",
      "    [( 37.36481241,   7.65814806,  695508.00000056),\n",
      "     (-35.01246509,  17.73355398,  695507.99999532)]>\n",
      "Image index:  120\n",
      "Detected  2  spots.\n",
      "37.36481240998971\n",
      "7.658148058031951\n",
      "-35.01246508586333\n",
      "17.733553979878906\n"
     ]
    },
    {
     "name": "stderr",
     "output_type": "stream",
     "text": [
      "WARNING: VerifyWarning:         Card 'SOURCE' is not FITS standard (invalid value string: \"'hmi.lev1[:#32992377,#32992341,#32992317,#32992389,#32992413,#32992437\").  Fixed 'SOURCE' card to meet the FITS standard. [astropy.io.fits.verify]\n"
     ]
    },
    {
     "name": "stdout",
     "output_type": "stream",
     "text": [
      "<SkyCoord (HeliographicStonyhurst: dateobs=2012-01-30 02:49:56): (lon, lat, radius) in (deg, deg, km)\n",
      "    ( 38.49120345,  7.66584454,  695507.99999722)>\n",
      "<SkyCoord (HeliographicStonyhurst: dateobs=2012-01-30 02:49:56): (lon, lat, radius) in (deg, deg, km)\n",
      "    [( 38.49120345,   7.66584454,  695507.99999722),\n",
      "     (-33.9622029 ,  17.74743393,  695507.99999583)]>\n",
      "Image index:  121\n",
      "Detected  2  spots.\n",
      "38.491203449608555\n",
      "7.665844538247905\n",
      "-33.96220289824042\n",
      "17.747433933940847\n"
     ]
    },
    {
     "name": "stderr",
     "output_type": "stream",
     "text": [
      "WARNING: VerifyWarning:         Card 'SOURCE' is not FITS standard (invalid value string: \"'hmi.lev1[:#32999997,#32999973,#32999949,#33000021,#33000045,#33000069\").  Fixed 'SOURCE' card to meet the FITS standard. [astropy.io.fits.verify]\n"
     ]
    },
    {
     "name": "stdout",
     "output_type": "stream",
     "text": [
      "<SkyCoord (HeliographicStonyhurst: dateobs=2012-01-30 06:48:26.100000): (lon, lat, radius) in (deg, deg, km)\n",
      "    ( 40.74235568,  7.6421405,  695508.00000296)>\n",
      "<SkyCoord (HeliographicStonyhurst: dateobs=2012-01-30 06:48:26.100000): (lon, lat, radius) in (deg, deg, km)\n",
      "    [( 40.74235568,   7.6421405 ,  695508.00000296),\n",
      "     (-31.77436674,  17.75871845,  695508.00000349)]>\n",
      "Image index:  122\n",
      "Detected  2  spots.\n",
      "40.74235568278367\n",
      "7.642140499249741\n",
      "-31.774366744473333\n",
      "17.758718452581235\n"
     ]
    },
    {
     "name": "stderr",
     "output_type": "stream",
     "text": [
      "WARNING: VerifyWarning:         Card 'SOURCE' is not FITS standard (invalid value string: \"'hmi.lev1[:#33010005,#33009981,#33009957,#33010029,#33010053,#33010077\").  Fixed 'SOURCE' card to meet the FITS standard. [astropy.io.fits.verify]\n"
     ]
    },
    {
     "name": "stdout",
     "output_type": "stream",
     "text": [
      "<SkyCoord (HeliographicStonyhurst: dateobs=2012-01-30 12:01:11.100000): (lon, lat, radius) in (deg, deg, km)\n",
      "    ( 43.65638208,  7.60242271,  695508.00000134)>\n",
      "<SkyCoord (HeliographicStonyhurst: dateobs=2012-01-30 12:01:11.100000): (lon, lat, radius) in (deg, deg, km)\n",
      "    [( 43.65638208,   7.60242271,  695508.00000134),\n",
      "     (-28.98658443,  17.79289867,  695508.00000006)]>\n",
      "Image index:  123\n",
      "Detected  2  spots.\n",
      "43.65638207617365\n",
      "7.6024227098461425\n",
      "-28.986584430455483\n",
      "17.792898670548638\n"
     ]
    },
    {
     "name": "stderr",
     "output_type": "stream",
     "text": [
      "WARNING: VerifyWarning:         Card 'SOURCE' is not FITS standard (invalid value string: \"'hmi.lev1[:#33010029,#33010005,#33009981,#33010053,#33010077,#33010101\").  Fixed 'SOURCE' card to meet the FITS standard. [astropy.io.fits.verify]\n"
     ]
    },
    {
     "name": "stdout",
     "output_type": "stream",
     "text": [
      "<SkyCoord (HeliographicStonyhurst: dateobs=2012-01-30 12:01:56.100000): (lon, lat, radius) in (deg, deg, km)\n",
      "    ( 43.6599651,  7.60309057,  695507.99999876)>\n",
      "<SkyCoord (HeliographicStonyhurst: dateobs=2012-01-30 12:01:56.100000): (lon, lat, radius) in (deg, deg, km)\n",
      "    [( 43.6599651 ,   7.60309057,  695507.99999876),\n",
      "     (-28.94728486,  17.77458414,  695508.00000059)]>\n",
      "Image index:  124\n",
      "Detected  2  spots.\n",
      "43.65996510189372\n",
      "7.603090571543416\n",
      "-28.947284859199307\n",
      "17.774584143028488\n"
     ]
    },
    {
     "name": "stderr",
     "output_type": "stream",
     "text": [
      "WARNING: VerifyWarning:         Card 'SOURCE' is not FITS standard (invalid value string: \"'hmi.lev1[:#33010485,#33010461,#33010437,#33010509,#33010533,#33010557\").  Fixed 'SOURCE' card to meet the FITS standard. [astropy.io.fits.verify]\n"
     ]
    },
    {
     "name": "stdout",
     "output_type": "stream",
     "text": [
      "<SkyCoord (HeliographicStonyhurst: dateobs=2012-01-30 12:16:11.100000): (lon, lat, radius) in (deg, deg, km)\n",
      "    ( 43.79737552,  7.61636268,  695508.00000369)>\n",
      "<SkyCoord (HeliographicStonyhurst: dateobs=2012-01-30 12:16:11.100000): (lon, lat, radius) in (deg, deg, km)\n",
      "    [( 43.79737552,   7.61636268,  695508.00000369),\n",
      "     (-28.80307976,  17.76710128,  695508.00000337)]>\n",
      "Image index:  125\n",
      "Detected  2  spots.\n",
      "43.797375524182335\n",
      "7.61636268326294\n",
      "-28.803079760712304\n",
      "17.76710127783216\n"
     ]
    },
    {
     "name": "stderr",
     "output_type": "stream",
     "text": [
      "WARNING: VerifyWarning:         Card 'SOURCE' is not FITS standard (invalid value string: \"'hmi.lev1[:#33011445,#33011421,#33011397,#33011469,#33011505,#33011517\").  Fixed 'SOURCE' card to meet the FITS standard. [astropy.io.fits.verify]\n"
     ]
    },
    {
     "name": "stdout",
     "output_type": "stream",
     "text": [
      "<SkyCoord (HeliographicStonyhurst: dateobs=2012-01-30 12:46:11.100000): (lon, lat, radius) in (deg, deg, km)\n",
      "    ( 44.07457187,  7.59985969,  695507.99999723)>\n",
      "<SkyCoord (HeliographicStonyhurst: dateobs=2012-01-30 12:46:11.100000): (lon, lat, radius) in (deg, deg, km)\n",
      "    [( 44.07457187,   7.59985969,  695507.99999723),\n",
      "     (-28.51809207,  17.76861884,  695508.00000237)]>\n",
      "Image index:  126\n",
      "Detected  2  spots.\n",
      "44.074571871607134\n",
      "7.599859689365708\n",
      "-28.518092070666512\n",
      "17.768618835646727\n"
     ]
    },
    {
     "name": "stderr",
     "output_type": "stream",
     "text": [
      "WARNING: VerifyWarning:         Card 'SOURCE' is not FITS standard (invalid value string: \"'hmi.lev1[:#33011925,#33011901,#33011877,#33011949,#33011973,#33011997\").  Fixed 'SOURCE' card to meet the FITS standard. [astropy.io.fits.verify]\n"
     ]
    },
    {
     "name": "stdout",
     "output_type": "stream",
     "text": [
      "<SkyCoord (HeliographicStonyhurst: dateobs=2012-01-30 13:01:11.100000): (lon, lat, radius) in (deg, deg, km)\n",
      "    ( 44.22804083,  7.60269839,  695508.00000133)>\n",
      "<SkyCoord (HeliographicStonyhurst: dateobs=2012-01-30 13:01:11.100000): (lon, lat, radius) in (deg, deg, km)\n",
      "    [( 44.22804083,   7.60269839,  695508.00000133),\n",
      "     (-28.43536703,  17.79506848,  695508.00000075)]>\n",
      "Image index:  127\n",
      "Detected  2  spots.\n",
      "44.228040831852866\n",
      "7.602698394641398\n",
      "-28.4353670268185\n",
      "17.795068482957422\n"
     ]
    },
    {
     "name": "stderr",
     "output_type": "stream",
     "text": [
      "WARNING: VerifyWarning:         Card 'SOURCE' is not FITS standard (invalid value string: \"'hmi.lev1[:#33012405,#33012381,#33012357,#33012429,#33012453,#33012477\").  Fixed 'SOURCE' card to meet the FITS standard. [astropy.io.fits.verify]\n"
     ]
    },
    {
     "name": "stdout",
     "output_type": "stream",
     "text": [
      "<SkyCoord (HeliographicStonyhurst: dateobs=2012-01-30 13:16:11.100000): (lon, lat, radius) in (deg, deg, km)\n",
      "    ( 44.37047708,  7.59464751,  695508.00000644)>\n",
      "<SkyCoord (HeliographicStonyhurst: dateobs=2012-01-30 13:16:11.100000): (lon, lat, radius) in (deg, deg, km)\n",
      "    [( 44.37047708,   7.59464751,  695508.00000644),\n",
      "     (-28.2539806 ,  17.76981947,  695508.00000081)]>\n",
      "Image index:  128\n",
      "Detected  2  spots.\n",
      "44.370477083153084\n",
      "7.594647507321906\n",
      "-28.253980603852582\n",
      "17.769819467411182\n"
     ]
    },
    {
     "name": "stderr",
     "output_type": "stream",
     "text": [
      "WARNING"
     ]
    },
    {
     "name": "stdout",
     "output_type": "stream",
     "text": [
      "<SkyCoord (HeliographicStonyhurst: dateobs=2012-01-30 13:31:11.100000): (lon, lat, radius) in (deg, deg, km)\n",
      "    ( 44.50732799,  7.59923396,  695508.000002)>\n",
      "<SkyCoord (HeliographicStonyhurst: dateobs=2012-01-30 13:31:11.100000): (lon, lat, radius) in (deg, deg, km)\n",
      "    [( 44.50732799,   7.59923396,  695508.000002  ),\n",
      "     (-28.13355628,  17.77868285,  695507.99999686)]>\n",
      "Image index:  129\n",
      "Detected  2  spots.\n",
      "44.50732798596667\n",
      "7.599233957328123\n",
      "-28.13355627639314\n",
      "17.778682849280216\n"
     ]
    },
    {
     "name": "stderr",
     "output_type": "stream",
     "text": [
      ": VerifyWarning:         Card 'SOURCE' is not FITS standard (invalid value string: \"'hmi.lev1[:#33012885,#33012861,#33012837,#33012909,#33012933,#33012957\").  Fixed 'SOURCE' card to meet the FITS standard. [astropy.io.fits.verify]\n",
      "WARNING: VerifyWarning:         Card 'SOURCE' is not FITS standard (invalid value string: \"'hmi.lev1[:#33013365,#33013341,#33013317,#33013389,#33013413,#33013437\").  Fixed 'SOURCE' card to meet the FITS standard. [astropy.io.fits.verify]\n"
     ]
    },
    {
     "name": "stdout",
     "output_type": "stream",
     "text": [
      "<SkyCoord (HeliographicStonyhurst: dateobs=2012-01-30 13:46:11): (lon, lat, radius) in (deg, deg, km)\n",
      "    ( 44.629083,  7.58222764,  695507.99999632)>\n",
      "<SkyCoord (HeliographicStonyhurst: dateobs=2012-01-30 13:46:11): (lon, lat, radius) in (deg, deg, km)\n",
      "    [( 44.629083  ,   7.58222764,  695507.99999632),\n",
      "     (-28.00646511,  17.78726589,  695507.99999908)]>\n",
      "Image index:  130\n",
      "Detected  2  spots.\n",
      "44.62908300454165\n",
      "7.5822276416699745\n",
      "-28.006465110726612\n",
      "17.787265889490214\n"
     ]
    },
    {
     "name": "stderr",
     "output_type": "stream",
     "text": [
      "WARNING: VerifyWarning:         Card 'SOURCE' is not FITS standard (invalid value string: \"'hmi.lev1[:#33013821,#33013797,#33013773,#33013845,#33013869,#33013893\").  Fixed 'SOURCE' card to meet the FITS standard. [astropy.io.fits.verify]"
     ]
    },
    {
     "name": "stdout",
     "output_type": "stream",
     "text": [
      "<SkyCoord (HeliographicStonyhurst: dateobs=2012-01-30 14:00:26): (lon, lat, radius) in (deg, deg, km)\n",
      "    ( 44.75618249,  7.58519079,  695508.00000114)>\n",
      "<SkyCoord (HeliographicStonyhurst: dateobs=2012-01-30 14:00:26): (lon, lat, radius) in (deg, deg, km)\n",
      "    [( 44.75618249,   7.58519079,  695508.00000114),\n",
      "     (-27.88942905,  17.79592585,  695508.00000064)]>\n",
      "Image index:  131\n",
      "Detected  2  spots.\n",
      "44.756182492915435\n",
      "7.585190789594004\n",
      "-27.88942904755493\n",
      "17.795925850607876\n"
     ]
    },
    {
     "name": "stderr",
     "output_type": "stream",
     "text": [
      "\n",
      "WARNING: VerifyWarning:         Card 'SOURCE' is not FITS standard (invalid value string: \"'hmi.lev1[:#33013845,#33013821,#33013797,#33013869,#33013893,#33013917\").  Fixed 'SOURCE' card to meet the FITS standard. [astropy.io.fits.verify]\n"
     ]
    },
    {
     "name": "stdout",
     "output_type": "stream",
     "text": [
      "<SkyCoord (HeliographicStonyhurst: dateobs=2012-01-30 14:01:11): (lon, lat, radius) in (deg, deg, km)\n",
      "    ( 44.7771807,  7.5867222,  695507.99999666)>\n",
      "<SkyCoord (HeliographicStonyhurst: dateobs=2012-01-30 14:01:11): (lon, lat, radius) in (deg, deg, km)\n",
      "    [( 44.7771807 ,   7.5867222,  695507.99999666),\n",
      "     (-27.85139663,  17.7778404,  695508.0000026 )]>\n",
      "Image index:  132\n",
      "Detected  2  spots.\n",
      "44.77718070090272\n",
      "7.5867221970550816\n",
      "-27.851396633215895\n",
      "17.77784040084101\n"
     ]
    },
    {
     "name": "stderr",
     "output_type": "stream",
     "text": [
      "WARNING: VerifyWarning:         Card 'SOURCE' is not FITS standard (invalid value string: \"'hmi.lev1[:#33014301,#33014277,#33014253,#33014325,#33014349,#33014373\").  Fixed 'SOURCE' card to meet the FITS standard. [astropy.io.fits.verify]\n"
     ]
    },
    {
     "name": "stdout",
     "output_type": "stream",
     "text": [
      "<SkyCoord (HeliographicStonyhurst: dateobs=2012-01-30 14:15:26): (lon, lat, radius) in (deg, deg, km)\n",
      "    ( 44.89226984,  7.58645012,  695508.00000495)>\n",
      "<SkyCoord (HeliographicStonyhurst: dateobs=2012-01-30 14:15:26): (lon, lat, radius) in (deg, deg, km)\n",
      "    [( 44.89226984,   7.58645012,  695508.00000495),\n",
      "     (-27.70578324,  17.76625519,  695507.99999923)]>\n",
      "Image index:  133\n",
      "Detected  2  spots.\n",
      "44.892269844790675\n",
      "7.586450123429833\n",
      "-27.70578324121347\n",
      "17.766255194575137\n"
     ]
    },
    {
     "name": "stderr",
     "output_type": "stream",
     "text": [
      "WARNING: VerifyWarning:         Card 'SOURCE' is not FITS standard (invalid value string: \"'hmi.lev1[:#33014325,#33014301,#33014277,#33014349,#33014373,#33014397\").  Fixed 'SOURCE' card to meet the FITS standard. [astropy.io.fits.verify]"
     ]
    },
    {
     "name": "stdout",
     "output_type": "stream",
     "text": [
      "<SkyCoord (HeliographicStonyhurst: dateobs=2012-01-30 14:16:11): (lon, lat, radius) in (deg, deg, km)\n",
      "    ( 44.91145286,  7.58527077,  695508.00000465)>\n",
      "<SkyCoord (HeliographicStonyhurst: dateobs=2012-01-30 14:16:11): (lon, lat, radius) in (deg, deg, km)\n",
      "    [( 44.91145286,   7.58527077,  695508.00000465),\n",
      "     (-27.70573915,  17.76624112,  695508.00000334)]>\n",
      "Image index:  134\n",
      "Detected  2  spots.\n",
      "44.91145285843689\n",
      "7.585270767590561\n",
      "-27.705739149788805\n",
      "17.766241124066536\n"
     ]
    },
    {
     "name": "stderr",
     "output_type": "stream",
     "text": [
      "\n",
      "WARNING: VerifyWarning:         Card 'SOURCE' is not FITS standard (invalid value string: \"'hmi.lev1[:#33014781,#33014757,#33014733,#33014805,#33014829,#33014853\").  Fixed 'SOURCE' card to meet the FITS standard. [astropy.io.fits.verify]\n"
     ]
    },
    {
     "name": "stdout",
     "output_type": "stream",
     "text": [
      "<SkyCoord (HeliographicStonyhurst: dateobs=2012-01-30 14:30:26): (lon, lat, radius) in (deg, deg, km)\n",
      "    ( 45.05198129,  7.58915853,  695508.00000174)>\n",
      "<SkyCoord (HeliographicStonyhurst: dateobs=2012-01-30 14:30:26): (lon, lat, radius) in (deg, deg, km)\n",
      "    [( 45.05198129,   7.58915853,  695508.00000174),\n",
      "     (-27.56573178,  17.76016431,  695508.00000051)]>\n",
      "Image index:  135\n",
      "Detected  2  spots.\n",
      "45.05198129178092\n",
      "7.589158526225397\n",
      "-27.565731775701696\n",
      "17.760164309331383\n"
     ]
    },
    {
     "name": "stderr",
     "output_type": "stream",
     "text": [
      "WARNING: VerifyWarning:         Card 'SOURCE' is not FITS standard (invalid value string: \"'hmi.lev1[:#33014805,#33014781,#33014757,#33014829,#33014853,#33014877\").  Fixed 'SOURCE' card to meet the FITS standard. [astropy.io.fits.verify]\n"
     ]
    },
    {
     "name": "stdout",
     "output_type": "stream",
     "text": [
      "<SkyCoord (HeliographicStonyhurst: dateobs=2012-01-30 14:31:11): (lon, lat, radius) in (deg, deg, km)\n",
      "    ( 45.06481273,  7.59642669,  695507.99999781)>\n",
      "<SkyCoord (HeliographicStonyhurst: dateobs=2012-01-30 14:31:11): (lon, lat, radius) in (deg, deg, km)\n",
      "    [( 45.06481273,   7.59642669,  695507.99999781),\n",
      "     (-27.56554814,  17.75979188,  695507.9999967 )]>\n",
      "Image index:  136\n",
      "Detected  2  spots.\n",
      "45.0648127316985\n",
      "7.596426689861213\n",
      "-27.565548141947353\n",
      "17.759791876559955\n"
     ]
    },
    {
     "name": "stderr",
     "output_type": "stream",
     "text": [
      "WARNING: VerifyWarning:         Card 'SOURCE' is not FITS standard (invalid value string: \"'hmi.lev1[:#33015261,#33015237,#33015213,#33015285,#33015309,#33015333\").  Fixed 'SOURCE' card to meet the FITS standard. [astropy.io.fits.verify]\n"
     ]
    },
    {
     "name": "stdout",
     "output_type": "stream",
     "text": [
      "<SkyCoord (HeliographicStonyhurst: dateobs=2012-01-30 14:45:26): (lon, lat, radius) in (deg, deg, km)\n",
      "    ( 45.1794103,  7.5831741,  695507.99999569)>\n",
      "<SkyCoord (HeliographicStonyhurst: dateobs=2012-01-30 14:45:26): (lon, lat, radius) in (deg, deg, km)\n",
      "    [( 45.1794103 ,   7.5831741,  695507.99999569),\n",
      "     (-27.44296432,  17.7695403,  695507.99999564)]>\n",
      "Image index:  137\n",
      "Detected  2  spots.\n",
      "45.17941030080891\n",
      "7.583174102217629\n",
      "-27.44296431819077\n",
      "17.769540299532352\n"
     ]
    }
   ],
   "source": [
    "number_of_spot = 1  # Initiliazing variable set1\n",
    "#number_of_spot = 0 # Initiliazing variable set4\n",
    "#number_of_spot = 0 # Initiliazing variable set5\n",
    "#number_of_spot = 0 # Initiliazing variable set6\n",
    "#number_of_spot = 0 # Initiliazing variable set7\n",
    "#number_of_spot = 0 # Initiliazing variable set8\n",
    "#number_of_spot = 0 # Initiliazing variable set9\n",
    "#number_of_spot = 1 # Initiliazing variable set10\n",
    "centros_de_masa = 0 # Initializing variable\n",
    "\n",
    "longitudes = []\n",
    "latitudes = []\n",
    "datetimes = []\n",
    "\n",
    "#for imag_idx in range(1,140):  # For testing purposes\n",
    "#for imag_idx in [1,140]:\n",
    "#for imag_idx in range(15,len(fits_files)): # set 4\n",
    "for imag_idx in range(len(fits_files)):\n",
    "    # 0) Extract header and data and make map\n",
    "    header, data = extract_fits_data(imag_idx)\n",
    "    sun_map = Map((data, header))\n",
    "    \n",
    "    # Prior to applying mask\n",
    "    # Borrar background/contorno negro\n",
    "    ## se hace una máscara circular con centro = (2048, 2048)\n",
    "    centerx, centery = 2048, 2048\n",
    "    r = 1920  # radius set1\n",
    "    #r = 1850  # radius set4\n",
    "    # r = 1860  # radius set5\n",
    "    #r = 1860  # radius set6\n",
    "    #r = 1850  # radius set7\n",
    "    #r = 1850  # radius set8\n",
    "    #r = 1850  # radius set9\n",
    "    #r = 1850  # radius set10\n",
    "    y,x = np.ogrid[-centerx:4096-centerx, -centery:4096-centery]\n",
    "    mask = x*x + y*y > r*r  # circular mask\n",
    "    #array = np.ones((n, n))\n",
    "    #array[mask] = 255\n",
    "        \n",
    "    # 1) Apply mask\n",
    "    data[mask] = 100000\n",
    "    #plot_data(data, \"data masked\") # plot data masked\n",
    "    \n",
    "    # 2) Apply Gaussian filter\n",
    "    blurred = cv2.GaussianBlur(data, (31, 31), 0) # set1\n",
    "    #blurred = cv2.GaussianBlur(data, (11, 11), 0) # set4\n",
    "    #blurred = cv2.GaussianBlur(data, (11, 11), 0) # set5\n",
    "    #blurred = cv2.GaussianBlur(data, (11, 11), 0) # set6\n",
    "    #blurred = cv2.GaussianBlur(data, (11, 11), 0) # set7\n",
    "    #blurred = cv2.GaussianBlur(data, (11, 11), 0) # set8\n",
    "    #blurred = cv2.GaussianBlur(data, (11, 11), 0) # set9\n",
    "    #blurred = cv2.GaussianBlur(data, (11, 11), 0) # set10\n",
    "    #plot_data(blurred, \"data blurred\") # plot data masked\n",
    "    \n",
    "    # 3) Binarizing\n",
    "    thresh = cv2.threshold(blurred, 29250, 74078, cv2.THRESH_BINARY)[1]  # set1\n",
    "    #thresh = cv2.threshold(blurred, 28000, 74078, cv2.THRESH_BINARY)[1]  # set2\n",
    "    #thresh = cv2.threshold(blurred, 28000, 74078, cv2.THRESH_BINARY)[1]  # set3\n",
    "    #thresh = cv2.threshold(blurred, 27000, 74078, cv2.THRESH_BINARY)[1]  # set4\n",
    "    #thresh = cv2.threshold(blurred, 29000, 74078, cv2.THRESH_BINARY)[1]  # set5\n",
    "    #thresh = cv2.threshold(blurred, 27000, 74078, cv2.THRESH_BINARY)[1]  # set6\n",
    "    #thresh = cv2.threshold(blurred, 26000, 74078, cv2.THRESH_BINARY)[1]  # set7\n",
    "    #thresh = cv2.threshold(blurred, 26000, 74078, cv2.THRESH_BINARY)[1]  # set8\n",
    "    #thresh = cv2.threshold(blurred, 26000, 74078, cv2.THRESH_BINARY)[1]  # set9\n",
    "    #thresh = cv2.threshold(blurred, 22000, 74078, cv2.THRESH_BINARY)[1]  # set10\n",
    "    ## Removing small \"blobs\" with erode and dilate\n",
    "    thresh = cv2.erode(thresh, None, iterations=2)\n",
    "    thresh = cv2.dilate(thresh, None, iterations=2)\n",
    "    #plot_data(thresh, \"data binarized\") # plot data masked\n",
    "    \n",
    "    # 4) Labeling and computing center in pixels\n",
    "    labels = measure.label(thresh, neighbors=8, background=74078)\n",
    "    mask = np.zeros(thresh.shape, dtype=\"uint8\")\n",
    "    # loop over the unique components\n",
    "    for label in np.unique(labels):\n",
    "        # if this is the background label, ignore it\n",
    "        if label == 0:\n",
    "            continue\n",
    "\n",
    "        # otherwise, construct the label mask and count the\n",
    "        # number of pixels \n",
    "        labelMask = np.zeros(thresh.shape, dtype=\"uint8\")\n",
    "        labelMask[labels == label] = 255\n",
    "        numPixels = cv2.countNonZero(labelMask)\n",
    "\n",
    "        # if the number of pixels in the component is sufficiently\n",
    "        # large, then add it to our mask of \"large blobs\"\n",
    "        if numPixels > 30: # set1\n",
    "        #if numPixels > 50: # set4\n",
    "        #if numPixels > 200: # set5\n",
    "        #if numPixels > 200: # set6\n",
    "        #if numPixels > 250: # set7\n",
    "        #if numPixels > 250: # set8\n",
    "        #if numPixels > 250: # set9\n",
    "        #if numPixels > 50: # set10\n",
    "            mask = cv2.add(mask, labelMask)\n",
    "    image = data.astype(\"uint8\")\n",
    "    # 5) Obteniendo centros de masa (en pixeles)\n",
    "    # find the contours in the mask, then sort them from left to right\n",
    "    cnts = cv2.findContours(mask.copy(), cv2.RETR_EXTERNAL, cv2.CHAIN_APPROX_SIMPLE)\n",
    "    cnts = cnts[0] if imutils.is_cv2() else cnts[1]\n",
    "    cnts = contours.sort_contours(cnts)[0]\n",
    "    #cv2.namedWindow(\"Image\", cv2.WINDOW_NORMAL or cv2.WINDOW_AUTOSIZE)  # To show window that's larger than screen \n",
    "    # loop over the contours\n",
    "    centros_de_masa_old = centros_de_masa\n",
    "    centros_de_masa = []\n",
    "    number_of_spot_old = number_of_spot\n",
    "    for (number_of_spot, c) in enumerate(cnts):\n",
    "        # draw the bright spot on the image\n",
    "        (x, y, w, h) = cv2.boundingRect(c)\n",
    "        ((cX, cY), radius) = cv2.minEnclosingCircle(c)\n",
    "        #print(cX,cY)\n",
    "        # cX and cY I have to transform to HGS coords\n",
    "       \n",
    "        # 6) Transforming coordinates\n",
    "        centros_de_masa.append([cX, cY])        \n",
    "        CoM_pix = centros_de_masa*u.pix # Transforming CoM to astropy pix unit\n",
    "        CoM_arcsec = [sun_map.pixel_to_data(*i) for i in CoM_pix] # Then transforming them to arcsec\n",
    "        #print(CoM_arcsec)\n",
    "        hpc_coords = SkyCoord([*CoM_arcsec], frame=sun_map.coordinate_frame)  # Built skycoord object with sunspots/CoM coords\n",
    "        #print(hpc_coords)\n",
    "        hgs_coords = hpc_coords.transform_to('heliographic_stonyhurst')  # Transform from HPC to HGS coordinate system\n",
    "        print(hgs_coords)\n",
    "        #type(hgs_coords.data)\n",
    "        \n",
    "        cv2.circle(image, (int(cX), int(cY)), int(radius), (0, 0, 255), 3)\n",
    "        cv2.putText(image, \"#{}\".format(number_of_spot + 1), (x, y - 15), cv2.FONT_HERSHEY_SIMPLEX, 0.45, (0, 0, 255), 2)\n",
    "    print(\"Image index: \", imag_idx)\n",
    "    print(\"Detected \", number_of_spot+1, \" spots.\")\n",
    "    if number_of_spot_old != number_of_spot:\n",
    "        print(\"Last index image calculated: \", imag_idx)\n",
    "        raise ValueError(\"Number of spots detected different from before. Stoping calculation.\")\n",
    "        \n",
    "    # 7) Getting centers of mass in lat,long (deg)\n",
    "    # hago mapa de SunPy\n",
    "    #sun_map = Map((data, header))\n",
    "    longitude_temp = []\n",
    "    latitude_temp = []\n",
    "    for i in hgs_coords.data:\n",
    "        print(i.lon.deg)\n",
    "        print(i.lat.deg)\n",
    "        longitude, latitude = i.lon.deg, i.lat.deg  # pair longitude, latitude for a single spot\n",
    "        longitude_temp.append(longitude)\n",
    "        latitude_temp.append(latitude)\n",
    "        #print(longitude, latitude)\n",
    "    #print(longitude_temp)\n",
    "    longitudes.append(longitude_temp)\n",
    "    latitudes.append(latitude_temp)\n",
    "    datetimes.append(sun_map.date)\n",
    "    \n",
    "        \n",
    "    # Borrar todas las variables para evitar errores\n",
    "    del(sun_map, header, mask, data, blurred, thresh, image, longitude_temp, hpc_coords, hgs_coords)"
   ]
  },
  {
   "cell_type": "code",
   "execution_count": 31,
   "metadata": {
    "collapsed": false,
    "scrolled": true
   },
   "outputs": [],
   "source": [
    "# Volver arreglos de tiempos, latitudes, longitudes un arreglo numérico de numpy\n",
    "times = []\n",
    "deltatimes = []\n",
    "longitudes_0 = []\n",
    "longitudes_1 = []\n",
    "latitudes_0 = []\n",
    "latitudes_1 = []\n",
    "delta_longitudes_0 = []\n",
    "delta_longitudes_1 = []\n",
    "\n",
    "# Times in seconds since first observation/image\n",
    "for i in range(len(datetimes)):\n",
    "    temp = datetimes[i]-datetimes[0]\n",
    "    times.append(temp.total_seconds())\n",
    "# Datetimes deltas in seconds\n",
    "for i in range(len(datetimes)-1):\n",
    "    delta_t = datetimes[i+1] - datetimes[i]\n",
    "    #print(datetimes[i+1], \" - \", datetimes[i],\" = \", delta_t)\n",
    "    deltatimes.append(delta_t.total_seconds())\n",
    "# Longitudes and latitudes in arccsec (assuming len(longitudes) == len(latitudes))\n",
    "for i in range(len(longitudes)):\n",
    "    longitudes_0.append(longitudes[i][0])\n",
    "    latitudes_0.append(latitudes[i][0])\n",
    "    longitudes_1.append(longitudes[i][1]) # set1\n",
    "    latitudes_1.append(latitudes[i][1]) # set1\n",
    "\n",
    "times = np.array(times)\n",
    "deltatimes = np.array(deltatimes)\n",
    "longitudes_0 = np.array(longitudes_0)\n",
    "longitudes_1 = np.array(longitudes_1)\n",
    "latitudes_0 = np.array(latitudes_0)\n",
    "latitudes_1 = np.array(latitudes_1)\n",
    "\n"
   ]
  },
  {
   "cell_type": "code",
   "execution_count": 32,
   "metadata": {
    "collapsed": false
   },
   "outputs": [],
   "source": [
    "# Saving data arrays in text file in the filesystem for storage\n",
    "setstr = \"set1\"\n",
    "np.savetxt(setstr+\"_times.txt\", times)\n",
    "np.savetxt(setstr+\"_deltatimes.txt\", deltatimes)\n",
    "np.savetxt(setstr+\"_longitudes_0.txt\", longitudes_0)\n",
    "np.savetxt(setstr+\"_longitudes_1.txt\", longitudes_1)\n",
    "np.savetxt(setstr+\"_latitudes_0.txt\", latitudes_0)\n",
    "np.savetxt(setstr+\"_latitudes_1.txt\", latitudes_1)"
   ]
  },
  {
   "cell_type": "code",
   "execution_count": null,
   "metadata": {
    "collapsed": true
   },
   "outputs": [],
   "source": []
  }
 ],
 "metadata": {
  "kernelspec": {
   "display_name": "Python 3",
   "language": "python",
   "name": "python3"
  },
  "language_info": {
   "codemirror_mode": {
    "name": "ipython",
    "version": 3
   },
   "file_extension": ".py",
   "mimetype": "text/x-python",
   "name": "python",
   "nbconvert_exporter": "python",
   "pygments_lexer": "ipython3",
   "version": "3.6.0"
  }
 },
 "nbformat": 4,
 "nbformat_minor": 2
}
