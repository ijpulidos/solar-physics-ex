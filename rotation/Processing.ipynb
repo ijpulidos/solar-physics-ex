{
 "cells": [
  {
   "cell_type": "code",
   "execution_count": 2,
   "metadata": {
    "collapsed": false
   },
   "outputs": [
    {
     "name": "stderr",
     "output_type": "stream",
     "text": [
      "WARNING: AstropyDeprecationWarning: astropy.utils.compat.odict.OrderedDict is now deprecated - import OrderedDict from the collections module instead [astropy.utils.compat.odict]\n"
     ]
    }
   ],
   "source": [
    "# Modulos básicos\n",
    "import numpy as np\n",
    "import time\n",
    "#from pylab import imshow\n",
    "import matplotlib.pyplot as plt\n",
    "from tqdm import tqdm, tnrange, tqdm_notebook\n",
    "# Modulo para manejo de fecha\n",
    "from datetime import datetime, timedelta\n",
    "# Modulos para astrofisica/solar\n",
    "import astropy\n",
    "from sunpy.net import vso\n",
    "import astropy.units as u\n",
    "from sunpy.map import Map\n",
    "from astropy.io import fits # to fix headers"
   ]
  },
  {
   "cell_type": "markdown",
   "metadata": {},
   "source": [
    "# Arreglando headers de archivos FITS descargados\n",
    "Desafortunadamente para ver los resultados hay muchas imágenes que no tienen los headers correctos, entonces es necesario hacer algo como lo que se muestra en este enlace para corregir estos problemas: http://docs.sunpy.org/en/latest/generated/gallery/gallery/hmi_synoptic_maps.html and specially the updated example in: https://gist.github.com/Cadair/cbc73dc7888b9bae5d06708270aedd68"
   ]
  },
  {
   "cell_type": "code",
   "execution_count": 4,
   "metadata": {
    "collapsed": false
   },
   "outputs": [
    {
     "data": {
      "text/plain": [
       "(145,)"
      ]
     },
     "execution_count": 4,
     "metadata": {},
     "output_type": "execute_result"
    }
   ],
   "source": [
    "basepath = !pwd\n",
    "fits_files = !ls data/set1/*.fits  # Quedan con el path data/*.fits \n",
    "np.shape(fits_files)"
   ]
  },
  {
   "cell_type": "code",
   "execution_count": null,
   "metadata": {
    "collapsed": false,
    "scrolled": true
   },
   "outputs": [],
   "source": [
    "#from IPython.display import clear_output\n",
    "# Read header and data from all fits files programatically\n",
    "#i = 0  # index for files\n",
    "for file in fits_files:\n",
    "    fitsfile = fits.open(basepath[0]+'/'+file)\n",
    "    fitsfile.verify('fix')\n",
    "    header = fitsfile[1].header\n",
    "    del fitsfile\n",
    "    #time.sleep(1)\n",
    "    #header.values"
   ]
  },
  {
   "cell_type": "code",
   "execution_count": null,
   "metadata": {
    "collapsed": true,
    "scrolled": true
   },
   "outputs": [],
   "source": [
    "# Fixing headers programatically\n",
    "for file in tqdm_notebook(fits_files):\n",
    "    print(file)\n",
    "    fitsfile = fits.open(basepath[0]+'/data/'+file)\n",
    "    fitsfile.verify('fix')\n",
    "    header = (fitsfile[0].header)\n",
    "    if header['CUNIT2'] == 'sin(latitude)' and header['CTYPE1'] == 'CRLN-CEA' and header['CTYPE2'] == 'CRLT-CEA':\n",
    "        tqdm.write(\"Wrong header information found in %s. Changing...\" % file)\n",
    "        #print(\"Wrong header information found in %s. Changing...\" % file)\n",
    "        header['CUNIT2'] = 'deg'\n",
    "        header['CTYPE1'] == 'CSLN-CEA'\n",
    "        header['CTYPE2'] == 'CSLT-CEA'\n",
    "    try:\n",
    "        if header['HGLN_OBS'] == 'nan':\n",
    "            del header['HGLN_OBS']\n",
    "    except KeyError:\n",
    "        #tdqm.write(\"Warning: Key not found, letting it pass.\")\n",
    "        print(\"Warning: Key not found, letting it pass.\")\n",
    "        pass\n",
    "    if header.get('CD1_2') == None:\n",
    "        header['CD1_2'] = 0\n",
    "    if header.get('CD2_1') == None:\n",
    "        header['CD2_1'] = 0"
   ]
  },
  {
   "cell_type": "code",
   "execution_count": null,
   "metadata": {
    "collapsed": true,
    "scrolled": true
   },
   "outputs": [],
   "source": [
    "astropy.wcs.utils.WCS_FRAME_MAPPINGS.append([sinehpc_wcs_frame_mapping]) # Adding the map to the WCS astropy utils module"
   ]
  },
  {
   "cell_type": "markdown",
   "metadata": {},
   "source": [
    "# Graficar visualizar resultados de la búsqueda"
   ]
  },
  {
   "cell_type": "code",
   "execution_count": null,
   "metadata": {
    "collapsed": false,
    "scrolled": false
   },
   "outputs": [],
   "source": [
    "# Esto es para ver alguna imagen en específico, con coordenadas y todo\n",
    "%matplotlib qt5\n",
    "# Making the map \n",
    "fitsfile = fits.open(basepath[0]+'/'+fits_files[0])\n",
    "fitsfile.verify('fix')\n",
    "data = fitsfile[1].data\n",
    "header = fitsfile[1].header\n",
    "m = Map((data, header))\n",
    "m.peek()\n",
    "# Set the colorbar properties.\n",
    "#m.plot_settings['cmap'] = 'hmimag'\n",
    "#m.plot_settings['norm'] = plt.Normalize(-1500, 1500)"
   ]
  },
  {
   "cell_type": "code",
   "execution_count": null,
   "metadata": {
    "collapsed": true
   },
   "outputs": [],
   "source": [
    "# Para dibujar perfiles\n",
    "plt.plot(data[2048,:])\n",
    "plt.xlabel('Pixeles')\n",
    "plt.ylabel('Intensidad')\n",
    "plt.grid(True)\n",
    "plt.show()"
   ]
  },
  {
   "cell_type": "markdown",
   "metadata": {},
   "source": [
    "# Widget to see time evolution\n",
    "\n",
    "Since we are really dealing with a \"big\" sequence of images in FITS format it is helpful to have a widget to actually see the sequence and check wether the time range chosen is correct and see what to expect beforehand."
   ]
  },
  {
   "cell_type": "code",
   "execution_count": null,
   "metadata": {
    "collapsed": false
   },
   "outputs": [],
   "source": [
    "%matplotlib inline\n",
    "from IPython.html.widgets import *\n",
    "number_of_images = len(fits_files)\n",
    "\n",
    "def image_sequence(image):\n",
    "    #fitsfile = fits.open(basepath[0]+'/data/'+fits_files[0])\n",
    "    #print(fitsfile)\n",
    "    fitsfile = fits.open(basepath[0]+'/'+fits_files[image])\n",
    "    fitsfile.verify('fix')\n",
    "    plt.imshow(fitsfile[1].data)\n",
    "    plt.show()\n",
    "    \n",
    "interact(image_sequence, image=(0,number_of_images-1,1), continuous_update=False)"
   ]
  },
  {
   "cell_type": "markdown",
   "metadata": {
    "collapsed": true
   },
   "source": [
    "# Procesamiento de datos\n",
    "\n",
    "Aplicaré algo de lo que dicen acá http://www.pyimagesearch.com/2016/10/31/detecting-multiple-bright-spots-in-an-image-with-python-and-opencv/ para detectar manchas simultáneamente y hacer una estadística automática y \"grande\".\n",
    "\n",
    "Tengo que aplicar lo de esa página pero con oscuros, no con claros. Por ahora se aplica a una imágen en específico, luego hay que aplicarla a todas las imágenes y que lance los datos de velocidad/trayectoria.\n",
    "\n",
    "## Algoritmo:\n",
    "\n",
    "### 1) Remover background/borde oscuro, de medidas en casos anteriores sabemos que\n",
    "\n",
    "3851 px = Diametro horizontal sol\n",
    "\n",
    "3967 - 117 = 3850 px = Diametro vert. sol\n",
    "\n",
    "Recordar que X -> vertical y Y -> horizontal, para tratamiento de imágenes.\n",
    "\n",
    "La imagen es de 4096 x 4096 y si asumimos que la imagen está bien centrada en 2048, entonces podemos hacer un círculo de radio $r\\le 3850$ pixeles, tal que lo que esté por fuera de ete círculo se vuelva \"nan\" y lo de adentro se quede igual.\n",
    "\n",
    "### 2) Suavizar la imagen aplicando un filtro Gaussiano"
   ]
  },
  {
   "cell_type": "code",
   "execution_count": 5,
   "metadata": {
    "collapsed": false
   },
   "outputs": [
    {
     "ename": "ModuleNotFoundError",
     "evalue": "No module named 'imutils'",
     "output_type": "error",
     "traceback": [
      "\u001b[0;31m---------------------------------------------------------------------------\u001b[0m",
      "\u001b[0;31mModuleNotFoundError\u001b[0m                       Traceback (most recent call last)",
      "\u001b[0;32m<ipython-input-5-c5817a8dc9b5>\u001b[0m in \u001b[0;36m<module>\u001b[0;34m()\u001b[0m\n\u001b[1;32m      1\u001b[0m \u001b[0;31m# Módulos básicos para detectar contornos/manchas\u001b[0m\u001b[0;34m\u001b[0m\u001b[0;34m\u001b[0m\u001b[0m\n\u001b[0;32m----> 2\u001b[0;31m \u001b[0;32mfrom\u001b[0m \u001b[0mimutils\u001b[0m \u001b[0;32mimport\u001b[0m \u001b[0mcontours\u001b[0m\u001b[0;34m\u001b[0m\u001b[0m\n\u001b[0m\u001b[1;32m      3\u001b[0m \u001b[0;32mfrom\u001b[0m \u001b[0mskimage\u001b[0m \u001b[0;32mimport\u001b[0m \u001b[0mmeasure\u001b[0m\u001b[0;34m\u001b[0m\u001b[0m\n\u001b[1;32m      4\u001b[0m \u001b[0;32mimport\u001b[0m \u001b[0mskimage\u001b[0m\u001b[0;34m\u001b[0m\u001b[0m\n\u001b[1;32m      5\u001b[0m \u001b[0;31m#import numpy as np\u001b[0m\u001b[0;34m\u001b[0m\u001b[0;34m\u001b[0m\u001b[0m\n",
      "\u001b[0;31mModuleNotFoundError\u001b[0m: No module named 'imutils'"
     ]
    }
   ],
   "source": [
    "# Módulos básicos para detectar contornos/manchas\n",
    "from imutils import contours\n",
    "from skimage import measure\n",
    "import skimage\n",
    "#import numpy as np\n",
    "import imutils\n",
    "import cv2"
   ]
  },
  {
   "cell_type": "code",
   "execution_count": null,
   "metadata": {
    "collapsed": true
   },
   "outputs": [],
   "source": [
    "# Borrar background/contorno negro\n",
    "np.ogrid?"
   ]
  },
  {
   "cell_type": "code",
   "execution_count": null,
   "metadata": {
    "collapsed": false
   },
   "outputs": [],
   "source": [
    "data_test = np.nan_to_num(data)\n",
    "#data_test = data_test/np.max(data_test)*255\n",
    "#data_test = data_test.astype(int)\n",
    "np.max(data_test)"
   ]
  },
  {
   "cell_type": "code",
   "execution_count": null,
   "metadata": {
    "collapsed": true
   },
   "outputs": [],
   "source": [
    "# Just blur the image with a gaussian filter\n",
    "blurred = cv2.GaussianBlur(data, (11, 11), 0)"
   ]
  },
  {
   "cell_type": "code",
   "execution_count": null,
   "metadata": {
    "collapsed": false
   },
   "outputs": [],
   "source": [
    "%matplotlib qt4\n",
    "plt.imshow(blurred)\n",
    "plt.colorbar()\n",
    "plt.show()"
   ]
  },
  {
   "cell_type": "code",
   "execution_count": null,
   "metadata": {
    "collapsed": true
   },
   "outputs": [],
   "source": [
    "A = skimage.util.invert(data)"
   ]
  },
  {
   "cell_type": "code",
   "execution_count": null,
   "metadata": {
    "collapsed": true
   },
   "outputs": [],
   "source": [
    "m.data = blurred"
   ]
  },
  {
   "cell_type": "code",
   "execution_count": null,
   "metadata": {
    "collapsed": true
   },
   "outputs": [],
   "source": []
  }
 ],
 "metadata": {
  "kernelspec": {
   "display_name": "Python 3",
   "language": "python",
   "name": "python3"
  },
  "language_info": {
   "codemirror_mode": {
    "name": "ipython",
    "version": 3
   },
   "file_extension": ".py",
   "mimetype": "text/x-python",
   "name": "python",
   "nbconvert_exporter": "python",
   "pygments_lexer": "ipython3",
   "version": "3.6.0"
  }
 },
 "nbformat": 4,
 "nbformat_minor": 2
}
